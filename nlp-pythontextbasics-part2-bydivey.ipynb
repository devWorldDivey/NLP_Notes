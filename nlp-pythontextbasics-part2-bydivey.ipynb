{
 "cells": [
  {
   "cell_type": "markdown",
   "id": "7f336b5b",
   "metadata": {
    "papermill": {
     "duration": 0.038362,
     "end_time": "2023-07-14T13:32:25.002736",
     "exception": false,
     "start_time": "2023-07-14T13:32:24.964374",
     "status": "completed"
    },
    "tags": []
   },
   "source": [
    "# spaCy Basics\n",
    "\n",
    "**spaCy** (https://spacy.io/) is an open-source Python library that parses and \"understands\" large volumes of text. Separate models are available that cater to specific languages (English, French, German, etc.).\n",
    "\n",
    "In this section we'll install and setup spaCy to work with Python, and then introduce some concepts related to Natural Language Processing."
   ]
  },
  {
   "cell_type": "markdown",
   "id": "b0fbec7f",
   "metadata": {
    "papermill": {
     "duration": 0.03672,
     "end_time": "2023-07-14T13:32:25.076720",
     "exception": false,
     "start_time": "2023-07-14T13:32:25.040000",
     "status": "completed"
    },
    "tags": []
   },
   "source": [
    "# Installation and Setup\n",
    "\n",
    "Installation is a two-step process. First, install spaCy using either conda or pip. Next, download the specific model you want, based on language.<br> For more info visit https://spacy.io/usage/\n",
    "\n",
    "### 1. From the command line or terminal:\n",
    "> `conda install -c conda-forge spacy`\n",
    "> <br>*or*<br>\n",
    "> `pip install -U spacy`\n",
    "\n",
    "> ### Alternatively you can create a virtual environment:\n",
    "> `conda create -n spacyenv python=3 spacy=2`\n",
    "\n",
    "### 2. Next, also from the command line (you must run this as admin or use sudo):\n",
    "\n",
    "> `python -m spacy download en`\n",
    "\n",
    "> ### If successful, you should see a message like:\n",
    "\n",
    "> **`Linking successful`**<br>\n",
    "> `    C:\\Anaconda3\\envs\\spacyenv\\lib\\site-packages\\en_core_web_sm -->`<br>\n",
    "> `    C:\\Anaconda3\\envs\\spacyenv\\lib\\site-packages\\spacy\\data\\en`<br>\n",
    "> ` `<br>\n",
    "> `    You can now load the model via spacy.load('en')`\n"
   ]
  },
  {
   "cell_type": "code",
   "execution_count": 1,
   "id": "220193b2",
   "metadata": {
    "execution": {
     "iopub.execute_input": "2023-07-14T13:32:25.151455Z",
     "iopub.status.busy": "2023-07-14T13:32:25.151031Z",
     "iopub.status.idle": "2023-07-14T13:32:41.315079Z",
     "shell.execute_reply": "2023-07-14T13:32:41.313365Z"
    },
    "papermill": {
     "duration": 16.204635,
     "end_time": "2023-07-14T13:32:41.317786",
     "exception": false,
     "start_time": "2023-07-14T13:32:25.113151",
     "status": "completed"
    },
    "tags": []
   },
   "outputs": [
    {
     "name": "stdout",
     "output_type": "stream",
     "text": [
      "Requirement already satisfied: spacy in /opt/conda/lib/python3.10/site-packages (3.6.0)\r\n",
      "Requirement already satisfied: spacy-legacy<3.1.0,>=3.0.11 in /opt/conda/lib/python3.10/site-packages (from spacy) (3.0.12)\r\n",
      "Requirement already satisfied: spacy-loggers<2.0.0,>=1.0.0 in /opt/conda/lib/python3.10/site-packages (from spacy) (1.0.4)\r\n",
      "Requirement already satisfied: murmurhash<1.1.0,>=0.28.0 in /opt/conda/lib/python3.10/site-packages (from spacy) (1.0.9)\r\n",
      "Requirement already satisfied: cymem<2.1.0,>=2.0.2 in /opt/conda/lib/python3.10/site-packages (from spacy) (2.0.7)\r\n",
      "Requirement already satisfied: preshed<3.1.0,>=3.0.2 in /opt/conda/lib/python3.10/site-packages (from spacy) (3.0.8)\r\n",
      "Requirement already satisfied: thinc<8.2.0,>=8.1.8 in /opt/conda/lib/python3.10/site-packages (from spacy) (8.1.10)\r\n",
      "Requirement already satisfied: wasabi<1.2.0,>=0.9.1 in /opt/conda/lib/python3.10/site-packages (from spacy) (1.1.2)\r\n",
      "Requirement already satisfied: srsly<3.0.0,>=2.4.3 in /opt/conda/lib/python3.10/site-packages (from spacy) (2.4.6)\r\n",
      "Requirement already satisfied: catalogue<2.1.0,>=2.0.6 in /opt/conda/lib/python3.10/site-packages (from spacy) (2.0.8)\r\n",
      "Requirement already satisfied: typer<0.10.0,>=0.3.0 in /opt/conda/lib/python3.10/site-packages (from spacy) (0.9.0)\r\n",
      "Requirement already satisfied: pathy>=0.10.0 in /opt/conda/lib/python3.10/site-packages (from spacy) (0.10.2)\r\n",
      "Requirement already satisfied: smart-open<7.0.0,>=5.2.1 in /opt/conda/lib/python3.10/site-packages (from spacy) (6.3.0)\r\n",
      "Requirement already satisfied: tqdm<5.0.0,>=4.38.0 in /opt/conda/lib/python3.10/site-packages (from spacy) (4.65.0)\r\n",
      "Requirement already satisfied: numpy>=1.15.0 in /opt/conda/lib/python3.10/site-packages (from spacy) (1.23.5)\r\n",
      "Requirement already satisfied: requests<3.0.0,>=2.13.0 in /opt/conda/lib/python3.10/site-packages (from spacy) (2.31.0)\r\n",
      "Requirement already satisfied: pydantic!=1.8,!=1.8.1,<1.11.0,>=1.7.4 in /opt/conda/lib/python3.10/site-packages (from spacy) (1.10.9)\r\n",
      "Requirement already satisfied: jinja2 in /opt/conda/lib/python3.10/site-packages (from spacy) (3.1.2)\r\n",
      "Requirement already satisfied: setuptools in /opt/conda/lib/python3.10/site-packages (from spacy) (59.8.0)\r\n",
      "Requirement already satisfied: packaging>=20.0 in /opt/conda/lib/python3.10/site-packages (from spacy) (21.3)\r\n",
      "Requirement already satisfied: langcodes<4.0.0,>=3.2.0 in /opt/conda/lib/python3.10/site-packages (from spacy) (3.3.0)\r\n",
      "Requirement already satisfied: pyparsing!=3.0.5,>=2.0.2 in /opt/conda/lib/python3.10/site-packages (from packaging>=20.0->spacy) (3.0.9)\r\n",
      "Requirement already satisfied: typing-extensions>=4.2.0 in /opt/conda/lib/python3.10/site-packages (from pydantic!=1.8,!=1.8.1,<1.11.0,>=1.7.4->spacy) (4.6.3)\r\n",
      "Requirement already satisfied: charset-normalizer<4,>=2 in /opt/conda/lib/python3.10/site-packages (from requests<3.0.0,>=2.13.0->spacy) (3.1.0)\r\n",
      "Requirement already satisfied: idna<4,>=2.5 in /opt/conda/lib/python3.10/site-packages (from requests<3.0.0,>=2.13.0->spacy) (3.4)\r\n",
      "Requirement already satisfied: urllib3<3,>=1.21.1 in /opt/conda/lib/python3.10/site-packages (from requests<3.0.0,>=2.13.0->spacy) (1.26.15)\r\n",
      "Requirement already satisfied: certifi>=2017.4.17 in /opt/conda/lib/python3.10/site-packages (from requests<3.0.0,>=2.13.0->spacy) (2023.5.7)\r\n",
      "Requirement already satisfied: blis<0.8.0,>=0.7.8 in /opt/conda/lib/python3.10/site-packages (from thinc<8.2.0,>=8.1.8->spacy) (0.7.9)\r\n",
      "Requirement already satisfied: confection<1.0.0,>=0.0.1 in /opt/conda/lib/python3.10/site-packages (from thinc<8.2.0,>=8.1.8->spacy) (0.1.0)\r\n",
      "Requirement already satisfied: click<9.0.0,>=7.1.1 in /opt/conda/lib/python3.10/site-packages (from typer<0.10.0,>=0.3.0->spacy) (8.1.3)\r\n",
      "Requirement already satisfied: MarkupSafe>=2.0 in /opt/conda/lib/python3.10/site-packages (from jinja2->spacy) (2.1.3)\r\n",
      "Note: you may need to restart the kernel to use updated packages.\n"
     ]
    }
   ],
   "source": [
    "pip install -U spacy"
   ]
  },
  {
   "cell_type": "code",
   "execution_count": 2,
   "id": "4181b149",
   "metadata": {
    "execution": {
     "iopub.execute_input": "2023-07-14T13:32:41.394704Z",
     "iopub.status.busy": "2023-07-14T13:32:41.394239Z",
     "iopub.status.idle": "2023-07-14T13:32:59.900148Z",
     "shell.execute_reply": "2023-07-14T13:32:59.898743Z"
    },
    "papermill": {
     "duration": 18.54772,
     "end_time": "2023-07-14T13:32:59.903249",
     "exception": false,
     "start_time": "2023-07-14T13:32:41.355529",
     "status": "completed"
    },
    "tags": []
   },
   "outputs": [
    {
     "name": "stderr",
     "output_type": "stream",
     "text": [
      "/opt/conda/lib/python3.10/site-packages/scipy/__init__.py:146: UserWarning: A NumPy version >=1.16.5 and <1.23.0 is required for this version of SciPy (detected version 1.23.5\n",
      "  warnings.warn(f\"A NumPy version >={np_minversion} and <{np_maxversion}\"\n",
      "/opt/conda/lib/python3.10/site-packages/tensorflow_io/python/ops/__init__.py:98: UserWarning: unable to load libtensorflow_io_plugins.so: unable to open file: libtensorflow_io_plugins.so, from paths: ['/opt/conda/lib/python3.10/site-packages/tensorflow_io/python/ops/libtensorflow_io_plugins.so']\n",
      "caused by: ['/opt/conda/lib/python3.10/site-packages/tensorflow_io/python/ops/libtensorflow_io_plugins.so: undefined symbol: _ZN3tsl6StatusC1EN10tensorflow5error4CodeESt17basic_string_viewIcSt11char_traitsIcEENS_14SourceLocationE']\n",
      "  warnings.warn(f\"unable to load libtensorflow_io_plugins.so: {e}\")\n",
      "/opt/conda/lib/python3.10/site-packages/tensorflow_io/python/ops/__init__.py:104: UserWarning: file system plugins are not loaded: unable to open file: libtensorflow_io.so, from paths: ['/opt/conda/lib/python3.10/site-packages/tensorflow_io/python/ops/libtensorflow_io.so']\n",
      "caused by: ['/opt/conda/lib/python3.10/site-packages/tensorflow_io/python/ops/libtensorflow_io.so: undefined symbol: _ZTVN10tensorflow13GcsFileSystemE']\n",
      "  warnings.warn(f\"file system plugins are not loaded: {e}\")\n"
     ]
    },
    {
     "name": "stdout",
     "output_type": "stream",
     "text": [
      "Tesla PROPN nsubj\n",
      "is AUX aux\n",
      "looking VERB ROOT\n",
      "at ADP prep\n",
      "buying VERB pcomp\n",
      "U.S. PROPN compound\n",
      "startup NOUN dobj\n",
      "for ADP prep\n",
      "$ SYM quantmod\n",
      "6 NUM compound\n",
      "million NUM pobj\n"
     ]
    }
   ],
   "source": [
    "# Import spaCy and load the language library\n",
    "import spacy\n",
    "nlp = spacy.load('en_core_web_sm')\n",
    "\n",
    "# Create a Doc object\n",
    "doc = nlp(u'Tesla is looking at buying U.S. startup for $6 million')\n",
    "\n",
    "# Print each token separately\n",
    "for token in doc:\n",
    "    print(token.text, token.pos_, token.dep_)"
   ]
  },
  {
   "cell_type": "markdown",
   "id": "7846e536",
   "metadata": {
    "papermill": {
     "duration": 0.03687,
     "end_time": "2023-07-14T13:32:59.979548",
     "exception": false,
     "start_time": "2023-07-14T13:32:59.942678",
     "status": "completed"
    },
    "tags": []
   },
   "source": [
    "___\n",
    "# Pipeline\n",
    "When we run `nlp`, our text enters a *processing pipeline* that first breaks down the text and then performs a series of operations to tag, parse and describe the data.   Image source: https://spacy.io/usage/spacy-101#pipelines"
   ]
  },
  {
   "cell_type": "code",
   "execution_count": 3,
   "id": "362b513c",
   "metadata": {
    "execution": {
     "iopub.execute_input": "2023-07-14T13:33:00.058553Z",
     "iopub.status.busy": "2023-07-14T13:33:00.057766Z",
     "iopub.status.idle": "2023-07-14T13:33:00.067698Z",
     "shell.execute_reply": "2023-07-14T13:33:00.066492Z"
    },
    "papermill": {
     "duration": 0.053329,
     "end_time": "2023-07-14T13:33:00.070139",
     "exception": false,
     "start_time": "2023-07-14T13:33:00.016810",
     "status": "completed"
    },
    "tags": []
   },
   "outputs": [
    {
     "data": {
      "text/plain": [
       "[('tok2vec', <spacy.pipeline.tok2vec.Tok2Vec at 0x7efdda39dde0>),\n",
       " ('tagger', <spacy.pipeline.tagger.Tagger at 0x7efdda39d420>),\n",
       " ('parser', <spacy.pipeline.dep_parser.DependencyParser at 0x7efdda49dbd0>),\n",
       " ('attribute_ruler',\n",
       "  <spacy.pipeline.attributeruler.AttributeRuler at 0x7efdda2aa9c0>),\n",
       " ('lemmatizer',\n",
       "  <spacy.lang.en.lemmatizer.EnglishLemmatizer at 0x7efdda2d2bc0>),\n",
       " ('ner', <spacy.pipeline.ner.EntityRecognizer at 0x7efdda49dcb0>)]"
      ]
     },
     "execution_count": 3,
     "metadata": {},
     "output_type": "execute_result"
    }
   ],
   "source": [
    "nlp.pipeline"
   ]
  },
  {
   "cell_type": "code",
   "execution_count": 4,
   "id": "e975f8d6",
   "metadata": {
    "execution": {
     "iopub.execute_input": "2023-07-14T13:33:00.147702Z",
     "iopub.status.busy": "2023-07-14T13:33:00.146573Z",
     "iopub.status.idle": "2023-07-14T13:33:00.153884Z",
     "shell.execute_reply": "2023-07-14T13:33:00.152987Z"
    },
    "papermill": {
     "duration": 0.048559,
     "end_time": "2023-07-14T13:33:00.156191",
     "exception": false,
     "start_time": "2023-07-14T13:33:00.107632",
     "status": "completed"
    },
    "tags": []
   },
   "outputs": [
    {
     "data": {
      "text/plain": [
       "['tok2vec', 'tagger', 'parser', 'attribute_ruler', 'lemmatizer', 'ner']"
      ]
     },
     "execution_count": 4,
     "metadata": {},
     "output_type": "execute_result"
    }
   ],
   "source": [
    "nlp.pipe_names"
   ]
  },
  {
   "cell_type": "markdown",
   "id": "7fee3e1a",
   "metadata": {
    "papermill": {
     "duration": 0.037715,
     "end_time": "2023-07-14T13:33:00.232353",
     "exception": false,
     "start_time": "2023-07-14T13:33:00.194638",
     "status": "completed"
    },
    "tags": []
   },
   "source": [
    "___\n",
    "# Tokenization\n",
    "The first step in processing text is to split up all the component parts (words & punctuation) into \"tokens\". These tokens are annotated inside the Doc object to contain descriptive information. We'll go into much more detail on tokenization in an upcoming lecture. For now, let's look at another example:"
   ]
  },
  {
   "cell_type": "code",
   "execution_count": 5,
   "id": "195b5f46",
   "metadata": {
    "execution": {
     "iopub.execute_input": "2023-07-14T13:33:00.310709Z",
     "iopub.status.busy": "2023-07-14T13:33:00.309958Z",
     "iopub.status.idle": "2023-07-14T13:33:00.330747Z",
     "shell.execute_reply": "2023-07-14T13:33:00.329471Z"
    },
    "papermill": {
     "duration": 0.063573,
     "end_time": "2023-07-14T13:33:00.333511",
     "exception": false,
     "start_time": "2023-07-14T13:33:00.269938",
     "status": "completed"
    },
    "tags": []
   },
   "outputs": [
    {
     "name": "stdout",
     "output_type": "stream",
     "text": [
      "Tesla PROPN nsubj\n",
      "is AUX aux\n",
      "n't PART neg\n",
      "   SPACE dep\n",
      "looking VERB ROOT\n",
      "into ADP prep\n",
      "startups NOUN pobj\n",
      "anymore ADV advmod\n",
      ". PUNCT punct\n"
     ]
    }
   ],
   "source": [
    "doc2 = nlp(u\"Tesla isn't   looking into startups anymore.\")\n",
    "\n",
    "for token in doc2:\n",
    "    print(token.text, token.pos_, token.dep_)"
   ]
  },
  {
   "cell_type": "code",
   "execution_count": 6,
   "id": "69193fc8",
   "metadata": {
    "execution": {
     "iopub.execute_input": "2023-07-14T13:33:00.411842Z",
     "iopub.status.busy": "2023-07-14T13:33:00.411433Z",
     "iopub.status.idle": "2023-07-14T13:33:00.418710Z",
     "shell.execute_reply": "2023-07-14T13:33:00.417390Z"
    },
    "papermill": {
     "duration": 0.049275,
     "end_time": "2023-07-14T13:33:00.421425",
     "exception": false,
     "start_time": "2023-07-14T13:33:00.372150",
     "status": "completed"
    },
    "tags": []
   },
   "outputs": [
    {
     "data": {
      "text/plain": [
       "Tesla isn't   looking into startups anymore."
      ]
     },
     "execution_count": 6,
     "metadata": {},
     "output_type": "execute_result"
    }
   ],
   "source": [
    "doc2"
   ]
  },
  {
   "cell_type": "code",
   "execution_count": 7,
   "id": "37f94f13",
   "metadata": {
    "execution": {
     "iopub.execute_input": "2023-07-14T13:33:00.500989Z",
     "iopub.status.busy": "2023-07-14T13:33:00.499737Z",
     "iopub.status.idle": "2023-07-14T13:33:00.507566Z",
     "shell.execute_reply": "2023-07-14T13:33:00.506404Z"
    },
    "papermill": {
     "duration": 0.049922,
     "end_time": "2023-07-14T13:33:00.510224",
     "exception": false,
     "start_time": "2023-07-14T13:33:00.460302",
     "status": "completed"
    },
    "tags": []
   },
   "outputs": [
    {
     "data": {
      "text/plain": [
       "looking"
      ]
     },
     "execution_count": 7,
     "metadata": {},
     "output_type": "execute_result"
    }
   ],
   "source": [
    "doc2[4]"
   ]
  },
  {
   "cell_type": "code",
   "execution_count": 8,
   "id": "b75a2cb9",
   "metadata": {
    "execution": {
     "iopub.execute_input": "2023-07-14T13:33:00.589570Z",
     "iopub.status.busy": "2023-07-14T13:33:00.589140Z",
     "iopub.status.idle": "2023-07-14T13:33:00.597033Z",
     "shell.execute_reply": "2023-07-14T13:33:00.595652Z"
    },
    "papermill": {
     "duration": 0.050038,
     "end_time": "2023-07-14T13:33:00.599401",
     "exception": false,
     "start_time": "2023-07-14T13:33:00.549363",
     "status": "completed"
    },
    "tags": []
   },
   "outputs": [
    {
     "data": {
      "text/plain": [
       "spacy.tokens.doc.Doc"
      ]
     },
     "execution_count": 8,
     "metadata": {},
     "output_type": "execute_result"
    }
   ],
   "source": [
    "type(doc2)"
   ]
  },
  {
   "cell_type": "markdown",
   "id": "2a889518",
   "metadata": {
    "papermill": {
     "duration": 0.038197,
     "end_time": "2023-07-14T13:33:00.675891",
     "exception": false,
     "start_time": "2023-07-14T13:33:00.637694",
     "status": "completed"
    },
    "tags": []
   },
   "source": [
    "___\n",
    "## Part-of-Speech Tagging (POS)\n",
    "The next step after splitting the text up into tokens is to assign parts of speech. In the above example, `Tesla` was recognized to be a ***proper noun***. Here some statistical modeling is required. For example, words that follow \"the\" are typically nouns.\n",
    "\n",
    "For a full list of POS Tags visit https://spacy.io/api/annotation#pos-tagging"
   ]
  },
  {
   "cell_type": "code",
   "execution_count": 9,
   "id": "b5e4b102",
   "metadata": {
    "execution": {
     "iopub.execute_input": "2023-07-14T13:33:00.753845Z",
     "iopub.status.busy": "2023-07-14T13:33:00.753409Z",
     "iopub.status.idle": "2023-07-14T13:33:00.760970Z",
     "shell.execute_reply": "2023-07-14T13:33:00.759844Z"
    },
    "papermill": {
     "duration": 0.049106,
     "end_time": "2023-07-14T13:33:00.763219",
     "exception": false,
     "start_time": "2023-07-14T13:33:00.714113",
     "status": "completed"
    },
    "tags": []
   },
   "outputs": [
    {
     "data": {
      "text/plain": [
       "'SPACE'"
      ]
     },
     "execution_count": 9,
     "metadata": {},
     "output_type": "execute_result"
    }
   ],
   "source": [
    "doc2[3].pos_"
   ]
  },
  {
   "cell_type": "markdown",
   "id": "000be932",
   "metadata": {
    "papermill": {
     "duration": 0.039777,
     "end_time": "2023-07-14T13:33:00.843487",
     "exception": false,
     "start_time": "2023-07-14T13:33:00.803710",
     "status": "completed"
    },
    "tags": []
   },
   "source": [
    "___\n",
    "## Dependencies\n",
    "We also looked at the syntactic dependencies assigned to each token. `Tesla` is identified as an `nsubj` or the ***nominal subject*** of the sentence.\n",
    "\n",
    "For a full list of Syntactic Dependencies visit https://spacy.io/api/annotation#dependency-parsing\n",
    "<br>A good explanation of typed dependencies can be found [here](https://nlp.stanford.edu/software/dependencies_manual.pdf)"
   ]
  },
  {
   "cell_type": "code",
   "execution_count": 10,
   "id": "806639f3",
   "metadata": {
    "execution": {
     "iopub.execute_input": "2023-07-14T13:33:00.925596Z",
     "iopub.status.busy": "2023-07-14T13:33:00.922923Z",
     "iopub.status.idle": "2023-07-14T13:33:00.937372Z",
     "shell.execute_reply": "2023-07-14T13:33:00.935487Z"
    },
    "papermill": {
     "duration": 0.058992,
     "end_time": "2023-07-14T13:33:00.941008",
     "exception": false,
     "start_time": "2023-07-14T13:33:00.882016",
     "status": "completed"
    },
    "tags": []
   },
   "outputs": [
    {
     "data": {
      "text/plain": [
       "'nsubj'"
      ]
     },
     "execution_count": 10,
     "metadata": {},
     "output_type": "execute_result"
    }
   ],
   "source": [
    "doc2[0].dep_"
   ]
  },
  {
   "cell_type": "code",
   "execution_count": 11,
   "id": "f9807b0e",
   "metadata": {
    "execution": {
     "iopub.execute_input": "2023-07-14T13:33:01.039627Z",
     "iopub.status.busy": "2023-07-14T13:33:01.038863Z",
     "iopub.status.idle": "2023-07-14T13:33:01.046270Z",
     "shell.execute_reply": "2023-07-14T13:33:01.045503Z"
    },
    "papermill": {
     "duration": 0.057703,
     "end_time": "2023-07-14T13:33:01.048313",
     "exception": false,
     "start_time": "2023-07-14T13:33:00.990610",
     "status": "completed"
    },
    "tags": []
   },
   "outputs": [
    {
     "data": {
      "text/plain": [
       "'proper noun'"
      ]
     },
     "execution_count": 11,
     "metadata": {},
     "output_type": "execute_result"
    }
   ],
   "source": [
    "spacy.explain('PROPN')"
   ]
  },
  {
   "cell_type": "code",
   "execution_count": 12,
   "id": "82964af2",
   "metadata": {
    "execution": {
     "iopub.execute_input": "2023-07-14T13:33:01.127840Z",
     "iopub.status.busy": "2023-07-14T13:33:01.127411Z",
     "iopub.status.idle": "2023-07-14T13:33:01.134819Z",
     "shell.execute_reply": "2023-07-14T13:33:01.133703Z"
    },
    "papermill": {
     "duration": 0.049677,
     "end_time": "2023-07-14T13:33:01.137207",
     "exception": false,
     "start_time": "2023-07-14T13:33:01.087530",
     "status": "completed"
    },
    "tags": []
   },
   "outputs": [
    {
     "data": {
      "text/plain": [
       "'nominal subject'"
      ]
     },
     "execution_count": 12,
     "metadata": {},
     "output_type": "execute_result"
    }
   ],
   "source": [
    "spacy.explain('nsubj')"
   ]
  },
  {
   "cell_type": "markdown",
   "id": "fd02b077",
   "metadata": {
    "papermill": {
     "duration": 0.038243,
     "end_time": "2023-07-14T13:33:01.214061",
     "exception": false,
     "start_time": "2023-07-14T13:33:01.175818",
     "status": "completed"
    },
    "tags": []
   },
   "source": [
    "___\n",
    "## Additional Token Attributes\n",
    "We'll see these again in upcoming lectures. For now we just want to illustrate some of the other information that spaCy assigns to tokens:"
   ]
  },
  {
   "cell_type": "markdown",
   "id": "1737422a",
   "metadata": {
    "papermill": {
     "duration": 0.038305,
     "end_time": "2023-07-14T13:33:01.290931",
     "exception": false,
     "start_time": "2023-07-14T13:33:01.252626",
     "status": "completed"
    },
    "tags": []
   },
   "source": [
    "|Tag|Description|doc2[0].tag|\n",
    "|:------|:------:|:------|\n",
    "|`.text`|The original word text<!-- .element: style=\"text-align:left;\" -->|`Tesla`|\n",
    "|`.lemma_`|The base form of the word|`tesla`|\n",
    "|`.pos_`|The simple part-of-speech tag|`PROPN`/`proper noun`|\n",
    "|`.tag_`|The detailed part-of-speech tag|`NNP`/`noun, proper singular`|\n",
    "|`.shape_`|The word shape – capitalization, punctuation, digits|`Xxxxx`|\n",
    "|`.is_alpha`|Is the token an alpha character?|`True`|\n",
    "|`.is_stop`|Is the token part of a stop list, i.e. the most common words of the language?|`False`|"
   ]
  },
  {
   "cell_type": "code",
   "execution_count": 13,
   "id": "3c222d75",
   "metadata": {
    "execution": {
     "iopub.execute_input": "2023-07-14T13:33:01.371444Z",
     "iopub.status.busy": "2023-07-14T13:33:01.371021Z",
     "iopub.status.idle": "2023-07-14T13:33:01.377137Z",
     "shell.execute_reply": "2023-07-14T13:33:01.375806Z"
    },
    "papermill": {
     "duration": 0.050079,
     "end_time": "2023-07-14T13:33:01.379752",
     "exception": false,
     "start_time": "2023-07-14T13:33:01.329673",
     "status": "completed"
    },
    "tags": []
   },
   "outputs": [
    {
     "name": "stdout",
     "output_type": "stream",
     "text": [
      "looking\n",
      "look\n"
     ]
    }
   ],
   "source": [
    "# Lemmas (the base form of the word):\n",
    "print(doc2[4].text)\n",
    "print(doc2[4].lemma_)"
   ]
  },
  {
   "cell_type": "code",
   "execution_count": 14,
   "id": "3fff25e6",
   "metadata": {
    "execution": {
     "iopub.execute_input": "2023-07-14T13:33:01.460122Z",
     "iopub.status.busy": "2023-07-14T13:33:01.458596Z",
     "iopub.status.idle": "2023-07-14T13:33:01.465930Z",
     "shell.execute_reply": "2023-07-14T13:33:01.464712Z"
    },
    "papermill": {
     "duration": 0.049755,
     "end_time": "2023-07-14T13:33:01.468424",
     "exception": false,
     "start_time": "2023-07-14T13:33:01.418669",
     "status": "completed"
    },
    "tags": []
   },
   "outputs": [
    {
     "name": "stdout",
     "output_type": "stream",
     "text": [
      "VERB\n",
      "VBG / verb, gerund or present participle\n"
     ]
    }
   ],
   "source": [
    "# Simple Parts-of-Speech & Detailed Tags:\n",
    "print(doc2[4].pos_)\n",
    "print(doc2[4].tag_ + ' / ' + spacy.explain(doc2[4].tag_))"
   ]
  },
  {
   "cell_type": "code",
   "execution_count": 15,
   "id": "054e40ea",
   "metadata": {
    "execution": {
     "iopub.execute_input": "2023-07-14T13:33:01.550084Z",
     "iopub.status.busy": "2023-07-14T13:33:01.548863Z",
     "iopub.status.idle": "2023-07-14T13:33:01.555448Z",
     "shell.execute_reply": "2023-07-14T13:33:01.554314Z"
    },
    "papermill": {
     "duration": 0.049461,
     "end_time": "2023-07-14T13:33:01.558196",
     "exception": false,
     "start_time": "2023-07-14T13:33:01.508735",
     "status": "completed"
    },
    "tags": []
   },
   "outputs": [
    {
     "name": "stdout",
     "output_type": "stream",
     "text": [
      "Tesla: Xxxxx\n",
      "U.S. : X.X.\n"
     ]
    }
   ],
   "source": [
    "# Word Shapes:\n",
    "print(doc2[0].text+': '+doc2[0].shape_)\n",
    "print(doc[5].text+' : '+doc[5].shape_)"
   ]
  },
  {
   "cell_type": "code",
   "execution_count": 16,
   "id": "8b206232",
   "metadata": {
    "execution": {
     "iopub.execute_input": "2023-07-14T13:33:01.641073Z",
     "iopub.status.busy": "2023-07-14T13:33:01.640654Z",
     "iopub.status.idle": "2023-07-14T13:33:01.647886Z",
     "shell.execute_reply": "2023-07-14T13:33:01.646703Z"
    },
    "papermill": {
     "duration": 0.050344,
     "end_time": "2023-07-14T13:33:01.650448",
     "exception": false,
     "start_time": "2023-07-14T13:33:01.600104",
     "status": "completed"
    },
    "tags": []
   },
   "outputs": [
    {
     "name": "stdout",
     "output_type": "stream",
     "text": [
      "True\n",
      "False\n"
     ]
    }
   ],
   "source": [
    "# Boolean Values:\n",
    "print(doc2[0].is_alpha)\n",
    "print(doc2[0].is_stop)"
   ]
  },
  {
   "cell_type": "markdown",
   "id": "aba420a4",
   "metadata": {
    "papermill": {
     "duration": 0.039157,
     "end_time": "2023-07-14T13:33:01.730880",
     "exception": false,
     "start_time": "2023-07-14T13:33:01.691723",
     "status": "completed"
    },
    "tags": []
   },
   "source": [
    "___\n",
    "## Spans\n",
    "Large Doc objects can be hard to work with at times. A **span** is a slice of Doc object in the form `Doc[start:stop]`."
   ]
  },
  {
   "cell_type": "code",
   "execution_count": 17,
   "id": "e8bfc4e0",
   "metadata": {
    "execution": {
     "iopub.execute_input": "2023-07-14T13:33:01.810934Z",
     "iopub.status.busy": "2023-07-14T13:33:01.810520Z",
     "iopub.status.idle": "2023-07-14T13:33:01.837930Z",
     "shell.execute_reply": "2023-07-14T13:33:01.836662Z"
    },
    "papermill": {
     "duration": 0.070597,
     "end_time": "2023-07-14T13:33:01.840810",
     "exception": false,
     "start_time": "2023-07-14T13:33:01.770213",
     "status": "completed"
    },
    "tags": []
   },
   "outputs": [],
   "source": [
    "doc3 = nlp(u'Although commmonly attributed to John Lennon from his song \"Beautiful Boy\", \\\n",
    "the phrase \"Life is what happens to us while we are making other plans\" was written by \\\n",
    "cartoonist Allen Saunders and published in Reader\\'s Digest in 1957, when Lennon was 17.')"
   ]
  },
  {
   "cell_type": "code",
   "execution_count": 18,
   "id": "f0dbe34f",
   "metadata": {
    "execution": {
     "iopub.execute_input": "2023-07-14T13:33:01.923517Z",
     "iopub.status.busy": "2023-07-14T13:33:01.923033Z",
     "iopub.status.idle": "2023-07-14T13:33:01.929920Z",
     "shell.execute_reply": "2023-07-14T13:33:01.928501Z"
    },
    "papermill": {
     "duration": 0.050424,
     "end_time": "2023-07-14T13:33:01.932242",
     "exception": false,
     "start_time": "2023-07-14T13:33:01.881818",
     "status": "completed"
    },
    "tags": []
   },
   "outputs": [
    {
     "name": "stdout",
     "output_type": "stream",
     "text": [
      "\"Life is what happens to us while we are making other plans\"\n"
     ]
    }
   ],
   "source": [
    "life_quote = doc3[16:30]\n",
    "print(life_quote)"
   ]
  },
  {
   "cell_type": "code",
   "execution_count": 19,
   "id": "554c12c9",
   "metadata": {
    "execution": {
     "iopub.execute_input": "2023-07-14T13:33:02.014687Z",
     "iopub.status.busy": "2023-07-14T13:33:02.014161Z",
     "iopub.status.idle": "2023-07-14T13:33:02.021939Z",
     "shell.execute_reply": "2023-07-14T13:33:02.020511Z"
    },
    "papermill": {
     "duration": 0.051925,
     "end_time": "2023-07-14T13:33:02.024511",
     "exception": false,
     "start_time": "2023-07-14T13:33:01.972586",
     "status": "completed"
    },
    "tags": []
   },
   "outputs": [
    {
     "data": {
      "text/plain": [
       "spacy.tokens.span.Span"
      ]
     },
     "execution_count": 19,
     "metadata": {},
     "output_type": "execute_result"
    }
   ],
   "source": [
    "type(life_quote)"
   ]
  },
  {
   "cell_type": "markdown",
   "id": "0255c73e",
   "metadata": {
    "papermill": {
     "duration": 0.040304,
     "end_time": "2023-07-14T13:33:02.109489",
     "exception": false,
     "start_time": "2023-07-14T13:33:02.069185",
     "status": "completed"
    },
    "tags": []
   },
   "source": [
    "___\n",
    "## Sentences\n",
    "Certain tokens inside a Doc object may also receive a \"start of sentence\" tag. While this doesn't immediately build a list of sentences, these tags enable the generation of sentence segments through `Doc.sents`. Later we'll write our own segmentation rules."
   ]
  },
  {
   "cell_type": "code",
   "execution_count": 20,
   "id": "e41bb5d7",
   "metadata": {
    "execution": {
     "iopub.execute_input": "2023-07-14T13:33:02.190190Z",
     "iopub.status.busy": "2023-07-14T13:33:02.189747Z",
     "iopub.status.idle": "2023-07-14T13:33:02.207139Z",
     "shell.execute_reply": "2023-07-14T13:33:02.205880Z"
    },
    "papermill": {
     "duration": 0.060848,
     "end_time": "2023-07-14T13:33:02.209895",
     "exception": false,
     "start_time": "2023-07-14T13:33:02.149047",
     "status": "completed"
    },
    "tags": []
   },
   "outputs": [],
   "source": [
    "doc4 = nlp(u'This is the first sentence. This is another sentence. This is the last sentence.')"
   ]
  },
  {
   "cell_type": "code",
   "execution_count": 21,
   "id": "b9e3ce7d",
   "metadata": {
    "execution": {
     "iopub.execute_input": "2023-07-14T13:33:02.291493Z",
     "iopub.status.busy": "2023-07-14T13:33:02.291014Z",
     "iopub.status.idle": "2023-07-14T13:33:02.297512Z",
     "shell.execute_reply": "2023-07-14T13:33:02.296250Z"
    },
    "papermill": {
     "duration": 0.050816,
     "end_time": "2023-07-14T13:33:02.300284",
     "exception": false,
     "start_time": "2023-07-14T13:33:02.249468",
     "status": "completed"
    },
    "tags": []
   },
   "outputs": [
    {
     "name": "stdout",
     "output_type": "stream",
     "text": [
      "This is the first sentence.\n",
      "This is another sentence.\n",
      "This is the last sentence.\n"
     ]
    }
   ],
   "source": [
    "for sent in doc4.sents:\n",
    "    print(sent)"
   ]
  },
  {
   "cell_type": "code",
   "execution_count": 22,
   "id": "d1a8b88d",
   "metadata": {
    "execution": {
     "iopub.execute_input": "2023-07-14T13:33:02.382787Z",
     "iopub.status.busy": "2023-07-14T13:33:02.382384Z",
     "iopub.status.idle": "2023-07-14T13:33:02.389813Z",
     "shell.execute_reply": "2023-07-14T13:33:02.388117Z"
    },
    "papermill": {
     "duration": 0.051362,
     "end_time": "2023-07-14T13:33:02.392629",
     "exception": false,
     "start_time": "2023-07-14T13:33:02.341267",
     "status": "completed"
    },
    "tags": []
   },
   "outputs": [
    {
     "data": {
      "text/plain": [
       "True"
      ]
     },
     "execution_count": 22,
     "metadata": {},
     "output_type": "execute_result"
    }
   ],
   "source": [
    "doc4[6].is_sent_start"
   ]
  },
  {
   "cell_type": "code",
   "execution_count": 23,
   "id": "bd6b3e2f",
   "metadata": {
    "execution": {
     "iopub.execute_input": "2023-07-14T13:33:02.475494Z",
     "iopub.status.busy": "2023-07-14T13:33:02.475056Z",
     "iopub.status.idle": "2023-07-14T13:33:02.482536Z",
     "shell.execute_reply": "2023-07-14T13:33:02.481130Z"
    },
    "papermill": {
     "duration": 0.051377,
     "end_time": "2023-07-14T13:33:02.485135",
     "exception": false,
     "start_time": "2023-07-14T13:33:02.433758",
     "status": "completed"
    },
    "tags": []
   },
   "outputs": [
    {
     "data": {
      "text/plain": [
       "False"
      ]
     },
     "execution_count": 23,
     "metadata": {},
     "output_type": "execute_result"
    }
   ],
   "source": [
    "doc4[6].is_sent_end"
   ]
  },
  {
   "cell_type": "markdown",
   "id": "cf628075",
   "metadata": {
    "papermill": {
     "duration": 0.03926,
     "end_time": "2023-07-14T13:33:02.565105",
     "exception": false,
     "start_time": "2023-07-14T13:33:02.525845",
     "status": "completed"
    },
    "tags": []
   },
   "source": [
    "# Tokenization\n",
    "The first step in creating a `Doc` object is to break down the incoming text into component pieces or \"tokens\"."
   ]
  },
  {
   "cell_type": "code",
   "execution_count": 24,
   "id": "a4705ff7",
   "metadata": {
    "execution": {
     "iopub.execute_input": "2023-07-14T13:33:02.646981Z",
     "iopub.status.busy": "2023-07-14T13:33:02.646534Z",
     "iopub.status.idle": "2023-07-14T13:33:03.859498Z",
     "shell.execute_reply": "2023-07-14T13:33:03.858206Z"
    },
    "papermill": {
     "duration": 1.257452,
     "end_time": "2023-07-14T13:33:03.862379",
     "exception": false,
     "start_time": "2023-07-14T13:33:02.604927",
     "status": "completed"
    },
    "tags": []
   },
   "outputs": [],
   "source": [
    "# Import spaCy and load the language library\n",
    "import spacy\n",
    "nlp = spacy.load('en_core_web_sm')"
   ]
  },
  {
   "cell_type": "code",
   "execution_count": 25,
   "id": "5efb20bf",
   "metadata": {
    "execution": {
     "iopub.execute_input": "2023-07-14T13:33:03.947363Z",
     "iopub.status.busy": "2023-07-14T13:33:03.946923Z",
     "iopub.status.idle": "2023-07-14T13:33:03.952250Z",
     "shell.execute_reply": "2023-07-14T13:33:03.950966Z"
    },
    "papermill": {
     "duration": 0.052522,
     "end_time": "2023-07-14T13:33:03.955983",
     "exception": false,
     "start_time": "2023-07-14T13:33:03.903461",
     "status": "completed"
    },
    "tags": []
   },
   "outputs": [
    {
     "name": "stdout",
     "output_type": "stream",
     "text": [
      "\"We're moving to L.A.!\"\n"
     ]
    }
   ],
   "source": [
    "# Create a string that includes opening and closing quotation marks\n",
    "mystring = '\"We\\'re moving to L.A.!\"'\n",
    "print(mystring)"
   ]
  },
  {
   "cell_type": "code",
   "execution_count": 26,
   "id": "edfce21d",
   "metadata": {
    "execution": {
     "iopub.execute_input": "2023-07-14T13:33:04.038222Z",
     "iopub.status.busy": "2023-07-14T13:33:04.037802Z",
     "iopub.status.idle": "2023-07-14T13:33:04.053894Z",
     "shell.execute_reply": "2023-07-14T13:33:04.052709Z"
    },
    "papermill": {
     "duration": 0.06072,
     "end_time": "2023-07-14T13:33:04.056831",
     "exception": false,
     "start_time": "2023-07-14T13:33:03.996111",
     "status": "completed"
    },
    "tags": []
   },
   "outputs": [
    {
     "name": "stdout",
     "output_type": "stream",
     "text": [
      "\" | We | 're | moving | to | L.A. | ! | \" | "
     ]
    }
   ],
   "source": [
    "# Create a Doc object and explore tokens\n",
    "doc = nlp(mystring)\n",
    "\n",
    "for token in doc:\n",
    "    print(token.text, end=' | ')"
   ]
  },
  {
   "cell_type": "markdown",
   "id": "36220dad",
   "metadata": {
    "papermill": {
     "duration": 0.040142,
     "end_time": "2023-07-14T13:33:04.139843",
     "exception": false,
     "start_time": "2023-07-14T13:33:04.099701",
     "status": "completed"
    },
    "tags": []
   },
   "source": [
    "## Prefixes, Suffixes and Infixes\n",
    "spaCy will isolate punctuation that does *not* form an integral part of a word. Quotation marks, commas, and punctuation at the end of a sentence will be assigned their own token. However, punctuation that exists as part of an email address, website or numerical value will be kept as part of the token."
   ]
  },
  {
   "cell_type": "code",
   "execution_count": 27,
   "id": "4a672541",
   "metadata": {
    "execution": {
     "iopub.execute_input": "2023-07-14T13:33:04.222295Z",
     "iopub.status.busy": "2023-07-14T13:33:04.221840Z",
     "iopub.status.idle": "2023-07-14T13:33:04.241408Z",
     "shell.execute_reply": "2023-07-14T13:33:04.240282Z"
    },
    "papermill": {
     "duration": 0.063961,
     "end_time": "2023-07-14T13:33:04.244389",
     "exception": false,
     "start_time": "2023-07-14T13:33:04.180428",
     "status": "completed"
    },
    "tags": []
   },
   "outputs": [
    {
     "name": "stdout",
     "output_type": "stream",
     "text": [
      "We\n",
      "'re\n",
      "here\n",
      "to\n",
      "help\n",
      "!\n",
      "Send\n",
      "snail\n",
      "-\n",
      "mail\n",
      ",\n",
      "email\n",
      "support@oursite.com\n",
      "or\n",
      "visit\n",
      "us\n",
      "at\n",
      "http://www.oursite.com\n",
      "!\n"
     ]
    }
   ],
   "source": [
    "doc2 = nlp(u\"We're here to help! Send snail-mail, email support@oursite.com or visit us at http://www.oursite.com!\")\n",
    "\n",
    "for t in doc2:\n",
    "    print(t)"
   ]
  },
  {
   "cell_type": "code",
   "execution_count": 28,
   "id": "97dd395b",
   "metadata": {
    "execution": {
     "iopub.execute_input": "2023-07-14T13:33:04.327716Z",
     "iopub.status.busy": "2023-07-14T13:33:04.327262Z",
     "iopub.status.idle": "2023-07-14T13:33:04.346651Z",
     "shell.execute_reply": "2023-07-14T13:33:04.345497Z"
    },
    "papermill": {
     "duration": 0.063775,
     "end_time": "2023-07-14T13:33:04.349230",
     "exception": false,
     "start_time": "2023-07-14T13:33:04.285455",
     "status": "completed"
    },
    "tags": []
   },
   "outputs": [
    {
     "name": "stdout",
     "output_type": "stream",
     "text": [
      "A\n",
      "5\n",
      "km\n",
      "NYC\n",
      "cab\n",
      "ride\n",
      "costs\n",
      "$\n",
      "10.30\n"
     ]
    }
   ],
   "source": [
    "doc3 = nlp(u'A 5km NYC cab ride costs $10.30')\n",
    "\n",
    "for t in doc3:\n",
    "    print(t)"
   ]
  },
  {
   "cell_type": "code",
   "execution_count": 29,
   "id": "bc7f377d",
   "metadata": {
    "execution": {
     "iopub.execute_input": "2023-07-14T13:33:04.432089Z",
     "iopub.status.busy": "2023-07-14T13:33:04.431413Z",
     "iopub.status.idle": "2023-07-14T13:33:04.447396Z",
     "shell.execute_reply": "2023-07-14T13:33:04.445982Z"
    },
    "papermill": {
     "duration": 0.060747,
     "end_time": "2023-07-14T13:33:04.450406",
     "exception": false,
     "start_time": "2023-07-14T13:33:04.389659",
     "status": "completed"
    },
    "tags": []
   },
   "outputs": [
    {
     "name": "stdout",
     "output_type": "stream",
     "text": [
      "Let\n",
      "'s\n",
      "visit\n",
      "St.\n",
      "Louis\n",
      "in\n",
      "the\n",
      "U.S.\n",
      "next\n",
      "year\n",
      ".\n"
     ]
    }
   ],
   "source": [
    "doc4 = nlp(u\"Let's visit St. Louis in the U.S. next year.\")\n",
    "\n",
    "for t in doc4:\n",
    "    print(t)"
   ]
  },
  {
   "cell_type": "markdown",
   "id": "a1ac4791",
   "metadata": {
    "papermill": {
     "duration": 0.039846,
     "end_time": "2023-07-14T13:33:04.531185",
     "exception": false,
     "start_time": "2023-07-14T13:33:04.491339",
     "status": "completed"
    },
    "tags": []
   },
   "source": [
    "## Counting Tokens\n",
    "`Doc` objects have a set number of tokens:"
   ]
  },
  {
   "cell_type": "code",
   "execution_count": 30,
   "id": "0247d93c",
   "metadata": {
    "execution": {
     "iopub.execute_input": "2023-07-14T13:33:04.614038Z",
     "iopub.status.busy": "2023-07-14T13:33:04.613552Z",
     "iopub.status.idle": "2023-07-14T13:33:04.621375Z",
     "shell.execute_reply": "2023-07-14T13:33:04.619989Z"
    },
    "papermill": {
     "duration": 0.052344,
     "end_time": "2023-07-14T13:33:04.624122",
     "exception": false,
     "start_time": "2023-07-14T13:33:04.571778",
     "status": "completed"
    },
    "tags": []
   },
   "outputs": [
    {
     "data": {
      "text/plain": [
       "8"
      ]
     },
     "execution_count": 30,
     "metadata": {},
     "output_type": "execute_result"
    }
   ],
   "source": [
    "len(doc)"
   ]
  },
  {
   "cell_type": "code",
   "execution_count": 31,
   "id": "8a6ab945",
   "metadata": {
    "execution": {
     "iopub.execute_input": "2023-07-14T13:33:04.707692Z",
     "iopub.status.busy": "2023-07-14T13:33:04.707244Z",
     "iopub.status.idle": "2023-07-14T13:33:04.714487Z",
     "shell.execute_reply": "2023-07-14T13:33:04.713429Z"
    },
    "papermill": {
     "duration": 0.051491,
     "end_time": "2023-07-14T13:33:04.717000",
     "exception": false,
     "start_time": "2023-07-14T13:33:04.665509",
     "status": "completed"
    },
    "tags": []
   },
   "outputs": [
    {
     "data": {
      "text/plain": [
       "794"
      ]
     },
     "execution_count": 31,
     "metadata": {},
     "output_type": "execute_result"
    }
   ],
   "source": [
    "len(doc.vocab)"
   ]
  },
  {
   "cell_type": "code",
   "execution_count": 32,
   "id": "adeaf897",
   "metadata": {
    "execution": {
     "iopub.execute_input": "2023-07-14T13:33:04.801759Z",
     "iopub.status.busy": "2023-07-14T13:33:04.800751Z",
     "iopub.status.idle": "2023-07-14T13:33:04.817932Z",
     "shell.execute_reply": "2023-07-14T13:33:04.817036Z"
    },
    "papermill": {
     "duration": 0.062685,
     "end_time": "2023-07-14T13:33:04.820234",
     "exception": false,
     "start_time": "2023-07-14T13:33:04.757549",
     "status": "completed"
    },
    "tags": []
   },
   "outputs": [
    {
     "data": {
      "text/plain": [
       "better"
      ]
     },
     "execution_count": 32,
     "metadata": {},
     "output_type": "execute_result"
    }
   ],
   "source": [
    "doc5 = nlp(u'It is better to give than to receive.')\n",
    "\n",
    "# Retrieve the third token:\n",
    "doc5[2]"
   ]
  },
  {
   "cell_type": "code",
   "execution_count": 33,
   "id": "e372dad6",
   "metadata": {
    "execution": {
     "iopub.execute_input": "2023-07-14T13:33:04.905626Z",
     "iopub.status.busy": "2023-07-14T13:33:04.904621Z",
     "iopub.status.idle": "2023-07-14T13:33:04.912381Z",
     "shell.execute_reply": "2023-07-14T13:33:04.911291Z"
    },
    "papermill": {
     "duration": 0.052797,
     "end_time": "2023-07-14T13:33:04.915282",
     "exception": false,
     "start_time": "2023-07-14T13:33:04.862485",
     "status": "completed"
    },
    "tags": []
   },
   "outputs": [
    {
     "data": {
      "text/plain": [
       "better to give"
      ]
     },
     "execution_count": 33,
     "metadata": {},
     "output_type": "execute_result"
    }
   ],
   "source": [
    "# Retrieve three tokens from the middle:\n",
    "doc5[2:5]"
   ]
  },
  {
   "cell_type": "code",
   "execution_count": 34,
   "id": "6ebc6812",
   "metadata": {
    "execution": {
     "iopub.execute_input": "2023-07-14T13:33:05.002506Z",
     "iopub.status.busy": "2023-07-14T13:33:05.001878Z",
     "iopub.status.idle": "2023-07-14T13:33:05.007688Z",
     "shell.execute_reply": "2023-07-14T13:33:05.006473Z"
    },
    "papermill": {
     "duration": 0.050998,
     "end_time": "2023-07-14T13:33:05.009800",
     "exception": false,
     "start_time": "2023-07-14T13:33:04.958802",
     "status": "completed"
    },
    "tags": []
   },
   "outputs": [
    {
     "data": {
      "text/plain": [
       "than to receive."
      ]
     },
     "execution_count": 34,
     "metadata": {},
     "output_type": "execute_result"
    }
   ],
   "source": [
    "# Retrieve the last four tokens:\n",
    "doc5[-4:]"
   ]
  },
  {
   "cell_type": "markdown",
   "id": "71231421",
   "metadata": {
    "papermill": {
     "duration": 0.041825,
     "end_time": "2023-07-14T13:33:05.093239",
     "exception": false,
     "start_time": "2023-07-14T13:33:05.051414",
     "status": "completed"
    },
    "tags": []
   },
   "source": [
    "## Tokens cannot be reassigned\n",
    "Although `Doc` objects can be considered lists of tokens, they do *not* support item reassignment:"
   ]
  },
  {
   "cell_type": "code",
   "execution_count": 35,
   "id": "88215faa",
   "metadata": {
    "execution": {
     "iopub.execute_input": "2023-07-14T13:33:05.177514Z",
     "iopub.status.busy": "2023-07-14T13:33:05.176871Z",
     "iopub.status.idle": "2023-07-14T13:33:05.197965Z",
     "shell.execute_reply": "2023-07-14T13:33:05.196874Z"
    },
    "papermill": {
     "duration": 0.066485,
     "end_time": "2023-07-14T13:33:05.200484",
     "exception": false,
     "start_time": "2023-07-14T13:33:05.133999",
     "status": "completed"
    },
    "tags": []
   },
   "outputs": [],
   "source": [
    "doc6 = nlp(u'My dinner was horrible.')\n",
    "doc7 = nlp(u'Your dinner was delicious.')"
   ]
  },
  {
   "cell_type": "markdown",
   "id": "f3742d2d",
   "metadata": {
    "papermill": {
     "duration": 0.04117,
     "end_time": "2023-07-14T13:33:05.282731",
     "exception": false,
     "start_time": "2023-07-14T13:33:05.241561",
     "status": "completed"
    },
    "tags": []
   },
   "source": [
    "___\n",
    "# Named Entities\n",
    "Going a step beyond tokens, *named entities* add another layer of context. The language model recognizes that certain words are organizational names while others are locations, and still other combinations relate to money, dates, etc. Named entities are accessible through the `ents` property of a `Doc` object."
   ]
  },
  {
   "cell_type": "code",
   "execution_count": 36,
   "id": "fe454f9b",
   "metadata": {
    "execution": {
     "iopub.execute_input": "2023-07-14T13:33:05.366427Z",
     "iopub.status.busy": "2023-07-14T13:33:05.365992Z",
     "iopub.status.idle": "2023-07-14T13:33:05.386824Z",
     "shell.execute_reply": "2023-07-14T13:33:05.385291Z"
    },
    "papermill": {
     "duration": 0.06599,
     "end_time": "2023-07-14T13:33:05.389655",
     "exception": false,
     "start_time": "2023-07-14T13:33:05.323665",
     "status": "completed"
    },
    "tags": []
   },
   "outputs": [
    {
     "name": "stdout",
     "output_type": "stream",
     "text": [
      "Apple | to | build | a | Hong | Kong | factory | for | $ | 6 | million | \n",
      "----\n",
      "Apple - ORG - Companies, agencies, institutions, etc.\n",
      "Hong Kong - GPE - Countries, cities, states\n",
      "$6 million - MONEY - Monetary values, including unit\n"
     ]
    }
   ],
   "source": [
    "doc8 = nlp(u'Apple to build a Hong Kong factory for $6 million')\n",
    "\n",
    "for token in doc8:\n",
    "    print(token.text, end=' | ')\n",
    "\n",
    "print('\\n----')\n",
    "\n",
    "for ent in doc8.ents:\n",
    "    print(ent.text+' - '+ent.label_+' - '+str(spacy.explain(ent.label_)))"
   ]
  },
  {
   "cell_type": "code",
   "execution_count": 37,
   "id": "b0059ef6",
   "metadata": {
    "execution": {
     "iopub.execute_input": "2023-07-14T13:33:05.473847Z",
     "iopub.status.busy": "2023-07-14T13:33:05.473445Z",
     "iopub.status.idle": "2023-07-14T13:33:05.481215Z",
     "shell.execute_reply": "2023-07-14T13:33:05.479914Z"
    },
    "papermill": {
     "duration": 0.05297,
     "end_time": "2023-07-14T13:33:05.483802",
     "exception": false,
     "start_time": "2023-07-14T13:33:05.430832",
     "status": "completed"
    },
    "tags": []
   },
   "outputs": [
    {
     "data": {
      "text/plain": [
       "3"
      ]
     },
     "execution_count": 37,
     "metadata": {},
     "output_type": "execute_result"
    }
   ],
   "source": [
    "len(doc8.ents)"
   ]
  },
  {
   "cell_type": "markdown",
   "id": "4d6617ba",
   "metadata": {
    "papermill": {
     "duration": 0.041083,
     "end_time": "2023-07-14T13:33:05.566544",
     "exception": false,
     "start_time": "2023-07-14T13:33:05.525461",
     "status": "completed"
    },
    "tags": []
   },
   "source": [
    "Named Entity Recognition (NER) is an important machine learning tool applied to Natural Language Processing.<br>We'll do a lot more with it in an upcoming section. For more info on **named entities** visit https://spacy.io/usage/linguistic-features#named-entities"
   ]
  },
  {
   "cell_type": "markdown",
   "id": "989c08bf",
   "metadata": {
    "papermill": {
     "duration": 0.040938,
     "end_time": "2023-07-14T13:33:05.649139",
     "exception": false,
     "start_time": "2023-07-14T13:33:05.608201",
     "status": "completed"
    },
    "tags": []
   },
   "source": [
    "---\n",
    "# Noun Chunks\n",
    "Similar to `Doc.ents`, `Doc.noun_chunks` are another object property. *Noun chunks* are \"base noun phrases\" – flat phrases that have a noun as their head. You can think of noun chunks as a noun plus the words describing the noun – for example, in [Sheb Wooley's 1958 song](https://en.wikipedia.org/wiki/The_Purple_People_Eater), a *\"one-eyed, one-horned, flying, purple people-eater\"* would be one long noun chunk."
   ]
  },
  {
   "cell_type": "code",
   "execution_count": 38,
   "id": "18347d74",
   "metadata": {
    "execution": {
     "iopub.execute_input": "2023-07-14T13:33:05.733829Z",
     "iopub.status.busy": "2023-07-14T13:33:05.733411Z",
     "iopub.status.idle": "2023-07-14T13:33:05.751425Z",
     "shell.execute_reply": "2023-07-14T13:33:05.750010Z"
    },
    "papermill": {
     "duration": 0.063814,
     "end_time": "2023-07-14T13:33:05.754193",
     "exception": false,
     "start_time": "2023-07-14T13:33:05.690379",
     "status": "completed"
    },
    "tags": []
   },
   "outputs": [
    {
     "name": "stdout",
     "output_type": "stream",
     "text": [
      "Autonomous cars\n",
      "insurance liability\n",
      "manufacturers\n"
     ]
    }
   ],
   "source": [
    "doc9 = nlp(u\"Autonomous cars shift insurance liability toward manufacturers.\")\n",
    "\n",
    "for chunk in doc9.noun_chunks:\n",
    "    print(chunk.text)"
   ]
  },
  {
   "cell_type": "code",
   "execution_count": 39,
   "id": "2ed4a328",
   "metadata": {
    "execution": {
     "iopub.execute_input": "2023-07-14T13:33:05.841070Z",
     "iopub.status.busy": "2023-07-14T13:33:05.840670Z",
     "iopub.status.idle": "2023-07-14T13:33:05.858821Z",
     "shell.execute_reply": "2023-07-14T13:33:05.856956Z"
    },
    "papermill": {
     "duration": 0.065585,
     "end_time": "2023-07-14T13:33:05.861651",
     "exception": false,
     "start_time": "2023-07-14T13:33:05.796066",
     "status": "completed"
    },
    "tags": []
   },
   "outputs": [
    {
     "name": "stdout",
     "output_type": "stream",
     "text": [
      "Red cars\n",
      "higher insurance rates\n"
     ]
    }
   ],
   "source": [
    "doc10 = nlp(u\"Red cars do not carry higher insurance rates.\")\n",
    "\n",
    "for chunk in doc10.noun_chunks:\n",
    "    print(chunk.text)"
   ]
  },
  {
   "cell_type": "code",
   "execution_count": 40,
   "id": "98b6741f",
   "metadata": {
    "execution": {
     "iopub.execute_input": "2023-07-14T13:33:05.947387Z",
     "iopub.status.busy": "2023-07-14T13:33:05.946943Z",
     "iopub.status.idle": "2023-07-14T13:33:05.967108Z",
     "shell.execute_reply": "2023-07-14T13:33:05.965769Z"
    },
    "papermill": {
     "duration": 0.066359,
     "end_time": "2023-07-14T13:33:05.969830",
     "exception": false,
     "start_time": "2023-07-14T13:33:05.903471",
     "status": "completed"
    },
    "tags": []
   },
   "outputs": [
    {
     "name": "stdout",
     "output_type": "stream",
     "text": [
      "He\n",
      "a one-eyed, one-horned, flying, purple people-eater\n"
     ]
    }
   ],
   "source": [
    "doc11 = nlp(u\"He was a one-eyed, one-horned, flying, purple people-eater.\")\n",
    "\n",
    "for chunk in doc11.noun_chunks:\n",
    "    print(chunk.text)"
   ]
  },
  {
   "cell_type": "markdown",
   "id": "18e15af2",
   "metadata": {
    "papermill": {
     "duration": 0.041803,
     "end_time": "2023-07-14T13:33:06.054260",
     "exception": false,
     "start_time": "2023-07-14T13:33:06.012457",
     "status": "completed"
    },
    "tags": []
   },
   "source": [
    "___\n",
    "# Built-in Visualizers\n",
    "\n",
    "spaCy includes a built-in visualization tool called **displaCy**. displaCy is able to detect whether you're working in a Jupyter notebook, and will return markup that can be rendered in a cell right away. When you export your notebook, the visualizations will be included as HTML.\n",
    "\n",
    "For more info visit https://spacy.io/usage/visualizers"
   ]
  },
  {
   "cell_type": "code",
   "execution_count": 41,
   "id": "062896b9",
   "metadata": {
    "execution": {
     "iopub.execute_input": "2023-07-14T13:33:06.143417Z",
     "iopub.status.busy": "2023-07-14T13:33:06.142359Z",
     "iopub.status.idle": "2023-07-14T13:33:06.170826Z",
     "shell.execute_reply": "2023-07-14T13:33:06.169308Z"
    },
    "papermill": {
     "duration": 0.075167,
     "end_time": "2023-07-14T13:33:06.173713",
     "exception": false,
     "start_time": "2023-07-14T13:33:06.098546",
     "status": "completed"
    },
    "tags": []
   },
   "outputs": [
    {
     "data": {
      "text/html": [
       "<span class=\"tex2jax_ignore\"><svg xmlns=\"http://www.w3.org/2000/svg\" xmlns:xlink=\"http://www.w3.org/1999/xlink\" xml:lang=\"en\" id=\"fca73fe52fbd42dc81004c221d707764-0\" class=\"displacy\" width=\"1370\" height=\"357.0\" direction=\"ltr\" style=\"max-width: none; height: 357.0px; color: #000000; background: #ffffff; font-family: Arial; direction: ltr\">\n",
       "<text class=\"displacy-token\" fill=\"currentColor\" text-anchor=\"middle\" y=\"267.0\">\n",
       "    <tspan class=\"displacy-word\" fill=\"currentColor\" x=\"50\">Apple</tspan>\n",
       "    <tspan class=\"displacy-tag\" dy=\"2em\" fill=\"currentColor\" x=\"50\">PROPN</tspan>\n",
       "</text>\n",
       "\n",
       "<text class=\"displacy-token\" fill=\"currentColor\" text-anchor=\"middle\" y=\"267.0\">\n",
       "    <tspan class=\"displacy-word\" fill=\"currentColor\" x=\"160\">is</tspan>\n",
       "    <tspan class=\"displacy-tag\" dy=\"2em\" fill=\"currentColor\" x=\"160\">AUX</tspan>\n",
       "</text>\n",
       "\n",
       "<text class=\"displacy-token\" fill=\"currentColor\" text-anchor=\"middle\" y=\"267.0\">\n",
       "    <tspan class=\"displacy-word\" fill=\"currentColor\" x=\"270\">going</tspan>\n",
       "    <tspan class=\"displacy-tag\" dy=\"2em\" fill=\"currentColor\" x=\"270\">VERB</tspan>\n",
       "</text>\n",
       "\n",
       "<text class=\"displacy-token\" fill=\"currentColor\" text-anchor=\"middle\" y=\"267.0\">\n",
       "    <tspan class=\"displacy-word\" fill=\"currentColor\" x=\"380\">to</tspan>\n",
       "    <tspan class=\"displacy-tag\" dy=\"2em\" fill=\"currentColor\" x=\"380\">PART</tspan>\n",
       "</text>\n",
       "\n",
       "<text class=\"displacy-token\" fill=\"currentColor\" text-anchor=\"middle\" y=\"267.0\">\n",
       "    <tspan class=\"displacy-word\" fill=\"currentColor\" x=\"490\">build</tspan>\n",
       "    <tspan class=\"displacy-tag\" dy=\"2em\" fill=\"currentColor\" x=\"490\">VERB</tspan>\n",
       "</text>\n",
       "\n",
       "<text class=\"displacy-token\" fill=\"currentColor\" text-anchor=\"middle\" y=\"267.0\">\n",
       "    <tspan class=\"displacy-word\" fill=\"currentColor\" x=\"600\">a</tspan>\n",
       "    <tspan class=\"displacy-tag\" dy=\"2em\" fill=\"currentColor\" x=\"600\">DET</tspan>\n",
       "</text>\n",
       "\n",
       "<text class=\"displacy-token\" fill=\"currentColor\" text-anchor=\"middle\" y=\"267.0\">\n",
       "    <tspan class=\"displacy-word\" fill=\"currentColor\" x=\"710\">U.K.</tspan>\n",
       "    <tspan class=\"displacy-tag\" dy=\"2em\" fill=\"currentColor\" x=\"710\">PROPN</tspan>\n",
       "</text>\n",
       "\n",
       "<text class=\"displacy-token\" fill=\"currentColor\" text-anchor=\"middle\" y=\"267.0\">\n",
       "    <tspan class=\"displacy-word\" fill=\"currentColor\" x=\"820\">factory</tspan>\n",
       "    <tspan class=\"displacy-tag\" dy=\"2em\" fill=\"currentColor\" x=\"820\">NOUN</tspan>\n",
       "</text>\n",
       "\n",
       "<text class=\"displacy-token\" fill=\"currentColor\" text-anchor=\"middle\" y=\"267.0\">\n",
       "    <tspan class=\"displacy-word\" fill=\"currentColor\" x=\"930\">for</tspan>\n",
       "    <tspan class=\"displacy-tag\" dy=\"2em\" fill=\"currentColor\" x=\"930\">ADP</tspan>\n",
       "</text>\n",
       "\n",
       "<text class=\"displacy-token\" fill=\"currentColor\" text-anchor=\"middle\" y=\"267.0\">\n",
       "    <tspan class=\"displacy-word\" fill=\"currentColor\" x=\"1040\">$</tspan>\n",
       "    <tspan class=\"displacy-tag\" dy=\"2em\" fill=\"currentColor\" x=\"1040\">SYM</tspan>\n",
       "</text>\n",
       "\n",
       "<text class=\"displacy-token\" fill=\"currentColor\" text-anchor=\"middle\" y=\"267.0\">\n",
       "    <tspan class=\"displacy-word\" fill=\"currentColor\" x=\"1150\">6</tspan>\n",
       "    <tspan class=\"displacy-tag\" dy=\"2em\" fill=\"currentColor\" x=\"1150\">NUM</tspan>\n",
       "</text>\n",
       "\n",
       "<text class=\"displacy-token\" fill=\"currentColor\" text-anchor=\"middle\" y=\"267.0\">\n",
       "    <tspan class=\"displacy-word\" fill=\"currentColor\" x=\"1260\">million.</tspan>\n",
       "    <tspan class=\"displacy-tag\" dy=\"2em\" fill=\"currentColor\" x=\"1260\">NUM</tspan>\n",
       "</text>\n",
       "\n",
       "<g class=\"displacy-arrow\">\n",
       "    <path class=\"displacy-arc\" id=\"arrow-fca73fe52fbd42dc81004c221d707764-0-0\" stroke-width=\"2px\" d=\"M70,222.0 C70,112.0 260.0,112.0 260.0,222.0\" fill=\"none\" stroke=\"currentColor\"/>\n",
       "    <text dy=\"1.25em\" style=\"font-size: 0.8em; letter-spacing: 1px\">\n",
       "        <textPath xlink:href=\"#arrow-fca73fe52fbd42dc81004c221d707764-0-0\" class=\"displacy-label\" startOffset=\"50%\" side=\"left\" fill=\"currentColor\" text-anchor=\"middle\">nsubj</textPath>\n",
       "    </text>\n",
       "    <path class=\"displacy-arrowhead\" d=\"M70,224.0 L62,212.0 78,212.0\" fill=\"currentColor\"/>\n",
       "</g>\n",
       "\n",
       "<g class=\"displacy-arrow\">\n",
       "    <path class=\"displacy-arc\" id=\"arrow-fca73fe52fbd42dc81004c221d707764-0-1\" stroke-width=\"2px\" d=\"M180,222.0 C180,167.0 255.0,167.0 255.0,222.0\" fill=\"none\" stroke=\"currentColor\"/>\n",
       "    <text dy=\"1.25em\" style=\"font-size: 0.8em; letter-spacing: 1px\">\n",
       "        <textPath xlink:href=\"#arrow-fca73fe52fbd42dc81004c221d707764-0-1\" class=\"displacy-label\" startOffset=\"50%\" side=\"left\" fill=\"currentColor\" text-anchor=\"middle\">aux</textPath>\n",
       "    </text>\n",
       "    <path class=\"displacy-arrowhead\" d=\"M180,224.0 L172,212.0 188,212.0\" fill=\"currentColor\"/>\n",
       "</g>\n",
       "\n",
       "<g class=\"displacy-arrow\">\n",
       "    <path class=\"displacy-arc\" id=\"arrow-fca73fe52fbd42dc81004c221d707764-0-2\" stroke-width=\"2px\" d=\"M400,222.0 C400,167.0 475.0,167.0 475.0,222.0\" fill=\"none\" stroke=\"currentColor\"/>\n",
       "    <text dy=\"1.25em\" style=\"font-size: 0.8em; letter-spacing: 1px\">\n",
       "        <textPath xlink:href=\"#arrow-fca73fe52fbd42dc81004c221d707764-0-2\" class=\"displacy-label\" startOffset=\"50%\" side=\"left\" fill=\"currentColor\" text-anchor=\"middle\">aux</textPath>\n",
       "    </text>\n",
       "    <path class=\"displacy-arrowhead\" d=\"M400,224.0 L392,212.0 408,212.0\" fill=\"currentColor\"/>\n",
       "</g>\n",
       "\n",
       "<g class=\"displacy-arrow\">\n",
       "    <path class=\"displacy-arc\" id=\"arrow-fca73fe52fbd42dc81004c221d707764-0-3\" stroke-width=\"2px\" d=\"M290,222.0 C290,112.0 480.0,112.0 480.0,222.0\" fill=\"none\" stroke=\"currentColor\"/>\n",
       "    <text dy=\"1.25em\" style=\"font-size: 0.8em; letter-spacing: 1px\">\n",
       "        <textPath xlink:href=\"#arrow-fca73fe52fbd42dc81004c221d707764-0-3\" class=\"displacy-label\" startOffset=\"50%\" side=\"left\" fill=\"currentColor\" text-anchor=\"middle\">xcomp</textPath>\n",
       "    </text>\n",
       "    <path class=\"displacy-arrowhead\" d=\"M480.0,224.0 L488.0,212.0 472.0,212.0\" fill=\"currentColor\"/>\n",
       "</g>\n",
       "\n",
       "<g class=\"displacy-arrow\">\n",
       "    <path class=\"displacy-arc\" id=\"arrow-fca73fe52fbd42dc81004c221d707764-0-4\" stroke-width=\"2px\" d=\"M620,222.0 C620,112.0 810.0,112.0 810.0,222.0\" fill=\"none\" stroke=\"currentColor\"/>\n",
       "    <text dy=\"1.25em\" style=\"font-size: 0.8em; letter-spacing: 1px\">\n",
       "        <textPath xlink:href=\"#arrow-fca73fe52fbd42dc81004c221d707764-0-4\" class=\"displacy-label\" startOffset=\"50%\" side=\"left\" fill=\"currentColor\" text-anchor=\"middle\">det</textPath>\n",
       "    </text>\n",
       "    <path class=\"displacy-arrowhead\" d=\"M620,224.0 L612,212.0 628,212.0\" fill=\"currentColor\"/>\n",
       "</g>\n",
       "\n",
       "<g class=\"displacy-arrow\">\n",
       "    <path class=\"displacy-arc\" id=\"arrow-fca73fe52fbd42dc81004c221d707764-0-5\" stroke-width=\"2px\" d=\"M730,222.0 C730,167.0 805.0,167.0 805.0,222.0\" fill=\"none\" stroke=\"currentColor\"/>\n",
       "    <text dy=\"1.25em\" style=\"font-size: 0.8em; letter-spacing: 1px\">\n",
       "        <textPath xlink:href=\"#arrow-fca73fe52fbd42dc81004c221d707764-0-5\" class=\"displacy-label\" startOffset=\"50%\" side=\"left\" fill=\"currentColor\" text-anchor=\"middle\">compound</textPath>\n",
       "    </text>\n",
       "    <path class=\"displacy-arrowhead\" d=\"M730,224.0 L722,212.0 738,212.0\" fill=\"currentColor\"/>\n",
       "</g>\n",
       "\n",
       "<g class=\"displacy-arrow\">\n",
       "    <path class=\"displacy-arc\" id=\"arrow-fca73fe52fbd42dc81004c221d707764-0-6\" stroke-width=\"2px\" d=\"M510,222.0 C510,57.0 815.0,57.0 815.0,222.0\" fill=\"none\" stroke=\"currentColor\"/>\n",
       "    <text dy=\"1.25em\" style=\"font-size: 0.8em; letter-spacing: 1px\">\n",
       "        <textPath xlink:href=\"#arrow-fca73fe52fbd42dc81004c221d707764-0-6\" class=\"displacy-label\" startOffset=\"50%\" side=\"left\" fill=\"currentColor\" text-anchor=\"middle\">dobj</textPath>\n",
       "    </text>\n",
       "    <path class=\"displacy-arrowhead\" d=\"M815.0,224.0 L823.0,212.0 807.0,212.0\" fill=\"currentColor\"/>\n",
       "</g>\n",
       "\n",
       "<g class=\"displacy-arrow\">\n",
       "    <path class=\"displacy-arc\" id=\"arrow-fca73fe52fbd42dc81004c221d707764-0-7\" stroke-width=\"2px\" d=\"M510,222.0 C510,2.0 930.0,2.0 930.0,222.0\" fill=\"none\" stroke=\"currentColor\"/>\n",
       "    <text dy=\"1.25em\" style=\"font-size: 0.8em; letter-spacing: 1px\">\n",
       "        <textPath xlink:href=\"#arrow-fca73fe52fbd42dc81004c221d707764-0-7\" class=\"displacy-label\" startOffset=\"50%\" side=\"left\" fill=\"currentColor\" text-anchor=\"middle\">prep</textPath>\n",
       "    </text>\n",
       "    <path class=\"displacy-arrowhead\" d=\"M930.0,224.0 L938.0,212.0 922.0,212.0\" fill=\"currentColor\"/>\n",
       "</g>\n",
       "\n",
       "<g class=\"displacy-arrow\">\n",
       "    <path class=\"displacy-arc\" id=\"arrow-fca73fe52fbd42dc81004c221d707764-0-8\" stroke-width=\"2px\" d=\"M1060,222.0 C1060,112.0 1250.0,112.0 1250.0,222.0\" fill=\"none\" stroke=\"currentColor\"/>\n",
       "    <text dy=\"1.25em\" style=\"font-size: 0.8em; letter-spacing: 1px\">\n",
       "        <textPath xlink:href=\"#arrow-fca73fe52fbd42dc81004c221d707764-0-8\" class=\"displacy-label\" startOffset=\"50%\" side=\"left\" fill=\"currentColor\" text-anchor=\"middle\">quantmod</textPath>\n",
       "    </text>\n",
       "    <path class=\"displacy-arrowhead\" d=\"M1060,224.0 L1052,212.0 1068,212.0\" fill=\"currentColor\"/>\n",
       "</g>\n",
       "\n",
       "<g class=\"displacy-arrow\">\n",
       "    <path class=\"displacy-arc\" id=\"arrow-fca73fe52fbd42dc81004c221d707764-0-9\" stroke-width=\"2px\" d=\"M1170,222.0 C1170,167.0 1245.0,167.0 1245.0,222.0\" fill=\"none\" stroke=\"currentColor\"/>\n",
       "    <text dy=\"1.25em\" style=\"font-size: 0.8em; letter-spacing: 1px\">\n",
       "        <textPath xlink:href=\"#arrow-fca73fe52fbd42dc81004c221d707764-0-9\" class=\"displacy-label\" startOffset=\"50%\" side=\"left\" fill=\"currentColor\" text-anchor=\"middle\">compound</textPath>\n",
       "    </text>\n",
       "    <path class=\"displacy-arrowhead\" d=\"M1170,224.0 L1162,212.0 1178,212.0\" fill=\"currentColor\"/>\n",
       "</g>\n",
       "\n",
       "<g class=\"displacy-arrow\">\n",
       "    <path class=\"displacy-arc\" id=\"arrow-fca73fe52fbd42dc81004c221d707764-0-10\" stroke-width=\"2px\" d=\"M950,222.0 C950,57.0 1255.0,57.0 1255.0,222.0\" fill=\"none\" stroke=\"currentColor\"/>\n",
       "    <text dy=\"1.25em\" style=\"font-size: 0.8em; letter-spacing: 1px\">\n",
       "        <textPath xlink:href=\"#arrow-fca73fe52fbd42dc81004c221d707764-0-10\" class=\"displacy-label\" startOffset=\"50%\" side=\"left\" fill=\"currentColor\" text-anchor=\"middle\">pobj</textPath>\n",
       "    </text>\n",
       "    <path class=\"displacy-arrowhead\" d=\"M1255.0,224.0 L1263.0,212.0 1247.0,212.0\" fill=\"currentColor\"/>\n",
       "</g>\n",
       "</svg></span>"
      ],
      "text/plain": [
       "<IPython.core.display.HTML object>"
      ]
     },
     "metadata": {},
     "output_type": "display_data"
    }
   ],
   "source": [
    "from spacy import displacy\n",
    "\n",
    "doc = nlp(u'Apple is going to build a U.K. factory for $6 million.')\n",
    "displacy.render(doc, style='dep', jupyter=True, options={'distance': 110})"
   ]
  },
  {
   "cell_type": "markdown",
   "id": "b10a5b45",
   "metadata": {
    "papermill": {
     "duration": 0.041829,
     "end_time": "2023-07-14T13:33:06.258394",
     "exception": false,
     "start_time": "2023-07-14T13:33:06.216565",
     "status": "completed"
    },
    "tags": []
   },
   "source": [
    "## Visualizing the entity recognizer"
   ]
  },
  {
   "cell_type": "code",
   "execution_count": 42,
   "id": "c576fd53",
   "metadata": {
    "execution": {
     "iopub.execute_input": "2023-07-14T13:33:06.345101Z",
     "iopub.status.busy": "2023-07-14T13:33:06.344283Z",
     "iopub.status.idle": "2023-07-14T13:33:06.365634Z",
     "shell.execute_reply": "2023-07-14T13:33:06.364430Z"
    },
    "papermill": {
     "duration": 0.067552,
     "end_time": "2023-07-14T13:33:06.368191",
     "exception": false,
     "start_time": "2023-07-14T13:33:06.300639",
     "status": "completed"
    },
    "tags": []
   },
   "outputs": [
    {
     "data": {
      "text/html": [
       "<span class=\"tex2jax_ignore\"><div class=\"entities\" style=\"line-height: 2.5; direction: ltr\">Over \n",
       "<mark class=\"entity\" style=\"background: #bfe1d9; padding: 0.45em 0.6em; margin: 0 0.25em; line-height: 1; border-radius: 0.35em;\">\n",
       "    the last quarter\n",
       "    <span style=\"font-size: 0.8em; font-weight: bold; line-height: 1; border-radius: 0.35em; vertical-align: middle; margin-left: 0.5rem\">DATE</span>\n",
       "</mark>\n",
       " \n",
       "<mark class=\"entity\" style=\"background: #7aecec; padding: 0.45em 0.6em; margin: 0 0.25em; line-height: 1; border-radius: 0.35em;\">\n",
       "    Apple\n",
       "    <span style=\"font-size: 0.8em; font-weight: bold; line-height: 1; border-radius: 0.35em; vertical-align: middle; margin-left: 0.5rem\">ORG</span>\n",
       "</mark>\n",
       " sold \n",
       "<mark class=\"entity\" style=\"background: #e4e7d2; padding: 0.45em 0.6em; margin: 0 0.25em; line-height: 1; border-radius: 0.35em;\">\n",
       "    nearly 20 thousand\n",
       "    <span style=\"font-size: 0.8em; font-weight: bold; line-height: 1; border-radius: 0.35em; vertical-align: middle; margin-left: 0.5rem\">CARDINAL</span>\n",
       "</mark>\n",
       " \n",
       "<mark class=\"entity\" style=\"background: #bfeeb7; padding: 0.45em 0.6em; margin: 0 0.25em; line-height: 1; border-radius: 0.35em;\">\n",
       "    iPods\n",
       "    <span style=\"font-size: 0.8em; font-weight: bold; line-height: 1; border-radius: 0.35em; vertical-align: middle; margin-left: 0.5rem\">PRODUCT</span>\n",
       "</mark>\n",
       " for a profit of \n",
       "<mark class=\"entity\" style=\"background: #e4e7d2; padding: 0.45em 0.6em; margin: 0 0.25em; line-height: 1; border-radius: 0.35em;\">\n",
       "    $6 million\n",
       "    <span style=\"font-size: 0.8em; font-weight: bold; line-height: 1; border-radius: 0.35em; vertical-align: middle; margin-left: 0.5rem\">MONEY</span>\n",
       "</mark>\n",
       ".</div></span>"
      ],
      "text/plain": [
       "<IPython.core.display.HTML object>"
      ]
     },
     "metadata": {},
     "output_type": "display_data"
    }
   ],
   "source": [
    "doc = nlp(u'Over the last quarter Apple sold nearly 20 thousand iPods for a profit of $6 million.')\n",
    "displacy.render(doc, style='ent', jupyter=True)"
   ]
  },
  {
   "cell_type": "markdown",
   "id": "b693a78e",
   "metadata": {
    "papermill": {
     "duration": 0.042044,
     "end_time": "2023-07-14T13:33:06.452949",
     "exception": false,
     "start_time": "2023-07-14T13:33:06.410905",
     "status": "completed"
    },
    "tags": []
   },
   "source": [
    "# Stemming\n",
    "Often when searching text for a certain keyword, it helps if the search returns variations of the word. For instance, searching for \"boat\" might also return \"boats\" and \"boating\". Here, \"boat\" would be the **stem** for [boat, boater, boating, boats].\n",
    "\n",
    "Stemming is a somewhat crude method for cataloging related words; it essentially chops off letters from the end until the stem is reached. This works fairly well in most cases, but unfortunately English has many exceptions where a more sophisticated process is required. In fact, spaCy doesn't include a stemmer, opting instead to rely entirely on lemmatization. For those interested, there's some background on this decision [here](https://github.com/explosion/spaCy/issues/327). We discuss the virtues of *lemmatization* in the next section.\n",
    "\n",
    "Instead, we'll use another popular NLP tool called **nltk**, which stands for *Natural Language Toolkit*. For more information on nltk visit https://www.nltk.org/"
   ]
  },
  {
   "cell_type": "code",
   "execution_count": 43,
   "id": "3f17bf80",
   "metadata": {
    "execution": {
     "iopub.execute_input": "2023-07-14T13:33:06.540036Z",
     "iopub.status.busy": "2023-07-14T13:33:06.539602Z",
     "iopub.status.idle": "2023-07-14T13:33:08.240286Z",
     "shell.execute_reply": "2023-07-14T13:33:08.238988Z"
    },
    "papermill": {
     "duration": 1.747844,
     "end_time": "2023-07-14T13:33:08.243188",
     "exception": false,
     "start_time": "2023-07-14T13:33:06.495344",
     "status": "completed"
    },
    "tags": []
   },
   "outputs": [],
   "source": [
    "# Import the toolkit and the full Porter Stemmer library\n",
    "import nltk\n",
    "\n",
    "from nltk.stem.porter import *"
   ]
  },
  {
   "cell_type": "code",
   "execution_count": 44,
   "id": "b4a6b6ed",
   "metadata": {
    "execution": {
     "iopub.execute_input": "2023-07-14T13:33:08.331265Z",
     "iopub.status.busy": "2023-07-14T13:33:08.330842Z",
     "iopub.status.idle": "2023-07-14T13:33:08.335723Z",
     "shell.execute_reply": "2023-07-14T13:33:08.334531Z"
    },
    "papermill": {
     "duration": 0.051472,
     "end_time": "2023-07-14T13:33:08.338027",
     "exception": false,
     "start_time": "2023-07-14T13:33:08.286555",
     "status": "completed"
    },
    "tags": []
   },
   "outputs": [],
   "source": [
    "p_stemmer = PorterStemmer()"
   ]
  },
  {
   "cell_type": "code",
   "execution_count": 45,
   "id": "2275eac0",
   "metadata": {
    "execution": {
     "iopub.execute_input": "2023-07-14T13:33:08.424554Z",
     "iopub.status.busy": "2023-07-14T13:33:08.424090Z",
     "iopub.status.idle": "2023-07-14T13:33:08.429771Z",
     "shell.execute_reply": "2023-07-14T13:33:08.428387Z"
    },
    "papermill": {
     "duration": 0.051333,
     "end_time": "2023-07-14T13:33:08.431970",
     "exception": false,
     "start_time": "2023-07-14T13:33:08.380637",
     "status": "completed"
    },
    "tags": []
   },
   "outputs": [],
   "source": [
    "words = ['run','runner','running','ran','runs','easily','fairly']"
   ]
  },
  {
   "cell_type": "code",
   "execution_count": 46,
   "id": "730e5880",
   "metadata": {
    "execution": {
     "iopub.execute_input": "2023-07-14T13:33:08.518972Z",
     "iopub.status.busy": "2023-07-14T13:33:08.517736Z",
     "iopub.status.idle": "2023-07-14T13:33:08.524745Z",
     "shell.execute_reply": "2023-07-14T13:33:08.523479Z"
    },
    "papermill": {
     "duration": 0.052725,
     "end_time": "2023-07-14T13:33:08.527117",
     "exception": false,
     "start_time": "2023-07-14T13:33:08.474392",
     "status": "completed"
    },
    "tags": []
   },
   "outputs": [
    {
     "name": "stdout",
     "output_type": "stream",
     "text": [
      "run --> run\n",
      "runner --> runner\n",
      "running --> run\n",
      "ran --> ran\n",
      "runs --> run\n",
      "easily --> easili\n",
      "fairly --> fairli\n"
     ]
    }
   ],
   "source": [
    "for word in words:\n",
    "    print(word+' --> '+p_stemmer.stem(word))"
   ]
  },
  {
   "cell_type": "markdown",
   "id": "e5c9b5ad",
   "metadata": {
    "papermill": {
     "duration": 0.04191,
     "end_time": "2023-07-14T13:33:08.611396",
     "exception": false,
     "start_time": "2023-07-14T13:33:08.569486",
     "status": "completed"
    },
    "tags": []
   },
   "source": [
    "## Snowball Stemmer\n",
    "This is somewhat of a misnomer, as Snowball is the name of a stemming language developed by Martin Porter. The algorithm used here is more acurately called the \"English Stemmer\" or \"Porter2 Stemmer\". It offers a slight improvement over the original Porter stemmer, both in logic and speed. Since **nltk** uses the name SnowballStemmer, we'll use it here."
   ]
  },
  {
   "cell_type": "code",
   "execution_count": 47,
   "id": "06a0df9d",
   "metadata": {
    "execution": {
     "iopub.execute_input": "2023-07-14T13:33:08.698441Z",
     "iopub.status.busy": "2023-07-14T13:33:08.697964Z",
     "iopub.status.idle": "2023-07-14T13:33:08.703970Z",
     "shell.execute_reply": "2023-07-14T13:33:08.702556Z"
    },
    "papermill": {
     "duration": 0.052556,
     "end_time": "2023-07-14T13:33:08.706515",
     "exception": false,
     "start_time": "2023-07-14T13:33:08.653959",
     "status": "completed"
    },
    "tags": []
   },
   "outputs": [],
   "source": [
    "from nltk.stem.snowball import SnowballStemmer\n",
    "\n",
    "# The Snowball Stemmer requires that you pass a language parameter\n",
    "s_stemmer = SnowballStemmer(language='english')"
   ]
  },
  {
   "cell_type": "code",
   "execution_count": 48,
   "id": "0c5965cc",
   "metadata": {
    "execution": {
     "iopub.execute_input": "2023-07-14T13:33:08.793650Z",
     "iopub.status.busy": "2023-07-14T13:33:08.792875Z",
     "iopub.status.idle": "2023-07-14T13:33:08.798567Z",
     "shell.execute_reply": "2023-07-14T13:33:08.797395Z"
    },
    "papermill": {
     "duration": 0.051798,
     "end_time": "2023-07-14T13:33:08.800815",
     "exception": false,
     "start_time": "2023-07-14T13:33:08.749017",
     "status": "completed"
    },
    "tags": []
   },
   "outputs": [],
   "source": [
    "words = ['run','runner','running','ran','runs','easily','fairly']\n",
    "# words = ['generous','generation','generously','generate']"
   ]
  },
  {
   "cell_type": "code",
   "execution_count": 49,
   "id": "1c62b03e",
   "metadata": {
    "execution": {
     "iopub.execute_input": "2023-07-14T13:33:08.887375Z",
     "iopub.status.busy": "2023-07-14T13:33:08.886939Z",
     "iopub.status.idle": "2023-07-14T13:33:08.893507Z",
     "shell.execute_reply": "2023-07-14T13:33:08.892398Z"
    },
    "papermill": {
     "duration": 0.052797,
     "end_time": "2023-07-14T13:33:08.896063",
     "exception": false,
     "start_time": "2023-07-14T13:33:08.843266",
     "status": "completed"
    },
    "tags": []
   },
   "outputs": [
    {
     "name": "stdout",
     "output_type": "stream",
     "text": [
      "run --> run\n",
      "runner --> runner\n",
      "running --> run\n",
      "ran --> ran\n",
      "runs --> run\n",
      "easily --> easili\n",
      "fairly --> fair\n"
     ]
    }
   ],
   "source": [
    "for word in words:\n",
    "    print(word+' --> '+s_stemmer.stem(word))"
   ]
  },
  {
   "cell_type": "code",
   "execution_count": 50,
   "id": "afdf53c8",
   "metadata": {
    "execution": {
     "iopub.execute_input": "2023-07-14T13:33:08.984943Z",
     "iopub.status.busy": "2023-07-14T13:33:08.984526Z",
     "iopub.status.idle": "2023-07-14T13:33:08.990060Z",
     "shell.execute_reply": "2023-07-14T13:33:08.988783Z"
    },
    "papermill": {
     "duration": 0.052891,
     "end_time": "2023-07-14T13:33:08.992399",
     "exception": false,
     "start_time": "2023-07-14T13:33:08.939508",
     "status": "completed"
    },
    "tags": []
   },
   "outputs": [],
   "source": [
    "words = ['consolingly']"
   ]
  },
  {
   "cell_type": "code",
   "execution_count": 51,
   "id": "148e51e0",
   "metadata": {
    "execution": {
     "iopub.execute_input": "2023-07-14T13:33:09.079495Z",
     "iopub.status.busy": "2023-07-14T13:33:09.079081Z",
     "iopub.status.idle": "2023-07-14T13:33:09.085019Z",
     "shell.execute_reply": "2023-07-14T13:33:09.083713Z"
    },
    "papermill": {
     "duration": 0.053474,
     "end_time": "2023-07-14T13:33:09.088347",
     "exception": false,
     "start_time": "2023-07-14T13:33:09.034873",
     "status": "completed"
    },
    "tags": []
   },
   "outputs": [
    {
     "name": "stdout",
     "output_type": "stream",
     "text": [
      "Porter Stemmer:\n",
      "consolingly --> consolingli\n"
     ]
    }
   ],
   "source": [
    "print('Porter Stemmer:')\n",
    "for word in words:\n",
    "    print(word+' --> '+p_stemmer.stem(word))"
   ]
  },
  {
   "cell_type": "code",
   "execution_count": 52,
   "id": "762522b8",
   "metadata": {
    "execution": {
     "iopub.execute_input": "2023-07-14T13:33:09.175733Z",
     "iopub.status.busy": "2023-07-14T13:33:09.174905Z",
     "iopub.status.idle": "2023-07-14T13:33:09.182090Z",
     "shell.execute_reply": "2023-07-14T13:33:09.180725Z"
    },
    "papermill": {
     "duration": 0.05381,
     "end_time": "2023-07-14T13:33:09.184769",
     "exception": false,
     "start_time": "2023-07-14T13:33:09.130959",
     "status": "completed"
    },
    "tags": []
   },
   "outputs": [
    {
     "name": "stdout",
     "output_type": "stream",
     "text": [
      "Porter2 Stemmer:\n",
      "consolingly --> consol\n"
     ]
    }
   ],
   "source": [
    "print('Porter2 Stemmer:')\n",
    "for word in words:\n",
    "    print(word+' --> '+s_stemmer.stem(word))"
   ]
  },
  {
   "cell_type": "markdown",
   "id": "6108244c",
   "metadata": {
    "papermill": {
     "duration": 0.042575,
     "end_time": "2023-07-14T13:33:09.269853",
     "exception": false,
     "start_time": "2023-07-14T13:33:09.227278",
     "status": "completed"
    },
    "tags": []
   },
   "source": [
    "# Lemmatization\n",
    "In contrast to stemming, lemmatization looks beyond word reduction, and considers a language's full vocabulary to apply a *morphological analysis* to words. The lemma of 'was' is 'be' and the lemma of 'mice' is 'mouse'. Further, the lemma of 'meeting' might be 'meet' or 'meeting' depending on its use in a sentence."
   ]
  },
  {
   "cell_type": "code",
   "execution_count": 53,
   "id": "d13bcc60",
   "metadata": {
    "execution": {
     "iopub.execute_input": "2023-07-14T13:33:09.356725Z",
     "iopub.status.busy": "2023-07-14T13:33:09.356286Z",
     "iopub.status.idle": "2023-07-14T13:33:10.611092Z",
     "shell.execute_reply": "2023-07-14T13:33:10.609859Z"
    },
    "papermill": {
     "duration": 1.301773,
     "end_time": "2023-07-14T13:33:10.613978",
     "exception": false,
     "start_time": "2023-07-14T13:33:09.312205",
     "status": "completed"
    },
    "tags": []
   },
   "outputs": [],
   "source": [
    "# Perform standard imports:\n",
    "import spacy\n",
    "nlp = spacy.load('en_core_web_sm')"
   ]
  },
  {
   "cell_type": "code",
   "execution_count": 54,
   "id": "b292110f",
   "metadata": {
    "execution": {
     "iopub.execute_input": "2023-07-14T13:33:10.707634Z",
     "iopub.status.busy": "2023-07-14T13:33:10.706760Z",
     "iopub.status.idle": "2023-07-14T13:33:10.732330Z",
     "shell.execute_reply": "2023-07-14T13:33:10.730675Z"
    },
    "papermill": {
     "duration": 0.073342,
     "end_time": "2023-07-14T13:33:10.735086",
     "exception": false,
     "start_time": "2023-07-14T13:33:10.661744",
     "status": "completed"
    },
    "tags": []
   },
   "outputs": [
    {
     "name": "stdout",
     "output_type": "stream",
     "text": [
      "I \t PRON \t 4690420944186131903 \t I\n",
      "am \t AUX \t 10382539506755952630 \t be\n",
      "a \t DET \t 11901859001352538922 \t a\n",
      "runner \t NOUN \t 12640964157389618806 \t runner\n",
      "running \t VERB \t 12767647472892411841 \t run\n",
      "in \t ADP \t 3002984154512732771 \t in\n",
      "a \t DET \t 11901859001352538922 \t a\n",
      "race \t NOUN \t 8048469955494714898 \t race\n",
      "because \t SCONJ \t 16950148841647037698 \t because\n",
      "I \t PRON \t 4690420944186131903 \t I\n",
      "love \t VERB \t 3702023516439754181 \t love\n",
      "to \t PART \t 3791531372978436496 \t to\n",
      "run \t VERB \t 12767647472892411841 \t run\n",
      "since \t SCONJ \t 10066841407251338481 \t since\n",
      "I \t PRON \t 4690420944186131903 \t I\n",
      "ran \t VERB \t 12767647472892411841 \t run\n",
      "today \t NOUN \t 11042482332948150395 \t today\n"
     ]
    }
   ],
   "source": [
    "doc1 = nlp(u\"I am a runner running in a race because I love to run since I ran today\")\n",
    "\n",
    "for token in doc1:\n",
    "    print(token.text, '\\t', token.pos_, '\\t', token.lemma, '\\t', token.lemma_)"
   ]
  },
  {
   "cell_type": "code",
   "execution_count": 55,
   "id": "b6cbed24",
   "metadata": {
    "execution": {
     "iopub.execute_input": "2023-07-14T13:33:10.832540Z",
     "iopub.status.busy": "2023-07-14T13:33:10.831815Z",
     "iopub.status.idle": "2023-07-14T13:33:10.837749Z",
     "shell.execute_reply": "2023-07-14T13:33:10.836845Z"
    },
    "papermill": {
     "duration": 0.060955,
     "end_time": "2023-07-14T13:33:10.840148",
     "exception": false,
     "start_time": "2023-07-14T13:33:10.779193",
     "status": "completed"
    },
    "tags": []
   },
   "outputs": [],
   "source": [
    "def show_lemmas(text):\n",
    "    for token in text:\n",
    "        print(f'{token.text:{12}} {token.pos_:{6}} {token.lemma:<{22}} {token.lemma_}')"
   ]
  },
  {
   "cell_type": "code",
   "execution_count": 56,
   "id": "96f01101",
   "metadata": {
    "execution": {
     "iopub.execute_input": "2023-07-14T13:33:10.930471Z",
     "iopub.status.busy": "2023-07-14T13:33:10.929373Z",
     "iopub.status.idle": "2023-07-14T13:33:10.946425Z",
     "shell.execute_reply": "2023-07-14T13:33:10.945248Z"
    },
    "papermill": {
     "duration": 0.066893,
     "end_time": "2023-07-14T13:33:10.949627",
     "exception": false,
     "start_time": "2023-07-14T13:33:10.882734",
     "status": "completed"
    },
    "tags": []
   },
   "outputs": [
    {
     "name": "stdout",
     "output_type": "stream",
     "text": [
      "I            PRON   4690420944186131903    I\n",
      "saw          VERB   11925638236994514241   see\n",
      "eighteen     NUM    9609336664675087640    eighteen\n",
      "mice         NOUN   1384165645700560590    mouse\n",
      "today        NOUN   11042482332948150395   today\n",
      "!            PUNCT  17494803046312582752   !\n"
     ]
    }
   ],
   "source": [
    "doc2 = nlp(u\"I saw eighteen mice today!\")\n",
    "\n",
    "show_lemmas(doc2)"
   ]
  },
  {
   "cell_type": "code",
   "execution_count": 57,
   "id": "96ee1039",
   "metadata": {
    "execution": {
     "iopub.execute_input": "2023-07-14T13:33:11.058090Z",
     "iopub.status.busy": "2023-07-14T13:33:11.057372Z",
     "iopub.status.idle": "2023-07-14T13:33:11.073754Z",
     "shell.execute_reply": "2023-07-14T13:33:11.072294Z"
    },
    "papermill": {
     "duration": 0.069586,
     "end_time": "2023-07-14T13:33:11.076447",
     "exception": false,
     "start_time": "2023-07-14T13:33:11.006861",
     "status": "completed"
    },
    "tags": []
   },
   "outputs": [
    {
     "name": "stdout",
     "output_type": "stream",
     "text": [
      "I            PRON   4690420944186131903    I\n",
      "am           AUX    10382539506755952630   be\n",
      "meeting      VERB   6880656908171229526    meet\n",
      "him          PRON   1655312771067108281    he\n",
      "tomorrow     NOUN   3573583789758258062    tomorrow\n",
      "at           ADP    11667289587015813222   at\n",
      "the          DET    7425985699627899538    the\n",
      "meeting      NOUN   14798207169164081740   meeting\n",
      ".            PUNCT  12646065887601541794   .\n"
     ]
    }
   ],
   "source": [
    "doc3 = nlp(u\"I am meeting him tomorrow at the meeting.\")\n",
    "\n",
    "show_lemmas(doc3)"
   ]
  },
  {
   "cell_type": "code",
   "execution_count": 58,
   "id": "157c1337",
   "metadata": {
    "execution": {
     "iopub.execute_input": "2023-07-14T13:33:11.167444Z",
     "iopub.status.busy": "2023-07-14T13:33:11.166667Z",
     "iopub.status.idle": "2023-07-14T13:33:11.181578Z",
     "shell.execute_reply": "2023-07-14T13:33:11.180411Z"
    },
    "papermill": {
     "duration": 0.062451,
     "end_time": "2023-07-14T13:33:11.184512",
     "exception": false,
     "start_time": "2023-07-14T13:33:11.122061",
     "status": "completed"
    },
    "tags": []
   },
   "outputs": [
    {
     "name": "stdout",
     "output_type": "stream",
     "text": [
      "That         PRON   4380130941430378203    that\n",
      "'s           AUX    10382539506755952630   be\n",
      "an           DET    15099054000809333061   an\n",
      "enormous     ADJ    17917224542039855524   enormous\n",
      "automobile   NOUN   7211811266693931283    automobile\n"
     ]
    }
   ],
   "source": [
    "doc4 = nlp(u\"That's an enormous automobile\")\n",
    "\n",
    "show_lemmas(doc4)"
   ]
  },
  {
   "cell_type": "markdown",
   "id": "784e3c63",
   "metadata": {
    "papermill": {
     "duration": 0.108297,
     "end_time": "2023-07-14T13:33:11.336997",
     "exception": false,
     "start_time": "2023-07-14T13:33:11.228700",
     "status": "completed"
    },
    "tags": []
   },
   "source": [
    "# Stop Words\n",
    "Words like \"a\" and \"the\" appear so frequently that they don't require tagging as thoroughly as nouns, verbs and modifiers. We call these *stop words*, and they can be filtered from the text to be processed. spaCy holds a built-in list of some 305 English stop words."
   ]
  },
  {
   "cell_type": "code",
   "execution_count": 59,
   "id": "1cd4f702",
   "metadata": {
    "execution": {
     "iopub.execute_input": "2023-07-14T13:33:11.425951Z",
     "iopub.status.busy": "2023-07-14T13:33:11.424938Z",
     "iopub.status.idle": "2023-07-14T13:33:12.614982Z",
     "shell.execute_reply": "2023-07-14T13:33:12.613649Z"
    },
    "papermill": {
     "duration": 1.237564,
     "end_time": "2023-07-14T13:33:12.618026",
     "exception": false,
     "start_time": "2023-07-14T13:33:11.380462",
     "status": "completed"
    },
    "tags": []
   },
   "outputs": [],
   "source": [
    "# Perform standard imports:\n",
    "import spacy\n",
    "nlp = spacy.load('en_core_web_sm')"
   ]
  },
  {
   "cell_type": "code",
   "execution_count": 60,
   "id": "ae483e54",
   "metadata": {
    "execution": {
     "iopub.execute_input": "2023-07-14T13:33:12.707017Z",
     "iopub.status.busy": "2023-07-14T13:33:12.706577Z",
     "iopub.status.idle": "2023-07-14T13:33:12.713123Z",
     "shell.execute_reply": "2023-07-14T13:33:12.711916Z"
    },
    "papermill": {
     "duration": 0.053698,
     "end_time": "2023-07-14T13:33:12.715869",
     "exception": false,
     "start_time": "2023-07-14T13:33:12.662171",
     "status": "completed"
    },
    "tags": []
   },
   "outputs": [
    {
     "name": "stdout",
     "output_type": "stream",
     "text": [
      "{'among', 'down', 'hers', 'most', 'and', 'take', 'she', 'would', 'ever', 'moreover', 'him', 'does', 'between', 'he', 'put', 'whence', 'last', 'please', 'regarding', 'over', 'whatever', 'am', 'nevertheless', 'unless', 'should', 'up', 'ten', 'when', 'themselves', 'either', 'six', 'afterwards', 'become', 'very', 'ca', 'from', 'full', 'eleven', 'thereby', 'yourself', 'an', 'also', 'thereupon', 'once', 'itself', 'something', 'might', \"'d\", 'somehow', 'thus', 'twenty', 'less', 'anyone', 'which', 'namely', 'fifty', 'nothing', 'thereafter', 'without', 'them', 'towards', 'himself', 'above', 'one', '’m', 'this', 'nine', 'rather', 'really', 'yet', 'whom', 'own', 'they', 'nor', 'bottom', 'former', 'next', 'beforehand', 'whither', 'after', 'if', 'about', 'for', 'formerly', 'were', 'hundred', 'whole', 'four', 'eight', 'was', 'because', 'since', 'the', 'no', 'hereby', 'his', 'by', 'empty', 'me', 'perhaps', 'make', 'against', 'several', \"'re\", 'mine', 'still', 'may', 'our', 'due', 'using', 'well', 'thru', 'around', 'show', 'these', 'seeming', 'alone', 'say', 'therein', 'per', 'top', 'are', 'i', 'every', 'twelve', 'other', 'however', 'each', 'to', 'such', 'did', 'see', 'get', 'part', 'someone', 'beyond', 'is', 'seemed', 'must', 'both', 'us', 'into', 'latterly', 'n’t', 'done', 'hereafter', 'or', '‘ve', 'front', 'could', 'n‘t', 'her', 'beside', 'keep', 'onto', 'had', 'else', 'their', 'even', 'least', 'not', 'why', 'sixty', 'across', 'has', 'various', 'back', 'almost', 'nowhere', 'fifteen', \"'s\", 'anyhow', '‘d', 'as', '’ll', 'its', 'some', 'seem', 'your', 'noone', 'few', 'out', 'yours', 'five', 'off', 'otherwise', 'any', 'another', 'a', 'always', 'whose', 'already', 'others', 'my', 'be', 'neither', 'side', '’s', 'herein', 'same', 'thence', 'move', 'those', 'how', 'before', 'ourselves', 'whoever', 'three', \"'ve\", 'anywhere', 'that', 'do', '’re', 'nobody', 'anyway', 'until', 'yourselves', 'so', '‘re', 'you', 'everything', 'have', 'whereby', 'we', 'where', 'with', 'becomes', 'sometimes', '’d', 'although', 'cannot', 'whereupon', 'many', 'being', 'amount', 'mostly', 'during', 'there', 'though', 'somewhere', 'can', 'whereafter', 'except', 'at', 'made', 'whereas', 'behind', 'quite', '‘s', 'here', \"'ll\", 'everyone', 'who', 'amongst', 'ours', 'give', 'hereupon', 'indeed', 'will', 'throughout', 'upon', 'used', 'in', 'on', 'name', 'it', 'via', 'none', 'just', 'latter', 'along', \"n't\", 'anything', 'seems', 'becoming', 'meanwhile', 'below', 'often', 'never', 'what', 'together', 'been', 'third', 'too', 'now', 'enough', 'wherever', \"'m\", 'whenever', '‘ll', 'while', 'elsewhere', 'much', 'all', 'everywhere', 'serious', 'within', 'go', 're', 'hence', 'call', 'therefore', 'further', 'then', 'forty', 'through', 'sometime', 'than', 'under', 'more', 'wherein', 'again', 'became', 'first', 'whether', 'toward', 'myself', 'of', '’ve', '‘m', 'only', 'doing', 'besides', 'but', 'herself', 'two'}\n"
     ]
    }
   ],
   "source": [
    "# Print the set of spaCy's default stop words (remember that sets are unordered):\n",
    "print(nlp.Defaults.stop_words)"
   ]
  },
  {
   "cell_type": "code",
   "execution_count": 61,
   "id": "8a1cef00",
   "metadata": {
    "execution": {
     "iopub.execute_input": "2023-07-14T13:33:12.806963Z",
     "iopub.status.busy": "2023-07-14T13:33:12.806064Z",
     "iopub.status.idle": "2023-07-14T13:33:12.813214Z",
     "shell.execute_reply": "2023-07-14T13:33:12.812219Z"
    },
    "papermill": {
     "duration": 0.054909,
     "end_time": "2023-07-14T13:33:12.815723",
     "exception": false,
     "start_time": "2023-07-14T13:33:12.760814",
     "status": "completed"
    },
    "tags": []
   },
   "outputs": [
    {
     "data": {
      "text/plain": [
       "326"
      ]
     },
     "execution_count": 61,
     "metadata": {},
     "output_type": "execute_result"
    }
   ],
   "source": [
    "len(nlp.Defaults.stop_words)"
   ]
  },
  {
   "cell_type": "code",
   "execution_count": 62,
   "id": "56689599",
   "metadata": {
    "execution": {
     "iopub.execute_input": "2023-07-14T13:33:12.908363Z",
     "iopub.status.busy": "2023-07-14T13:33:12.907120Z",
     "iopub.status.idle": "2023-07-14T13:33:12.915436Z",
     "shell.execute_reply": "2023-07-14T13:33:12.914137Z"
    },
    "papermill": {
     "duration": 0.057606,
     "end_time": "2023-07-14T13:33:12.918073",
     "exception": false,
     "start_time": "2023-07-14T13:33:12.860467",
     "status": "completed"
    },
    "tags": []
   },
   "outputs": [
    {
     "data": {
      "text/plain": [
       "True"
      ]
     },
     "execution_count": 62,
     "metadata": {},
     "output_type": "execute_result"
    }
   ],
   "source": [
    "nlp.vocab['myself'].is_stop"
   ]
  },
  {
   "cell_type": "code",
   "execution_count": 63,
   "id": "0b5a33f1",
   "metadata": {
    "execution": {
     "iopub.execute_input": "2023-07-14T13:33:13.011855Z",
     "iopub.status.busy": "2023-07-14T13:33:13.011406Z",
     "iopub.status.idle": "2023-07-14T13:33:13.019413Z",
     "shell.execute_reply": "2023-07-14T13:33:13.018481Z"
    },
    "papermill": {
     "duration": 0.058598,
     "end_time": "2023-07-14T13:33:13.021722",
     "exception": false,
     "start_time": "2023-07-14T13:33:12.963124",
     "status": "completed"
    },
    "tags": []
   },
   "outputs": [
    {
     "data": {
      "text/plain": [
       "False"
      ]
     },
     "execution_count": 63,
     "metadata": {},
     "output_type": "execute_result"
    }
   ],
   "source": [
    "nlp.vocab['mystery'].is_stop"
   ]
  },
  {
   "cell_type": "markdown",
   "id": "5c823ce4",
   "metadata": {
    "papermill": {
     "duration": 0.045277,
     "end_time": "2023-07-14T13:33:13.111733",
     "exception": false,
     "start_time": "2023-07-14T13:33:13.066456",
     "status": "completed"
    },
    "tags": []
   },
   "source": [
    "## To add a stop word\n",
    "There may be times when you wish to add a stop word to the default set. Perhaps you decide that `'btw'` (common shorthand for \"by the way\") should be considered a stop word."
   ]
  },
  {
   "cell_type": "code",
   "execution_count": 64,
   "id": "45cd153e",
   "metadata": {
    "execution": {
     "iopub.execute_input": "2023-07-14T13:33:13.201303Z",
     "iopub.status.busy": "2023-07-14T13:33:13.200856Z",
     "iopub.status.idle": "2023-07-14T13:33:13.206826Z",
     "shell.execute_reply": "2023-07-14T13:33:13.205533Z"
    },
    "papermill": {
     "duration": 0.053739,
     "end_time": "2023-07-14T13:33:13.209541",
     "exception": false,
     "start_time": "2023-07-14T13:33:13.155802",
     "status": "completed"
    },
    "tags": []
   },
   "outputs": [],
   "source": [
    "# Add the word to the set of stop words. Use lowercase!\n",
    "nlp.Defaults.stop_words.add('btw')\n",
    "\n",
    "# Set the stop_word tag on the lexeme\n",
    "nlp.vocab['btw'].is_stop = True"
   ]
  },
  {
   "cell_type": "code",
   "execution_count": 65,
   "id": "36ca4c97",
   "metadata": {
    "execution": {
     "iopub.execute_input": "2023-07-14T13:33:13.302284Z",
     "iopub.status.busy": "2023-07-14T13:33:13.301462Z",
     "iopub.status.idle": "2023-07-14T13:33:13.309015Z",
     "shell.execute_reply": "2023-07-14T13:33:13.307640Z"
    },
    "papermill": {
     "duration": 0.056828,
     "end_time": "2023-07-14T13:33:13.311615",
     "exception": false,
     "start_time": "2023-07-14T13:33:13.254787",
     "status": "completed"
    },
    "tags": []
   },
   "outputs": [
    {
     "data": {
      "text/plain": [
       "327"
      ]
     },
     "execution_count": 65,
     "metadata": {},
     "output_type": "execute_result"
    }
   ],
   "source": [
    "len(nlp.Defaults.stop_words)"
   ]
  },
  {
   "cell_type": "code",
   "execution_count": 66,
   "id": "3dc1b815",
   "metadata": {
    "execution": {
     "iopub.execute_input": "2023-07-14T13:33:13.401802Z",
     "iopub.status.busy": "2023-07-14T13:33:13.401401Z",
     "iopub.status.idle": "2023-07-14T13:33:13.408266Z",
     "shell.execute_reply": "2023-07-14T13:33:13.407165Z"
    },
    "papermill": {
     "duration": 0.054772,
     "end_time": "2023-07-14T13:33:13.410627",
     "exception": false,
     "start_time": "2023-07-14T13:33:13.355855",
     "status": "completed"
    },
    "tags": []
   },
   "outputs": [
    {
     "data": {
      "text/plain": [
       "True"
      ]
     },
     "execution_count": 66,
     "metadata": {},
     "output_type": "execute_result"
    }
   ],
   "source": [
    "nlp.vocab['btw'].is_stop"
   ]
  },
  {
   "cell_type": "markdown",
   "id": "c5ad60ec",
   "metadata": {
    "papermill": {
     "duration": 0.043688,
     "end_time": "2023-07-14T13:33:13.498254",
     "exception": false,
     "start_time": "2023-07-14T13:33:13.454566",
     "status": "completed"
    },
    "tags": []
   },
   "source": [
    "## To remove a stop word\n",
    "Alternatively, you may decide that `'beyond'` should not be considered a stop word."
   ]
  },
  {
   "cell_type": "code",
   "execution_count": 67,
   "id": "991371ee",
   "metadata": {
    "execution": {
     "iopub.execute_input": "2023-07-14T13:33:13.587619Z",
     "iopub.status.busy": "2023-07-14T13:33:13.586944Z",
     "iopub.status.idle": "2023-07-14T13:33:13.592528Z",
     "shell.execute_reply": "2023-07-14T13:33:13.591395Z"
    },
    "papermill": {
     "duration": 0.052678,
     "end_time": "2023-07-14T13:33:13.594780",
     "exception": false,
     "start_time": "2023-07-14T13:33:13.542102",
     "status": "completed"
    },
    "tags": []
   },
   "outputs": [],
   "source": [
    "# Remove the word from the set of stop words\n",
    "nlp.Defaults.stop_words.remove('beyond')\n",
    "\n",
    "# Remove the stop_word tag from the lexeme\n",
    "nlp.vocab['beyond'].is_stop = False"
   ]
  },
  {
   "cell_type": "code",
   "execution_count": 68,
   "id": "d44d4802",
   "metadata": {
    "execution": {
     "iopub.execute_input": "2023-07-14T13:33:13.684968Z",
     "iopub.status.busy": "2023-07-14T13:33:13.684532Z",
     "iopub.status.idle": "2023-07-14T13:33:13.690686Z",
     "shell.execute_reply": "2023-07-14T13:33:13.689892Z"
    },
    "papermill": {
     "duration": 0.053955,
     "end_time": "2023-07-14T13:33:13.693061",
     "exception": false,
     "start_time": "2023-07-14T13:33:13.639106",
     "status": "completed"
    },
    "tags": []
   },
   "outputs": [
    {
     "data": {
      "text/plain": [
       "326"
      ]
     },
     "execution_count": 68,
     "metadata": {},
     "output_type": "execute_result"
    }
   ],
   "source": [
    "len(nlp.Defaults.stop_words)"
   ]
  },
  {
   "cell_type": "code",
   "execution_count": 69,
   "id": "f8ff2fd9",
   "metadata": {
    "execution": {
     "iopub.execute_input": "2023-07-14T13:33:13.784665Z",
     "iopub.status.busy": "2023-07-14T13:33:13.784053Z",
     "iopub.status.idle": "2023-07-14T13:33:13.791925Z",
     "shell.execute_reply": "2023-07-14T13:33:13.790787Z"
    },
    "papermill": {
     "duration": 0.056485,
     "end_time": "2023-07-14T13:33:13.794539",
     "exception": false,
     "start_time": "2023-07-14T13:33:13.738054",
     "status": "completed"
    },
    "tags": []
   },
   "outputs": [
    {
     "data": {
      "text/plain": [
       "False"
      ]
     },
     "execution_count": 69,
     "metadata": {},
     "output_type": "execute_result"
    }
   ],
   "source": [
    "nlp.vocab['beyond'].is_stop"
   ]
  },
  {
   "cell_type": "markdown",
   "id": "b9b7ba32",
   "metadata": {
    "papermill": {
     "duration": 0.043846,
     "end_time": "2023-07-14T13:33:13.883293",
     "exception": false,
     "start_time": "2023-07-14T13:33:13.839447",
     "status": "completed"
    },
    "tags": []
   },
   "source": [
    "# Vocabulary and Matching\n",
    "So far we've seen how a body of text is divided into tokens, and how individual tokens are parsed and tagged with parts of speech, dependencies and lemmas.\n",
    "\n",
    "In this section we will identify and label specific phrases that match patterns we can define ourselves. "
   ]
  },
  {
   "cell_type": "markdown",
   "id": "7b1fae5c",
   "metadata": {
    "papermill": {
     "duration": 0.044241,
     "end_time": "2023-07-14T13:33:13.971708",
     "exception": false,
     "start_time": "2023-07-14T13:33:13.927467",
     "status": "completed"
    },
    "tags": []
   },
   "source": [
    "## Rule-based Matching\n",
    "spaCy offers a rule-matching tool called `Matcher` that allows you to build a library of token patterns, then match those patterns against a Doc object to return a list of found matches. You can match on any part of the token including text and annotations, and you can add multiple patterns to the same matcher."
   ]
  },
  {
   "cell_type": "code",
   "execution_count": 70,
   "id": "7a58e980",
   "metadata": {
    "execution": {
     "iopub.execute_input": "2023-07-14T13:33:14.065672Z",
     "iopub.status.busy": "2023-07-14T13:33:14.064856Z",
     "iopub.status.idle": "2023-07-14T13:33:15.262160Z",
     "shell.execute_reply": "2023-07-14T13:33:15.260972Z"
    },
    "papermill": {
     "duration": 1.247136,
     "end_time": "2023-07-14T13:33:15.265224",
     "exception": false,
     "start_time": "2023-07-14T13:33:14.018088",
     "status": "completed"
    },
    "tags": []
   },
   "outputs": [],
   "source": [
    "# Perform standard imports\n",
    "import spacy\n",
    "nlp = spacy.load('en_core_web_sm')"
   ]
  },
  {
   "cell_type": "code",
   "execution_count": 71,
   "id": "f12e658e",
   "metadata": {
    "execution": {
     "iopub.execute_input": "2023-07-14T13:33:15.358571Z",
     "iopub.status.busy": "2023-07-14T13:33:15.358120Z",
     "iopub.status.idle": "2023-07-14T13:33:15.363765Z",
     "shell.execute_reply": "2023-07-14T13:33:15.362619Z"
    },
    "papermill": {
     "duration": 0.055408,
     "end_time": "2023-07-14T13:33:15.366187",
     "exception": false,
     "start_time": "2023-07-14T13:33:15.310779",
     "status": "completed"
    },
    "tags": []
   },
   "outputs": [],
   "source": [
    "# Import the Matcher library\n",
    "from spacy.matcher import Matcher\n",
    "matcher = Matcher(nlp.vocab)"
   ]
  },
  {
   "cell_type": "markdown",
   "id": "7f4f6a82",
   "metadata": {
    "papermill": {
     "duration": 0.044511,
     "end_time": "2023-07-14T13:33:15.455534",
     "exception": false,
     "start_time": "2023-07-14T13:33:15.411023",
     "status": "completed"
    },
    "tags": []
   },
   "source": [
    "### Creating patterns\n",
    "In literature, the phrase 'solar power' might appear as one word or two, with or without a hyphen. In this section we'll develop a matcher named 'SolarPower' that finds all three:"
   ]
  },
  {
   "cell_type": "code",
   "execution_count": 72,
   "id": "3809a949",
   "metadata": {
    "execution": {
     "iopub.execute_input": "2023-07-14T13:33:15.547249Z",
     "iopub.status.busy": "2023-07-14T13:33:15.546849Z",
     "iopub.status.idle": "2023-07-14T13:33:15.553352Z",
     "shell.execute_reply": "2023-07-14T13:33:15.552508Z"
    },
    "papermill": {
     "duration": 0.055354,
     "end_time": "2023-07-14T13:33:15.555358",
     "exception": false,
     "start_time": "2023-07-14T13:33:15.500004",
     "status": "completed"
    },
    "tags": []
   },
   "outputs": [],
   "source": [
    "pattern1 = [{'LOWER': 'solarpower'}]\n",
    "pattern2 = [{'LOWER': 'solar'}, {'LOWER': 'power'}]\n",
    "pattern3 = [{'LOWER': 'solar'}, {'IS_PUNCT': True}, {'LOWER': 'power'}]\n",
    "pattern = pattern1+pattern2+pattern3\n",
    "matcher.add('SolarPower', [pattern])"
   ]
  },
  {
   "cell_type": "code",
   "execution_count": 73,
   "id": "61967b5e",
   "metadata": {
    "execution": {
     "iopub.execute_input": "2023-07-14T13:33:15.646156Z",
     "iopub.status.busy": "2023-07-14T13:33:15.645126Z",
     "iopub.status.idle": "2023-07-14T13:33:15.653004Z",
     "shell.execute_reply": "2023-07-14T13:33:15.651880Z"
    },
    "papermill": {
     "duration": 0.055817,
     "end_time": "2023-07-14T13:33:15.655605",
     "exception": false,
     "start_time": "2023-07-14T13:33:15.599788",
     "status": "completed"
    },
    "tags": []
   },
   "outputs": [
    {
     "data": {
      "text/plain": [
       "[{'LOWER': 'solarpower'},\n",
       " {'LOWER': 'solar'},\n",
       " {'LOWER': 'power'},\n",
       " {'LOWER': 'solar'},\n",
       " {'IS_PUNCT': True},\n",
       " {'LOWER': 'power'}]"
      ]
     },
     "execution_count": 73,
     "metadata": {},
     "output_type": "execute_result"
    }
   ],
   "source": [
    "pattern"
   ]
  },
  {
   "cell_type": "code",
   "execution_count": 74,
   "id": "04a9a75a",
   "metadata": {
    "execution": {
     "iopub.execute_input": "2023-07-14T13:33:15.747029Z",
     "iopub.status.busy": "2023-07-14T13:33:15.746174Z",
     "iopub.status.idle": "2023-07-14T13:33:15.766169Z",
     "shell.execute_reply": "2023-07-14T13:33:15.765119Z"
    },
    "papermill": {
     "duration": 0.068636,
     "end_time": "2023-07-14T13:33:15.768836",
     "exception": false,
     "start_time": "2023-07-14T13:33:15.700200",
     "status": "completed"
    },
    "tags": []
   },
   "outputs": [],
   "source": [
    "doc = nlp(u'The Solar Power industry continues to grow as demand \\\n",
    "for solarpower increases. Solar-power cars are gaining popularity.')"
   ]
  },
  {
   "cell_type": "code",
   "execution_count": 75,
   "id": "256ad6f3",
   "metadata": {
    "execution": {
     "iopub.execute_input": "2023-07-14T13:33:15.862393Z",
     "iopub.status.busy": "2023-07-14T13:33:15.861531Z",
     "iopub.status.idle": "2023-07-14T13:33:15.868439Z",
     "shell.execute_reply": "2023-07-14T13:33:15.866945Z"
    },
    "papermill": {
     "duration": 0.05744,
     "end_time": "2023-07-14T13:33:15.871173",
     "exception": false,
     "start_time": "2023-07-14T13:33:15.813733",
     "status": "completed"
    },
    "tags": []
   },
   "outputs": [
    {
     "name": "stdout",
     "output_type": "stream",
     "text": [
      "[]\n"
     ]
    }
   ],
   "source": [
    "found_matches = matcher(doc)\n",
    "print(found_matches)"
   ]
  },
  {
   "cell_type": "code",
   "execution_count": 76,
   "id": "9e760a6f",
   "metadata": {
    "execution": {
     "iopub.execute_input": "2023-07-14T13:33:15.963197Z",
     "iopub.status.busy": "2023-07-14T13:33:15.962784Z",
     "iopub.status.idle": "2023-07-14T13:33:15.969119Z",
     "shell.execute_reply": "2023-07-14T13:33:15.968035Z"
    },
    "papermill": {
     "duration": 0.055195,
     "end_time": "2023-07-14T13:33:15.971413",
     "exception": false,
     "start_time": "2023-07-14T13:33:15.916218",
     "status": "completed"
    },
    "tags": []
   },
   "outputs": [],
   "source": [
    "for match_id, start, end in found_matches:\n",
    "    string_id = nlp.vocab.strings[match_id]  # get string representation\n",
    "    span = doc[start:end]                    # get the matched span\n",
    "    print(match_id, string_id, start, end, span.text)"
   ]
  },
  {
   "cell_type": "code",
   "execution_count": 77,
   "id": "5b454913",
   "metadata": {
    "execution": {
     "iopub.execute_input": "2023-07-14T13:33:16.066144Z",
     "iopub.status.busy": "2023-07-14T13:33:16.065746Z",
     "iopub.status.idle": "2023-07-14T13:33:17.275717Z",
     "shell.execute_reply": "2023-07-14T13:33:17.274465Z"
    },
    "papermill": {
     "duration": 1.260635,
     "end_time": "2023-07-14T13:33:17.278623",
     "exception": false,
     "start_time": "2023-07-14T13:33:16.017988",
     "status": "completed"
    },
    "tags": []
   },
   "outputs": [
    {
     "name": "stdout",
     "output_type": "stream",
     "text": [
      "Solar Power\n",
      "solarpower\n",
      "Solar-power\n"
     ]
    }
   ],
   "source": [
    "import spacy\n",
    "nlp = spacy.load('en_core_web_sm')\n",
    "\n",
    "from spacy.matcher import Matcher\n",
    "matcher = Matcher(nlp.vocab)\n",
    "\n",
    "pattern1 = [{'LOWER':'solarpower'}]\n",
    "pattern2 = [{'LOWER':'solar'},{'IS_PUNCT':True},{'LOWER':'power'}]\n",
    "pattern3 = [{'LOWER':'solar'},{'LOWER':'power'}]\n",
    "\n",
    "matcher.add('SolarPower', [pattern1,pattern2,pattern3])\n",
    "doc = nlp(u\"The Solar Power industry continues to grow a solarpower increases. Solar-power is good\")\n",
    "found_matches = matcher(doc)\n",
    "\n",
    "\n",
    "for _,start,end in found_matches:\n",
    "    span = doc[start:end]\n",
    "    print(span)"
   ]
  },
  {
   "cell_type": "code",
   "execution_count": 78,
   "id": "c004c101",
   "metadata": {
    "execution": {
     "iopub.execute_input": "2023-07-14T13:33:17.369591Z",
     "iopub.status.busy": "2023-07-14T13:33:17.369166Z",
     "iopub.status.idle": "2023-07-14T13:33:17.384847Z",
     "shell.execute_reply": "2023-07-14T13:33:17.383137Z"
    },
    "papermill": {
     "duration": 0.064762,
     "end_time": "2023-07-14T13:33:17.387717",
     "exception": false,
     "start_time": "2023-07-14T13:33:17.322955",
     "status": "completed"
    },
    "tags": []
   },
   "outputs": [],
   "source": [
    "from spacy.matcher import Matcher\n",
    "\n",
    "matcher = Matcher(nlp.vocab)\n",
    "pattern = [{\"LOWER\": \"hello\"}, {\"LOWER\": \"world\"}]\n",
    "matcher.add(\"HelloWorld\", [pattern])\n",
    "doc = nlp(\"hello world!\")\n",
    "matches = matcher(doc)"
   ]
  },
  {
   "cell_type": "code",
   "execution_count": 79,
   "id": "4374e6d6",
   "metadata": {
    "execution": {
     "iopub.execute_input": "2023-07-14T13:33:17.478823Z",
     "iopub.status.busy": "2023-07-14T13:33:17.478361Z",
     "iopub.status.idle": "2023-07-14T13:33:17.484380Z",
     "shell.execute_reply": "2023-07-14T13:33:17.483342Z"
    },
    "papermill": {
     "duration": 0.054584,
     "end_time": "2023-07-14T13:33:17.487054",
     "exception": false,
     "start_time": "2023-07-14T13:33:17.432470",
     "status": "completed"
    },
    "tags": []
   },
   "outputs": [
    {
     "name": "stdout",
     "output_type": "stream",
     "text": [
      "[(15578876784678163569, 0, 2)]\n"
     ]
    }
   ],
   "source": [
    "found_matches = matcher(doc)\n",
    "print(found_matches)"
   ]
  },
  {
   "cell_type": "markdown",
   "id": "3dec4410",
   "metadata": {
    "papermill": {
     "duration": 0.044294,
     "end_time": "2023-07-14T13:33:17.576009",
     "exception": false,
     "start_time": "2023-07-14T13:33:17.531715",
     "status": "completed"
    },
    "tags": []
   },
   "source": [
    "## Other token attributes\n",
    "Besides lemmas, there are a variety of token attributes we can use to determine matching rules:\n",
    "<table><tr><th>Attribute</th><th>Description</th></tr>\n",
    "\n",
    "<tr ><td><span >`ORTH`</span></td><td>The exact verbatim text of a token</td></tr>\n",
    "<tr ><td><span >`LOWER`</span></td><td>The lowercase form of the token text</td></tr>\n",
    "<tr ><td><span >`LENGTH`</span></td><td>The length of the token text</td></tr>\n",
    "<tr ><td><span >`IS_ALPHA`, `IS_ASCII`, `IS_DIGIT`</span></td><td>Token text consists of alphanumeric characters, ASCII characters, digits</td></tr>\n",
    "<tr ><td><span >`IS_LOWER`, `IS_UPPER`, `IS_TITLE`</span></td><td>Token text is in lowercase, uppercase, titlecase</td></tr>\n",
    "<tr ><td><span >`IS_PUNCT`, `IS_SPACE`, `IS_STOP`</span></td><td>Token is punctuation, whitespace, stop word</td></tr>\n",
    "<tr ><td><span >`LIKE_NUM`, `LIKE_URL`, `LIKE_EMAIL`</span></td><td>Token text resembles a number, URL, email</td></tr>\n",
    "<tr ><td><span >`POS`, `TAG`, `DEP`, `LEMMA`, `SHAPE`</span></td><td>The token's simple and extended part-of-speech tag, dependency label, lemma, shape</td></tr>\n",
    "<tr ><td><span >`ENT_TYPE`</span></td><td>The token's entity label</td></tr>\n",
    "\n",
    "</table>"
   ]
  },
  {
   "cell_type": "code",
   "execution_count": 80,
   "id": "100bb09b",
   "metadata": {
    "execution": {
     "iopub.execute_input": "2023-07-14T13:33:17.668757Z",
     "iopub.status.busy": "2023-07-14T13:33:17.668301Z",
     "iopub.status.idle": "2023-07-14T13:33:17.674693Z",
     "shell.execute_reply": "2023-07-14T13:33:17.673541Z"
    },
    "papermill": {
     "duration": 0.056,
     "end_time": "2023-07-14T13:33:17.677682",
     "exception": false,
     "start_time": "2023-07-14T13:33:17.621682",
     "status": "completed"
    },
    "tags": []
   },
   "outputs": [
    {
     "name": "stdout",
     "output_type": "stream",
     "text": [
      "15578876784678163569 HelloWorld 0 2 hello world\n"
     ]
    }
   ],
   "source": [
    "for match_id, start, end in found_matches:\n",
    "    string_id = nlp.vocab.strings[match_id]  # get string representation\n",
    "    span = doc[start:end]                    # get the matched span\n",
    "    print(match_id, string_id, start, end, span.text)"
   ]
  },
  {
   "cell_type": "code",
   "execution_count": 81,
   "id": "bf52b194",
   "metadata": {
    "execution": {
     "iopub.execute_input": "2023-07-14T13:33:17.770459Z",
     "iopub.status.busy": "2023-07-14T13:33:17.770040Z",
     "iopub.status.idle": "2023-07-14T13:33:17.786124Z",
     "shell.execute_reply": "2023-07-14T13:33:17.784929Z"
    },
    "papermill": {
     "duration": 0.066118,
     "end_time": "2023-07-14T13:33:17.789067",
     "exception": false,
     "start_time": "2023-07-14T13:33:17.722949",
     "status": "completed"
    },
    "tags": []
   },
   "outputs": [],
   "source": [
    "doc2 = nlp(u'Solar-powered energy runs solar-powered cars.')"
   ]
  },
  {
   "cell_type": "markdown",
   "id": "b0bb0eca",
   "metadata": {
    "papermill": {
     "duration": 0.044994,
     "end_time": "2023-07-14T13:33:17.879242",
     "exception": false,
     "start_time": "2023-07-14T13:33:17.834248",
     "status": "completed"
    },
    "tags": []
   },
   "source": [
    "___\n",
    "## PhraseMatcher\n",
    "In the above section we used token patterns to perform rule-based matching. An alternative - and often more efficient - method is to match on terminology lists. In this case we use PhraseMatcher to create a Doc object from a list of phrases, and pass that into `matcher` instead."
   ]
  },
  {
   "cell_type": "code",
   "execution_count": 82,
   "id": "e2b0207d",
   "metadata": {
    "execution": {
     "iopub.execute_input": "2023-07-14T13:33:17.971282Z",
     "iopub.status.busy": "2023-07-14T13:33:17.970891Z",
     "iopub.status.idle": "2023-07-14T13:33:19.163798Z",
     "shell.execute_reply": "2023-07-14T13:33:19.162378Z"
    },
    "papermill": {
     "duration": 1.242261,
     "end_time": "2023-07-14T13:33:19.166748",
     "exception": false,
     "start_time": "2023-07-14T13:33:17.924487",
     "status": "completed"
    },
    "tags": []
   },
   "outputs": [],
   "source": [
    "# Perform standard imports, reset nlp\n",
    "import spacy\n",
    "nlp = spacy.load('en_core_web_sm')"
   ]
  },
  {
   "cell_type": "code",
   "execution_count": 83,
   "id": "879be4bb",
   "metadata": {
    "execution": {
     "iopub.execute_input": "2023-07-14T13:33:19.260971Z",
     "iopub.status.busy": "2023-07-14T13:33:19.259719Z",
     "iopub.status.idle": "2023-07-14T13:33:19.265459Z",
     "shell.execute_reply": "2023-07-14T13:33:19.264370Z"
    },
    "papermill": {
     "duration": 0.054942,
     "end_time": "2023-07-14T13:33:19.268235",
     "exception": false,
     "start_time": "2023-07-14T13:33:19.213293",
     "status": "completed"
    },
    "tags": []
   },
   "outputs": [],
   "source": [
    "# Import the PhraseMatcher library\n",
    "from spacy.matcher import PhraseMatcher\n",
    "matcher = PhraseMatcher(nlp.vocab)"
   ]
  },
  {
   "cell_type": "code",
   "execution_count": 84,
   "id": "d1aba235",
   "metadata": {
    "execution": {
     "iopub.execute_input": "2023-07-14T13:33:19.360978Z",
     "iopub.status.busy": "2023-07-14T13:33:19.359754Z",
     "iopub.status.idle": "2023-07-14T13:33:20.738214Z",
     "shell.execute_reply": "2023-07-14T13:33:20.736967Z"
    },
    "papermill": {
     "duration": 1.427878,
     "end_time": "2023-07-14T13:33:20.741389",
     "exception": false,
     "start_time": "2023-07-14T13:33:19.313511",
     "status": "completed"
    },
    "tags": []
   },
   "outputs": [],
   "source": [
    "with open('/kaggle/input/nlp-udemy-dataset/reaganomics.txt' , encoding='cp1252') as f:\n",
    "    doc3 = nlp(f.read())"
   ]
  },
  {
   "cell_type": "code",
   "execution_count": 85,
   "id": "d7edf829",
   "metadata": {
    "execution": {
     "iopub.execute_input": "2023-07-14T13:33:20.836884Z",
     "iopub.status.busy": "2023-07-14T13:33:20.836335Z",
     "iopub.status.idle": "2023-07-14T13:33:20.873051Z",
     "shell.execute_reply": "2023-07-14T13:33:20.871887Z"
    },
    "papermill": {
     "duration": 0.088369,
     "end_time": "2023-07-14T13:33:20.875561",
     "exception": false,
     "start_time": "2023-07-14T13:33:20.787192",
     "status": "completed"
    },
    "tags": []
   },
   "outputs": [],
   "source": [
    "# First, create a list of match phrases:\n",
    "phrase_list = ['voodoo economics', 'supply-side economics', 'trickle-down economics', 'free-market economics']\n",
    "\n",
    "# Next, convert each phrase to a Doc object:\n",
    "phrase_patterns = [nlp(text) for text in phrase_list]\n",
    "\n",
    "# Pass each Doc object into matcher (note the use of the asterisk!):\n",
    "matcher.add('VoodooEconomics', None, *phrase_patterns)\n",
    "\n",
    "# Build a list of matches:\n",
    "matches = matcher(doc3)"
   ]
  },
  {
   "cell_type": "code",
   "execution_count": 86,
   "id": "fcab59fe",
   "metadata": {
    "execution": {
     "iopub.execute_input": "2023-07-14T13:33:20.985507Z",
     "iopub.status.busy": "2023-07-14T13:33:20.984314Z",
     "iopub.status.idle": "2023-07-14T13:33:20.993053Z",
     "shell.execute_reply": "2023-07-14T13:33:20.991975Z"
    },
    "papermill": {
     "duration": 0.07365,
     "end_time": "2023-07-14T13:33:20.995706",
     "exception": false,
     "start_time": "2023-07-14T13:33:20.922056",
     "status": "completed"
    },
    "tags": []
   },
   "outputs": [
    {
     "data": {
      "text/plain": [
       "[(3473369816841043438, 41, 45),\n",
       " (3473369816841043438, 49, 53),\n",
       " (3473369816841043438, 54, 56),\n",
       " (3473369816841043438, 61, 65),\n",
       " (3473369816841043438, 673, 677),\n",
       " (3473369816841043438, 2987, 2991)]"
      ]
     },
     "execution_count": 86,
     "metadata": {},
     "output_type": "execute_result"
    }
   ],
   "source": [
    "# (match_id, start, end)\n",
    "matches"
   ]
  },
  {
   "cell_type": "code",
   "execution_count": 87,
   "id": "2c234a7e",
   "metadata": {
    "execution": {
     "iopub.execute_input": "2023-07-14T13:33:21.097756Z",
     "iopub.status.busy": "2023-07-14T13:33:21.096357Z",
     "iopub.status.idle": "2023-07-14T13:33:21.105007Z",
     "shell.execute_reply": "2023-07-14T13:33:21.103815Z"
    },
    "papermill": {
     "duration": 0.057447,
     "end_time": "2023-07-14T13:33:21.107308",
     "exception": false,
     "start_time": "2023-07-14T13:33:21.049861",
     "status": "completed"
    },
    "tags": []
   },
   "outputs": [
    {
     "data": {
      "text/plain": [
       "REAGANOMICS\n",
       "https://en.wikipedia.org/wiki/Reaganomics\n",
       "\n",
       "Reaganomics (a portmanteau of [Ronald] Reagan and economics attributed to Paul Harvey)[1] refers to the economic policies promoted by U.S. President Ronald Reagan during the 1980s. These policies are commonly associated with supply-side economics, referred to as trickle-down economics or voodoo economics by political opponents, and free-market economics by political advocates.\n"
      ]
     },
     "execution_count": 87,
     "metadata": {},
     "output_type": "execute_result"
    }
   ],
   "source": [
    "doc3[:70]"
   ]
  },
  {
   "cell_type": "code",
   "execution_count": 88,
   "id": "ad46458e",
   "metadata": {
    "execution": {
     "iopub.execute_input": "2023-07-14T13:33:21.202121Z",
     "iopub.status.busy": "2023-07-14T13:33:21.201031Z",
     "iopub.status.idle": "2023-07-14T13:33:21.208713Z",
     "shell.execute_reply": "2023-07-14T13:33:21.207679Z"
    },
    "papermill": {
     "duration": 0.056638,
     "end_time": "2023-07-14T13:33:21.211064",
     "exception": false,
     "start_time": "2023-07-14T13:33:21.154426",
     "status": "completed"
    },
    "tags": []
   },
   "outputs": [
    {
     "data": {
      "text/plain": [
       "same time he attracted a following from the supply-side economics movement, which formed in opposition to Keynesian"
      ]
     },
     "execution_count": 88,
     "metadata": {},
     "output_type": "execute_result"
    }
   ],
   "source": [
    "doc3[665:685]  # Note that the fifth match starts at doc3[673]"
   ]
  },
  {
   "cell_type": "code",
   "execution_count": 89,
   "id": "13c1d05f",
   "metadata": {
    "execution": {
     "iopub.execute_input": "2023-07-14T13:33:21.304425Z",
     "iopub.status.busy": "2023-07-14T13:33:21.303589Z",
     "iopub.status.idle": "2023-07-14T13:33:21.311953Z",
     "shell.execute_reply": "2023-07-14T13:33:21.310675Z"
    },
    "papermill": {
     "duration": 0.057738,
     "end_time": "2023-07-14T13:33:21.314376",
     "exception": false,
     "start_time": "2023-07-14T13:33:21.256638",
     "status": "completed"
    },
    "tags": []
   },
   "outputs": [
    {
     "data": {
      "text/plain": [
       ") lawsuits against institutions.[66] His policies became widely known as \"trickle-down economics\", due to"
      ]
     },
     "execution_count": 89,
     "metadata": {},
     "output_type": "execute_result"
    }
   ],
   "source": [
    "doc3[2975:2995]  # The sixth match starts at doc3[2985]"
   ]
  },
  {
   "cell_type": "code",
   "execution_count": 90,
   "id": "6f999246",
   "metadata": {
    "execution": {
     "iopub.execute_input": "2023-07-14T13:33:21.407068Z",
     "iopub.status.busy": "2023-07-14T13:33:21.406607Z",
     "iopub.status.idle": "2023-07-14T13:33:21.413935Z",
     "shell.execute_reply": "2023-07-14T13:33:21.412329Z"
    },
    "papermill": {
     "duration": 0.056554,
     "end_time": "2023-07-14T13:33:21.416278",
     "exception": false,
     "start_time": "2023-07-14T13:33:21.359724",
     "status": "completed"
    },
    "tags": []
   },
   "outputs": [
    {
     "name": "stdout",
     "output_type": "stream",
     "text": [
      "0 35\n"
     ]
    }
   ],
   "source": [
    "# Build a list of sentences\n",
    "sents = [sent for sent in doc3.sents]\n",
    "\n",
    "# In the next section we'll see that sentences contain start and end token values:\n",
    "print(sents[0].start, sents[0].end)"
   ]
  },
  {
   "cell_type": "code",
   "execution_count": 91,
   "id": "782f5f49",
   "metadata": {
    "execution": {
     "iopub.execute_input": "2023-07-14T13:33:21.510066Z",
     "iopub.status.busy": "2023-07-14T13:33:21.509416Z",
     "iopub.status.idle": "2023-07-14T13:33:21.516396Z",
     "shell.execute_reply": "2023-07-14T13:33:21.514858Z"
    },
    "papermill": {
     "duration": 0.056646,
     "end_time": "2023-07-14T13:33:21.518991",
     "exception": false,
     "start_time": "2023-07-14T13:33:21.462345",
     "status": "completed"
    },
    "tags": []
   },
   "outputs": [
    {
     "name": "stdout",
     "output_type": "stream",
     "text": [
      "At the same time he attracted a following from the supply-side economics movement, which formed in opposition to Keynesian demand-stimulus economics.\n"
     ]
    }
   ],
   "source": [
    "# Iterate over the sentence list until the sentence end value exceeds a match start value:\n",
    "for sent in sents:\n",
    "    if matches[4][1] < sent.end:  # this is the fifth match, that starts at doc3[673]\n",
    "        print(sent)\n",
    "        break"
   ]
  },
  {
   "cell_type": "markdown",
   "id": "c5d0aed2",
   "metadata": {
    "papermill": {
     "duration": 0.045751,
     "end_time": "2023-07-14T13:33:21.610401",
     "exception": false,
     "start_time": "2023-07-14T13:33:21.564650",
     "status": "completed"
    },
    "tags": []
   },
   "source": [
    "# NLP Basics Assessment"
   ]
  },
  {
   "cell_type": "code",
   "execution_count": 92,
   "id": "ae957cce",
   "metadata": {
    "execution": {
     "iopub.execute_input": "2023-07-14T13:33:21.703122Z",
     "iopub.status.busy": "2023-07-14T13:33:21.702736Z",
     "iopub.status.idle": "2023-07-14T13:33:22.877885Z",
     "shell.execute_reply": "2023-07-14T13:33:22.876441Z"
    },
    "papermill": {
     "duration": 1.224928,
     "end_time": "2023-07-14T13:33:22.880806",
     "exception": false,
     "start_time": "2023-07-14T13:33:21.655878",
     "status": "completed"
    },
    "tags": []
   },
   "outputs": [],
   "source": [
    "# RUN THIS CELL to perform standard imports:\n",
    "import spacy\n",
    "nlp = spacy.load('en_core_web_sm')"
   ]
  },
  {
   "cell_type": "code",
   "execution_count": 93,
   "id": "b7f8d796",
   "metadata": {
    "execution": {
     "iopub.execute_input": "2023-07-14T13:33:22.975648Z",
     "iopub.status.busy": "2023-07-14T13:33:22.974716Z",
     "iopub.status.idle": "2023-07-14T13:33:24.045789Z",
     "shell.execute_reply": "2023-07-14T13:33:24.044463Z"
    },
    "papermill": {
     "duration": 1.12199,
     "end_time": "2023-07-14T13:33:24.049083",
     "exception": false,
     "start_time": "2023-07-14T13:33:22.927093",
     "status": "completed"
    },
    "tags": []
   },
   "outputs": [],
   "source": [
    "# Enter your code here:\n",
    "\n",
    "with open('/kaggle/input/pwlcreek/owlcreek.txt') as f:\n",
    "    doc = nlp(f.read())"
   ]
  },
  {
   "cell_type": "code",
   "execution_count": 94,
   "id": "4b4ef4ac",
   "metadata": {
    "execution": {
     "iopub.execute_input": "2023-07-14T13:33:24.144093Z",
     "iopub.status.busy": "2023-07-14T13:33:24.143692Z",
     "iopub.status.idle": "2023-07-14T13:33:24.151929Z",
     "shell.execute_reply": "2023-07-14T13:33:24.150602Z"
    },
    "papermill": {
     "duration": 0.058302,
     "end_time": "2023-07-14T13:33:24.154395",
     "exception": false,
     "start_time": "2023-07-14T13:33:24.096093",
     "status": "completed"
    },
    "tags": []
   },
   "outputs": [
    {
     "data": {
      "text/plain": [
       "AN OCCURRENCE AT OWL CREEK BRIDGE\n",
       "\n",
       "by Ambrose Bierce\n",
       "\n",
       "I\n",
       "\n",
       "A man stood upon a railroad bridge in northern Alabama, looking down\n",
       "into the swift water twenty feet below.  "
      ]
     },
     "execution_count": 94,
     "metadata": {},
     "output_type": "execute_result"
    }
   ],
   "source": [
    "# Run this cell to verify it worked:\n",
    "\n",
    "doc[:36]"
   ]
  },
  {
   "cell_type": "code",
   "execution_count": 95,
   "id": "82a24410",
   "metadata": {
    "execution": {
     "iopub.execute_input": "2023-07-14T13:33:24.254544Z",
     "iopub.status.busy": "2023-07-14T13:33:24.253786Z",
     "iopub.status.idle": "2023-07-14T13:33:24.260732Z",
     "shell.execute_reply": "2023-07-14T13:33:24.259120Z"
    },
    "papermill": {
     "duration": 0.060365,
     "end_time": "2023-07-14T13:33:24.263406",
     "exception": false,
     "start_time": "2023-07-14T13:33:24.203041",
     "status": "completed"
    },
    "tags": []
   },
   "outputs": [
    {
     "data": {
      "text/plain": [
       "4835"
      ]
     },
     "execution_count": 95,
     "metadata": {},
     "output_type": "execute_result"
    }
   ],
   "source": [
    "len(doc)"
   ]
  },
  {
   "cell_type": "code",
   "execution_count": 96,
   "id": "5acc4ddf",
   "metadata": {
    "execution": {
     "iopub.execute_input": "2023-07-14T13:33:24.358185Z",
     "iopub.status.busy": "2023-07-14T13:33:24.357719Z",
     "iopub.status.idle": "2023-07-14T13:33:24.365542Z",
     "shell.execute_reply": "2023-07-14T13:33:24.364410Z"
    },
    "papermill": {
     "duration": 0.057897,
     "end_time": "2023-07-14T13:33:24.368132",
     "exception": false,
     "start_time": "2023-07-14T13:33:24.310235",
     "status": "completed"
    },
    "tags": []
   },
   "outputs": [
    {
     "data": {
      "text/plain": [
       "204"
      ]
     },
     "execution_count": 96,
     "metadata": {},
     "output_type": "execute_result"
    }
   ],
   "source": [
    "sents = [sent for sent in doc.sents]\n",
    "len(sents)"
   ]
  },
  {
   "cell_type": "code",
   "execution_count": 97,
   "id": "f71ac40c",
   "metadata": {
    "execution": {
     "iopub.execute_input": "2023-07-14T13:33:24.462883Z",
     "iopub.status.busy": "2023-07-14T13:33:24.462487Z",
     "iopub.status.idle": "2023-07-14T13:33:24.468874Z",
     "shell.execute_reply": "2023-07-14T13:33:24.467559Z"
    },
    "papermill": {
     "duration": 0.057278,
     "end_time": "2023-07-14T13:33:24.472035",
     "exception": false,
     "start_time": "2023-07-14T13:33:24.414757",
     "status": "completed"
    },
    "tags": []
   },
   "outputs": [
    {
     "name": "stdout",
     "output_type": "stream",
     "text": [
      "The man's hands were behind\n",
      "his back, the wrists bound with a cord.  \n"
     ]
    }
   ],
   "source": [
    "print(sents[1].text)"
   ]
  },
  {
   "cell_type": "code",
   "execution_count": 98,
   "id": "56452411",
   "metadata": {
    "execution": {
     "iopub.execute_input": "2023-07-14T13:33:24.567448Z",
     "iopub.status.busy": "2023-07-14T13:33:24.566179Z",
     "iopub.status.idle": "2023-07-14T13:33:24.573815Z",
     "shell.execute_reply": "2023-07-14T13:33:24.572394Z"
    },
    "papermill": {
     "duration": 0.058108,
     "end_time": "2023-07-14T13:33:24.576623",
     "exception": false,
     "start_time": "2023-07-14T13:33:24.518515",
     "status": "completed"
    },
    "tags": []
   },
   "outputs": [
    {
     "name": "stdout",
     "output_type": "stream",
     "text": [
      "The DET det the\n",
      "man NOUN poss man\n",
      "'s PART case 's\n",
      "hands NOUN nsubj hand\n",
      "were AUX ROOT be\n",
      "behind ADP prep behind\n",
      "\n",
      " SPACE dep \n",
      "\n",
      "his PRON poss his\n",
      "back NOUN pobj back\n",
      ", PUNCT punct ,\n",
      "the DET det the\n",
      "wrists NOUN appos wrist\n",
      "bound VERB acl bind\n",
      "with ADP prep with\n",
      "a DET det a\n",
      "cord NOUN pobj cord\n",
      ". PUNCT punct .\n",
      "  SPACE dep  \n"
     ]
    }
   ],
   "source": [
    "# NORMAL SOLUTION:\n",
    "for token in sents[1]:\n",
    "    print(token.text, token.pos_, token.dep_, token.lemma_)"
   ]
  },
  {
   "cell_type": "code",
   "execution_count": 99,
   "id": "1d0ce315",
   "metadata": {
    "execution": {
     "iopub.execute_input": "2023-07-14T13:33:24.671199Z",
     "iopub.status.busy": "2023-07-14T13:33:24.670766Z",
     "iopub.status.idle": "2023-07-14T13:33:24.677925Z",
     "shell.execute_reply": "2023-07-14T13:33:24.676151Z"
    },
    "papermill": {
     "duration": 0.057246,
     "end_time": "2023-07-14T13:33:24.680281",
     "exception": false,
     "start_time": "2023-07-14T13:33:24.623035",
     "status": "completed"
    },
    "tags": []
   },
   "outputs": [
    {
     "name": "stdout",
     "output_type": "stream",
     "text": [
      "The             DET   det        the            \n",
      "man             NOUN  poss       man            \n",
      "'s              PART  case       's             \n",
      "hands           NOUN  nsubj      hand           \n",
      "were            AUX   ROOT       be             \n",
      "behind          ADP   prep       behind         \n",
      "\n",
      "               SPACE dep        \n",
      "              \n",
      "his             PRON  poss       his            \n",
      "back            NOUN  pobj       back           \n",
      ",               PUNCT punct      ,              \n",
      "the             DET   det        the            \n",
      "wrists          NOUN  appos      wrist          \n",
      "bound           VERB  acl        bind           \n",
      "with            ADP   prep       with           \n",
      "a               DET   det        a              \n",
      "cord            NOUN  pobj       cord           \n",
      ".               PUNCT punct      .              \n",
      "                SPACE dep                       \n"
     ]
    }
   ],
   "source": [
    "# CHALLENGE SOLUTION:\n",
    "for token in sents[1]:\n",
    "    print(f'{token.text:{15}} {token.pos_:{5}} {token.dep_:{10}} {token.lemma_:{15}}')"
   ]
  },
  {
   "cell_type": "code",
   "execution_count": 100,
   "id": "dd68a157",
   "metadata": {
    "execution": {
     "iopub.execute_input": "2023-07-14T13:33:24.777298Z",
     "iopub.status.busy": "2023-07-14T13:33:24.776914Z",
     "iopub.status.idle": "2023-07-14T13:33:24.783379Z",
     "shell.execute_reply": "2023-07-14T13:33:24.782007Z"
    },
    "papermill": {
     "duration": 0.058251,
     "end_time": "2023-07-14T13:33:24.786125",
     "exception": false,
     "start_time": "2023-07-14T13:33:24.727874",
     "status": "completed"
    },
    "tags": []
   },
   "outputs": [
    {
     "name": "stdout",
     "output_type": "stream",
     "text": [
      "The             DET   det        the            \n",
      "man             NOUN  poss       man            \n",
      "'s              PART  case       's             \n",
      "hands           NOUN  nsubj      hand           \n",
      "were            AUX   ROOT       be             \n",
      "behind          ADP   prep       behind         \n",
      "\n",
      "               SPACE dep        \n",
      "              \n",
      "his             PRON  poss       his            \n",
      "back            NOUN  pobj       back           \n",
      ",               PUNCT punct      ,              \n",
      "the             DET   det        the            \n",
      "wrists          NOUN  appos      wrist          \n",
      "bound           VERB  acl        bind           \n",
      "with            ADP   prep       with           \n",
      "a               DET   det        a              \n",
      "cord            NOUN  pobj       cord           \n",
      ".               PUNCT punct      .              \n",
      "                SPACE dep                       \n"
     ]
    }
   ],
   "source": [
    "# CHALLENGE SOLUTION:\n",
    "for token in sents[1]:\n",
    "    print(f'{token.text:{15}} {token.pos_:{5}} {token.dep_:{10}} {token.lemma_:{15}}')"
   ]
  },
  {
   "cell_type": "code",
   "execution_count": 101,
   "id": "991f7efc",
   "metadata": {
    "execution": {
     "iopub.execute_input": "2023-07-14T13:33:24.882838Z",
     "iopub.status.busy": "2023-07-14T13:33:24.882432Z",
     "iopub.status.idle": "2023-07-14T13:33:24.887804Z",
     "shell.execute_reply": "2023-07-14T13:33:24.886919Z"
    },
    "papermill": {
     "duration": 0.056829,
     "end_time": "2023-07-14T13:33:24.890239",
     "exception": false,
     "start_time": "2023-07-14T13:33:24.833410",
     "status": "completed"
    },
    "tags": []
   },
   "outputs": [
    {
     "name": "stdout",
     "output_type": "stream",
     "text": [
      "The man's hands were behind\n",
      "his back, the wrists bound with a cord.  \n"
     ]
    }
   ],
   "source": [
    "print(sents[1].text)"
   ]
  },
  {
   "cell_type": "code",
   "execution_count": null,
   "id": "81fc6648",
   "metadata": {
    "papermill": {
     "duration": 0.0469,
     "end_time": "2023-07-14T13:33:24.985032",
     "exception": false,
     "start_time": "2023-07-14T13:33:24.938132",
     "status": "completed"
    },
    "tags": []
   },
   "outputs": [],
   "source": []
  }
 ],
 "metadata": {
  "kernelspec": {
   "display_name": "Python 3",
   "language": "python",
   "name": "python3"
  },
  "language_info": {
   "codemirror_mode": {
    "name": "ipython",
    "version": 3
   },
   "file_extension": ".py",
   "mimetype": "text/x-python",
   "name": "python",
   "nbconvert_exporter": "python",
   "pygments_lexer": "ipython3",
   "version": "3.10.12"
  },
  "papermill": {
   "default_parameters": {},
   "duration": 75.996521,
   "end_time": "2023-07-14T13:33:28.038617",
   "environment_variables": {},
   "exception": null,
   "input_path": "__notebook__.ipynb",
   "output_path": "__notebook__.ipynb",
   "parameters": {},
   "start_time": "2023-07-14T13:32:12.042096",
   "version": "2.4.0"
  }
 },
 "nbformat": 4,
 "nbformat_minor": 5
}
