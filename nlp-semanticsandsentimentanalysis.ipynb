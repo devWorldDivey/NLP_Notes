{
 "cells": [
  {
   "cell_type": "markdown",
   "id": "2defb678",
   "metadata": {
    "papermill": {
     "duration": 0.013226,
     "end_time": "2023-07-16T17:56:31.964240",
     "exception": false,
     "start_time": "2023-07-16T17:56:31.951014",
     "status": "completed"
    },
    "tags": []
   },
   "source": [
    "# Semantics and Word Vectors\n",
    "Sometimes called \"opinion mining\", [Wikipedia](https://en.wikipedia.org/wiki/Sentiment_analysis) defines ***sentiment analysis*** as\n",
    "<div class=\"alert alert-info\" style=\"margin: 20px\">\"the use of natural language processing ... to systematically identify, extract, quantify, and study affective states and subjective information.<br>\n",
    "Generally speaking, sentiment analysis aims to determine the attitude of a speaker, writer, or other subject with respect to some topic or the overall contextual polarity or emotional reaction to a document, interaction, or event.\"</div>\n",
    "\n",
    "Up to now we've used the occurrence of specific words and word patterns to perform test classifications. In this section we'll take machine learning even further, and try to extract intended meanings from complex phrases. Some simple examples include:\n",
    "* Python is relatively easy to learn.\n",
    "* That was the worst movie I've ever seen.\n",
    "\n",
    "However, things get harder with phrases like:\n",
    "* I do not dislike green eggs and ham. (requires negation handling)\n",
    "\n",
    "The way this is done is through complex machine learning algorithms like [word2vec](https://en.wikipedia.org/wiki/Word2vec). The idea is to create numerical arrays, or *word embeddings* for every word in a large corpus. Each word is assigned its own vector in such a way that words that frequently appear together in the same context are given vectors that are close together. The result is a model that may not know that a \"lion\" is an animal, but does know that \"lion\" is closer in context to \"cat\" than \"dandelion\".\n",
    "\n",
    "It is important to note that *building* useful models takes a long time - hours or days to train a large corpus - and that for our purposes it is best to import an existing model rather than take the time to train our own.\n"
   ]
  },
  {
   "cell_type": "markdown",
   "id": "7eef5832",
   "metadata": {
    "papermill": {
     "duration": 0.012733,
     "end_time": "2023-07-16T17:56:31.990765",
     "exception": false,
     "start_time": "2023-07-16T17:56:31.978032",
     "status": "completed"
    },
    "tags": []
   },
   "source": [
    "___\n",
    "# Installing Larger spaCy Models\n",
    "Up to now we've been using spaCy's smallest English language model, [**en_core_web_sm**](https://spacy.io/models/en#en_core_web_sm) (35MB), which provides vocabulary, syntax, and entities, but not vectors. To take advantage of built-in word vectors we'll need a larger library. We have a few options:\n",
    "> [**en_core_web_md**](https://spacy.io/models/en#en_core_web_md) (116MB) Vectors: 685k keys, 20k unique vectors (300 dimensions)\n",
    "> <br>or<br>\n",
    "> [**en_core_web_lg**](https://spacy.io/models/en#en_core_web_lg) (812MB) Vectors: 685k keys, 685k unique vectors (300 dimensions)\n",
    "\n",
    "If you plan to rely heavily on word vectors, consider using spaCy's largest vector library containing over one million unique vectors:\n",
    "> [**en_vectors_web_lg**](https://spacy.io/models/en#en_vectors_web_lg) (631MB) Vectors: 1.1m keys, 1.1m unique vectors (300 dimensions)\n",
    "\n",
    "For our purposes **en_core_web_md** should suffice.\n",
    "\n",
    "### From the command line (you must run this as admin or use sudo):\n",
    "\n",
    "> `activate spacyenv`&emsp;*if using a virtual environment*   \n",
    "> \n",
    "> `python -m spacy download en_core_web_md`  \n",
    "> `python -m spacy download en_core_web_lg`&emsp;&emsp;&ensp;*optional library*  \n",
    "> `python -m spacy download en_vectors_web_lg`&emsp;*optional library*  \n",
    "\n",
    "> ### If successful, you should see a message like: \n",
    "> <tt><br>\n",
    "> **Linking successful**<br>\n",
    "> C:\\Anaconda3\\envs\\spacyenv\\lib\\site-packages\\en_core_web_md --><br>\n",
    "> C:\\Anaconda3\\envs\\spacyenv\\lib\\site-packages\\spacy\\data\\en_core_web_md<br>\n",
    "> <br>\n",
    "> You can now load the model via spacy.load('en_core_web_md')</tt>\n",
    "\n",
    "<font color=green>Of course, we have a third option, and that is to train our own vectors from a large corpus of documents. Unfortunately this would take a prohibitively large amount of time and processing power.</font> "
   ]
  },
  {
   "cell_type": "markdown",
   "id": "5f5aab19",
   "metadata": {
    "papermill": {
     "duration": 0.012241,
     "end_time": "2023-07-16T17:56:32.016065",
     "exception": false,
     "start_time": "2023-07-16T17:56:32.003824",
     "status": "completed"
    },
    "tags": []
   },
   "source": [
    "___\n",
    "# Word Vectors\n",
    "Word vectors - also called *word embeddings* - are mathematical descriptions of individual words such that words that appear frequently together in the language will have similar values. In this way we can mathematically derive *context*. As mentioned above, the word vector for \"lion\" will be closer in value to \"cat\" than to \"dandelion\"."
   ]
  },
  {
   "cell_type": "markdown",
   "id": "bcdab0b3",
   "metadata": {
    "papermill": {
     "duration": 0.012579,
     "end_time": "2023-07-16T17:56:32.041592",
     "exception": false,
     "start_time": "2023-07-16T17:56:32.029013",
     "status": "completed"
    },
    "tags": []
   },
   "source": [
    "## Vector values\n",
    "So what does a word vector look like? Since spaCy employs 300 dimensions, word vectors are stored as 300-item arrays.\n",
    "\n",
    "Note that we would see the same set of values with **en_core_web_md** and **en_core_web_lg**, as both were trained using the [word2vec](https://en.wikipedia.org/wiki/Word2vec) family of algorithms."
   ]
  },
  {
   "cell_type": "code",
   "execution_count": 1,
   "id": "87c8b2ea",
   "metadata": {
    "execution": {
     "iopub.execute_input": "2023-07-16T17:56:32.068410Z",
     "iopub.status.busy": "2023-07-16T17:56:32.068053Z",
     "iopub.status.idle": "2023-07-16T17:56:32.076469Z",
     "shell.execute_reply": "2023-07-16T17:56:32.075753Z"
    },
    "papermill": {
     "duration": 0.024165,
     "end_time": "2023-07-16T17:56:32.078463",
     "exception": false,
     "start_time": "2023-07-16T17:56:32.054298",
     "status": "completed"
    },
    "tags": []
   },
   "outputs": [],
   "source": [
    "import warnings\n",
    "warnings.filterwarnings('ignore')"
   ]
  },
  {
   "cell_type": "code",
   "execution_count": 2,
   "id": "f0a9be29",
   "metadata": {
    "execution": {
     "iopub.execute_input": "2023-07-16T17:56:32.106409Z",
     "iopub.status.busy": "2023-07-16T17:56:32.105517Z",
     "iopub.status.idle": "2023-07-16T17:56:50.334502Z",
     "shell.execute_reply": "2023-07-16T17:56:50.333460Z"
    },
    "papermill": {
     "duration": 18.245216,
     "end_time": "2023-07-16T17:56:50.336866",
     "exception": false,
     "start_time": "2023-07-16T17:56:32.091650",
     "status": "completed"
    },
    "tags": []
   },
   "outputs": [],
   "source": [
    "# Import spaCy and load the language library\n",
    "import spacy\n",
    "nlp = spacy.load('en_core_web_lg')  # make sure to use a larger model!"
   ]
  },
  {
   "cell_type": "code",
   "execution_count": 3,
   "id": "5bc92483",
   "metadata": {
    "execution": {
     "iopub.execute_input": "2023-07-16T17:56:50.365743Z",
     "iopub.status.busy": "2023-07-16T17:56:50.364792Z",
     "iopub.status.idle": "2023-07-16T17:56:50.398508Z",
     "shell.execute_reply": "2023-07-16T17:56:50.397711Z"
    },
    "papermill": {
     "duration": 0.050207,
     "end_time": "2023-07-16T17:56:50.400429",
     "exception": false,
     "start_time": "2023-07-16T17:56:50.350222",
     "status": "completed"
    },
    "tags": []
   },
   "outputs": [
    {
     "data": {
      "text/plain": [
       "array([  1.2746  ,   0.46242 ,  -1.1829  ,  -5.2661  ,  -2.7128  ,\n",
       "         1.8521  ,  -0.94273 ,   2.1865  ,   6.503   ,   0.6704  ,\n",
       "         1.5361  ,   2.5992  ,  -0.36233 ,   4.3965  ,  -6.5644  ,\n",
       "         1.6141  ,  -1.2897  ,   2.1184  ,  -0.63654 ,  -3.4572  ,\n",
       "        -4.3771  ,   4.2074  ,  -3.6411  ,  -0.97214 ,   1.3253  ,\n",
       "        -2.3125  ,  -3.6531  ,  -2.8398  ,   2.7913  ,  -1.53    ,\n",
       "        -2.9984  ,  -2.6357  ,   0.50615 ,  -2.6925  ,   4.3401  ,\n",
       "        -5.6017  ,   0.045691,   4.3832  ,  -0.19535 ,  -1.0751  ,\n",
       "         0.32172 ,   2.4395  ,   4.6638  ,   3.4471  ,  -3.3847  ,\n",
       "        -1.8238  ,   0.70212 ,   0.58557 ,   5.0032  ,  -3.1072  ,\n",
       "         1.2364  ,   7.4595  ,   0.057368,   1.0111  ,  -1.0827  ,\n",
       "         0.69113 ,   2.8009  ,  -3.4383  ,  -1.0599  ,  -2.2627  ,\n",
       "        -5.149   ,  -5.0636  ,   3.1405  ,   1.0793  ,  -0.72892 ,\n",
       "        -3.9939  ,  -0.69551 ,  -0.55767 ,   3.2555  ,  -2.9449  ,\n",
       "         4.7114  ,   1.6388  ,   1.3828  ,   1.4255  ,  -3.2334  ,\n",
       "        -2.274   ,  -1.8136  ,   2.2966  ,   2.5462  ,   1.0722  ,\n",
       "        -0.73447 ,   1.2148  ,  -0.9196  ,  -0.065012,   2.088   ,\n",
       "         0.57002 ,   3.5746  ,   1.7192  ,  -8.335   ,   0.71079 ,\n",
       "         0.91314 ,  -5.0107  ,   1.899   ,  -4.4658  ,   4.7993  ,\n",
       "        -0.39899 ,  -2.673   ,  -2.9354  ,   4.304   ,   1.4336  ,\n",
       "         3.7121  ,   0.34882 ,   4.6512  ,  -4.5731  ,  -4.5665  ,\n",
       "         1.5988  ,  -0.50383 ,   0.95857 ,   0.68728 ,  -0.39976 ,\n",
       "        -3.1922  ,   4.4363  ,  -0.69479 ,  -1.9528  ,   4.9376  ,\n",
       "         2.7259  ,   2.2485  ,   5.5734  ,   2.5842  ,   4.7836  ,\n",
       "        -1.0274  ,   2.2703  ,  -2.0696  ,  -1.0642  ,  -4.932   ,\n",
       "        -2.274   ,   4.1409  ,   0.73313 ,   2.1889  ,  -0.098888,\n",
       "         1.6472  ,  -2.3985  ,   2.5911  ,   3.6026  ,   1.885   ,\n",
       "         5.7822  ,  -1.4481  ,   1.8914  , -10.044   ,  -5.7452  ,\n",
       "        -4.3224  ,  -3.854   ,   2.3084  ,  -0.84018 ,  -0.40526 ,\n",
       "         4.7741  ,  -2.3271  ,   7.064   ,   0.95753 ,  -2.356   ,\n",
       "         0.83953 ,   0.40004 ,   0.33743 ,   0.8376  ,   3.9285  ,\n",
       "         0.05955 ,   2.4422  ,   4.3492  ,   3.9861  ,   2.1043  ,\n",
       "        -1.0197  ,  -0.61752 ,  -0.42999 ,  -0.1014  ,  -5.9571  ,\n",
       "        -0.53818 ,  -1.7797  ,   1.7446  ,   2.3934  ,  -0.50263 ,\n",
       "        -1.6222  ,  -0.37372 ,  -6.8938  ,   0.55018 ,  -2.267   ,\n",
       "         0.64912 ,   3.1525  ,  -2.2541  ,  -4.0384  ,   3.206   ,\n",
       "         0.14962 ,  -2.6662  ,   0.18167 ,   5.0028  ,   2.1521  ,\n",
       "         0.92419 ,   5.4163  ,  -2.2408  ,   1.6585  ,  -5.1625  ,\n",
       "         5.029   ,   0.1026  ,  -0.44542 ,   2.0557  ,   3.7778  ,\n",
       "         3.8679  ,  -2.7135  ,   5.3242  ,  -3.2916  ,   5.6421  ,\n",
       "         5.0466  ,   1.6072  ,  -1.3206  ,   4.2044  ,  -0.33793 ,\n",
       "        -3.1139  ,   2.8841  ,  -3.1565  ,  -2.9832  ,  -0.23235 ,\n",
       "         2.3259  ,   3.5477  ,  -2.1299  ,  -1.8344  ,   2.7271  ,\n",
       "         1.5568  ,   5.6865  ,   0.9412  ,  -2.6412  ,  -5.3254  ,\n",
       "         1.3494  ,  -0.47159 ,   2.4979  ,  -1.5568  ,  -1.6911  ,\n",
       "        -2.1842  ,   6.0319  ,   0.022573,   2.3824  ,  -1.1002  ,\n",
       "         0.90216 ,  -1.9113  ,   1.5527  ,   5.7413  ,  -3.1956  ,\n",
       "         0.68655 ,  -1.6068  ,   1.7404  ,  -3.2142  ,   6.4783  ,\n",
       "         1.7548  ,  -2.9795  ,   0.97631 ,  -0.018354,  -0.6379  ,\n",
       "         0.80559 ,   3.1923  ,   3.3335  ,   4.3068  ,  -1.0819  ,\n",
       "        -1.3839  ,  -4.7626  ,  -4.6637  ,  -1.2201  ,  -3.2741  ,\n",
       "         1.5204  ,   0.78119 ,   8.7339  ,   1.6009  ,  -0.79332 ,\n",
       "         5.8416  ,  -1.485   ,   1.5978  ,   2.9746  ,  -0.30759 ,\n",
       "        -1.8023  ,  -4.8344  ,   1.2817  ,  -2.5469  ,   2.6517  ,\n",
       "         1.4881  ,   2.1952  ,  -0.12652 ,   1.2223  ,   0.44763 ,\n",
       "        -3.1445  ,  -2.2051  ,  -4.1785  ,  -3.6539  ,   5.1929  ,\n",
       "         0.78457 ,  -1.2312  ,   5.5624  ,  -1.8462  ,   6.1262  ,\n",
       "        -1.6653  ,  -2.7557  ,  -0.066465,  -3.6362  ,   5.2005  ,\n",
       "        -1.2865  ,   2.8855  ,   6.1219  ,   1.7824  ,   1.4264  ,\n",
       "        10.628   ,  -0.36028 ,   1.9268  ,  -7.835   ,   0.57865 ],\n",
       "      dtype=float32)"
      ]
     },
     "execution_count": 3,
     "metadata": {},
     "output_type": "execute_result"
    }
   ],
   "source": [
    "nlp(u'lion').vector"
   ]
  },
  {
   "cell_type": "code",
   "execution_count": 4,
   "id": "0ac952ac",
   "metadata": {
    "execution": {
     "iopub.execute_input": "2023-07-16T17:56:50.427907Z",
     "iopub.status.busy": "2023-07-16T17:56:50.427367Z",
     "iopub.status.idle": "2023-07-16T17:56:50.441844Z",
     "shell.execute_reply": "2023-07-16T17:56:50.440956Z"
    },
    "papermill": {
     "duration": 0.030306,
     "end_time": "2023-07-16T17:56:50.443544",
     "exception": false,
     "start_time": "2023-07-16T17:56:50.413238",
     "status": "completed"
    },
    "tags": []
   },
   "outputs": [
    {
     "data": {
      "text/plain": [
       "array([-1.7769655 ,  0.39714497, -1.695121  , -0.1089559 ,  3.861494  ,\n",
       "       -0.10778303, -0.02750097,  3.191314  ,  1.0857747 , -0.2615487 ,\n",
       "        4.0720797 ,  1.5932049 , -2.7569218 ,  0.70982707,  2.0976841 ,\n",
       "        0.08150103,  0.8847861 , -0.505237  ,  0.767067  , -2.88911   ,\n",
       "       -0.28514975, -0.331664  ,  0.306348  , -2.25347   ,  0.96798134,\n",
       "       -0.030282  , -3.765162  , -2.168157  ,  1.3985709 ,  2.175709  ,\n",
       "       -0.81103534, -0.55156004, -1.033463  , -2.3130198 , -2.892054  ,\n",
       "       -2.843568  , -0.33247897,  1.620013  ,  3.03307   , -0.42730814,\n",
       "        1.298548  ,  0.18969259,  1.234282  , -0.14263602, -1.427765  ,\n",
       "       -0.05807757,  0.33836406, -1.6987331 , -2.13661   ,  0.10412004,\n",
       "        0.62479395,  3.9712129 , -0.31110606, -1.9676571 , -0.11860895,\n",
       "        0.55582994, -0.660888  ,  1.947435  ,  1.6391805 ,  0.6569032 ,\n",
       "        0.054408  , -2.08993   ,  1.0370519 ,  0.5363236 ,  0.00807395,\n",
       "       -0.91060096, -3.3870788 , -1.4823462 ,  1.4170542 ,  0.32670596,\n",
       "        0.602952  , -1.047483  , -0.3633799 , -0.09132097,  0.722465  ,\n",
       "       -0.74786097, -1.8563267 ,  0.827946  , -0.99609107, -0.3298212 ,\n",
       "       -3.472247  , -0.94788504, -0.46503416,  0.6626488 ,  2.5601602 ,\n",
       "       -1.2395241 ,  0.61391175, -0.61511296, -1.459838  ,  0.14399411,\n",
       "       -1.1767578 , -0.10416207,  1.6930513 , -1.6688293 ,  0.26341552,\n",
       "       -0.84874   ,  1.5149789 ,  0.03238799,  1.768853  ,  0.42900094,\n",
       "        1.43253   , -0.53126115,  2.916109  ,  1.7515122 ,  0.62033385,\n",
       "        1.7113819 , -1.5602219 ,  1.0098228 , -1.277114  , -0.816329  ,\n",
       "       -0.28804332,  0.0696778 , -1.0609343 ,  0.960142  ,  1.765322  ,\n",
       "       -0.18756203,  0.75897396, -0.64144975,  1.7536061 ,  0.10283799,\n",
       "       -0.31856102, -1.091177  , -1.6496038 ,  1.657584  , -1.5179831 ,\n",
       "       -1.886636  ,  1.6479073 , -1.196546  ,  3.3722177 , -0.22696403,\n",
       "       -3.203148  , -1.708502  ,  2.9725442 , -0.320748  ,  0.466757  ,\n",
       "        1.6034908 , -1.6832211 , -2.80418   ,  1.4318919 , -1.0059    ,\n",
       "       -2.9437232 , -1.430186  , -1.3512889 , -0.09892895, -0.38347203,\n",
       "        1.071111  , -1.02584   ,  0.30393195,  1.5452302 ,  0.28571904,\n",
       "        0.10674398,  2.7844248 ,  0.43838865, -0.21123195, -0.69085443,\n",
       "        0.04283998,  2.3449368 , -0.8889019 , -0.2773927 ,  0.3125515 ,\n",
       "        0.264121  , -2.649219  ,  0.33148596,  0.39187098, -2.2444918 ,\n",
       "       -1.1317899 , -1.935579  ,  0.52987385,  0.303826  ,  1.681892  ,\n",
       "        1.0111669 ,  1.5380409 ,  1.7308229 , -0.080899  , -0.892347  ,\n",
       "       -0.23734598, -0.21603405, -0.69041294, -1.6095406 , -0.8730756 ,\n",
       "       -1.5468609 , -0.17627892, -0.1907803 ,  0.17952934, -0.803991  ,\n",
       "       -0.03223496, -1.9790027 , -1.6414549 ,  0.20527199, -1.104895  ,\n",
       "        0.24875899,  1.186315  , -0.8186741 , -2.410284  ,  0.5833171 ,\n",
       "       -0.784715  , -2.627035  , -0.15004005, -1.4183891 ,  0.442288  ,\n",
       "       -0.62965304, -1.113676  , -0.46552286, -1.651365  ,  1.8519121 ,\n",
       "        1.1279902 , -3.2509658 ,  0.04463506,  0.11902802,  0.68590844,\n",
       "        0.77328   ,  1.3373908 , -1.7096472 , -0.5530244 , -0.02548897,\n",
       "        1.19019   ,  0.10446696, -1.351313  , -1.7751659 , -0.44060117,\n",
       "       -1.4011772 ,  0.9672308 , -0.97586805,  1.2529299 , -1.9867659 ,\n",
       "       -0.7944795 ,  0.6362045 ,  2.010871  ,  3.6185539 ,  0.62658596,\n",
       "        0.9231445 , -3.4679253 ,  0.42413408,  1.219738  , -0.0507701 ,\n",
       "        2.0426223 , -1.5670619 ,  1.5156981 , -0.09616538,  1.6220791 ,\n",
       "        0.775658  , -1.8741112 ,  2.0503078 , -0.7602806 , -1.442644  ,\n",
       "        1.69713   , -1.6083733 , -0.278282  , -1.431804  ,  0.60193396,\n",
       "       -0.51194596, -2.1616828 , -4.4544115 , -0.3637256 , -0.98130643,\n",
       "       -2.1879544 ,  1.471617  ,  3.2054775 , -0.562816  , -1.099867  ,\n",
       "        2.353531  ,  1.6450421 ,  2.8005474 ,  1.1693535 ,  0.086842  ,\n",
       "       -2.5300715 , -1.5670309 ,  0.31365603, -2.450636  ,  1.4588621 ,\n",
       "        1.24279   ,  0.08502197,  1.06439   , -0.86917496,  0.32117197,\n",
       "       -0.909351  ,  0.52400905, -1.35512   , -0.72316396,  1.9528949 ,\n",
       "        0.49172202,  0.4663611 , -0.43013096, -0.09305   ,  1.265938  ,\n",
       "       -1.251461  , -0.85874796, -0.2679918 , -0.173774  ,  0.56781405,\n",
       "       -0.5377843 ,  0.871497  ,  2.4677212 ,  0.6728541 , -0.97043693,\n",
       "        2.501867  , -0.572828  ,  0.504657  , -3.4507267 ,  0.45634192],\n",
       "      dtype=float32)"
      ]
     },
     "execution_count": 4,
     "metadata": {},
     "output_type": "execute_result"
    }
   ],
   "source": [
    "doc = nlp(u'The quick brown fox jumped over the lazy dogs.')\n",
    "\n",
    "doc.vector"
   ]
  },
  {
   "cell_type": "markdown",
   "id": "dd154af9",
   "metadata": {
    "papermill": {
     "duration": 0.013111,
     "end_time": "2023-07-16T17:56:50.470947",
     "exception": false,
     "start_time": "2023-07-16T17:56:50.457836",
     "status": "completed"
    },
    "tags": []
   },
   "source": [
    "## Identifying similar vectors\n",
    "The best way to expose vector relationships is through the `.similarity()` method of Doc tokens."
   ]
  },
  {
   "cell_type": "code",
   "execution_count": 5,
   "id": "a2ed6b9f",
   "metadata": {
    "execution": {
     "iopub.execute_input": "2023-07-16T17:56:50.499741Z",
     "iopub.status.busy": "2023-07-16T17:56:50.499161Z",
     "iopub.status.idle": "2023-07-16T17:56:50.511007Z",
     "shell.execute_reply": "2023-07-16T17:56:50.510107Z"
    },
    "papermill": {
     "duration": 0.028684,
     "end_time": "2023-07-16T17:56:50.512943",
     "exception": false,
     "start_time": "2023-07-16T17:56:50.484259",
     "status": "completed"
    },
    "tags": []
   },
   "outputs": [
    {
     "name": "stdout",
     "output_type": "stream",
     "text": [
      "lion lion 1.0\n",
      "lion cat 0.3854507803916931\n",
      "lion pet 0.20031584799289703\n",
      "cat lion 0.3854507803916931\n",
      "cat cat 1.0\n",
      "cat pet 0.732966423034668\n",
      "pet lion 0.20031584799289703\n",
      "pet cat 0.732966423034668\n",
      "pet pet 1.0\n"
     ]
    }
   ],
   "source": [
    "# Create a three-token Doc object:\n",
    "tokens = nlp(u'lion cat pet')\n",
    "\n",
    "# Iterate through token combinations:\n",
    "for token1 in tokens:\n",
    "    for token2 in tokens:\n",
    "        print(token1.text, token2.text, token1.similarity(token2))"
   ]
  },
  {
   "cell_type": "code",
   "execution_count": 6,
   "id": "d609ba84",
   "metadata": {
    "execution": {
     "iopub.execute_input": "2023-07-16T17:56:50.541148Z",
     "iopub.status.busy": "2023-07-16T17:56:50.540592Z",
     "iopub.status.idle": "2023-07-16T17:56:50.548294Z",
     "shell.execute_reply": "2023-07-16T17:56:50.547353Z"
    },
    "papermill": {
     "duration": 0.02464,
     "end_time": "2023-07-16T17:56:50.550806",
     "exception": false,
     "start_time": "2023-07-16T17:56:50.526166",
     "status": "completed"
    },
    "tags": []
   },
   "outputs": [
    {
     "data": {
      "text/markdown": [
       "<table><tr><th></th><th>lion</th><th>cat</th><th>pet</th></tr><tr><td>**lion**</td><td>1.0</td><td>0.3855</td><td>0.2003</td></tr><tr><td>**cat**</td><td>0.3855</td><td>1.0</td><td>0.733</td></tr><tr><td>**pet**</td><td>0.2003</td><td>0.733</td><td>1.0</td></tr>"
      ],
      "text/plain": [
       "<IPython.core.display.Markdown object>"
      ]
     },
     "metadata": {},
     "output_type": "display_data"
    }
   ],
   "source": [
    "# For brevity, assign each token a name\n",
    "a,b,c = tokens\n",
    "\n",
    "# Display as a Markdown table (this only works in Jupyter!)\n",
    "from IPython.display import Markdown, display\n",
    "display(Markdown(f'<table><tr><th></th><th>{a.text}</th><th>{b.text}</th><th>{c.text}</th></tr>\\\n",
    "<tr><td>**{a.text}**</td><td>{a.similarity(a):{.4}}</td><td>{b.similarity(a):{.4}}</td><td>{c.similarity(a):{.4}}</td></tr>\\\n",
    "<tr><td>**{b.text}**</td><td>{a.similarity(b):{.4}}</td><td>{b.similarity(b):{.4}}</td><td>{c.similarity(b):{.4}}</td></tr>\\\n",
    "<tr><td>**{c.text}**</td><td>{a.similarity(c):{.4}}</td><td>{b.similarity(c):{.4}}</td><td>{c.similarity(c):{.4}}</td></tr>'))"
   ]
  },
  {
   "cell_type": "code",
   "execution_count": 7,
   "id": "47bb5284",
   "metadata": {
    "execution": {
     "iopub.execute_input": "2023-07-16T17:56:50.582155Z",
     "iopub.status.busy": "2023-07-16T17:56:50.581813Z",
     "iopub.status.idle": "2023-07-16T17:56:50.600111Z",
     "shell.execute_reply": "2023-07-16T17:56:50.599135Z"
    },
    "papermill": {
     "duration": 0.035912,
     "end_time": "2023-07-16T17:56:50.602079",
     "exception": false,
     "start_time": "2023-07-16T17:56:50.566167",
     "status": "completed"
    },
    "tags": []
   },
   "outputs": [
    {
     "data": {
      "text/plain": [
       "0.4145525455932417"
      ]
     },
     "execution_count": 7,
     "metadata": {},
     "output_type": "execute_result"
    }
   ],
   "source": [
    "nlp(u'lion').similarity(nlp(u'dandelion'))"
   ]
  },
  {
   "cell_type": "markdown",
   "id": "222843f4",
   "metadata": {
    "papermill": {
     "duration": 0.013515,
     "end_time": "2023-07-16T17:56:50.629581",
     "exception": false,
     "start_time": "2023-07-16T17:56:50.616066",
     "status": "completed"
    },
    "tags": []
   },
   "source": [
    "### Opposites are not necessarily different\n",
    "Words that have opposite meaning, but that often appear in the same *context* may have similar vectors."
   ]
  },
  {
   "cell_type": "code",
   "execution_count": 8,
   "id": "4a5aab5c",
   "metadata": {
    "execution": {
     "iopub.execute_input": "2023-07-16T17:56:50.658539Z",
     "iopub.status.busy": "2023-07-16T17:56:50.658155Z",
     "iopub.status.idle": "2023-07-16T17:56:50.669908Z",
     "shell.execute_reply": "2023-07-16T17:56:50.669290Z"
    },
    "papermill": {
     "duration": 0.028655,
     "end_time": "2023-07-16T17:56:50.671933",
     "exception": false,
     "start_time": "2023-07-16T17:56:50.643278",
     "status": "completed"
    },
    "tags": []
   },
   "outputs": [
    {
     "name": "stdout",
     "output_type": "stream",
     "text": [
      "like like 1.0\n",
      "like love 0.5212638974189758\n",
      "like hate 0.5065140724182129\n",
      "love like 0.5212638974189758\n",
      "love love 1.0\n",
      "love hate 0.5708349943161011\n",
      "hate like 0.5065140724182129\n",
      "hate love 0.5708349943161011\n",
      "hate hate 1.0\n"
     ]
    }
   ],
   "source": [
    "# Create a three-token Doc object:\n",
    "tokens = nlp(u'like love hate')\n",
    "\n",
    "# Iterate through token combinations:\n",
    "for token1 in tokens:\n",
    "    for token2 in tokens:\n",
    "        print(token1.text, token2.text, token1.similarity(token2))"
   ]
  },
  {
   "cell_type": "markdown",
   "id": "d9c393b9",
   "metadata": {
    "papermill": {
     "duration": 0.013191,
     "end_time": "2023-07-16T17:56:50.698754",
     "exception": false,
     "start_time": "2023-07-16T17:56:50.685563",
     "status": "completed"
    },
    "tags": []
   },
   "source": [
    "## Vector norms\n",
    "It's sometimes helpful to aggregate 300 dimensions into a [Euclidian (L2) norm](https://en.wikipedia.org/wiki/Norm_%28mathematics%29#Euclidean_norm), computed as the square root of the sum-of-squared-vectors. This is accessible as the `.vector_norm` token attribute. Other helpful attributes include `.has_vector` and `.is_oov` or *out of vocabulary*.\n",
    "\n",
    "For example, our 685k vector library may not have the word \"[nargle](https://en.wikibooks.org/wiki/Muggles%27_Guide_to_Harry_Potter/Magic/Nargle)\". To test this:"
   ]
  },
  {
   "cell_type": "code",
   "execution_count": 9,
   "id": "be6962b2",
   "metadata": {
    "execution": {
     "iopub.execute_input": "2023-07-16T17:56:50.727808Z",
     "iopub.status.busy": "2023-07-16T17:56:50.727056Z",
     "iopub.status.idle": "2023-07-16T17:56:50.740787Z",
     "shell.execute_reply": "2023-07-16T17:56:50.739117Z"
    },
    "papermill": {
     "duration": 0.03095,
     "end_time": "2023-07-16T17:56:50.743241",
     "exception": false,
     "start_time": "2023-07-16T17:56:50.712291",
     "status": "completed"
    },
    "tags": []
   },
   "outputs": [
    {
     "name": "stdout",
     "output_type": "stream",
     "text": [
      "dog True 75.254234 False\n",
      "cat True 63.188496 False\n",
      "nargle False 0.0 True\n"
     ]
    }
   ],
   "source": [
    "tokens = nlp(u'dog cat nargle')\n",
    "\n",
    "for token in tokens:\n",
    "    print(token.text, token.has_vector, token.vector_norm, token.is_oov)"
   ]
  },
  {
   "cell_type": "markdown",
   "id": "49a34d51",
   "metadata": {
    "papermill": {
     "duration": 0.013731,
     "end_time": "2023-07-16T17:56:50.770872",
     "exception": false,
     "start_time": "2023-07-16T17:56:50.757141",
     "status": "completed"
    },
    "tags": []
   },
   "source": [
    "## Vector arithmetic\n",
    "Believe it or not, we can actually calculate new vectors by adding & subtracting related vectors. A famous example suggests\n",
    "<pre>\"king\" - \"man\" + \"woman\" = \"queen\"</pre>\n",
    "Let's try it out!"
   ]
  },
  {
   "cell_type": "code",
   "execution_count": 10,
   "id": "cae2ff59",
   "metadata": {
    "execution": {
     "iopub.execute_input": "2023-07-16T17:56:50.801381Z",
     "iopub.status.busy": "2023-07-16T17:56:50.800905Z",
     "iopub.status.idle": "2023-07-16T17:56:50.886051Z",
     "shell.execute_reply": "2023-07-16T17:56:50.884940Z"
    },
    "papermill": {
     "duration": 0.102553,
     "end_time": "2023-07-16T17:56:50.888048",
     "exception": false,
     "start_time": "2023-07-16T17:56:50.785495",
     "status": "completed"
    },
    "tags": []
   },
   "outputs": [
    {
     "name": "stdout",
     "output_type": "stream",
     "text": [
      "['king', 'the', 'and', 'that', 'where', 'she', 'they', 'woman', 'there', 'should']\n"
     ]
    }
   ],
   "source": [
    "from scipy import spatial\n",
    "\n",
    "cosine_similarity = lambda x, y: 1 - spatial.distance.cosine(x, y)\n",
    "\n",
    "king = nlp.vocab['king'].vector\n",
    "man = nlp.vocab['man'].vector\n",
    "woman = nlp.vocab['woman'].vector\n",
    "\n",
    "# Now we find the closest vector in the vocabulary to the result of \"man\" - \"woman\" + \"queen\"\n",
    "new_vector = king - man + woman\n",
    "computed_similarities = []\n",
    "\n",
    "for word in nlp.vocab:\n",
    "    # Ignore words without vectors and mixed-case words:\n",
    "    if word.has_vector:\n",
    "        if word.is_lower:\n",
    "            if word.is_alpha:\n",
    "                similarity = cosine_similarity(new_vector, word.vector)\n",
    "                computed_similarities.append((word, similarity))\n",
    "\n",
    "computed_similarities = sorted(computed_similarities, key=lambda item: -item[1])\n",
    "\n",
    "print([w[0].text for w in computed_similarities[:10]])"
   ]
  },
  {
   "cell_type": "markdown",
   "id": "95d2f5d2",
   "metadata": {
    "papermill": {
     "duration": 0.013263,
     "end_time": "2023-07-16T17:56:50.915340",
     "exception": false,
     "start_time": "2023-07-16T17:56:50.902077",
     "status": "completed"
    },
    "tags": []
   },
   "source": [
    "# Sentiment Analysis\n",
    "Now that we've seen word vectors we can start to investigate sentiment analysis. The goal is to find commonalities between documents, with the understanding that similarly *combined* vectors should correspond to similar sentiments.\n",
    "\n",
    "While the scope of sentiment analysis is very broad, we will focus our work in two ways.\n",
    "\n",
    "### 1. Polarity classification\n",
    "We won't try to determine if a sentence is objective or subjective, fact or opinion. Rather, we care only if the text expresses a *positive*, *negative* or *neutral* opinion.\n",
    "### 2. Document level scope\n",
    "We'll also try to aggregate all of the sentences in a document or paragraph, to arrive at an overall opinion.\n",
    "### 3. Coarse analysis\n",
    "We won't try to perform a fine-grained analysis that would determine the degree of positivity/negativity. That is, we're not trying to guess how many stars a reviewer awarded, just whether the review was positive or negative."
   ]
  },
  {
   "cell_type": "markdown",
   "id": "f71511f6",
   "metadata": {
    "papermill": {
     "duration": 0.013428,
     "end_time": "2023-07-16T17:56:50.942574",
     "exception": false,
     "start_time": "2023-07-16T17:56:50.929146",
     "status": "completed"
    },
    "tags": []
   },
   "source": [
    "## Broad Steps:\n",
    "* First, consider the text being analyzed. A model trained on paragraph-long movie reviews might not be effective on tweets. Make sure to use an appropriate model for the task at hand.\n",
    "* Next, decide the type of analysis to perform. In the previous section on text classification we used a bag-of-words technique that considered only single tokens, or *unigrams*. Some rudimentary sentiment analysis models go one step further, and consider two-word combinations, or *bigrams*. In this section, we'd like to work with complete sentences, and for this we're going to import a trained NLTK lexicon called *VADER*."
   ]
  },
  {
   "cell_type": "markdown",
   "id": "8bcb7673",
   "metadata": {
    "papermill": {
     "duration": 0.013741,
     "end_time": "2023-07-16T17:56:50.969781",
     "exception": false,
     "start_time": "2023-07-16T17:56:50.956040",
     "status": "completed"
    },
    "tags": []
   },
   "source": [
    "## NLTK's VADER module\n",
    "VADER is an NLTK module that provides sentiment scores based on words used (\"completely\" boosts a score, while \"slightly\" reduces it), on capitalization & punctuation (\"GREAT!!!\" is stronger than \"great.\"), and negations (words like \"isn't\" and \"doesn't\" affect the outcome).\n",
    "<br>To view the source code visit https://www.nltk.org/_modules/nltk/sentiment/vader.html"
   ]
  },
  {
   "cell_type": "code",
   "execution_count": 11,
   "id": "1a44f085",
   "metadata": {
    "execution": {
     "iopub.execute_input": "2023-07-16T17:56:50.999820Z",
     "iopub.status.busy": "2023-07-16T17:56:50.999460Z",
     "iopub.status.idle": "2023-07-16T17:56:52.456875Z",
     "shell.execute_reply": "2023-07-16T17:56:52.455706Z"
    },
    "papermill": {
     "duration": 1.476031,
     "end_time": "2023-07-16T17:56:52.459291",
     "exception": false,
     "start_time": "2023-07-16T17:56:50.983260",
     "status": "completed"
    },
    "tags": []
   },
   "outputs": [
    {
     "name": "stdout",
     "output_type": "stream",
     "text": [
      "[nltk_data] Downloading package vader_lexicon to\n",
      "[nltk_data]     /usr/share/nltk_data...\n",
      "[nltk_data]   Package vader_lexicon is already up-to-date!\n"
     ]
    },
    {
     "data": {
      "text/plain": [
       "True"
      ]
     },
     "execution_count": 11,
     "metadata": {},
     "output_type": "execute_result"
    }
   ],
   "source": [
    "import nltk\n",
    "nltk.download('vader_lexicon')"
   ]
  },
  {
   "cell_type": "code",
   "execution_count": 12,
   "id": "8d2eb2d8",
   "metadata": {
    "execution": {
     "iopub.execute_input": "2023-07-16T17:56:52.488727Z",
     "iopub.status.busy": "2023-07-16T17:56:52.488392Z",
     "iopub.status.idle": "2023-07-16T17:56:52.514532Z",
     "shell.execute_reply": "2023-07-16T17:56:52.513219Z"
    },
    "papermill": {
     "duration": 0.04361,
     "end_time": "2023-07-16T17:56:52.516928",
     "exception": false,
     "start_time": "2023-07-16T17:56:52.473318",
     "status": "completed"
    },
    "tags": []
   },
   "outputs": [],
   "source": [
    "from nltk.sentiment.vader import SentimentIntensityAnalyzer\n",
    "\n",
    "sid = SentimentIntensityAnalyzer()"
   ]
  },
  {
   "cell_type": "markdown",
   "id": "e878313f",
   "metadata": {
    "papermill": {
     "duration": 0.014875,
     "end_time": "2023-07-16T17:56:52.546831",
     "exception": false,
     "start_time": "2023-07-16T17:56:52.531956",
     "status": "completed"
    },
    "tags": []
   },
   "source": [
    "VADER's `SentimentIntensityAnalyzer()` takes in a string and returns a dictionary of scores in each of four categories:\n",
    "* negative\n",
    "* neutral\n",
    "* positive\n",
    "* compound *(computed by normalizing the scores above)*"
   ]
  },
  {
   "cell_type": "code",
   "execution_count": 13,
   "id": "2f92431b",
   "metadata": {
    "execution": {
     "iopub.execute_input": "2023-07-16T17:56:52.576789Z",
     "iopub.status.busy": "2023-07-16T17:56:52.576432Z",
     "iopub.status.idle": "2023-07-16T17:56:52.583653Z",
     "shell.execute_reply": "2023-07-16T17:56:52.582618Z"
    },
    "papermill": {
     "duration": 0.024487,
     "end_time": "2023-07-16T17:56:52.585613",
     "exception": false,
     "start_time": "2023-07-16T17:56:52.561126",
     "status": "completed"
    },
    "tags": []
   },
   "outputs": [
    {
     "data": {
      "text/plain": [
       "{'neg': 0.0, 'neu': 0.803, 'pos': 0.197, 'compound': 0.3506}"
      ]
     },
     "execution_count": 13,
     "metadata": {},
     "output_type": "execute_result"
    }
   ],
   "source": [
    "a = 'I loved apurwa alot once but now she is not with me.'\n",
    "sid.polarity_scores(a)"
   ]
  },
  {
   "cell_type": "code",
   "execution_count": 14,
   "id": "9a4c5b1f",
   "metadata": {
    "execution": {
     "iopub.execute_input": "2023-07-16T17:56:52.615240Z",
     "iopub.status.busy": "2023-07-16T17:56:52.614918Z",
     "iopub.status.idle": "2023-07-16T17:56:52.621083Z",
     "shell.execute_reply": "2023-07-16T17:56:52.620017Z"
    },
    "papermill": {
     "duration": 0.023205,
     "end_time": "2023-07-16T17:56:52.623034",
     "exception": false,
     "start_time": "2023-07-16T17:56:52.599829",
     "status": "completed"
    },
    "tags": []
   },
   "outputs": [
    {
     "data": {
      "text/plain": [
       "{'neg': 0.0, 'neu': 0.425, 'pos': 0.575, 'compound': 0.8877}"
      ]
     },
     "execution_count": 14,
     "metadata": {},
     "output_type": "execute_result"
    }
   ],
   "source": [
    "a = 'This was the best, most awesome movie EVER MADE!!!'\n",
    "sid.polarity_scores(a)"
   ]
  },
  {
   "cell_type": "code",
   "execution_count": 15,
   "id": "bab2cedb",
   "metadata": {
    "execution": {
     "iopub.execute_input": "2023-07-16T17:56:52.652319Z",
     "iopub.status.busy": "2023-07-16T17:56:52.652020Z",
     "iopub.status.idle": "2023-07-16T17:56:52.657856Z",
     "shell.execute_reply": "2023-07-16T17:56:52.656957Z"
    },
    "papermill": {
     "duration": 0.022773,
     "end_time": "2023-07-16T17:56:52.659620",
     "exception": false,
     "start_time": "2023-07-16T17:56:52.636847",
     "status": "completed"
    },
    "tags": []
   },
   "outputs": [
    {
     "data": {
      "text/plain": [
       "{'neg': 0.477, 'neu': 0.523, 'pos': 0.0, 'compound': -0.8074}"
      ]
     },
     "execution_count": 15,
     "metadata": {},
     "output_type": "execute_result"
    }
   ],
   "source": [
    "a = 'This was the worst film to ever disgrace the screen.'\n",
    "sid.polarity_scores(a)"
   ]
  },
  {
   "cell_type": "markdown",
   "id": "c2e35503",
   "metadata": {
    "papermill": {
     "duration": 0.013652,
     "end_time": "2023-07-16T17:56:52.687516",
     "exception": false,
     "start_time": "2023-07-16T17:56:52.673864",
     "status": "completed"
    },
    "tags": []
   },
   "source": [
    "## Use VADER to analyze Amazon Reviews\n",
    "For this exercise we're going to apply `SentimentIntensityAnalyzer` to a dataset of 10,000 Amazon reviews. Like our movie reviews datasets, these are labeled as either \"pos\" or \"neg\". At the end we'll determine the accuracy of our sentiment analysis with VADER."
   ]
  },
  {
   "cell_type": "code",
   "execution_count": 16,
   "id": "010d6b95",
   "metadata": {
    "execution": {
     "iopub.execute_input": "2023-07-16T17:56:52.717051Z",
     "iopub.status.busy": "2023-07-16T17:56:52.716751Z",
     "iopub.status.idle": "2023-07-16T17:56:52.865797Z",
     "shell.execute_reply": "2023-07-16T17:56:52.864817Z"
    },
    "papermill": {
     "duration": 0.166108,
     "end_time": "2023-07-16T17:56:52.867606",
     "exception": false,
     "start_time": "2023-07-16T17:56:52.701498",
     "status": "completed"
    },
    "tags": []
   },
   "outputs": [
    {
     "data": {
      "text/html": [
       "<div>\n",
       "<style scoped>\n",
       "    .dataframe tbody tr th:only-of-type {\n",
       "        vertical-align: middle;\n",
       "    }\n",
       "\n",
       "    .dataframe tbody tr th {\n",
       "        vertical-align: top;\n",
       "    }\n",
       "\n",
       "    .dataframe thead th {\n",
       "        text-align: right;\n",
       "    }\n",
       "</style>\n",
       "<table border=\"1\" class=\"dataframe\">\n",
       "  <thead>\n",
       "    <tr style=\"text-align: right;\">\n",
       "      <th></th>\n",
       "      <th>label</th>\n",
       "      <th>review</th>\n",
       "    </tr>\n",
       "  </thead>\n",
       "  <tbody>\n",
       "    <tr>\n",
       "      <th>0</th>\n",
       "      <td>pos</td>\n",
       "      <td>Stuning even for the non-gamer: This sound tra...</td>\n",
       "    </tr>\n",
       "    <tr>\n",
       "      <th>1</th>\n",
       "      <td>pos</td>\n",
       "      <td>The best soundtrack ever to anything.: I'm rea...</td>\n",
       "    </tr>\n",
       "    <tr>\n",
       "      <th>2</th>\n",
       "      <td>pos</td>\n",
       "      <td>Amazing!: This soundtrack is my favorite music...</td>\n",
       "    </tr>\n",
       "    <tr>\n",
       "      <th>3</th>\n",
       "      <td>pos</td>\n",
       "      <td>Excellent Soundtrack: I truly like this soundt...</td>\n",
       "    </tr>\n",
       "    <tr>\n",
       "      <th>4</th>\n",
       "      <td>pos</td>\n",
       "      <td>Remember, Pull Your Jaw Off The Floor After He...</td>\n",
       "    </tr>\n",
       "  </tbody>\n",
       "</table>\n",
       "</div>"
      ],
      "text/plain": [
       "  label                                             review\n",
       "0   pos  Stuning even for the non-gamer: This sound tra...\n",
       "1   pos  The best soundtrack ever to anything.: I'm rea...\n",
       "2   pos  Amazing!: This soundtrack is my favorite music...\n",
       "3   pos  Excellent Soundtrack: I truly like this soundt...\n",
       "4   pos  Remember, Pull Your Jaw Off The Floor After He..."
      ]
     },
     "execution_count": 16,
     "metadata": {},
     "output_type": "execute_result"
    }
   ],
   "source": [
    "import numpy as np\n",
    "import pandas as pd\n",
    "\n",
    "df = pd.read_csv('/kaggle/input/nlp-udemy-dataset/amazonreviews.tsv', sep='\\t')\n",
    "df.head()"
   ]
  },
  {
   "cell_type": "code",
   "execution_count": 17,
   "id": "22d2d04b",
   "metadata": {
    "execution": {
     "iopub.execute_input": "2023-07-16T17:56:52.900872Z",
     "iopub.status.busy": "2023-07-16T17:56:52.899462Z",
     "iopub.status.idle": "2023-07-16T17:56:52.914201Z",
     "shell.execute_reply": "2023-07-16T17:56:52.912942Z"
    },
    "papermill": {
     "duration": 0.03283,
     "end_time": "2023-07-16T17:56:52.916012",
     "exception": false,
     "start_time": "2023-07-16T17:56:52.883182",
     "status": "completed"
    },
    "tags": []
   },
   "outputs": [
    {
     "data": {
      "text/plain": [
       "neg    5097\n",
       "pos    4903\n",
       "Name: label, dtype: int64"
      ]
     },
     "execution_count": 17,
     "metadata": {},
     "output_type": "execute_result"
    }
   ],
   "source": [
    "df['label'].value_counts()"
   ]
  },
  {
   "cell_type": "markdown",
   "id": "1ddfc954",
   "metadata": {
    "papermill": {
     "duration": 0.014243,
     "end_time": "2023-07-16T17:56:52.944883",
     "exception": false,
     "start_time": "2023-07-16T17:56:52.930640",
     "status": "completed"
    },
    "tags": []
   },
   "source": [
    "### Clean the data (optional):\n",
    "Recall that our moviereviews.tsv file contained empty records. Let's check to see if any exist in amazonreviews.tsv."
   ]
  },
  {
   "cell_type": "code",
   "execution_count": 18,
   "id": "2535a6e5",
   "metadata": {
    "execution": {
     "iopub.execute_input": "2023-07-16T17:56:52.975549Z",
     "iopub.status.busy": "2023-07-16T17:56:52.974513Z",
     "iopub.status.idle": "2023-07-16T17:56:52.999845Z",
     "shell.execute_reply": "2023-07-16T17:56:52.998968Z"
    },
    "papermill": {
     "duration": 0.042961,
     "end_time": "2023-07-16T17:56:53.002165",
     "exception": false,
     "start_time": "2023-07-16T17:56:52.959204",
     "status": "completed"
    },
    "tags": []
   },
   "outputs": [],
   "source": [
    "# REMOVE NaN VALUES AND EMPTY STRINGS:\n",
    "df.dropna(inplace=True)\n",
    "\n",
    "blanks = []  # start with an empty list\n",
    "\n",
    "for i,lb,rv in df.itertuples():  # iterate over the DataFrame\n",
    "    if type(rv)==str:            # avoid NaN values\n",
    "        if rv.isspace():         # test 'review' for whitespace\n",
    "            blanks.append(i)     # add matching index numbers to the list\n",
    "\n",
    "df.drop(blanks, inplace=True)"
   ]
  },
  {
   "cell_type": "code",
   "execution_count": 19,
   "id": "147d6235",
   "metadata": {
    "execution": {
     "iopub.execute_input": "2023-07-16T17:56:53.033027Z",
     "iopub.status.busy": "2023-07-16T17:56:53.032595Z",
     "iopub.status.idle": "2023-07-16T17:56:53.040712Z",
     "shell.execute_reply": "2023-07-16T17:56:53.039701Z"
    },
    "papermill": {
     "duration": 0.025201,
     "end_time": "2023-07-16T17:56:53.042372",
     "exception": false,
     "start_time": "2023-07-16T17:56:53.017171",
     "status": "completed"
    },
    "tags": []
   },
   "outputs": [
    {
     "data": {
      "text/plain": [
       "neg    5097\n",
       "pos    4903\n",
       "Name: label, dtype: int64"
      ]
     },
     "execution_count": 19,
     "metadata": {},
     "output_type": "execute_result"
    }
   ],
   "source": [
    "df['label'].value_counts()"
   ]
  },
  {
   "cell_type": "markdown",
   "id": "d2a26243",
   "metadata": {
    "papermill": {
     "duration": 0.013772,
     "end_time": "2023-07-16T17:56:53.070771",
     "exception": false,
     "start_time": "2023-07-16T17:56:53.056999",
     "status": "completed"
    },
    "tags": []
   },
   "source": [
    "## Let's run the first review through VADER"
   ]
  },
  {
   "cell_type": "code",
   "execution_count": 20,
   "id": "95131688",
   "metadata": {
    "execution": {
     "iopub.execute_input": "2023-07-16T17:56:53.102537Z",
     "iopub.status.busy": "2023-07-16T17:56:53.100455Z",
     "iopub.status.idle": "2023-07-16T17:56:53.109495Z",
     "shell.execute_reply": "2023-07-16T17:56:53.108070Z"
    },
    "papermill": {
     "duration": 0.026455,
     "end_time": "2023-07-16T17:56:53.111262",
     "exception": false,
     "start_time": "2023-07-16T17:56:53.084807",
     "status": "completed"
    },
    "tags": []
   },
   "outputs": [
    {
     "data": {
      "text/plain": [
       "{'neg': 0.088, 'neu': 0.669, 'pos': 0.243, 'compound': 0.9454}"
      ]
     },
     "execution_count": 20,
     "metadata": {},
     "output_type": "execute_result"
    }
   ],
   "source": [
    "sid.polarity_scores(df.loc[0]['review'])"
   ]
  },
  {
   "cell_type": "code",
   "execution_count": 21,
   "id": "100aa9cf",
   "metadata": {
    "execution": {
     "iopub.execute_input": "2023-07-16T17:56:53.143619Z",
     "iopub.status.busy": "2023-07-16T17:56:53.143038Z",
     "iopub.status.idle": "2023-07-16T17:56:53.149771Z",
     "shell.execute_reply": "2023-07-16T17:56:53.148566Z"
    },
    "papermill": {
     "duration": 0.02537,
     "end_time": "2023-07-16T17:56:53.151708",
     "exception": false,
     "start_time": "2023-07-16T17:56:53.126338",
     "status": "completed"
    },
    "tags": []
   },
   "outputs": [
    {
     "data": {
      "text/plain": [
       "'pos'"
      ]
     },
     "execution_count": 21,
     "metadata": {},
     "output_type": "execute_result"
    }
   ],
   "source": [
    "df.loc[0]['label']"
   ]
  },
  {
   "cell_type": "markdown",
   "id": "8263c2bf",
   "metadata": {
    "papermill": {
     "duration": 0.014005,
     "end_time": "2023-07-16T17:56:53.180326",
     "exception": false,
     "start_time": "2023-07-16T17:56:53.166321",
     "status": "completed"
    },
    "tags": []
   },
   "source": [
    "## Adding Scores and Labels to the DataFrame\n",
    "In this next section we'll add columns to the original DataFrame to store polarity_score dictionaries, extracted compound scores, and new \"pos/neg\" labels derived from the compound score. We'll use this last column to perform an accuracy test."
   ]
  },
  {
   "cell_type": "code",
   "execution_count": 22,
   "id": "41b65fe4",
   "metadata": {
    "execution": {
     "iopub.execute_input": "2023-07-16T17:56:53.210778Z",
     "iopub.status.busy": "2023-07-16T17:56:53.210410Z",
     "iopub.status.idle": "2023-07-16T17:57:01.943215Z",
     "shell.execute_reply": "2023-07-16T17:57:01.941935Z"
    },
    "papermill": {
     "duration": 8.751479,
     "end_time": "2023-07-16T17:57:01.945980",
     "exception": false,
     "start_time": "2023-07-16T17:56:53.194501",
     "status": "completed"
    },
    "tags": []
   },
   "outputs": [
    {
     "data": {
      "text/html": [
       "<div>\n",
       "<style scoped>\n",
       "    .dataframe tbody tr th:only-of-type {\n",
       "        vertical-align: middle;\n",
       "    }\n",
       "\n",
       "    .dataframe tbody tr th {\n",
       "        vertical-align: top;\n",
       "    }\n",
       "\n",
       "    .dataframe thead th {\n",
       "        text-align: right;\n",
       "    }\n",
       "</style>\n",
       "<table border=\"1\" class=\"dataframe\">\n",
       "  <thead>\n",
       "    <tr style=\"text-align: right;\">\n",
       "      <th></th>\n",
       "      <th>label</th>\n",
       "      <th>review</th>\n",
       "      <th>scores</th>\n",
       "    </tr>\n",
       "  </thead>\n",
       "  <tbody>\n",
       "    <tr>\n",
       "      <th>0</th>\n",
       "      <td>pos</td>\n",
       "      <td>Stuning even for the non-gamer: This sound tra...</td>\n",
       "      <td>{'neg': 0.088, 'neu': 0.669, 'pos': 0.243, 'co...</td>\n",
       "    </tr>\n",
       "    <tr>\n",
       "      <th>1</th>\n",
       "      <td>pos</td>\n",
       "      <td>The best soundtrack ever to anything.: I'm rea...</td>\n",
       "      <td>{'neg': 0.018, 'neu': 0.837, 'pos': 0.145, 'co...</td>\n",
       "    </tr>\n",
       "    <tr>\n",
       "      <th>2</th>\n",
       "      <td>pos</td>\n",
       "      <td>Amazing!: This soundtrack is my favorite music...</td>\n",
       "      <td>{'neg': 0.04, 'neu': 0.692, 'pos': 0.268, 'com...</td>\n",
       "    </tr>\n",
       "    <tr>\n",
       "      <th>3</th>\n",
       "      <td>pos</td>\n",
       "      <td>Excellent Soundtrack: I truly like this soundt...</td>\n",
       "      <td>{'neg': 0.09, 'neu': 0.615, 'pos': 0.295, 'com...</td>\n",
       "    </tr>\n",
       "    <tr>\n",
       "      <th>4</th>\n",
       "      <td>pos</td>\n",
       "      <td>Remember, Pull Your Jaw Off The Floor After He...</td>\n",
       "      <td>{'neg': 0.0, 'neu': 0.746, 'pos': 0.254, 'comp...</td>\n",
       "    </tr>\n",
       "  </tbody>\n",
       "</table>\n",
       "</div>"
      ],
      "text/plain": [
       "  label                                             review  \\\n",
       "0   pos  Stuning even for the non-gamer: This sound tra...   \n",
       "1   pos  The best soundtrack ever to anything.: I'm rea...   \n",
       "2   pos  Amazing!: This soundtrack is my favorite music...   \n",
       "3   pos  Excellent Soundtrack: I truly like this soundt...   \n",
       "4   pos  Remember, Pull Your Jaw Off The Floor After He...   \n",
       "\n",
       "                                              scores  \n",
       "0  {'neg': 0.088, 'neu': 0.669, 'pos': 0.243, 'co...  \n",
       "1  {'neg': 0.018, 'neu': 0.837, 'pos': 0.145, 'co...  \n",
       "2  {'neg': 0.04, 'neu': 0.692, 'pos': 0.268, 'com...  \n",
       "3  {'neg': 0.09, 'neu': 0.615, 'pos': 0.295, 'com...  \n",
       "4  {'neg': 0.0, 'neu': 0.746, 'pos': 0.254, 'comp...  "
      ]
     },
     "execution_count": 22,
     "metadata": {},
     "output_type": "execute_result"
    }
   ],
   "source": [
    "df['scores'] = df['review'].apply(lambda review: sid.polarity_scores(review))\n",
    "\n",
    "df.head()"
   ]
  },
  {
   "cell_type": "code",
   "execution_count": 23,
   "id": "caff56b4",
   "metadata": {
    "execution": {
     "iopub.execute_input": "2023-07-16T17:57:01.980099Z",
     "iopub.status.busy": "2023-07-16T17:57:01.978874Z",
     "iopub.status.idle": "2023-07-16T17:57:01.996162Z",
     "shell.execute_reply": "2023-07-16T17:57:01.994894Z"
    },
    "papermill": {
     "duration": 0.037115,
     "end_time": "2023-07-16T17:57:01.998543",
     "exception": false,
     "start_time": "2023-07-16T17:57:01.961428",
     "status": "completed"
    },
    "tags": []
   },
   "outputs": [
    {
     "data": {
      "text/html": [
       "<div>\n",
       "<style scoped>\n",
       "    .dataframe tbody tr th:only-of-type {\n",
       "        vertical-align: middle;\n",
       "    }\n",
       "\n",
       "    .dataframe tbody tr th {\n",
       "        vertical-align: top;\n",
       "    }\n",
       "\n",
       "    .dataframe thead th {\n",
       "        text-align: right;\n",
       "    }\n",
       "</style>\n",
       "<table border=\"1\" class=\"dataframe\">\n",
       "  <thead>\n",
       "    <tr style=\"text-align: right;\">\n",
       "      <th></th>\n",
       "      <th>label</th>\n",
       "      <th>review</th>\n",
       "      <th>scores</th>\n",
       "      <th>compound</th>\n",
       "    </tr>\n",
       "  </thead>\n",
       "  <tbody>\n",
       "    <tr>\n",
       "      <th>0</th>\n",
       "      <td>pos</td>\n",
       "      <td>Stuning even for the non-gamer: This sound tra...</td>\n",
       "      <td>{'neg': 0.088, 'neu': 0.669, 'pos': 0.243, 'co...</td>\n",
       "      <td>0.9454</td>\n",
       "    </tr>\n",
       "    <tr>\n",
       "      <th>1</th>\n",
       "      <td>pos</td>\n",
       "      <td>The best soundtrack ever to anything.: I'm rea...</td>\n",
       "      <td>{'neg': 0.018, 'neu': 0.837, 'pos': 0.145, 'co...</td>\n",
       "      <td>0.8957</td>\n",
       "    </tr>\n",
       "    <tr>\n",
       "      <th>2</th>\n",
       "      <td>pos</td>\n",
       "      <td>Amazing!: This soundtrack is my favorite music...</td>\n",
       "      <td>{'neg': 0.04, 'neu': 0.692, 'pos': 0.268, 'com...</td>\n",
       "      <td>0.9858</td>\n",
       "    </tr>\n",
       "    <tr>\n",
       "      <th>3</th>\n",
       "      <td>pos</td>\n",
       "      <td>Excellent Soundtrack: I truly like this soundt...</td>\n",
       "      <td>{'neg': 0.09, 'neu': 0.615, 'pos': 0.295, 'com...</td>\n",
       "      <td>0.9814</td>\n",
       "    </tr>\n",
       "    <tr>\n",
       "      <th>4</th>\n",
       "      <td>pos</td>\n",
       "      <td>Remember, Pull Your Jaw Off The Floor After He...</td>\n",
       "      <td>{'neg': 0.0, 'neu': 0.746, 'pos': 0.254, 'comp...</td>\n",
       "      <td>0.9781</td>\n",
       "    </tr>\n",
       "  </tbody>\n",
       "</table>\n",
       "</div>"
      ],
      "text/plain": [
       "  label                                             review  \\\n",
       "0   pos  Stuning even for the non-gamer: This sound tra...   \n",
       "1   pos  The best soundtrack ever to anything.: I'm rea...   \n",
       "2   pos  Amazing!: This soundtrack is my favorite music...   \n",
       "3   pos  Excellent Soundtrack: I truly like this soundt...   \n",
       "4   pos  Remember, Pull Your Jaw Off The Floor After He...   \n",
       "\n",
       "                                              scores  compound  \n",
       "0  {'neg': 0.088, 'neu': 0.669, 'pos': 0.243, 'co...    0.9454  \n",
       "1  {'neg': 0.018, 'neu': 0.837, 'pos': 0.145, 'co...    0.8957  \n",
       "2  {'neg': 0.04, 'neu': 0.692, 'pos': 0.268, 'com...    0.9858  \n",
       "3  {'neg': 0.09, 'neu': 0.615, 'pos': 0.295, 'com...    0.9814  \n",
       "4  {'neg': 0.0, 'neu': 0.746, 'pos': 0.254, 'comp...    0.9781  "
      ]
     },
     "execution_count": 23,
     "metadata": {},
     "output_type": "execute_result"
    }
   ],
   "source": [
    "df['compound']  = df['scores'].apply(lambda score_dict: score_dict['compound'])\n",
    "\n",
    "df.head()"
   ]
  },
  {
   "cell_type": "code",
   "execution_count": 24,
   "id": "e882d9a8",
   "metadata": {
    "execution": {
     "iopub.execute_input": "2023-07-16T17:57:02.032865Z",
     "iopub.status.busy": "2023-07-16T17:57:02.031450Z",
     "iopub.status.idle": "2023-07-16T17:57:02.050694Z",
     "shell.execute_reply": "2023-07-16T17:57:02.049364Z"
    },
    "papermill": {
     "duration": 0.038628,
     "end_time": "2023-07-16T17:57:02.053216",
     "exception": false,
     "start_time": "2023-07-16T17:57:02.014588",
     "status": "completed"
    },
    "tags": []
   },
   "outputs": [
    {
     "data": {
      "text/html": [
       "<div>\n",
       "<style scoped>\n",
       "    .dataframe tbody tr th:only-of-type {\n",
       "        vertical-align: middle;\n",
       "    }\n",
       "\n",
       "    .dataframe tbody tr th {\n",
       "        vertical-align: top;\n",
       "    }\n",
       "\n",
       "    .dataframe thead th {\n",
       "        text-align: right;\n",
       "    }\n",
       "</style>\n",
       "<table border=\"1\" class=\"dataframe\">\n",
       "  <thead>\n",
       "    <tr style=\"text-align: right;\">\n",
       "      <th></th>\n",
       "      <th>label</th>\n",
       "      <th>review</th>\n",
       "      <th>scores</th>\n",
       "      <th>compound</th>\n",
       "      <th>comp_score</th>\n",
       "    </tr>\n",
       "  </thead>\n",
       "  <tbody>\n",
       "    <tr>\n",
       "      <th>0</th>\n",
       "      <td>pos</td>\n",
       "      <td>Stuning even for the non-gamer: This sound tra...</td>\n",
       "      <td>{'neg': 0.088, 'neu': 0.669, 'pos': 0.243, 'co...</td>\n",
       "      <td>0.9454</td>\n",
       "      <td>pos</td>\n",
       "    </tr>\n",
       "    <tr>\n",
       "      <th>1</th>\n",
       "      <td>pos</td>\n",
       "      <td>The best soundtrack ever to anything.: I'm rea...</td>\n",
       "      <td>{'neg': 0.018, 'neu': 0.837, 'pos': 0.145, 'co...</td>\n",
       "      <td>0.8957</td>\n",
       "      <td>pos</td>\n",
       "    </tr>\n",
       "    <tr>\n",
       "      <th>2</th>\n",
       "      <td>pos</td>\n",
       "      <td>Amazing!: This soundtrack is my favorite music...</td>\n",
       "      <td>{'neg': 0.04, 'neu': 0.692, 'pos': 0.268, 'com...</td>\n",
       "      <td>0.9858</td>\n",
       "      <td>pos</td>\n",
       "    </tr>\n",
       "    <tr>\n",
       "      <th>3</th>\n",
       "      <td>pos</td>\n",
       "      <td>Excellent Soundtrack: I truly like this soundt...</td>\n",
       "      <td>{'neg': 0.09, 'neu': 0.615, 'pos': 0.295, 'com...</td>\n",
       "      <td>0.9814</td>\n",
       "      <td>pos</td>\n",
       "    </tr>\n",
       "    <tr>\n",
       "      <th>4</th>\n",
       "      <td>pos</td>\n",
       "      <td>Remember, Pull Your Jaw Off The Floor After He...</td>\n",
       "      <td>{'neg': 0.0, 'neu': 0.746, 'pos': 0.254, 'comp...</td>\n",
       "      <td>0.9781</td>\n",
       "      <td>pos</td>\n",
       "    </tr>\n",
       "  </tbody>\n",
       "</table>\n",
       "</div>"
      ],
      "text/plain": [
       "  label                                             review  \\\n",
       "0   pos  Stuning even for the non-gamer: This sound tra...   \n",
       "1   pos  The best soundtrack ever to anything.: I'm rea...   \n",
       "2   pos  Amazing!: This soundtrack is my favorite music...   \n",
       "3   pos  Excellent Soundtrack: I truly like this soundt...   \n",
       "4   pos  Remember, Pull Your Jaw Off The Floor After He...   \n",
       "\n",
       "                                              scores  compound comp_score  \n",
       "0  {'neg': 0.088, 'neu': 0.669, 'pos': 0.243, 'co...    0.9454        pos  \n",
       "1  {'neg': 0.018, 'neu': 0.837, 'pos': 0.145, 'co...    0.8957        pos  \n",
       "2  {'neg': 0.04, 'neu': 0.692, 'pos': 0.268, 'com...    0.9858        pos  \n",
       "3  {'neg': 0.09, 'neu': 0.615, 'pos': 0.295, 'com...    0.9814        pos  \n",
       "4  {'neg': 0.0, 'neu': 0.746, 'pos': 0.254, 'comp...    0.9781        pos  "
      ]
     },
     "execution_count": 24,
     "metadata": {},
     "output_type": "execute_result"
    }
   ],
   "source": [
    "df['comp_score'] = df['compound'].apply(lambda c: 'pos' if c >=0 else 'neg')\n",
    "\n",
    "df.head()"
   ]
  },
  {
   "cell_type": "markdown",
   "id": "95d0eca4",
   "metadata": {
    "papermill": {
     "duration": 0.014767,
     "end_time": "2023-07-16T17:57:02.084160",
     "exception": false,
     "start_time": "2023-07-16T17:57:02.069393",
     "status": "completed"
    },
    "tags": []
   },
   "source": [
    "## Report on Accuracy\n",
    "Finally, we'll use scikit-learn to determine how close VADER came to our original 10,000 labels."
   ]
  },
  {
   "cell_type": "code",
   "execution_count": 25,
   "id": "a7cbc7b5",
   "metadata": {
    "execution": {
     "iopub.execute_input": "2023-07-16T17:57:02.117923Z",
     "iopub.status.busy": "2023-07-16T17:57:02.117544Z",
     "iopub.status.idle": "2023-07-16T17:57:02.122897Z",
     "shell.execute_reply": "2023-07-16T17:57:02.121569Z"
    },
    "papermill": {
     "duration": 0.02587,
     "end_time": "2023-07-16T17:57:02.124831",
     "exception": false,
     "start_time": "2023-07-16T17:57:02.098961",
     "status": "completed"
    },
    "tags": []
   },
   "outputs": [],
   "source": [
    "from sklearn.metrics import accuracy_score,classification_report,confusion_matrix"
   ]
  },
  {
   "cell_type": "code",
   "execution_count": 26,
   "id": "523e4fd0",
   "metadata": {
    "execution": {
     "iopub.execute_input": "2023-07-16T17:57:02.157598Z",
     "iopub.status.busy": "2023-07-16T17:57:02.157228Z",
     "iopub.status.idle": "2023-07-16T17:57:02.182053Z",
     "shell.execute_reply": "2023-07-16T17:57:02.181072Z"
    },
    "papermill": {
     "duration": 0.043603,
     "end_time": "2023-07-16T17:57:02.184023",
     "exception": false,
     "start_time": "2023-07-16T17:57:02.140420",
     "status": "completed"
    },
    "tags": []
   },
   "outputs": [
    {
     "data": {
      "text/plain": [
       "0.7007"
      ]
     },
     "execution_count": 26,
     "metadata": {},
     "output_type": "execute_result"
    }
   ],
   "source": [
    "accuracy_score(df['label'],df['comp_score'])"
   ]
  },
  {
   "cell_type": "code",
   "execution_count": 27,
   "id": "9dea8b87",
   "metadata": {
    "execution": {
     "iopub.execute_input": "2023-07-16T17:57:02.217544Z",
     "iopub.status.busy": "2023-07-16T17:57:02.216227Z",
     "iopub.status.idle": "2023-07-16T17:57:02.515720Z",
     "shell.execute_reply": "2023-07-16T17:57:02.514471Z"
    },
    "papermill": {
     "duration": 0.319116,
     "end_time": "2023-07-16T17:57:02.518695",
     "exception": false,
     "start_time": "2023-07-16T17:57:02.199579",
     "status": "completed"
    },
    "tags": []
   },
   "outputs": [
    {
     "name": "stdout",
     "output_type": "stream",
     "text": [
      "              precision    recall  f1-score   support\n",
      "\n",
      "         neg       0.85      0.50      0.63      5097\n",
      "         pos       0.64      0.91      0.75      4903\n",
      "\n",
      "    accuracy                           0.70     10000\n",
      "   macro avg       0.74      0.70      0.69     10000\n",
      "weighted avg       0.75      0.70      0.69     10000\n",
      "\n"
     ]
    }
   ],
   "source": [
    "print(classification_report(df['label'],df['comp_score']))"
   ]
  },
  {
   "cell_type": "code",
   "execution_count": 28,
   "id": "e1a31581",
   "metadata": {
    "execution": {
     "iopub.execute_input": "2023-07-16T17:57:02.552314Z",
     "iopub.status.busy": "2023-07-16T17:57:02.551998Z",
     "iopub.status.idle": "2023-07-16T17:57:02.593729Z",
     "shell.execute_reply": "2023-07-16T17:57:02.592420Z"
    },
    "papermill": {
     "duration": 0.061018,
     "end_time": "2023-07-16T17:57:02.595719",
     "exception": false,
     "start_time": "2023-07-16T17:57:02.534701",
     "status": "completed"
    },
    "tags": []
   },
   "outputs": [
    {
     "name": "stdout",
     "output_type": "stream",
     "text": [
      "[[2540 2557]\n",
      " [ 436 4467]]\n"
     ]
    }
   ],
   "source": [
    "print(confusion_matrix(df['label'],df['comp_score']))"
   ]
  },
  {
   "cell_type": "markdown",
   "id": "c0fcfcaf",
   "metadata": {
    "papermill": {
     "duration": 0.015247,
     "end_time": "2023-07-16T17:57:02.626831",
     "exception": false,
     "start_time": "2023-07-16T17:57:02.611584",
     "status": "completed"
    },
    "tags": []
   },
   "source": [
    "# Sentiment Analysis Project\n",
    "For this project, we'll perform the same type of NLTK VADER sentiment analysis, this time on our movie reviews dataset.\n",
    "\n",
    "The 2,000 record IMDb movie review database is accessible through NLTK directly with\n",
    "<pre>from nltk.corpus import movie_reviews</pre>\n",
    "\n",
    "However, since we already have it in a tab-delimited file we'll use that instead."
   ]
  },
  {
   "cell_type": "code",
   "execution_count": 29,
   "id": "0e258a6f",
   "metadata": {
    "execution": {
     "iopub.execute_input": "2023-07-16T17:57:02.659522Z",
     "iopub.status.busy": "2023-07-16T17:57:02.659189Z",
     "iopub.status.idle": "2023-07-16T17:57:02.803106Z",
     "shell.execute_reply": "2023-07-16T17:57:02.802087Z"
    },
    "papermill": {
     "duration": 0.163119,
     "end_time": "2023-07-16T17:57:02.805542",
     "exception": false,
     "start_time": "2023-07-16T17:57:02.642423",
     "status": "completed"
    },
    "tags": []
   },
   "outputs": [
    {
     "data": {
      "text/html": [
       "<div>\n",
       "<style scoped>\n",
       "    .dataframe tbody tr th:only-of-type {\n",
       "        vertical-align: middle;\n",
       "    }\n",
       "\n",
       "    .dataframe tbody tr th {\n",
       "        vertical-align: top;\n",
       "    }\n",
       "\n",
       "    .dataframe thead th {\n",
       "        text-align: right;\n",
       "    }\n",
       "</style>\n",
       "<table border=\"1\" class=\"dataframe\">\n",
       "  <thead>\n",
       "    <tr style=\"text-align: right;\">\n",
       "      <th></th>\n",
       "      <th>label</th>\n",
       "      <th>review</th>\n",
       "    </tr>\n",
       "  </thead>\n",
       "  <tbody>\n",
       "    <tr>\n",
       "      <th>0</th>\n",
       "      <td>neg</td>\n",
       "      <td>how do films like mouse hunt get into theatres...</td>\n",
       "    </tr>\n",
       "    <tr>\n",
       "      <th>1</th>\n",
       "      <td>neg</td>\n",
       "      <td>some talented actresses are blessed with a dem...</td>\n",
       "    </tr>\n",
       "    <tr>\n",
       "      <th>2</th>\n",
       "      <td>pos</td>\n",
       "      <td>this has been an extraordinary year for austra...</td>\n",
       "    </tr>\n",
       "    <tr>\n",
       "      <th>3</th>\n",
       "      <td>pos</td>\n",
       "      <td>according to hollywood movies made in last few...</td>\n",
       "    </tr>\n",
       "    <tr>\n",
       "      <th>4</th>\n",
       "      <td>neg</td>\n",
       "      <td>my first press screening of 1998 and already i...</td>\n",
       "    </tr>\n",
       "  </tbody>\n",
       "</table>\n",
       "</div>"
      ],
      "text/plain": [
       "  label                                             review\n",
       "0   neg  how do films like mouse hunt get into theatres...\n",
       "1   neg  some talented actresses are blessed with a dem...\n",
       "2   pos  this has been an extraordinary year for austra...\n",
       "3   pos  according to hollywood movies made in last few...\n",
       "4   neg  my first press screening of 1998 and already i..."
      ]
     },
     "execution_count": 29,
     "metadata": {},
     "output_type": "execute_result"
    }
   ],
   "source": [
    "import numpy as np\n",
    "import pandas as pd\n",
    "\n",
    "df = pd.read_csv('/kaggle/input/moviereviews/moviereviews.tsv', sep='\\t')\n",
    "df.head()"
   ]
  },
  {
   "cell_type": "code",
   "execution_count": 30,
   "id": "1a0ad75e",
   "metadata": {
    "execution": {
     "iopub.execute_input": "2023-07-16T17:57:02.840834Z",
     "iopub.status.busy": "2023-07-16T17:57:02.840258Z",
     "iopub.status.idle": "2023-07-16T17:57:02.854163Z",
     "shell.execute_reply": "2023-07-16T17:57:02.853358Z"
    },
    "papermill": {
     "duration": 0.034653,
     "end_time": "2023-07-16T17:57:02.856377",
     "exception": false,
     "start_time": "2023-07-16T17:57:02.821724",
     "status": "completed"
    },
    "tags": []
   },
   "outputs": [],
   "source": [
    "# REMOVE NaN VALUES AND EMPTY STRINGS:\n",
    "df.dropna(inplace=True)\n",
    "\n",
    "blanks = []  # start with an empty list\n",
    "\n",
    "for i,lb,rv in df.itertuples():  # iterate over the DataFrame\n",
    "    if type(rv)==str:            # avoid NaN values\n",
    "        if rv.isspace():         # test 'review' for whitespace\n",
    "            blanks.append(i)     # add matching index numbers to the list\n",
    "\n",
    "df.drop(blanks, inplace=True)"
   ]
  },
  {
   "cell_type": "code",
   "execution_count": 31,
   "id": "043fa2e5",
   "metadata": {
    "execution": {
     "iopub.execute_input": "2023-07-16T17:57:02.889174Z",
     "iopub.status.busy": "2023-07-16T17:57:02.888581Z",
     "iopub.status.idle": "2023-07-16T17:57:02.895250Z",
     "shell.execute_reply": "2023-07-16T17:57:02.894624Z"
    },
    "papermill": {
     "duration": 0.02528,
     "end_time": "2023-07-16T17:57:02.897461",
     "exception": false,
     "start_time": "2023-07-16T17:57:02.872181",
     "status": "completed"
    },
    "tags": []
   },
   "outputs": [
    {
     "data": {
      "text/plain": [
       "neg    969\n",
       "pos    969\n",
       "Name: label, dtype: int64"
      ]
     },
     "execution_count": 31,
     "metadata": {},
     "output_type": "execute_result"
    }
   ],
   "source": [
    "df['label'].value_counts()"
   ]
  },
  {
   "cell_type": "markdown",
   "id": "4a20f5ba",
   "metadata": {
    "papermill": {
     "duration": 0.015364,
     "end_time": "2023-07-16T17:57:02.928866",
     "exception": false,
     "start_time": "2023-07-16T17:57:02.913502",
     "status": "completed"
    },
    "tags": []
   },
   "source": [
    "## Import `SentimentIntensityAnalyzer` and create an sid object\n",
    "This assumes that the VADER lexicon has been downloaded."
   ]
  },
  {
   "cell_type": "code",
   "execution_count": 32,
   "id": "9c2070db",
   "metadata": {
    "execution": {
     "iopub.execute_input": "2023-07-16T17:57:02.963463Z",
     "iopub.status.busy": "2023-07-16T17:57:02.962520Z",
     "iopub.status.idle": "2023-07-16T17:57:02.973369Z",
     "shell.execute_reply": "2023-07-16T17:57:02.972294Z"
    },
    "papermill": {
     "duration": 0.029436,
     "end_time": "2023-07-16T17:57:02.975363",
     "exception": false,
     "start_time": "2023-07-16T17:57:02.945927",
     "status": "completed"
    },
    "tags": []
   },
   "outputs": [],
   "source": [
    "from nltk.sentiment.vader import SentimentIntensityAnalyzer\n",
    "\n",
    "sid = SentimentIntensityAnalyzer()"
   ]
  },
  {
   "cell_type": "markdown",
   "id": "2db5fca5",
   "metadata": {
    "papermill": {
     "duration": 0.016856,
     "end_time": "2023-07-16T17:57:03.008146",
     "exception": false,
     "start_time": "2023-07-16T17:57:02.991290",
     "status": "completed"
    },
    "tags": []
   },
   "source": [
    "## Import `SentimentIntensityAnalyzer` and create an sid object\n",
    "This assumes that the VADER lexicon has been downloaded."
   ]
  },
  {
   "cell_type": "code",
   "execution_count": 33,
   "id": "d62664bf",
   "metadata": {
    "execution": {
     "iopub.execute_input": "2023-07-16T17:57:03.041775Z",
     "iopub.status.busy": "2023-07-16T17:57:03.041199Z",
     "iopub.status.idle": "2023-07-16T17:57:03.051329Z",
     "shell.execute_reply": "2023-07-16T17:57:03.050298Z"
    },
    "papermill": {
     "duration": 0.029518,
     "end_time": "2023-07-16T17:57:03.053656",
     "exception": false,
     "start_time": "2023-07-16T17:57:03.024138",
     "status": "completed"
    },
    "tags": []
   },
   "outputs": [],
   "source": [
    "from nltk.sentiment.vader import SentimentIntensityAnalyzer\n",
    "\n",
    "sid = SentimentIntensityAnalyzer()"
   ]
  },
  {
   "cell_type": "markdown",
   "id": "e04f3db1",
   "metadata": {
    "papermill": {
     "duration": 0.015024,
     "end_time": "2023-07-16T17:57:03.084404",
     "exception": false,
     "start_time": "2023-07-16T17:57:03.069380",
     "status": "completed"
    },
    "tags": []
   },
   "source": [
    "## Use sid to append a `comp_score` to the dataset"
   ]
  },
  {
   "cell_type": "code",
   "execution_count": 34,
   "id": "a003f238",
   "metadata": {
    "execution": {
     "iopub.execute_input": "2023-07-16T17:57:03.116738Z",
     "iopub.status.busy": "2023-07-16T17:57:03.116265Z",
     "iopub.status.idle": "2023-07-16T17:57:19.508785Z",
     "shell.execute_reply": "2023-07-16T17:57:19.507684Z"
    },
    "papermill": {
     "duration": 16.410855,
     "end_time": "2023-07-16T17:57:19.510700",
     "exception": false,
     "start_time": "2023-07-16T17:57:03.099845",
     "status": "completed"
    },
    "tags": []
   },
   "outputs": [
    {
     "data": {
      "text/html": [
       "<div>\n",
       "<style scoped>\n",
       "    .dataframe tbody tr th:only-of-type {\n",
       "        vertical-align: middle;\n",
       "    }\n",
       "\n",
       "    .dataframe tbody tr th {\n",
       "        vertical-align: top;\n",
       "    }\n",
       "\n",
       "    .dataframe thead th {\n",
       "        text-align: right;\n",
       "    }\n",
       "</style>\n",
       "<table border=\"1\" class=\"dataframe\">\n",
       "  <thead>\n",
       "    <tr style=\"text-align: right;\">\n",
       "      <th></th>\n",
       "      <th>label</th>\n",
       "      <th>review</th>\n",
       "      <th>scores</th>\n",
       "      <th>compound</th>\n",
       "      <th>comp_score</th>\n",
       "    </tr>\n",
       "  </thead>\n",
       "  <tbody>\n",
       "    <tr>\n",
       "      <th>0</th>\n",
       "      <td>neg</td>\n",
       "      <td>how do films like mouse hunt get into theatres...</td>\n",
       "      <td>{'neg': 0.121, 'neu': 0.778, 'pos': 0.101, 'co...</td>\n",
       "      <td>-0.9125</td>\n",
       "      <td>neg</td>\n",
       "    </tr>\n",
       "    <tr>\n",
       "      <th>1</th>\n",
       "      <td>neg</td>\n",
       "      <td>some talented actresses are blessed with a dem...</td>\n",
       "      <td>{'neg': 0.12, 'neu': 0.775, 'pos': 0.105, 'com...</td>\n",
       "      <td>-0.8618</td>\n",
       "      <td>neg</td>\n",
       "    </tr>\n",
       "    <tr>\n",
       "      <th>2</th>\n",
       "      <td>pos</td>\n",
       "      <td>this has been an extraordinary year for austra...</td>\n",
       "      <td>{'neg': 0.067, 'neu': 0.783, 'pos': 0.15, 'com...</td>\n",
       "      <td>0.9953</td>\n",
       "      <td>pos</td>\n",
       "    </tr>\n",
       "    <tr>\n",
       "      <th>3</th>\n",
       "      <td>pos</td>\n",
       "      <td>according to hollywood movies made in last few...</td>\n",
       "      <td>{'neg': 0.069, 'neu': 0.786, 'pos': 0.145, 'co...</td>\n",
       "      <td>0.9972</td>\n",
       "      <td>pos</td>\n",
       "    </tr>\n",
       "    <tr>\n",
       "      <th>4</th>\n",
       "      <td>neg</td>\n",
       "      <td>my first press screening of 1998 and already i...</td>\n",
       "      <td>{'neg': 0.09, 'neu': 0.822, 'pos': 0.088, 'com...</td>\n",
       "      <td>-0.7264</td>\n",
       "      <td>neg</td>\n",
       "    </tr>\n",
       "  </tbody>\n",
       "</table>\n",
       "</div>"
      ],
      "text/plain": [
       "  label                                             review  \\\n",
       "0   neg  how do films like mouse hunt get into theatres...   \n",
       "1   neg  some talented actresses are blessed with a dem...   \n",
       "2   pos  this has been an extraordinary year for austra...   \n",
       "3   pos  according to hollywood movies made in last few...   \n",
       "4   neg  my first press screening of 1998 and already i...   \n",
       "\n",
       "                                              scores  compound comp_score  \n",
       "0  {'neg': 0.121, 'neu': 0.778, 'pos': 0.101, 'co...   -0.9125        neg  \n",
       "1  {'neg': 0.12, 'neu': 0.775, 'pos': 0.105, 'com...   -0.8618        neg  \n",
       "2  {'neg': 0.067, 'neu': 0.783, 'pos': 0.15, 'com...    0.9953        pos  \n",
       "3  {'neg': 0.069, 'neu': 0.786, 'pos': 0.145, 'co...    0.9972        pos  \n",
       "4  {'neg': 0.09, 'neu': 0.822, 'pos': 0.088, 'com...   -0.7264        neg  "
      ]
     },
     "execution_count": 34,
     "metadata": {},
     "output_type": "execute_result"
    }
   ],
   "source": [
    "df['scores'] = df['review'].apply(lambda review: sid.polarity_scores(review))\n",
    "\n",
    "df['compound']  = df['scores'].apply(lambda score_dict: score_dict['compound'])\n",
    "\n",
    "df['comp_score'] = df['compound'].apply(lambda c: 'pos' if c >=0 else 'neg')\n",
    "\n",
    "df.head()"
   ]
  },
  {
   "cell_type": "markdown",
   "id": "588f2930",
   "metadata": {
    "papermill": {
     "duration": 0.015535,
     "end_time": "2023-07-16T17:57:19.542419",
     "exception": false,
     "start_time": "2023-07-16T17:57:19.526884",
     "status": "completed"
    },
    "tags": []
   },
   "source": [
    "## Perform a comparison analysis between the original `label` and `comp_score`"
   ]
  },
  {
   "cell_type": "code",
   "execution_count": 35,
   "id": "b173ad0e",
   "metadata": {
    "execution": {
     "iopub.execute_input": "2023-07-16T17:57:19.576944Z",
     "iopub.status.busy": "2023-07-16T17:57:19.575480Z",
     "iopub.status.idle": "2023-07-16T17:57:19.581577Z",
     "shell.execute_reply": "2023-07-16T17:57:19.580852Z"
    },
    "papermill": {
     "duration": 0.025067,
     "end_time": "2023-07-16T17:57:19.583240",
     "exception": false,
     "start_time": "2023-07-16T17:57:19.558173",
     "status": "completed"
    },
    "tags": []
   },
   "outputs": [],
   "source": [
    "from sklearn.metrics import accuracy_score,classification_report,confusion_matrix"
   ]
  },
  {
   "cell_type": "code",
   "execution_count": 36,
   "id": "a0f64c1d",
   "metadata": {
    "execution": {
     "iopub.execute_input": "2023-07-16T17:57:19.616705Z",
     "iopub.status.busy": "2023-07-16T17:57:19.616258Z",
     "iopub.status.idle": "2023-07-16T17:57:19.626392Z",
     "shell.execute_reply": "2023-07-16T17:57:19.625434Z"
    },
    "papermill": {
     "duration": 0.029411,
     "end_time": "2023-07-16T17:57:19.628746",
     "exception": false,
     "start_time": "2023-07-16T17:57:19.599335",
     "status": "completed"
    },
    "tags": []
   },
   "outputs": [
    {
     "data": {
      "text/plain": [
       "0.6367389060887513"
      ]
     },
     "execution_count": 36,
     "metadata": {},
     "output_type": "execute_result"
    }
   ],
   "source": [
    "accuracy_score(df['label'],df['comp_score'])"
   ]
  },
  {
   "cell_type": "code",
   "execution_count": 37,
   "id": "fda7f5aa",
   "metadata": {
    "execution": {
     "iopub.execute_input": "2023-07-16T17:57:19.663451Z",
     "iopub.status.busy": "2023-07-16T17:57:19.663013Z",
     "iopub.status.idle": "2023-07-16T17:57:19.724850Z",
     "shell.execute_reply": "2023-07-16T17:57:19.723834Z"
    },
    "papermill": {
     "duration": 0.081616,
     "end_time": "2023-07-16T17:57:19.726796",
     "exception": false,
     "start_time": "2023-07-16T17:57:19.645180",
     "status": "completed"
    },
    "tags": []
   },
   "outputs": [
    {
     "name": "stdout",
     "output_type": "stream",
     "text": [
      "              precision    recall  f1-score   support\n",
      "\n",
      "         neg       0.72      0.44      0.55       969\n",
      "         pos       0.60      0.83      0.70       969\n",
      "\n",
      "    accuracy                           0.64      1938\n",
      "   macro avg       0.66      0.64      0.62      1938\n",
      "weighted avg       0.66      0.64      0.62      1938\n",
      "\n"
     ]
    }
   ],
   "source": [
    "print(classification_report(df['label'],df['comp_score']))"
   ]
  },
  {
   "cell_type": "code",
   "execution_count": 38,
   "id": "a4a63b7e",
   "metadata": {
    "execution": {
     "iopub.execute_input": "2023-07-16T17:57:19.762595Z",
     "iopub.status.busy": "2023-07-16T17:57:19.762155Z",
     "iopub.status.idle": "2023-07-16T17:57:19.776766Z",
     "shell.execute_reply": "2023-07-16T17:57:19.775600Z"
    },
    "papermill": {
     "duration": 0.035935,
     "end_time": "2023-07-16T17:57:19.779172",
     "exception": false,
     "start_time": "2023-07-16T17:57:19.743237",
     "status": "completed"
    },
    "tags": []
   },
   "outputs": [
    {
     "name": "stdout",
     "output_type": "stream",
     "text": [
      "[[427 542]\n",
      " [162 807]]\n"
     ]
    }
   ],
   "source": [
    "print(confusion_matrix(df['label'],df['comp_score']))"
   ]
  },
  {
   "cell_type": "markdown",
   "id": "72c0ca92",
   "metadata": {
    "papermill": {
     "duration": 0.018187,
     "end_time": "2023-07-16T17:57:19.815398",
     "exception": false,
     "start_time": "2023-07-16T17:57:19.797211",
     "status": "completed"
    },
    "tags": []
   },
   "source": [
    "# Sentiment Analysis Assessment - Solution\n",
    "\n",
    "## Task #1: Perform vector arithmetic on your own words\n",
    "Write code that evaluates vector arithmetic on your own set of related words. The goal is to come as close to an expected word as possible. Please feel free to share success stories in the Q&A Forum for this section!"
   ]
  },
  {
   "cell_type": "code",
   "execution_count": 39,
   "id": "bb5b5689",
   "metadata": {
    "execution": {
     "iopub.execute_input": "2023-07-16T17:57:19.849611Z",
     "iopub.status.busy": "2023-07-16T17:57:19.849289Z",
     "iopub.status.idle": "2023-07-16T17:57:21.456400Z",
     "shell.execute_reply": "2023-07-16T17:57:21.454891Z"
    },
    "papermill": {
     "duration": 1.627292,
     "end_time": "2023-07-16T17:57:21.459127",
     "exception": false,
     "start_time": "2023-07-16T17:57:19.831835",
     "status": "completed"
    },
    "tags": []
   },
   "outputs": [],
   "source": [
    "# Import spaCy and load the language library. Remember to use a larger model!\n",
    "import spacy\n",
    "nlp = spacy.load('en_core_web_lg')"
   ]
  },
  {
   "cell_type": "code",
   "execution_count": 40,
   "id": "16281eb3",
   "metadata": {
    "execution": {
     "iopub.execute_input": "2023-07-16T17:57:21.492474Z",
     "iopub.status.busy": "2023-07-16T17:57:21.492170Z",
     "iopub.status.idle": "2023-07-16T17:57:21.497953Z",
     "shell.execute_reply": "2023-07-16T17:57:21.496610Z"
    },
    "papermill": {
     "duration": 0.025156,
     "end_time": "2023-07-16T17:57:21.500404",
     "exception": false,
     "start_time": "2023-07-16T17:57:21.475248",
     "status": "completed"
    },
    "tags": []
   },
   "outputs": [],
   "source": [
    "# Choose the words you wish to compare, and obtain their vectors\n",
    "word1 = nlp.vocab['wolf'].vector\n",
    "word2 = nlp.vocab['dog'].vector\n",
    "word3 = nlp.vocab['cat'].vector"
   ]
  },
  {
   "cell_type": "code",
   "execution_count": 41,
   "id": "5e371299",
   "metadata": {
    "execution": {
     "iopub.execute_input": "2023-07-16T17:57:21.535144Z",
     "iopub.status.busy": "2023-07-16T17:57:21.534802Z",
     "iopub.status.idle": "2023-07-16T17:57:21.540711Z",
     "shell.execute_reply": "2023-07-16T17:57:21.539276Z"
    },
    "papermill": {
     "duration": 0.025487,
     "end_time": "2023-07-16T17:57:21.542409",
     "exception": false,
     "start_time": "2023-07-16T17:57:21.516922",
     "status": "completed"
    },
    "tags": []
   },
   "outputs": [],
   "source": [
    "# Import spatial and define a cosine_similarity function\n",
    "from scipy import spatial\n",
    "\n",
    "cosine_similarity = lambda x, y: 1 - spatial.distance.cosine(x, y)"
   ]
  },
  {
   "cell_type": "code",
   "execution_count": 42,
   "id": "f748e805",
   "metadata": {
    "execution": {
     "iopub.execute_input": "2023-07-16T17:57:21.577897Z",
     "iopub.status.busy": "2023-07-16T17:57:21.577540Z",
     "iopub.status.idle": "2023-07-16T17:57:21.581075Z",
     "shell.execute_reply": "2023-07-16T17:57:21.580408Z"
    },
    "papermill": {
     "duration": 0.022963,
     "end_time": "2023-07-16T17:57:21.582573",
     "exception": false,
     "start_time": "2023-07-16T17:57:21.559610",
     "status": "completed"
    },
    "tags": []
   },
   "outputs": [],
   "source": [
    "# Write an expression for vector arithmetic\n",
    "# For example: new_vector = word1 - word2 + word3\n",
    "new_vector = word1 - word2 + word3"
   ]
  },
  {
   "cell_type": "code",
   "execution_count": 43,
   "id": "0f19aedc",
   "metadata": {
    "execution": {
     "iopub.execute_input": "2023-07-16T17:57:21.616174Z",
     "iopub.status.busy": "2023-07-16T17:57:21.615840Z",
     "iopub.status.idle": "2023-07-16T17:57:21.627824Z",
     "shell.execute_reply": "2023-07-16T17:57:21.626955Z"
    },
    "papermill": {
     "duration": 0.031038,
     "end_time": "2023-07-16T17:57:21.629641",
     "exception": false,
     "start_time": "2023-07-16T17:57:21.598603",
     "status": "completed"
    },
    "tags": []
   },
   "outputs": [
    {
     "name": "stdout",
     "output_type": "stream",
     "text": [
      "['wolf', 'cat', 'i', 'nt', 'cos', 'dare', 'it', 'he', 'she', 'l']\n"
     ]
    }
   ],
   "source": [
    "# List the top ten closest vectors in the vocabulary to the result of the expression above\n",
    "computed_similarities = []\n",
    "\n",
    "for word in nlp.vocab:\n",
    "    if word.has_vector:\n",
    "        if word.is_lower:\n",
    "            if word.is_alpha:\n",
    "                similarity = cosine_similarity(new_vector, word.vector)\n",
    "                computed_similarities.append((word, similarity))\n",
    "\n",
    "computed_similarities = sorted(computed_similarities, key=lambda item: -item[1])\n",
    "\n",
    "print([w[0].text for w in computed_similarities[:10]])"
   ]
  },
  {
   "cell_type": "markdown",
   "id": "aeba37e2",
   "metadata": {
    "papermill": {
     "duration": 0.015772,
     "end_time": "2023-07-16T17:57:21.661261",
     "exception": false,
     "start_time": "2023-07-16T17:57:21.645489",
     "status": "completed"
    },
    "tags": []
   },
   "source": [
    "#### CHALLENGE: Write a function that takes in 3 strings, performs a-b+c arithmetic, and returns a top-ten result"
   ]
  },
  {
   "cell_type": "code",
   "execution_count": 44,
   "id": "2336b89a",
   "metadata": {
    "execution": {
     "iopub.execute_input": "2023-07-16T17:57:21.694402Z",
     "iopub.status.busy": "2023-07-16T17:57:21.694061Z",
     "iopub.status.idle": "2023-07-16T17:57:21.701291Z",
     "shell.execute_reply": "2023-07-16T17:57:21.700066Z"
    },
    "papermill": {
     "duration": 0.026264,
     "end_time": "2023-07-16T17:57:21.703328",
     "exception": false,
     "start_time": "2023-07-16T17:57:21.677064",
     "status": "completed"
    },
    "tags": []
   },
   "outputs": [],
   "source": [
    "def vector_math(a,b,c):\n",
    "    new_vector = nlp.vocab[a].vector - nlp.vocab[b].vector + nlp.vocab[c].vector\n",
    "    computed_similarities = []\n",
    "\n",
    "    for word in nlp.vocab:\n",
    "        if word.has_vector:\n",
    "            if word.is_lower:\n",
    "                if word.is_alpha:\n",
    "                    similarity = cosine_similarity(new_vector, word.vector)\n",
    "                    computed_similarities.append((word, similarity))\n",
    "\n",
    "    computed_similarities = sorted(computed_similarities, key=lambda item: -item[1])\n",
    "\n",
    "    return [w[0].text for w in computed_similarities[:10]]"
   ]
  },
  {
   "cell_type": "code",
   "execution_count": 45,
   "id": "c4e80cb3",
   "metadata": {
    "execution": {
     "iopub.execute_input": "2023-07-16T17:57:21.737470Z",
     "iopub.status.busy": "2023-07-16T17:57:21.736537Z",
     "iopub.status.idle": "2023-07-16T17:57:21.749796Z",
     "shell.execute_reply": "2023-07-16T17:57:21.748743Z"
    },
    "papermill": {
     "duration": 0.031861,
     "end_time": "2023-07-16T17:57:21.751418",
     "exception": false,
     "start_time": "2023-07-16T17:57:21.719557",
     "status": "completed"
    },
    "tags": []
   },
   "outputs": [
    {
     "data": {
      "text/plain": [
       "['king',\n",
       " 'and',\n",
       " 'that',\n",
       " 'where',\n",
       " 'she',\n",
       " 'they',\n",
       " 'woman',\n",
       " 'there',\n",
       " 'should',\n",
       " 'these']"
      ]
     },
     "execution_count": 45,
     "metadata": {},
     "output_type": "execute_result"
    }
   ],
   "source": [
    "# Test the function on known words:\n",
    "vector_math('king','man','woman')"
   ]
  },
  {
   "cell_type": "markdown",
   "id": "c495ff25",
   "metadata": {
    "papermill": {
     "duration": 0.016067,
     "end_time": "2023-07-16T17:57:21.784011",
     "exception": false,
     "start_time": "2023-07-16T17:57:21.767944",
     "status": "completed"
    },
    "tags": []
   },
   "source": [
    "## Task #2: Perform VADER Sentiment Analysis on your own review\n",
    "Write code that returns a set of SentimentIntensityAnalyzer polarity scores based on your own written review."
   ]
  },
  {
   "cell_type": "code",
   "execution_count": 46,
   "id": "36df46c5",
   "metadata": {
    "execution": {
     "iopub.execute_input": "2023-07-16T17:57:21.820140Z",
     "iopub.status.busy": "2023-07-16T17:57:21.818589Z",
     "iopub.status.idle": "2023-07-16T17:57:21.830995Z",
     "shell.execute_reply": "2023-07-16T17:57:21.829935Z"
    },
    "papermill": {
     "duration": 0.032975,
     "end_time": "2023-07-16T17:57:21.833892",
     "exception": false,
     "start_time": "2023-07-16T17:57:21.800917",
     "status": "completed"
    },
    "tags": []
   },
   "outputs": [],
   "source": [
    "# Import SentimentIntensityAnalyzer and create an sid object\n",
    "from nltk.sentiment.vader import SentimentIntensityAnalyzer\n",
    "\n",
    "sid = SentimentIntensityAnalyzer()"
   ]
  },
  {
   "cell_type": "code",
   "execution_count": 47,
   "id": "22e89c65",
   "metadata": {
    "execution": {
     "iopub.execute_input": "2023-07-16T17:57:21.869161Z",
     "iopub.status.busy": "2023-07-16T17:57:21.868827Z",
     "iopub.status.idle": "2023-07-16T17:57:21.873836Z",
     "shell.execute_reply": "2023-07-16T17:57:21.872343Z"
    },
    "papermill": {
     "duration": 0.024709,
     "end_time": "2023-07-16T17:57:21.875778",
     "exception": false,
     "start_time": "2023-07-16T17:57:21.851069",
     "status": "completed"
    },
    "tags": []
   },
   "outputs": [],
   "source": [
    "# Write a review as one continuous string (multiple sentences are ok)\n",
    "review = 'This movie portrayed real people, and was based on actual events.'"
   ]
  },
  {
   "cell_type": "code",
   "execution_count": 48,
   "id": "ff734b39",
   "metadata": {
    "execution": {
     "iopub.execute_input": "2023-07-16T17:57:21.911008Z",
     "iopub.status.busy": "2023-07-16T17:57:21.910707Z",
     "iopub.status.idle": "2023-07-16T17:57:21.917912Z",
     "shell.execute_reply": "2023-07-16T17:57:21.916744Z"
    },
    "papermill": {
     "duration": 0.027734,
     "end_time": "2023-07-16T17:57:21.920004",
     "exception": false,
     "start_time": "2023-07-16T17:57:21.892270",
     "status": "completed"
    },
    "tags": []
   },
   "outputs": [
    {
     "data": {
      "text/plain": [
       "{'neg': 0.0, 'neu': 1.0, 'pos': 0.0, 'compound': 0.0}"
      ]
     },
     "execution_count": 48,
     "metadata": {},
     "output_type": "execute_result"
    }
   ],
   "source": [
    "# Obtain the sid scores for your review\n",
    "sid.polarity_scores(review)"
   ]
  },
  {
   "cell_type": "markdown",
   "id": "0234f260",
   "metadata": {
    "papermill": {
     "duration": 0.017022,
     "end_time": "2023-07-16T17:57:21.953984",
     "exception": false,
     "start_time": "2023-07-16T17:57:21.936962",
     "status": "completed"
    },
    "tags": []
   },
   "source": [
    "### CHALLENGE: Write a function that takes in a review and returns a score of \"Positive\", \"Negative\" or \"Neutral\""
   ]
  },
  {
   "cell_type": "code",
   "execution_count": 49,
   "id": "a8209417",
   "metadata": {
    "execution": {
     "iopub.execute_input": "2023-07-16T17:57:21.988533Z",
     "iopub.status.busy": "2023-07-16T17:57:21.988215Z",
     "iopub.status.idle": "2023-07-16T17:57:21.993413Z",
     "shell.execute_reply": "2023-07-16T17:57:21.992387Z"
    },
    "papermill": {
     "duration": 0.024311,
     "end_time": "2023-07-16T17:57:21.995108",
     "exception": false,
     "start_time": "2023-07-16T17:57:21.970797",
     "status": "completed"
    },
    "tags": []
   },
   "outputs": [],
   "source": [
    "def review_rating(string):\n",
    "    scores = sid.polarity_scores(string)\n",
    "    if scores['compound'] == 0:\n",
    "        return 'Neutral'\n",
    "    elif scores['compound'] > 0:\n",
    "        return 'Positive'\n",
    "    else:\n",
    "        return 'Negative'"
   ]
  },
  {
   "cell_type": "code",
   "execution_count": 50,
   "id": "09d04f96",
   "metadata": {
    "execution": {
     "iopub.execute_input": "2023-07-16T17:57:22.030157Z",
     "iopub.status.busy": "2023-07-16T17:57:22.029793Z",
     "iopub.status.idle": "2023-07-16T17:57:22.036859Z",
     "shell.execute_reply": "2023-07-16T17:57:22.035683Z"
    },
    "papermill": {
     "duration": 0.027369,
     "end_time": "2023-07-16T17:57:22.038969",
     "exception": false,
     "start_time": "2023-07-16T17:57:22.011600",
     "status": "completed"
    },
    "tags": []
   },
   "outputs": [
    {
     "data": {
      "text/plain": [
       "'Neutral'"
      ]
     },
     "execution_count": 50,
     "metadata": {},
     "output_type": "execute_result"
    }
   ],
   "source": [
    "# Test the function on your review above:\n",
    "review_rating(review)"
   ]
  },
  {
   "cell_type": "code",
   "execution_count": null,
   "id": "d1529882",
   "metadata": {
    "papermill": {
     "duration": 0.016684,
     "end_time": "2023-07-16T17:57:22.073330",
     "exception": false,
     "start_time": "2023-07-16T17:57:22.056646",
     "status": "completed"
    },
    "tags": []
   },
   "outputs": [],
   "source": []
  }
 ],
 "metadata": {
  "kernelspec": {
   "display_name": "Python 3",
   "language": "python",
   "name": "python3"
  },
  "language_info": {
   "codemirror_mode": {
    "name": "ipython",
    "version": 3
   },
   "file_extension": ".py",
   "mimetype": "text/x-python",
   "name": "python",
   "nbconvert_exporter": "python",
   "pygments_lexer": "ipython3",
   "version": "3.10.12"
  },
  "papermill": {
   "default_parameters": {},
   "duration": 63.499335,
   "end_time": "2023-07-16T17:57:25.125590",
   "environment_variables": {},
   "exception": null,
   "input_path": "__notebook__.ipynb",
   "output_path": "__notebook__.ipynb",
   "parameters": {},
   "start_time": "2023-07-16T17:56:21.626255",
   "version": "2.4.0"
  }
 },
 "nbformat": 4,
 "nbformat_minor": 5
}
