{
 "cells": [
  {
   "cell_type": "code",
   "execution_count": 1,
   "id": "29b959f1",
   "metadata": {
    "_cell_guid": "b1076dfc-b9ad-4769-8c92-a6c4dae69d19",
    "_uuid": "8f2839f25d086af736a60e9eeb907d3b93b6e0e5",
    "execution": {
     "iopub.execute_input": "2023-07-22T09:29:34.530073Z",
     "iopub.status.busy": "2023-07-22T09:29:34.529538Z",
     "iopub.status.idle": "2023-07-22T09:29:34.537678Z",
     "shell.execute_reply": "2023-07-22T09:29:34.536857Z"
    },
    "papermill": {
     "duration": 0.030271,
     "end_time": "2023-07-22T09:29:34.539425",
     "exception": false,
     "start_time": "2023-07-22T09:29:34.509154",
     "status": "completed"
    },
    "tags": []
   },
   "outputs": [],
   "source": [
    "import pandas as pd"
   ]
  },
  {
   "cell_type": "markdown",
   "id": "a194f817",
   "metadata": {
    "papermill": {
     "duration": 0.017966,
     "end_time": "2023-07-22T09:29:34.576380",
     "exception": false,
     "start_time": "2023-07-22T09:29:34.558414",
     "status": "completed"
    },
    "tags": []
   },
   "source": [
    "# Latent Dirichlet Allocation\n",
    "## Data"
   ]
  },
  {
   "cell_type": "code",
   "execution_count": 2,
   "id": "6abdf550",
   "metadata": {
    "execution": {
     "iopub.execute_input": "2023-07-22T09:29:34.614822Z",
     "iopub.status.busy": "2023-07-22T09:29:34.614521Z",
     "iopub.status.idle": "2023-07-22T09:29:35.901230Z",
     "shell.execute_reply": "2023-07-22T09:29:35.900265Z"
    },
    "papermill": {
     "duration": 1.308876,
     "end_time": "2023-07-22T09:29:35.903786",
     "exception": false,
     "start_time": "2023-07-22T09:29:34.594910",
     "status": "completed"
    },
    "tags": []
   },
   "outputs": [],
   "source": [
    "npr = pd.read_csv('/kaggle/input/npr-data/npr.csv')"
   ]
  },
  {
   "cell_type": "code",
   "execution_count": 3,
   "id": "43e33e27",
   "metadata": {
    "execution": {
     "iopub.execute_input": "2023-07-22T09:29:35.944026Z",
     "iopub.status.busy": "2023-07-22T09:29:35.943646Z",
     "iopub.status.idle": "2023-07-22T09:29:35.961804Z",
     "shell.execute_reply": "2023-07-22T09:29:35.960898Z"
    },
    "papermill": {
     "duration": 0.039364,
     "end_time": "2023-07-22T09:29:35.963849",
     "exception": false,
     "start_time": "2023-07-22T09:29:35.924485",
     "status": "completed"
    },
    "tags": []
   },
   "outputs": [
    {
     "data": {
      "text/html": [
       "<div>\n",
       "<style scoped>\n",
       "    .dataframe tbody tr th:only-of-type {\n",
       "        vertical-align: middle;\n",
       "    }\n",
       "\n",
       "    .dataframe tbody tr th {\n",
       "        vertical-align: top;\n",
       "    }\n",
       "\n",
       "    .dataframe thead th {\n",
       "        text-align: right;\n",
       "    }\n",
       "</style>\n",
       "<table border=\"1\" class=\"dataframe\">\n",
       "  <thead>\n",
       "    <tr style=\"text-align: right;\">\n",
       "      <th></th>\n",
       "      <th>Article</th>\n",
       "    </tr>\n",
       "  </thead>\n",
       "  <tbody>\n",
       "    <tr>\n",
       "      <th>0</th>\n",
       "      <td>In the Washington of 2016, even when the polic...</td>\n",
       "    </tr>\n",
       "    <tr>\n",
       "      <th>1</th>\n",
       "      <td>Donald Trump has used Twitter  —   his prefe...</td>\n",
       "    </tr>\n",
       "    <tr>\n",
       "      <th>2</th>\n",
       "      <td>Donald Trump is unabashedly praising Russian...</td>\n",
       "    </tr>\n",
       "    <tr>\n",
       "      <th>3</th>\n",
       "      <td>Updated at 2:50 p. m. ET, Russian President Vl...</td>\n",
       "    </tr>\n",
       "    <tr>\n",
       "      <th>4</th>\n",
       "      <td>From photography, illustration and video, to d...</td>\n",
       "    </tr>\n",
       "  </tbody>\n",
       "</table>\n",
       "</div>"
      ],
      "text/plain": [
       "                                             Article\n",
       "0  In the Washington of 2016, even when the polic...\n",
       "1    Donald Trump has used Twitter  —   his prefe...\n",
       "2    Donald Trump is unabashedly praising Russian...\n",
       "3  Updated at 2:50 p. m. ET, Russian President Vl...\n",
       "4  From photography, illustration and video, to d..."
      ]
     },
     "execution_count": 3,
     "metadata": {},
     "output_type": "execute_result"
    }
   ],
   "source": [
    "npr.head()"
   ]
  },
  {
   "cell_type": "markdown",
   "id": "ad7492fb",
   "metadata": {
    "papermill": {
     "duration": 0.018035,
     "end_time": "2023-07-22T09:29:36.000226",
     "exception": false,
     "start_time": "2023-07-22T09:29:35.982191",
     "status": "completed"
    },
    "tags": []
   },
   "source": [
    "## Preprocessing"
   ]
  },
  {
   "cell_type": "code",
   "execution_count": 4,
   "id": "7a75777d",
   "metadata": {
    "execution": {
     "iopub.execute_input": "2023-07-22T09:29:36.038074Z",
     "iopub.status.busy": "2023-07-22T09:29:36.037746Z",
     "iopub.status.idle": "2023-07-22T09:29:37.032629Z",
     "shell.execute_reply": "2023-07-22T09:29:37.030878Z"
    },
    "papermill": {
     "duration": 1.01703,
     "end_time": "2023-07-22T09:29:37.035494",
     "exception": false,
     "start_time": "2023-07-22T09:29:36.018464",
     "status": "completed"
    },
    "tags": []
   },
   "outputs": [
    {
     "name": "stderr",
     "output_type": "stream",
     "text": [
      "/opt/conda/lib/python3.10/site-packages/scipy/__init__.py:146: UserWarning: A NumPy version >=1.16.5 and <1.23.0 is required for this version of SciPy (detected version 1.23.5\n",
      "  warnings.warn(f\"A NumPy version >={np_minversion} and <{np_maxversion}\"\n"
     ]
    }
   ],
   "source": [
    "from sklearn.feature_extraction.text import CountVectorizer"
   ]
  },
  {
   "cell_type": "code",
   "execution_count": 5,
   "id": "60fe7652",
   "metadata": {
    "execution": {
     "iopub.execute_input": "2023-07-22T09:29:37.081001Z",
     "iopub.status.busy": "2023-07-22T09:29:37.080554Z",
     "iopub.status.idle": "2023-07-22T09:29:37.085749Z",
     "shell.execute_reply": "2023-07-22T09:29:37.084493Z"
    },
    "papermill": {
     "duration": 0.030264,
     "end_time": "2023-07-22T09:29:37.088320",
     "exception": false,
     "start_time": "2023-07-22T09:29:37.058056",
     "status": "completed"
    },
    "tags": []
   },
   "outputs": [],
   "source": [
    "cv = CountVectorizer(max_df=0.95, min_df=2, stop_words='english')"
   ]
  },
  {
   "cell_type": "code",
   "execution_count": 6,
   "id": "3d104cbb",
   "metadata": {
    "execution": {
     "iopub.execute_input": "2023-07-22T09:29:37.129917Z",
     "iopub.status.busy": "2023-07-22T09:29:37.129333Z",
     "iopub.status.idle": "2023-07-22T09:29:42.530706Z",
     "shell.execute_reply": "2023-07-22T09:29:42.529898Z"
    },
    "papermill": {
     "duration": 5.426,
     "end_time": "2023-07-22T09:29:42.532923",
     "exception": false,
     "start_time": "2023-07-22T09:29:37.106923",
     "status": "completed"
    },
    "tags": []
   },
   "outputs": [],
   "source": [
    "dtm = cv.fit_transform(npr['Article'])"
   ]
  },
  {
   "cell_type": "code",
   "execution_count": 7,
   "id": "7c096d60",
   "metadata": {
    "execution": {
     "iopub.execute_input": "2023-07-22T09:29:42.572226Z",
     "iopub.status.busy": "2023-07-22T09:29:42.571873Z",
     "iopub.status.idle": "2023-07-22T09:29:42.578843Z",
     "shell.execute_reply": "2023-07-22T09:29:42.578035Z"
    },
    "papermill": {
     "duration": 0.028677,
     "end_time": "2023-07-22T09:29:42.580464",
     "exception": false,
     "start_time": "2023-07-22T09:29:42.551787",
     "status": "completed"
    },
    "tags": []
   },
   "outputs": [
    {
     "data": {
      "text/plain": [
       "<11992x54777 sparse matrix of type '<class 'numpy.int64'>'\n",
       "\twith 3033388 stored elements in Compressed Sparse Row format>"
      ]
     },
     "execution_count": 7,
     "metadata": {},
     "output_type": "execute_result"
    }
   ],
   "source": [
    "dtm"
   ]
  },
  {
   "cell_type": "markdown",
   "id": "36910ab6",
   "metadata": {
    "papermill": {
     "duration": 0.017446,
     "end_time": "2023-07-22T09:29:42.616140",
     "exception": false,
     "start_time": "2023-07-22T09:29:42.598694",
     "status": "completed"
    },
    "tags": []
   },
   "source": [
    "## LDA"
   ]
  },
  {
   "cell_type": "code",
   "execution_count": 8,
   "id": "229287a3",
   "metadata": {
    "execution": {
     "iopub.execute_input": "2023-07-22T09:29:42.653222Z",
     "iopub.status.busy": "2023-07-22T09:29:42.652683Z",
     "iopub.status.idle": "2023-07-22T09:29:42.882536Z",
     "shell.execute_reply": "2023-07-22T09:29:42.881220Z"
    },
    "papermill": {
     "duration": 0.251172,
     "end_time": "2023-07-22T09:29:42.884938",
     "exception": false,
     "start_time": "2023-07-22T09:29:42.633766",
     "status": "completed"
    },
    "tags": []
   },
   "outputs": [],
   "source": [
    "from sklearn.decomposition import LatentDirichletAllocation"
   ]
  },
  {
   "cell_type": "code",
   "execution_count": 9,
   "id": "0031089f",
   "metadata": {
    "execution": {
     "iopub.execute_input": "2023-07-22T09:29:42.923459Z",
     "iopub.status.busy": "2023-07-22T09:29:42.922930Z",
     "iopub.status.idle": "2023-07-22T09:29:42.926870Z",
     "shell.execute_reply": "2023-07-22T09:29:42.926230Z"
    },
    "papermill": {
     "duration": 0.02474,
     "end_time": "2023-07-22T09:29:42.928525",
     "exception": false,
     "start_time": "2023-07-22T09:29:42.903785",
     "status": "completed"
    },
    "tags": []
   },
   "outputs": [],
   "source": [
    "LDA = LatentDirichletAllocation(n_components=7,random_state=42)"
   ]
  },
  {
   "cell_type": "code",
   "execution_count": 10,
   "id": "4f2a8676",
   "metadata": {
    "execution": {
     "iopub.execute_input": "2023-07-22T09:29:42.967433Z",
     "iopub.status.busy": "2023-07-22T09:29:42.966831Z",
     "iopub.status.idle": "2023-07-22T09:31:08.755520Z",
     "shell.execute_reply": "2023-07-22T09:31:08.754787Z"
    },
    "papermill": {
     "duration": 85.825999,
     "end_time": "2023-07-22T09:31:08.773006",
     "exception": false,
     "start_time": "2023-07-22T09:29:42.947007",
     "status": "completed"
    },
    "tags": []
   },
   "outputs": [
    {
     "data": {
      "text/html": [
       "<style>#sk-container-id-1 {color: black;background-color: white;}#sk-container-id-1 pre{padding: 0;}#sk-container-id-1 div.sk-toggleable {background-color: white;}#sk-container-id-1 label.sk-toggleable__label {cursor: pointer;display: block;width: 100%;margin-bottom: 0;padding: 0.3em;box-sizing: border-box;text-align: center;}#sk-container-id-1 label.sk-toggleable__label-arrow:before {content: \"▸\";float: left;margin-right: 0.25em;color: #696969;}#sk-container-id-1 label.sk-toggleable__label-arrow:hover:before {color: black;}#sk-container-id-1 div.sk-estimator:hover label.sk-toggleable__label-arrow:before {color: black;}#sk-container-id-1 div.sk-toggleable__content {max-height: 0;max-width: 0;overflow: hidden;text-align: left;background-color: #f0f8ff;}#sk-container-id-1 div.sk-toggleable__content pre {margin: 0.2em;color: black;border-radius: 0.25em;background-color: #f0f8ff;}#sk-container-id-1 input.sk-toggleable__control:checked~div.sk-toggleable__content {max-height: 200px;max-width: 100%;overflow: auto;}#sk-container-id-1 input.sk-toggleable__control:checked~label.sk-toggleable__label-arrow:before {content: \"▾\";}#sk-container-id-1 div.sk-estimator input.sk-toggleable__control:checked~label.sk-toggleable__label {background-color: #d4ebff;}#sk-container-id-1 div.sk-label input.sk-toggleable__control:checked~label.sk-toggleable__label {background-color: #d4ebff;}#sk-container-id-1 input.sk-hidden--visually {border: 0;clip: rect(1px 1px 1px 1px);clip: rect(1px, 1px, 1px, 1px);height: 1px;margin: -1px;overflow: hidden;padding: 0;position: absolute;width: 1px;}#sk-container-id-1 div.sk-estimator {font-family: monospace;background-color: #f0f8ff;border: 1px dotted black;border-radius: 0.25em;box-sizing: border-box;margin-bottom: 0.5em;}#sk-container-id-1 div.sk-estimator:hover {background-color: #d4ebff;}#sk-container-id-1 div.sk-parallel-item::after {content: \"\";width: 100%;border-bottom: 1px solid gray;flex-grow: 1;}#sk-container-id-1 div.sk-label:hover label.sk-toggleable__label {background-color: #d4ebff;}#sk-container-id-1 div.sk-serial::before {content: \"\";position: absolute;border-left: 1px solid gray;box-sizing: border-box;top: 0;bottom: 0;left: 50%;z-index: 0;}#sk-container-id-1 div.sk-serial {display: flex;flex-direction: column;align-items: center;background-color: white;padding-right: 0.2em;padding-left: 0.2em;position: relative;}#sk-container-id-1 div.sk-item {position: relative;z-index: 1;}#sk-container-id-1 div.sk-parallel {display: flex;align-items: stretch;justify-content: center;background-color: white;position: relative;}#sk-container-id-1 div.sk-item::before, #sk-container-id-1 div.sk-parallel-item::before {content: \"\";position: absolute;border-left: 1px solid gray;box-sizing: border-box;top: 0;bottom: 0;left: 50%;z-index: -1;}#sk-container-id-1 div.sk-parallel-item {display: flex;flex-direction: column;z-index: 1;position: relative;background-color: white;}#sk-container-id-1 div.sk-parallel-item:first-child::after {align-self: flex-end;width: 50%;}#sk-container-id-1 div.sk-parallel-item:last-child::after {align-self: flex-start;width: 50%;}#sk-container-id-1 div.sk-parallel-item:only-child::after {width: 0;}#sk-container-id-1 div.sk-dashed-wrapped {border: 1px dashed gray;margin: 0 0.4em 0.5em 0.4em;box-sizing: border-box;padding-bottom: 0.4em;background-color: white;}#sk-container-id-1 div.sk-label label {font-family: monospace;font-weight: bold;display: inline-block;line-height: 1.2em;}#sk-container-id-1 div.sk-label-container {text-align: center;}#sk-container-id-1 div.sk-container {/* jupyter's `normalize.less` sets `[hidden] { display: none; }` but bootstrap.min.css set `[hidden] { display: none !important; }` so we also need the `!important` here to be able to override the default hidden behavior on the sphinx rendered scikit-learn.org. See: https://github.com/scikit-learn/scikit-learn/issues/21755 */display: inline-block !important;position: relative;}#sk-container-id-1 div.sk-text-repr-fallback {display: none;}</style><div id=\"sk-container-id-1\" class=\"sk-top-container\"><div class=\"sk-text-repr-fallback\"><pre>LatentDirichletAllocation(n_components=7, random_state=42)</pre><b>In a Jupyter environment, please rerun this cell to show the HTML representation or trust the notebook. <br />On GitHub, the HTML representation is unable to render, please try loading this page with nbviewer.org.</b></div><div class=\"sk-container\" hidden><div class=\"sk-item\"><div class=\"sk-estimator sk-toggleable\"><input class=\"sk-toggleable__control sk-hidden--visually\" id=\"sk-estimator-id-1\" type=\"checkbox\" checked><label for=\"sk-estimator-id-1\" class=\"sk-toggleable__label sk-toggleable__label-arrow\">LatentDirichletAllocation</label><div class=\"sk-toggleable__content\"><pre>LatentDirichletAllocation(n_components=7, random_state=42)</pre></div></div></div></div></div>"
      ],
      "text/plain": [
       "LatentDirichletAllocation(n_components=7, random_state=42)"
      ]
     },
     "execution_count": 10,
     "metadata": {},
     "output_type": "execute_result"
    }
   ],
   "source": [
    "# This can take awhile, we're dealing with a large amount of documents!\n",
    "LDA.fit(dtm)"
   ]
  },
  {
   "cell_type": "markdown",
   "id": "9a4e7163",
   "metadata": {
    "papermill": {
     "duration": 0.018465,
     "end_time": "2023-07-22T09:31:08.810014",
     "exception": false,
     "start_time": "2023-07-22T09:31:08.791549",
     "status": "completed"
    },
    "tags": []
   },
   "source": [
    "## Showing Stored Words"
   ]
  },
  {
   "cell_type": "code",
   "execution_count": 11,
   "id": "2ac829ef",
   "metadata": {
    "execution": {
     "iopub.execute_input": "2023-07-22T09:31:08.850359Z",
     "iopub.status.busy": "2023-07-22T09:31:08.849813Z",
     "iopub.status.idle": "2023-07-22T09:31:08.895239Z",
     "shell.execute_reply": "2023-07-22T09:31:08.894253Z"
    },
    "papermill": {
     "duration": 0.067787,
     "end_time": "2023-07-22T09:31:08.897106",
     "exception": false,
     "start_time": "2023-07-22T09:31:08.829319",
     "status": "completed"
    },
    "tags": []
   },
   "outputs": [
    {
     "data": {
      "text/plain": [
       "54777"
      ]
     },
     "execution_count": 11,
     "metadata": {},
     "output_type": "execute_result"
    }
   ],
   "source": [
    "len(cv.get_feature_names_out())"
   ]
  },
  {
   "cell_type": "code",
   "execution_count": 12,
   "id": "305853d8",
   "metadata": {
    "execution": {
     "iopub.execute_input": "2023-07-22T09:31:08.935005Z",
     "iopub.status.busy": "2023-07-22T09:31:08.934644Z",
     "iopub.status.idle": "2023-07-22T09:31:08.939011Z",
     "shell.execute_reply": "2023-07-22T09:31:08.937674Z"
    },
    "papermill": {
     "duration": 0.025273,
     "end_time": "2023-07-22T09:31:08.940704",
     "exception": false,
     "start_time": "2023-07-22T09:31:08.915431",
     "status": "completed"
    },
    "tags": []
   },
   "outputs": [],
   "source": [
    "import random"
   ]
  },
  {
   "cell_type": "code",
   "execution_count": 13,
   "id": "c4af4c6e",
   "metadata": {
    "execution": {
     "iopub.execute_input": "2023-07-22T09:31:08.986002Z",
     "iopub.status.busy": "2023-07-22T09:31:08.984324Z",
     "iopub.status.idle": "2023-07-22T09:31:09.360684Z",
     "shell.execute_reply": "2023-07-22T09:31:09.359737Z"
    },
    "papermill": {
     "duration": 0.402054,
     "end_time": "2023-07-22T09:31:09.362992",
     "exception": false,
     "start_time": "2023-07-22T09:31:08.960938",
     "status": "completed"
    },
    "tags": []
   },
   "outputs": [
    {
     "name": "stdout",
     "output_type": "stream",
     "text": [
      "mattos\n",
      "obsolete\n",
      "dissuade\n",
      "obligation\n",
      "covfefe\n",
      "iodine\n",
      "inviting\n",
      "bungled\n",
      "timesbestseller\n",
      "leah\n"
     ]
    }
   ],
   "source": [
    "for i in range(10):\n",
    "    random_word_id = random.randint(0,54776)\n",
    "    print(cv.get_feature_names_out()[random_word_id])"
   ]
  },
  {
   "cell_type": "markdown",
   "id": "527858a9",
   "metadata": {
    "papermill": {
     "duration": 0.018388,
     "end_time": "2023-07-22T09:31:09.400527",
     "exception": false,
     "start_time": "2023-07-22T09:31:09.382139",
     "status": "completed"
    },
    "tags": []
   },
   "source": [
    "### Showing Top Words Per Topic"
   ]
  },
  {
   "cell_type": "code",
   "execution_count": 14,
   "id": "f4f9dc6d",
   "metadata": {
    "execution": {
     "iopub.execute_input": "2023-07-22T09:31:09.438394Z",
     "iopub.status.busy": "2023-07-22T09:31:09.438105Z",
     "iopub.status.idle": "2023-07-22T09:31:09.443035Z",
     "shell.execute_reply": "2023-07-22T09:31:09.442219Z"
    },
    "papermill": {
     "duration": 0.025872,
     "end_time": "2023-07-22T09:31:09.444739",
     "exception": false,
     "start_time": "2023-07-22T09:31:09.418867",
     "status": "completed"
    },
    "tags": []
   },
   "outputs": [
    {
     "data": {
      "text/plain": [
       "7"
      ]
     },
     "execution_count": 14,
     "metadata": {},
     "output_type": "execute_result"
    }
   ],
   "source": [
    "len(LDA.components_)"
   ]
  },
  {
   "cell_type": "code",
   "execution_count": 15,
   "id": "4fce00c0",
   "metadata": {
    "execution": {
     "iopub.execute_input": "2023-07-22T09:31:09.482970Z",
     "iopub.status.busy": "2023-07-22T09:31:09.482451Z",
     "iopub.status.idle": "2023-07-22T09:31:09.488169Z",
     "shell.execute_reply": "2023-07-22T09:31:09.487491Z"
    },
    "papermill": {
     "duration": 0.026739,
     "end_time": "2023-07-22T09:31:09.489756",
     "exception": false,
     "start_time": "2023-07-22T09:31:09.463017",
     "status": "completed"
    },
    "tags": []
   },
   "outputs": [
    {
     "data": {
      "text/plain": [
       "array([[8.64332806e+00, 2.38014333e+03, 1.42900522e-01, ...,\n",
       "        1.43006821e-01, 1.42902042e-01, 1.42861626e-01],\n",
       "       [2.76191749e+01, 5.36394437e+02, 1.42857148e-01, ...,\n",
       "        1.42861973e-01, 1.42857147e-01, 1.42906875e-01],\n",
       "       [7.22783888e+00, 8.24033986e+02, 1.42857148e-01, ...,\n",
       "        6.14236247e+00, 2.14061364e+00, 1.42923753e-01],\n",
       "       ...,\n",
       "       [3.11488651e+00, 3.50409655e+02, 1.42857147e-01, ...,\n",
       "        1.42859912e-01, 1.42857146e-01, 1.42866614e-01],\n",
       "       [4.61486388e+01, 5.14408600e+01, 3.14281373e+00, ...,\n",
       "        1.43107628e-01, 1.43902481e-01, 2.14271779e+00],\n",
       "       [4.93991422e-01, 4.18841042e+02, 1.42857151e-01, ...,\n",
       "        1.42857146e-01, 1.43760101e-01, 1.42866201e-01]])"
      ]
     },
     "execution_count": 15,
     "metadata": {},
     "output_type": "execute_result"
    }
   ],
   "source": [
    "LDA.components_"
   ]
  },
  {
   "cell_type": "code",
   "execution_count": 16,
   "id": "c2ec47cd",
   "metadata": {
    "execution": {
     "iopub.execute_input": "2023-07-22T09:31:09.529762Z",
     "iopub.status.busy": "2023-07-22T09:31:09.529210Z",
     "iopub.status.idle": "2023-07-22T09:31:09.534510Z",
     "shell.execute_reply": "2023-07-22T09:31:09.533893Z"
    },
    "papermill": {
     "duration": 0.027202,
     "end_time": "2023-07-22T09:31:09.536121",
     "exception": false,
     "start_time": "2023-07-22T09:31:09.508919",
     "status": "completed"
    },
    "tags": []
   },
   "outputs": [
    {
     "data": {
      "text/plain": [
       "54777"
      ]
     },
     "execution_count": 16,
     "metadata": {},
     "output_type": "execute_result"
    }
   ],
   "source": [
    "len(LDA.components_[0])"
   ]
  },
  {
   "cell_type": "code",
   "execution_count": 17,
   "id": "66aa4a55",
   "metadata": {
    "execution": {
     "iopub.execute_input": "2023-07-22T09:31:09.576657Z",
     "iopub.status.busy": "2023-07-22T09:31:09.576287Z",
     "iopub.status.idle": "2023-07-22T09:31:09.581354Z",
     "shell.execute_reply": "2023-07-22T09:31:09.580115Z"
    },
    "papermill": {
     "duration": 0.029266,
     "end_time": "2023-07-22T09:31:09.584319",
     "exception": false,
     "start_time": "2023-07-22T09:31:09.555053",
     "status": "completed"
    },
    "tags": []
   },
   "outputs": [],
   "source": [
    "single_topic = LDA.components_[0]"
   ]
  },
  {
   "cell_type": "code",
   "execution_count": 18,
   "id": "0f19371d",
   "metadata": {
    "execution": {
     "iopub.execute_input": "2023-07-22T09:31:09.626068Z",
     "iopub.status.busy": "2023-07-22T09:31:09.625426Z",
     "iopub.status.idle": "2023-07-22T09:31:09.636641Z",
     "shell.execute_reply": "2023-07-22T09:31:09.635754Z"
    },
    "papermill": {
     "duration": 0.033643,
     "end_time": "2023-07-22T09:31:09.638467",
     "exception": false,
     "start_time": "2023-07-22T09:31:09.604824",
     "status": "completed"
    },
    "tags": []
   },
   "outputs": [
    {
     "data": {
      "text/plain": [
       "array([ 2475, 18302, 35285, ..., 22673, 42561, 42993])"
      ]
     },
     "execution_count": 18,
     "metadata": {},
     "output_type": "execute_result"
    }
   ],
   "source": [
    "# Returns the indices that would sort this array.\n",
    "single_topic.argsort()"
   ]
  },
  {
   "cell_type": "code",
   "execution_count": 19,
   "id": "4d10ae32",
   "metadata": {
    "execution": {
     "iopub.execute_input": "2023-07-22T09:31:09.680148Z",
     "iopub.status.busy": "2023-07-22T09:31:09.679603Z",
     "iopub.status.idle": "2023-07-22T09:31:09.684704Z",
     "shell.execute_reply": "2023-07-22T09:31:09.683876Z"
    },
    "papermill": {
     "duration": 0.028299,
     "end_time": "2023-07-22T09:31:09.687525",
     "exception": false,
     "start_time": "2023-07-22T09:31:09.659226",
     "status": "completed"
    },
    "tags": []
   },
   "outputs": [
    {
     "data": {
      "text/plain": [
       "0.14285714309286987"
      ]
     },
     "execution_count": 19,
     "metadata": {},
     "output_type": "execute_result"
    }
   ],
   "source": [
    "# Word least representative of this topic\n",
    "single_topic[18302]"
   ]
  },
  {
   "cell_type": "code",
   "execution_count": 20,
   "id": "accff0f3",
   "metadata": {
    "execution": {
     "iopub.execute_input": "2023-07-22T09:31:09.728141Z",
     "iopub.status.busy": "2023-07-22T09:31:09.727744Z",
     "iopub.status.idle": "2023-07-22T09:31:09.732775Z",
     "shell.execute_reply": "2023-07-22T09:31:09.732200Z"
    },
    "papermill": {
     "duration": 0.026953,
     "end_time": "2023-07-22T09:31:09.734613",
     "exception": false,
     "start_time": "2023-07-22T09:31:09.707660",
     "status": "completed"
    },
    "tags": []
   },
   "outputs": [
    {
     "data": {
      "text/plain": [
       "6247.245510521079"
      ]
     },
     "execution_count": 20,
     "metadata": {},
     "output_type": "execute_result"
    }
   ],
   "source": [
    "# Word most representative of this topic\n",
    "single_topic[42993]"
   ]
  },
  {
   "cell_type": "code",
   "execution_count": 21,
   "id": "b54c7e74",
   "metadata": {
    "execution": {
     "iopub.execute_input": "2023-07-22T09:31:09.775350Z",
     "iopub.status.busy": "2023-07-22T09:31:09.774715Z",
     "iopub.status.idle": "2023-07-22T09:31:09.785861Z",
     "shell.execute_reply": "2023-07-22T09:31:09.784965Z"
    },
    "papermill": {
     "duration": 0.033877,
     "end_time": "2023-07-22T09:31:09.788030",
     "exception": false,
     "start_time": "2023-07-22T09:31:09.754153",
     "status": "completed"
    },
    "tags": []
   },
   "outputs": [
    {
     "data": {
      "text/plain": [
       "array([33390, 36310, 21228, 10425, 31464,  8149, 36283, 22673, 42561,\n",
       "       42993])"
      ]
     },
     "execution_count": 21,
     "metadata": {},
     "output_type": "execute_result"
    }
   ],
   "source": [
    "# Top 10 words for this topic:\n",
    "single_topic.argsort()[-10:]"
   ]
  },
  {
   "cell_type": "code",
   "execution_count": 22,
   "id": "11bafba1",
   "metadata": {
    "execution": {
     "iopub.execute_input": "2023-07-22T09:31:09.829098Z",
     "iopub.status.busy": "2023-07-22T09:31:09.828720Z",
     "iopub.status.idle": "2023-07-22T09:31:09.837987Z",
     "shell.execute_reply": "2023-07-22T09:31:09.837295Z"
    },
    "papermill": {
     "duration": 0.032316,
     "end_time": "2023-07-22T09:31:09.840224",
     "exception": false,
     "start_time": "2023-07-22T09:31:09.807908",
     "status": "completed"
    },
    "tags": []
   },
   "outputs": [],
   "source": [
    "top_word_indices = single_topic.argsort()[-10:]"
   ]
  },
  {
   "cell_type": "code",
   "execution_count": 23,
   "id": "1826f1cb",
   "metadata": {
    "execution": {
     "iopub.execute_input": "2023-07-22T09:31:09.881184Z",
     "iopub.status.busy": "2023-07-22T09:31:09.880600Z",
     "iopub.status.idle": "2023-07-22T09:31:10.204512Z",
     "shell.execute_reply": "2023-07-22T09:31:10.203166Z"
    },
    "papermill": {
     "duration": 0.346661,
     "end_time": "2023-07-22T09:31:10.206781",
     "exception": false,
     "start_time": "2023-07-22T09:31:09.860120",
     "status": "completed"
    },
    "tags": []
   },
   "outputs": [
    {
     "name": "stdout",
     "output_type": "stream",
     "text": [
      "new\n",
      "percent\n",
      "government\n",
      "company\n",
      "million\n",
      "care\n",
      "people\n",
      "health\n",
      "said\n",
      "says\n"
     ]
    }
   ],
   "source": [
    "for index in top_word_indices:\n",
    "    print(cv.get_feature_names_out()[index])"
   ]
  },
  {
   "cell_type": "code",
   "execution_count": 24,
   "id": "1a9fdbdf",
   "metadata": {
    "execution": {
     "iopub.execute_input": "2023-07-22T09:31:10.248134Z",
     "iopub.status.busy": "2023-07-22T09:31:10.247383Z",
     "iopub.status.idle": "2023-07-22T09:31:14.181179Z",
     "shell.execute_reply": "2023-07-22T09:31:14.180246Z"
    },
    "papermill": {
     "duration": 3.956193,
     "end_time": "2023-07-22T09:31:14.183175",
     "exception": false,
     "start_time": "2023-07-22T09:31:10.226982",
     "status": "completed"
    },
    "tags": []
   },
   "outputs": [
    {
     "name": "stdout",
     "output_type": "stream",
     "text": [
      "THE TOP 15 WORDS FOR TOPIC #0\n",
      "['companies', 'money', 'year', 'federal', '000', 'new', 'percent', 'government', 'company', 'million', 'care', 'people', 'health', 'said', 'says']\n",
      "\n",
      "\n",
      "THE TOP 15 WORDS FOR TOPIC #1\n",
      "['military', 'house', 'security', 'russia', 'government', 'npr', 'reports', 'says', 'news', 'people', 'told', 'police', 'president', 'trump', 'said']\n",
      "\n",
      "\n",
      "THE TOP 15 WORDS FOR TOPIC #2\n",
      "['way', 'world', 'family', 'home', 'day', 'time', 'water', 'city', 'new', 'years', 'food', 'just', 'people', 'like', 'says']\n",
      "\n",
      "\n",
      "THE TOP 15 WORDS FOR TOPIC #3\n",
      "['time', 'new', 'don', 'years', 'medical', 'disease', 'patients', 'just', 'children', 'study', 'like', 'women', 'health', 'people', 'says']\n",
      "\n",
      "\n",
      "THE TOP 15 WORDS FOR TOPIC #4\n",
      "['voters', 'vote', 'election', 'party', 'new', 'obama', 'court', 'republican', 'campaign', 'people', 'state', 'president', 'clinton', 'said', 'trump']\n",
      "\n",
      "\n",
      "THE TOP 15 WORDS FOR TOPIC #5\n",
      "['years', 'going', 've', 'life', 'don', 'new', 'way', 'music', 'really', 'time', 'know', 'think', 'people', 'just', 'like']\n",
      "\n",
      "\n",
      "THE TOP 15 WORDS FOR TOPIC #6\n",
      "['student', 'years', 'data', 'science', 'university', 'people', 'time', 'schools', 'just', 'education', 'new', 'like', 'students', 'school', 'says']\n",
      "\n",
      "\n"
     ]
    }
   ],
   "source": [
    "for index,topic in enumerate(LDA.components_):\n",
    "    print(f'THE TOP 15 WORDS FOR TOPIC #{index}')\n",
    "    print([cv.get_feature_names_out()[i] for i in topic.argsort()[-15:]])\n",
    "    print('\\n')"
   ]
  },
  {
   "cell_type": "markdown",
   "id": "0867bef6",
   "metadata": {
    "papermill": {
     "duration": 0.019959,
     "end_time": "2023-07-22T09:31:14.223525",
     "exception": false,
     "start_time": "2023-07-22T09:31:14.203566",
     "status": "completed"
    },
    "tags": []
   },
   "source": [
    "These look like business articles perhaps... Let's confirm by using .transform() on our vectorized articles to attach a label number. But first, let's view all the 10 topics found."
   ]
  },
  {
   "cell_type": "markdown",
   "id": "0a9b66d9",
   "metadata": {
    "papermill": {
     "duration": 0.019796,
     "end_time": "2023-07-22T09:31:14.264120",
     "exception": false,
     "start_time": "2023-07-22T09:31:14.244324",
     "status": "completed"
    },
    "tags": []
   },
   "source": [
    "### Attaching Discovered Topic Labels to Original Articles"
   ]
  },
  {
   "cell_type": "code",
   "execution_count": 25,
   "id": "9a0211ed",
   "metadata": {
    "execution": {
     "iopub.execute_input": "2023-07-22T09:31:14.306703Z",
     "iopub.status.busy": "2023-07-22T09:31:14.305503Z",
     "iopub.status.idle": "2023-07-22T09:31:14.311662Z",
     "shell.execute_reply": "2023-07-22T09:31:14.311050Z"
    },
    "papermill": {
     "duration": 0.028915,
     "end_time": "2023-07-22T09:31:14.313332",
     "exception": false,
     "start_time": "2023-07-22T09:31:14.284417",
     "status": "completed"
    },
    "tags": []
   },
   "outputs": [
    {
     "data": {
      "text/plain": [
       "<11992x54777 sparse matrix of type '<class 'numpy.int64'>'\n",
       "\twith 3033388 stored elements in Compressed Sparse Row format>"
      ]
     },
     "execution_count": 25,
     "metadata": {},
     "output_type": "execute_result"
    }
   ],
   "source": [
    "dtm"
   ]
  },
  {
   "cell_type": "code",
   "execution_count": 26,
   "id": "72c555b7",
   "metadata": {
    "execution": {
     "iopub.execute_input": "2023-07-22T09:31:14.355631Z",
     "iopub.status.busy": "2023-07-22T09:31:14.354527Z",
     "iopub.status.idle": "2023-07-22T09:31:14.360745Z",
     "shell.execute_reply": "2023-07-22T09:31:14.359869Z"
    },
    "papermill": {
     "duration": 0.029839,
     "end_time": "2023-07-22T09:31:14.363248",
     "exception": false,
     "start_time": "2023-07-22T09:31:14.333409",
     "status": "completed"
    },
    "tags": []
   },
   "outputs": [
    {
     "data": {
      "text/plain": [
       "(11992, 54777)"
      ]
     },
     "execution_count": 26,
     "metadata": {},
     "output_type": "execute_result"
    }
   ],
   "source": [
    "dtm.shape"
   ]
  },
  {
   "cell_type": "code",
   "execution_count": 27,
   "id": "4fed7ae1",
   "metadata": {
    "execution": {
     "iopub.execute_input": "2023-07-22T09:31:14.404818Z",
     "iopub.status.busy": "2023-07-22T09:31:14.404498Z",
     "iopub.status.idle": "2023-07-22T09:31:14.410975Z",
     "shell.execute_reply": "2023-07-22T09:31:14.410001Z"
    },
    "papermill": {
     "duration": 0.029206,
     "end_time": "2023-07-22T09:31:14.412658",
     "exception": false,
     "start_time": "2023-07-22T09:31:14.383452",
     "status": "completed"
    },
    "tags": []
   },
   "outputs": [
    {
     "data": {
      "text/plain": [
       "11992"
      ]
     },
     "execution_count": 27,
     "metadata": {},
     "output_type": "execute_result"
    }
   ],
   "source": [
    "len(npr)"
   ]
  },
  {
   "cell_type": "code",
   "execution_count": 28,
   "id": "9434da35",
   "metadata": {
    "execution": {
     "iopub.execute_input": "2023-07-22T09:31:14.455536Z",
     "iopub.status.busy": "2023-07-22T09:31:14.455157Z",
     "iopub.status.idle": "2023-07-22T09:31:19.994602Z",
     "shell.execute_reply": "2023-07-22T09:31:19.993819Z"
    },
    "papermill": {
     "duration": 5.562698,
     "end_time": "2023-07-22T09:31:19.996528",
     "exception": false,
     "start_time": "2023-07-22T09:31:14.433830",
     "status": "completed"
    },
    "tags": []
   },
   "outputs": [],
   "source": [
    "topic_results = LDA.transform(dtm)"
   ]
  },
  {
   "cell_type": "code",
   "execution_count": 29,
   "id": "fabb5445",
   "metadata": {
    "execution": {
     "iopub.execute_input": "2023-07-22T09:31:20.037261Z",
     "iopub.status.busy": "2023-07-22T09:31:20.036957Z",
     "iopub.status.idle": "2023-07-22T09:31:20.043271Z",
     "shell.execute_reply": "2023-07-22T09:31:20.042444Z"
    },
    "papermill": {
     "duration": 0.029434,
     "end_time": "2023-07-22T09:31:20.045771",
     "exception": false,
     "start_time": "2023-07-22T09:31:20.016337",
     "status": "completed"
    },
    "tags": []
   },
   "outputs": [
    {
     "data": {
      "text/plain": [
       "(11992, 7)"
      ]
     },
     "execution_count": 29,
     "metadata": {},
     "output_type": "execute_result"
    }
   ],
   "source": [
    "topic_results.shape"
   ]
  },
  {
   "cell_type": "code",
   "execution_count": 30,
   "id": "51b505b2",
   "metadata": {
    "execution": {
     "iopub.execute_input": "2023-07-22T09:31:20.088752Z",
     "iopub.status.busy": "2023-07-22T09:31:20.088255Z",
     "iopub.status.idle": "2023-07-22T09:31:20.092934Z",
     "shell.execute_reply": "2023-07-22T09:31:20.092336Z"
    },
    "papermill": {
     "duration": 0.027886,
     "end_time": "2023-07-22T09:31:20.094389",
     "exception": false,
     "start_time": "2023-07-22T09:31:20.066503",
     "status": "completed"
    },
    "tags": []
   },
   "outputs": [
    {
     "data": {
      "text/plain": [
       "array([1.61040465e-02, 6.83341493e-01, 2.25376318e-04, 2.25369288e-04,\n",
       "       2.99652737e-01, 2.25479379e-04, 2.25497980e-04])"
      ]
     },
     "execution_count": 30,
     "metadata": {},
     "output_type": "execute_result"
    }
   ],
   "source": [
    "topic_results[0]"
   ]
  },
  {
   "cell_type": "code",
   "execution_count": 31,
   "id": "06a9a627",
   "metadata": {
    "execution": {
     "iopub.execute_input": "2023-07-22T09:31:20.137373Z",
     "iopub.status.busy": "2023-07-22T09:31:20.136735Z",
     "iopub.status.idle": "2023-07-22T09:31:20.144252Z",
     "shell.execute_reply": "2023-07-22T09:31:20.143256Z"
    },
    "papermill": {
     "duration": 0.031455,
     "end_time": "2023-07-22T09:31:20.146116",
     "exception": false,
     "start_time": "2023-07-22T09:31:20.114661",
     "status": "completed"
    },
    "tags": []
   },
   "outputs": [
    {
     "data": {
      "text/plain": [
       "array([0.02, 0.68, 0.  , 0.  , 0.3 , 0.  , 0.  ])"
      ]
     },
     "execution_count": 31,
     "metadata": {},
     "output_type": "execute_result"
    }
   ],
   "source": [
    "topic_results[0].round(2)"
   ]
  },
  {
   "cell_type": "code",
   "execution_count": 32,
   "id": "3efd2830",
   "metadata": {
    "execution": {
     "iopub.execute_input": "2023-07-22T09:31:20.188779Z",
     "iopub.status.busy": "2023-07-22T09:31:20.188360Z",
     "iopub.status.idle": "2023-07-22T09:31:20.193611Z",
     "shell.execute_reply": "2023-07-22T09:31:20.192958Z"
    },
    "papermill": {
     "duration": 0.028363,
     "end_time": "2023-07-22T09:31:20.195381",
     "exception": false,
     "start_time": "2023-07-22T09:31:20.167018",
     "status": "completed"
    },
    "tags": []
   },
   "outputs": [
    {
     "data": {
      "text/plain": [
       "1"
      ]
     },
     "execution_count": 32,
     "metadata": {},
     "output_type": "execute_result"
    }
   ],
   "source": [
    "topic_results[0].argmax()"
   ]
  },
  {
   "cell_type": "markdown",
   "id": "3d9160d8",
   "metadata": {
    "papermill": {
     "duration": 0.019846,
     "end_time": "2023-07-22T09:31:20.235673",
     "exception": false,
     "start_time": "2023-07-22T09:31:20.215827",
     "status": "completed"
    },
    "tags": []
   },
   "source": [
    "This means that our model thinks that the first article belongs to topic #1."
   ]
  },
  {
   "cell_type": "markdown",
   "id": "5137b3ef",
   "metadata": {
    "papermill": {
     "duration": 0.020093,
     "end_time": "2023-07-22T09:31:20.276102",
     "exception": false,
     "start_time": "2023-07-22T09:31:20.256009",
     "status": "completed"
    },
    "tags": []
   },
   "source": [
    "### Combining with Original Data"
   ]
  },
  {
   "cell_type": "code",
   "execution_count": 33,
   "id": "b54dc4bd",
   "metadata": {
    "execution": {
     "iopub.execute_input": "2023-07-22T09:31:20.318382Z",
     "iopub.status.busy": "2023-07-22T09:31:20.318035Z",
     "iopub.status.idle": "2023-07-22T09:31:20.327128Z",
     "shell.execute_reply": "2023-07-22T09:31:20.326167Z"
    },
    "papermill": {
     "duration": 0.032476,
     "end_time": "2023-07-22T09:31:20.328862",
     "exception": false,
     "start_time": "2023-07-22T09:31:20.296386",
     "status": "completed"
    },
    "tags": []
   },
   "outputs": [
    {
     "data": {
      "text/html": [
       "<div>\n",
       "<style scoped>\n",
       "    .dataframe tbody tr th:only-of-type {\n",
       "        vertical-align: middle;\n",
       "    }\n",
       "\n",
       "    .dataframe tbody tr th {\n",
       "        vertical-align: top;\n",
       "    }\n",
       "\n",
       "    .dataframe thead th {\n",
       "        text-align: right;\n",
       "    }\n",
       "</style>\n",
       "<table border=\"1\" class=\"dataframe\">\n",
       "  <thead>\n",
       "    <tr style=\"text-align: right;\">\n",
       "      <th></th>\n",
       "      <th>Article</th>\n",
       "    </tr>\n",
       "  </thead>\n",
       "  <tbody>\n",
       "    <tr>\n",
       "      <th>0</th>\n",
       "      <td>In the Washington of 2016, even when the polic...</td>\n",
       "    </tr>\n",
       "    <tr>\n",
       "      <th>1</th>\n",
       "      <td>Donald Trump has used Twitter  —   his prefe...</td>\n",
       "    </tr>\n",
       "    <tr>\n",
       "      <th>2</th>\n",
       "      <td>Donald Trump is unabashedly praising Russian...</td>\n",
       "    </tr>\n",
       "    <tr>\n",
       "      <th>3</th>\n",
       "      <td>Updated at 2:50 p. m. ET, Russian President Vl...</td>\n",
       "    </tr>\n",
       "    <tr>\n",
       "      <th>4</th>\n",
       "      <td>From photography, illustration and video, to d...</td>\n",
       "    </tr>\n",
       "  </tbody>\n",
       "</table>\n",
       "</div>"
      ],
      "text/plain": [
       "                                             Article\n",
       "0  In the Washington of 2016, even when the polic...\n",
       "1    Donald Trump has used Twitter  —   his prefe...\n",
       "2    Donald Trump is unabashedly praising Russian...\n",
       "3  Updated at 2:50 p. m. ET, Russian President Vl...\n",
       "4  From photography, illustration and video, to d..."
      ]
     },
     "execution_count": 33,
     "metadata": {},
     "output_type": "execute_result"
    }
   ],
   "source": [
    "npr.head()"
   ]
  },
  {
   "cell_type": "code",
   "execution_count": 34,
   "id": "c6cf8d0d",
   "metadata": {
    "execution": {
     "iopub.execute_input": "2023-07-22T09:31:20.373236Z",
     "iopub.status.busy": "2023-07-22T09:31:20.372085Z",
     "iopub.status.idle": "2023-07-22T09:31:20.378420Z",
     "shell.execute_reply": "2023-07-22T09:31:20.377810Z"
    },
    "papermill": {
     "duration": 0.030082,
     "end_time": "2023-07-22T09:31:20.380003",
     "exception": false,
     "start_time": "2023-07-22T09:31:20.349921",
     "status": "completed"
    },
    "tags": []
   },
   "outputs": [
    {
     "data": {
      "text/plain": [
       "array([1, 1, 1, ..., 3, 4, 0])"
      ]
     },
     "execution_count": 34,
     "metadata": {},
     "output_type": "execute_result"
    }
   ],
   "source": [
    "topic_results.argmax(axis=1)"
   ]
  },
  {
   "cell_type": "code",
   "execution_count": 35,
   "id": "d93988a9",
   "metadata": {
    "execution": {
     "iopub.execute_input": "2023-07-22T09:31:20.424151Z",
     "iopub.status.busy": "2023-07-22T09:31:20.423255Z",
     "iopub.status.idle": "2023-07-22T09:31:20.428417Z",
     "shell.execute_reply": "2023-07-22T09:31:20.427782Z"
    },
    "papermill": {
     "duration": 0.028646,
     "end_time": "2023-07-22T09:31:20.429976",
     "exception": false,
     "start_time": "2023-07-22T09:31:20.401330",
     "status": "completed"
    },
    "tags": []
   },
   "outputs": [],
   "source": [
    "npr['Topic'] = topic_results.argmax(axis=1)"
   ]
  },
  {
   "cell_type": "code",
   "execution_count": 36,
   "id": "282196ea",
   "metadata": {
    "execution": {
     "iopub.execute_input": "2023-07-22T09:31:20.473078Z",
     "iopub.status.busy": "2023-07-22T09:31:20.472172Z",
     "iopub.status.idle": "2023-07-22T09:31:20.481249Z",
     "shell.execute_reply": "2023-07-22T09:31:20.480234Z"
    },
    "papermill": {
     "duration": 0.03187,
     "end_time": "2023-07-22T09:31:20.482773",
     "exception": false,
     "start_time": "2023-07-22T09:31:20.450903",
     "status": "completed"
    },
    "tags": []
   },
   "outputs": [
    {
     "data": {
      "text/html": [
       "<div>\n",
       "<style scoped>\n",
       "    .dataframe tbody tr th:only-of-type {\n",
       "        vertical-align: middle;\n",
       "    }\n",
       "\n",
       "    .dataframe tbody tr th {\n",
       "        vertical-align: top;\n",
       "    }\n",
       "\n",
       "    .dataframe thead th {\n",
       "        text-align: right;\n",
       "    }\n",
       "</style>\n",
       "<table border=\"1\" class=\"dataframe\">\n",
       "  <thead>\n",
       "    <tr style=\"text-align: right;\">\n",
       "      <th></th>\n",
       "      <th>Article</th>\n",
       "      <th>Topic</th>\n",
       "    </tr>\n",
       "  </thead>\n",
       "  <tbody>\n",
       "    <tr>\n",
       "      <th>0</th>\n",
       "      <td>In the Washington of 2016, even when the polic...</td>\n",
       "      <td>1</td>\n",
       "    </tr>\n",
       "    <tr>\n",
       "      <th>1</th>\n",
       "      <td>Donald Trump has used Twitter  —   his prefe...</td>\n",
       "      <td>1</td>\n",
       "    </tr>\n",
       "    <tr>\n",
       "      <th>2</th>\n",
       "      <td>Donald Trump is unabashedly praising Russian...</td>\n",
       "      <td>1</td>\n",
       "    </tr>\n",
       "    <tr>\n",
       "      <th>3</th>\n",
       "      <td>Updated at 2:50 p. m. ET, Russian President Vl...</td>\n",
       "      <td>1</td>\n",
       "    </tr>\n",
       "    <tr>\n",
       "      <th>4</th>\n",
       "      <td>From photography, illustration and video, to d...</td>\n",
       "      <td>2</td>\n",
       "    </tr>\n",
       "    <tr>\n",
       "      <th>5</th>\n",
       "      <td>I did not want to join yoga class. I hated tho...</td>\n",
       "      <td>3</td>\n",
       "    </tr>\n",
       "    <tr>\n",
       "      <th>6</th>\n",
       "      <td>With a   who has publicly supported the debunk...</td>\n",
       "      <td>3</td>\n",
       "    </tr>\n",
       "    <tr>\n",
       "      <th>7</th>\n",
       "      <td>I was standing by the airport exit, debating w...</td>\n",
       "      <td>2</td>\n",
       "    </tr>\n",
       "    <tr>\n",
       "      <th>8</th>\n",
       "      <td>If movies were trying to be more realistic, pe...</td>\n",
       "      <td>3</td>\n",
       "    </tr>\n",
       "    <tr>\n",
       "      <th>9</th>\n",
       "      <td>Eighteen years ago, on New Year’s Eve, David F...</td>\n",
       "      <td>2</td>\n",
       "    </tr>\n",
       "  </tbody>\n",
       "</table>\n",
       "</div>"
      ],
      "text/plain": [
       "                                             Article  Topic\n",
       "0  In the Washington of 2016, even when the polic...      1\n",
       "1    Donald Trump has used Twitter  —   his prefe...      1\n",
       "2    Donald Trump is unabashedly praising Russian...      1\n",
       "3  Updated at 2:50 p. m. ET, Russian President Vl...      1\n",
       "4  From photography, illustration and video, to d...      2\n",
       "5  I did not want to join yoga class. I hated tho...      3\n",
       "6  With a   who has publicly supported the debunk...      3\n",
       "7  I was standing by the airport exit, debating w...      2\n",
       "8  If movies were trying to be more realistic, pe...      3\n",
       "9  Eighteen years ago, on New Year’s Eve, David F...      2"
      ]
     },
     "execution_count": 36,
     "metadata": {},
     "output_type": "execute_result"
    }
   ],
   "source": [
    "npr.head(10)"
   ]
  },
  {
   "cell_type": "markdown",
   "id": "18bff99f",
   "metadata": {
    "papermill": {
     "duration": 0.020255,
     "end_time": "2023-07-22T09:31:20.523625",
     "exception": false,
     "start_time": "2023-07-22T09:31:20.503370",
     "status": "completed"
    },
    "tags": []
   },
   "source": [
    "# Non-Negative Matric Factorization\n",
    "\n",
    "Let's repeat thet opic modeling task from the previous lecture, but this time, we will use NMF instead of LDA."
   ]
  },
  {
   "cell_type": "code",
   "execution_count": 37,
   "id": "65c14d50",
   "metadata": {
    "execution": {
     "iopub.execute_input": "2023-07-22T09:31:20.565921Z",
     "iopub.status.busy": "2023-07-22T09:31:20.565407Z",
     "iopub.status.idle": "2023-07-22T09:31:20.570647Z",
     "shell.execute_reply": "2023-07-22T09:31:20.569631Z"
    },
    "papermill": {
     "duration": 0.028742,
     "end_time": "2023-07-22T09:31:20.572821",
     "exception": false,
     "start_time": "2023-07-22T09:31:20.544079",
     "status": "completed"
    },
    "tags": []
   },
   "outputs": [],
   "source": [
    "import pandas as pd"
   ]
  },
  {
   "cell_type": "code",
   "execution_count": 38,
   "id": "f34d641a",
   "metadata": {
    "execution": {
     "iopub.execute_input": "2023-07-22T09:31:20.618695Z",
     "iopub.status.busy": "2023-07-22T09:31:20.618360Z",
     "iopub.status.idle": "2023-07-22T09:31:21.185104Z",
     "shell.execute_reply": "2023-07-22T09:31:21.184105Z"
    },
    "papermill": {
     "duration": 0.591903,
     "end_time": "2023-07-22T09:31:21.187150",
     "exception": false,
     "start_time": "2023-07-22T09:31:20.595247",
     "status": "completed"
    },
    "tags": []
   },
   "outputs": [],
   "source": [
    "npr = pd.read_csv('/kaggle/input/npr-data/npr.csv')"
   ]
  },
  {
   "cell_type": "code",
   "execution_count": 39,
   "id": "6e81eb3e",
   "metadata": {
    "execution": {
     "iopub.execute_input": "2023-07-22T09:31:21.231075Z",
     "iopub.status.busy": "2023-07-22T09:31:21.230451Z",
     "iopub.status.idle": "2023-07-22T09:31:21.238027Z",
     "shell.execute_reply": "2023-07-22T09:31:21.237353Z"
    },
    "papermill": {
     "duration": 0.031183,
     "end_time": "2023-07-22T09:31:21.239640",
     "exception": false,
     "start_time": "2023-07-22T09:31:21.208457",
     "status": "completed"
    },
    "tags": []
   },
   "outputs": [
    {
     "data": {
      "text/html": [
       "<div>\n",
       "<style scoped>\n",
       "    .dataframe tbody tr th:only-of-type {\n",
       "        vertical-align: middle;\n",
       "    }\n",
       "\n",
       "    .dataframe tbody tr th {\n",
       "        vertical-align: top;\n",
       "    }\n",
       "\n",
       "    .dataframe thead th {\n",
       "        text-align: right;\n",
       "    }\n",
       "</style>\n",
       "<table border=\"1\" class=\"dataframe\">\n",
       "  <thead>\n",
       "    <tr style=\"text-align: right;\">\n",
       "      <th></th>\n",
       "      <th>Article</th>\n",
       "    </tr>\n",
       "  </thead>\n",
       "  <tbody>\n",
       "    <tr>\n",
       "      <th>0</th>\n",
       "      <td>In the Washington of 2016, even when the polic...</td>\n",
       "    </tr>\n",
       "    <tr>\n",
       "      <th>1</th>\n",
       "      <td>Donald Trump has used Twitter  —   his prefe...</td>\n",
       "    </tr>\n",
       "    <tr>\n",
       "      <th>2</th>\n",
       "      <td>Donald Trump is unabashedly praising Russian...</td>\n",
       "    </tr>\n",
       "    <tr>\n",
       "      <th>3</th>\n",
       "      <td>Updated at 2:50 p. m. ET, Russian President Vl...</td>\n",
       "    </tr>\n",
       "    <tr>\n",
       "      <th>4</th>\n",
       "      <td>From photography, illustration and video, to d...</td>\n",
       "    </tr>\n",
       "  </tbody>\n",
       "</table>\n",
       "</div>"
      ],
      "text/plain": [
       "                                             Article\n",
       "0  In the Washington of 2016, even when the polic...\n",
       "1    Donald Trump has used Twitter  —   his prefe...\n",
       "2    Donald Trump is unabashedly praising Russian...\n",
       "3  Updated at 2:50 p. m. ET, Russian President Vl...\n",
       "4  From photography, illustration and video, to d..."
      ]
     },
     "execution_count": 39,
     "metadata": {},
     "output_type": "execute_result"
    }
   ],
   "source": [
    "npr.head()"
   ]
  },
  {
   "cell_type": "markdown",
   "id": "ce1bf1c0",
   "metadata": {
    "papermill": {
     "duration": 0.020754,
     "end_time": "2023-07-22T09:31:21.281995",
     "exception": false,
     "start_time": "2023-07-22T09:31:21.261241",
     "status": "completed"
    },
    "tags": []
   },
   "source": [
    "## Preprocessing"
   ]
  },
  {
   "cell_type": "code",
   "execution_count": 40,
   "id": "dc06cd8a",
   "metadata": {
    "execution": {
     "iopub.execute_input": "2023-07-22T09:31:21.325043Z",
     "iopub.status.busy": "2023-07-22T09:31:21.324503Z",
     "iopub.status.idle": "2023-07-22T09:31:21.328795Z",
     "shell.execute_reply": "2023-07-22T09:31:21.327792Z"
    },
    "papermill": {
     "duration": 0.027839,
     "end_time": "2023-07-22T09:31:21.330417",
     "exception": false,
     "start_time": "2023-07-22T09:31:21.302578",
     "status": "completed"
    },
    "tags": []
   },
   "outputs": [],
   "source": [
    "from sklearn.feature_extraction.text import TfidfVectorizer"
   ]
  },
  {
   "cell_type": "markdown",
   "id": "1643d90a",
   "metadata": {
    "papermill": {
     "duration": 0.021061,
     "end_time": "2023-07-22T09:31:21.372623",
     "exception": false,
     "start_time": "2023-07-22T09:31:21.351562",
     "status": "completed"
    },
    "tags": []
   },
   "source": [
    "**`max_df`**` : float in range [0.0, 1.0] or int, default=1.0`<br>\n",
    "When building the vocabulary ignore terms that have a document frequency strictly higher than the given threshold (corpus-specific stop words). If float, the parameter represents a proportion of documents, integer absolute counts. This parameter is ignored if vocabulary is not None.\n",
    "\n",
    "**`min_df`**` : float in range [0.0, 1.0] or int, default=1`<br>\n",
    "When building the vocabulary ignore terms that have a document frequency strictly lower than the given threshold. This value is also called cut-off in the literature. If float, the parameter represents a proportion of documents, integer absolute counts. This parameter is ignored if vocabulary is not None."
   ]
  },
  {
   "cell_type": "code",
   "execution_count": 41,
   "id": "e887bc04",
   "metadata": {
    "execution": {
     "iopub.execute_input": "2023-07-22T09:31:21.417577Z",
     "iopub.status.busy": "2023-07-22T09:31:21.416938Z",
     "iopub.status.idle": "2023-07-22T09:31:21.420714Z",
     "shell.execute_reply": "2023-07-22T09:31:21.420097Z"
    },
    "papermill": {
     "duration": 0.028152,
     "end_time": "2023-07-22T09:31:21.422302",
     "exception": false,
     "start_time": "2023-07-22T09:31:21.394150",
     "status": "completed"
    },
    "tags": []
   },
   "outputs": [],
   "source": [
    "tfidf = TfidfVectorizer(max_df=0.95, min_df=2, stop_words='english')"
   ]
  },
  {
   "cell_type": "code",
   "execution_count": 42,
   "id": "3d40136c",
   "metadata": {
    "execution": {
     "iopub.execute_input": "2023-07-22T09:31:21.467110Z",
     "iopub.status.busy": "2023-07-22T09:31:21.466328Z",
     "iopub.status.idle": "2023-07-22T09:31:26.895411Z",
     "shell.execute_reply": "2023-07-22T09:31:26.894623Z"
    },
    "papermill": {
     "duration": 5.453691,
     "end_time": "2023-07-22T09:31:26.897508",
     "exception": false,
     "start_time": "2023-07-22T09:31:21.443817",
     "status": "completed"
    },
    "tags": []
   },
   "outputs": [],
   "source": [
    "dtm = tfidf.fit_transform(npr['Article'])"
   ]
  },
  {
   "cell_type": "code",
   "execution_count": 43,
   "id": "59a06029",
   "metadata": {
    "execution": {
     "iopub.execute_input": "2023-07-22T09:31:26.940881Z",
     "iopub.status.busy": "2023-07-22T09:31:26.940459Z",
     "iopub.status.idle": "2023-07-22T09:31:26.947405Z",
     "shell.execute_reply": "2023-07-22T09:31:26.946033Z"
    },
    "papermill": {
     "duration": 0.030474,
     "end_time": "2023-07-22T09:31:26.949290",
     "exception": false,
     "start_time": "2023-07-22T09:31:26.918816",
     "status": "completed"
    },
    "tags": []
   },
   "outputs": [
    {
     "data": {
      "text/plain": [
       "<11992x54777 sparse matrix of type '<class 'numpy.float64'>'\n",
       "\twith 3033388 stored elements in Compressed Sparse Row format>"
      ]
     },
     "execution_count": 43,
     "metadata": {},
     "output_type": "execute_result"
    }
   ],
   "source": [
    "dtm"
   ]
  },
  {
   "cell_type": "markdown",
   "id": "0c338be0",
   "metadata": {
    "papermill": {
     "duration": 0.020481,
     "end_time": "2023-07-22T09:31:26.990659",
     "exception": false,
     "start_time": "2023-07-22T09:31:26.970178",
     "status": "completed"
    },
    "tags": []
   },
   "source": [
    "## NMF"
   ]
  },
  {
   "cell_type": "code",
   "execution_count": 44,
   "id": "4466d548",
   "metadata": {
    "execution": {
     "iopub.execute_input": "2023-07-22T09:31:27.033693Z",
     "iopub.status.busy": "2023-07-22T09:31:27.033310Z",
     "iopub.status.idle": "2023-07-22T09:31:27.037568Z",
     "shell.execute_reply": "2023-07-22T09:31:27.036681Z"
    },
    "papermill": {
     "duration": 0.029124,
     "end_time": "2023-07-22T09:31:27.040304",
     "exception": false,
     "start_time": "2023-07-22T09:31:27.011180",
     "status": "completed"
    },
    "tags": []
   },
   "outputs": [],
   "source": [
    "from sklearn.decomposition import NMF"
   ]
  },
  {
   "cell_type": "code",
   "execution_count": 45,
   "id": "b48ff859",
   "metadata": {
    "execution": {
     "iopub.execute_input": "2023-07-22T09:31:27.087195Z",
     "iopub.status.busy": "2023-07-22T09:31:27.086493Z",
     "iopub.status.idle": "2023-07-22T09:31:27.090978Z",
     "shell.execute_reply": "2023-07-22T09:31:27.090070Z"
    },
    "papermill": {
     "duration": 0.029339,
     "end_time": "2023-07-22T09:31:27.092915",
     "exception": false,
     "start_time": "2023-07-22T09:31:27.063576",
     "status": "completed"
    },
    "tags": []
   },
   "outputs": [],
   "source": [
    "nmf_model = NMF(n_components=7,random_state=42)"
   ]
  },
  {
   "cell_type": "code",
   "execution_count": 46,
   "id": "d12af84e",
   "metadata": {
    "execution": {
     "iopub.execute_input": "2023-07-22T09:31:27.142651Z",
     "iopub.status.busy": "2023-07-22T09:31:27.142234Z",
     "iopub.status.idle": "2023-07-22T09:31:32.547305Z",
     "shell.execute_reply": "2023-07-22T09:31:32.546575Z"
    },
    "papermill": {
     "duration": 5.434099,
     "end_time": "2023-07-22T09:31:32.549155",
     "exception": false,
     "start_time": "2023-07-22T09:31:27.115056",
     "status": "completed"
    },
    "tags": []
   },
   "outputs": [
    {
     "data": {
      "text/html": [
       "<style>#sk-container-id-2 {color: black;background-color: white;}#sk-container-id-2 pre{padding: 0;}#sk-container-id-2 div.sk-toggleable {background-color: white;}#sk-container-id-2 label.sk-toggleable__label {cursor: pointer;display: block;width: 100%;margin-bottom: 0;padding: 0.3em;box-sizing: border-box;text-align: center;}#sk-container-id-2 label.sk-toggleable__label-arrow:before {content: \"▸\";float: left;margin-right: 0.25em;color: #696969;}#sk-container-id-2 label.sk-toggleable__label-arrow:hover:before {color: black;}#sk-container-id-2 div.sk-estimator:hover label.sk-toggleable__label-arrow:before {color: black;}#sk-container-id-2 div.sk-toggleable__content {max-height: 0;max-width: 0;overflow: hidden;text-align: left;background-color: #f0f8ff;}#sk-container-id-2 div.sk-toggleable__content pre {margin: 0.2em;color: black;border-radius: 0.25em;background-color: #f0f8ff;}#sk-container-id-2 input.sk-toggleable__control:checked~div.sk-toggleable__content {max-height: 200px;max-width: 100%;overflow: auto;}#sk-container-id-2 input.sk-toggleable__control:checked~label.sk-toggleable__label-arrow:before {content: \"▾\";}#sk-container-id-2 div.sk-estimator input.sk-toggleable__control:checked~label.sk-toggleable__label {background-color: #d4ebff;}#sk-container-id-2 div.sk-label input.sk-toggleable__control:checked~label.sk-toggleable__label {background-color: #d4ebff;}#sk-container-id-2 input.sk-hidden--visually {border: 0;clip: rect(1px 1px 1px 1px);clip: rect(1px, 1px, 1px, 1px);height: 1px;margin: -1px;overflow: hidden;padding: 0;position: absolute;width: 1px;}#sk-container-id-2 div.sk-estimator {font-family: monospace;background-color: #f0f8ff;border: 1px dotted black;border-radius: 0.25em;box-sizing: border-box;margin-bottom: 0.5em;}#sk-container-id-2 div.sk-estimator:hover {background-color: #d4ebff;}#sk-container-id-2 div.sk-parallel-item::after {content: \"\";width: 100%;border-bottom: 1px solid gray;flex-grow: 1;}#sk-container-id-2 div.sk-label:hover label.sk-toggleable__label {background-color: #d4ebff;}#sk-container-id-2 div.sk-serial::before {content: \"\";position: absolute;border-left: 1px solid gray;box-sizing: border-box;top: 0;bottom: 0;left: 50%;z-index: 0;}#sk-container-id-2 div.sk-serial {display: flex;flex-direction: column;align-items: center;background-color: white;padding-right: 0.2em;padding-left: 0.2em;position: relative;}#sk-container-id-2 div.sk-item {position: relative;z-index: 1;}#sk-container-id-2 div.sk-parallel {display: flex;align-items: stretch;justify-content: center;background-color: white;position: relative;}#sk-container-id-2 div.sk-item::before, #sk-container-id-2 div.sk-parallel-item::before {content: \"\";position: absolute;border-left: 1px solid gray;box-sizing: border-box;top: 0;bottom: 0;left: 50%;z-index: -1;}#sk-container-id-2 div.sk-parallel-item {display: flex;flex-direction: column;z-index: 1;position: relative;background-color: white;}#sk-container-id-2 div.sk-parallel-item:first-child::after {align-self: flex-end;width: 50%;}#sk-container-id-2 div.sk-parallel-item:last-child::after {align-self: flex-start;width: 50%;}#sk-container-id-2 div.sk-parallel-item:only-child::after {width: 0;}#sk-container-id-2 div.sk-dashed-wrapped {border: 1px dashed gray;margin: 0 0.4em 0.5em 0.4em;box-sizing: border-box;padding-bottom: 0.4em;background-color: white;}#sk-container-id-2 div.sk-label label {font-family: monospace;font-weight: bold;display: inline-block;line-height: 1.2em;}#sk-container-id-2 div.sk-label-container {text-align: center;}#sk-container-id-2 div.sk-container {/* jupyter's `normalize.less` sets `[hidden] { display: none; }` but bootstrap.min.css set `[hidden] { display: none !important; }` so we also need the `!important` here to be able to override the default hidden behavior on the sphinx rendered scikit-learn.org. See: https://github.com/scikit-learn/scikit-learn/issues/21755 */display: inline-block !important;position: relative;}#sk-container-id-2 div.sk-text-repr-fallback {display: none;}</style><div id=\"sk-container-id-2\" class=\"sk-top-container\"><div class=\"sk-text-repr-fallback\"><pre>NMF(n_components=7, random_state=42)</pre><b>In a Jupyter environment, please rerun this cell to show the HTML representation or trust the notebook. <br />On GitHub, the HTML representation is unable to render, please try loading this page with nbviewer.org.</b></div><div class=\"sk-container\" hidden><div class=\"sk-item\"><div class=\"sk-estimator sk-toggleable\"><input class=\"sk-toggleable__control sk-hidden--visually\" id=\"sk-estimator-id-2\" type=\"checkbox\" checked><label for=\"sk-estimator-id-2\" class=\"sk-toggleable__label sk-toggleable__label-arrow\">NMF</label><div class=\"sk-toggleable__content\"><pre>NMF(n_components=7, random_state=42)</pre></div></div></div></div></div>"
      ],
      "text/plain": [
       "NMF(n_components=7, random_state=42)"
      ]
     },
     "execution_count": 46,
     "metadata": {},
     "output_type": "execute_result"
    }
   ],
   "source": [
    "# This can take awhile, we're dealing with a large amount of documents!\n",
    "nmf_model.fit(dtm)"
   ]
  },
  {
   "cell_type": "markdown",
   "id": "fcd86c3f",
   "metadata": {
    "papermill": {
     "duration": 0.027863,
     "end_time": "2023-07-22T09:31:32.606169",
     "exception": false,
     "start_time": "2023-07-22T09:31:32.578306",
     "status": "completed"
    },
    "tags": []
   },
   "source": [
    "## Displaying Topics"
   ]
  },
  {
   "cell_type": "code",
   "execution_count": 47,
   "id": "a70f8b96",
   "metadata": {
    "execution": {
     "iopub.execute_input": "2023-07-22T09:31:32.661600Z",
     "iopub.status.busy": "2023-07-22T09:31:32.661269Z",
     "iopub.status.idle": "2023-07-22T09:31:32.705748Z",
     "shell.execute_reply": "2023-07-22T09:31:32.704633Z"
    },
    "papermill": {
     "duration": 0.074418,
     "end_time": "2023-07-22T09:31:32.707570",
     "exception": false,
     "start_time": "2023-07-22T09:31:32.633152",
     "status": "completed"
    },
    "tags": []
   },
   "outputs": [
    {
     "data": {
      "text/plain": [
       "54777"
      ]
     },
     "execution_count": 47,
     "metadata": {},
     "output_type": "execute_result"
    }
   ],
   "source": [
    "len(tfidf.get_feature_names_out())"
   ]
  },
  {
   "cell_type": "code",
   "execution_count": 48,
   "id": "f08c6889",
   "metadata": {
    "execution": {
     "iopub.execute_input": "2023-07-22T09:31:32.752167Z",
     "iopub.status.busy": "2023-07-22T09:31:32.751772Z",
     "iopub.status.idle": "2023-07-22T09:31:32.756013Z",
     "shell.execute_reply": "2023-07-22T09:31:32.755019Z"
    },
    "papermill": {
     "duration": 0.028137,
     "end_time": "2023-07-22T09:31:32.757609",
     "exception": false,
     "start_time": "2023-07-22T09:31:32.729472",
     "status": "completed"
    },
    "tags": []
   },
   "outputs": [],
   "source": [
    "import random"
   ]
  },
  {
   "cell_type": "code",
   "execution_count": 49,
   "id": "306f1f83",
   "metadata": {
    "execution": {
     "iopub.execute_input": "2023-07-22T09:31:32.802256Z",
     "iopub.status.busy": "2023-07-22T09:31:32.801900Z",
     "iopub.status.idle": "2023-07-22T09:31:33.179886Z",
     "shell.execute_reply": "2023-07-22T09:31:33.178623Z"
    },
    "papermill": {
     "duration": 0.403352,
     "end_time": "2023-07-22T09:31:33.182161",
     "exception": false,
     "start_time": "2023-07-22T09:31:32.778809",
     "status": "completed"
    },
    "tags": []
   },
   "outputs": [
    {
     "name": "stdout",
     "output_type": "stream",
     "text": [
      "query\n",
      "si\n",
      "innovative\n",
      "scented\n",
      "deductible\n",
      "shakuhachi\n",
      "rougher\n",
      "ralston\n",
      "unbearable\n",
      "especially\n"
     ]
    }
   ],
   "source": [
    "for i in range(10):\n",
    "    random_word_id = random.randint(0,54776)\n",
    "    print(tfidf.get_feature_names_out()[random_word_id])"
   ]
  },
  {
   "cell_type": "code",
   "execution_count": 50,
   "id": "704506c4",
   "metadata": {
    "execution": {
     "iopub.execute_input": "2023-07-22T09:31:33.226419Z",
     "iopub.status.busy": "2023-07-22T09:31:33.225938Z",
     "iopub.status.idle": "2023-07-22T09:31:33.563424Z",
     "shell.execute_reply": "2023-07-22T09:31:33.562763Z"
    },
    "papermill": {
     "duration": 0.36143,
     "end_time": "2023-07-22T09:31:33.565156",
     "exception": false,
     "start_time": "2023-07-22T09:31:33.203726",
     "status": "completed"
    },
    "tags": []
   },
   "outputs": [
    {
     "name": "stdout",
     "output_type": "stream",
     "text": [
      "irreverence\n",
      "sulking\n",
      "rocinha\n",
      "chafe\n",
      "58th\n",
      "defecting\n",
      "rama\n",
      "nosebleeds\n",
      "rheumatologist\n",
      "rewrote\n"
     ]
    }
   ],
   "source": [
    "for i in range(10):\n",
    "    random_word_id = random.randint(0,54776)\n",
    "    print(tfidf.get_feature_names_out()[random_word_id])"
   ]
  },
  {
   "cell_type": "code",
   "execution_count": 51,
   "id": "191ea86f",
   "metadata": {
    "execution": {
     "iopub.execute_input": "2023-07-22T09:31:33.609813Z",
     "iopub.status.busy": "2023-07-22T09:31:33.609482Z",
     "iopub.status.idle": "2023-07-22T09:31:33.614000Z",
     "shell.execute_reply": "2023-07-22T09:31:33.613412Z"
    },
    "papermill": {
     "duration": 0.028543,
     "end_time": "2023-07-22T09:31:33.615450",
     "exception": false,
     "start_time": "2023-07-22T09:31:33.586907",
     "status": "completed"
    },
    "tags": []
   },
   "outputs": [
    {
     "data": {
      "text/plain": [
       "7"
      ]
     },
     "execution_count": 51,
     "metadata": {},
     "output_type": "execute_result"
    }
   ],
   "source": [
    "len(nmf_model.components_)"
   ]
  },
  {
   "cell_type": "code",
   "execution_count": 52,
   "id": "e0de1165",
   "metadata": {
    "execution": {
     "iopub.execute_input": "2023-07-22T09:31:33.660505Z",
     "iopub.status.busy": "2023-07-22T09:31:33.659630Z",
     "iopub.status.idle": "2023-07-22T09:31:33.665666Z",
     "shell.execute_reply": "2023-07-22T09:31:33.664886Z"
    },
    "papermill": {
     "duration": 0.030345,
     "end_time": "2023-07-22T09:31:33.667449",
     "exception": false,
     "start_time": "2023-07-22T09:31:33.637104",
     "status": "completed"
    },
    "tags": []
   },
   "outputs": [
    {
     "data": {
      "text/plain": [
       "array([[0.00000000e+00, 2.51270507e-01, 0.00000000e+00, ...,\n",
       "        1.71376078e-03, 2.39241571e-04, 0.00000000e+00],\n",
       "       [0.00000000e+00, 0.00000000e+00, 0.00000000e+00, ...,\n",
       "        0.00000000e+00, 0.00000000e+00, 0.00000000e+00],\n",
       "       [0.00000000e+00, 8.23172575e-02, 0.00000000e+00, ...,\n",
       "        0.00000000e+00, 0.00000000e+00, 0.00000000e+00],\n",
       "       ...,\n",
       "       [0.00000000e+00, 3.12287576e-02, 0.00000000e+00, ...,\n",
       "        0.00000000e+00, 0.00000000e+00, 0.00000000e+00],\n",
       "       [5.90615701e-03, 0.00000000e+00, 1.50483058e-03, ...,\n",
       "        7.06176596e-04, 5.86173445e-04, 6.90910657e-04],\n",
       "       [4.01955802e-03, 5.31379095e-02, 0.00000000e+00, ...,\n",
       "        0.00000000e+00, 0.00000000e+00, 0.00000000e+00]])"
      ]
     },
     "execution_count": 52,
     "metadata": {},
     "output_type": "execute_result"
    }
   ],
   "source": [
    "nmf_model.components_"
   ]
  },
  {
   "cell_type": "code",
   "execution_count": 53,
   "id": "76b3cd29",
   "metadata": {
    "execution": {
     "iopub.execute_input": "2023-07-22T09:31:33.713426Z",
     "iopub.status.busy": "2023-07-22T09:31:33.712917Z",
     "iopub.status.idle": "2023-07-22T09:31:33.718162Z",
     "shell.execute_reply": "2023-07-22T09:31:33.717525Z"
    },
    "papermill": {
     "duration": 0.030019,
     "end_time": "2023-07-22T09:31:33.719742",
     "exception": false,
     "start_time": "2023-07-22T09:31:33.689723",
     "status": "completed"
    },
    "tags": []
   },
   "outputs": [
    {
     "data": {
      "text/plain": [
       "54777"
      ]
     },
     "execution_count": 53,
     "metadata": {},
     "output_type": "execute_result"
    }
   ],
   "source": [
    "len(nmf_model.components_[0])"
   ]
  },
  {
   "cell_type": "code",
   "execution_count": 54,
   "id": "d3feda40",
   "metadata": {
    "execution": {
     "iopub.execute_input": "2023-07-22T09:31:33.764164Z",
     "iopub.status.busy": "2023-07-22T09:31:33.763642Z",
     "iopub.status.idle": "2023-07-22T09:31:33.767393Z",
     "shell.execute_reply": "2023-07-22T09:31:33.766781Z"
    },
    "papermill": {
     "duration": 0.027542,
     "end_time": "2023-07-22T09:31:33.768958",
     "exception": false,
     "start_time": "2023-07-22T09:31:33.741416",
     "status": "completed"
    },
    "tags": []
   },
   "outputs": [],
   "source": [
    "single_topic = nmf_model.components_[0]"
   ]
  },
  {
   "cell_type": "code",
   "execution_count": 55,
   "id": "b9d5b0b6",
   "metadata": {
    "execution": {
     "iopub.execute_input": "2023-07-22T09:31:33.813824Z",
     "iopub.status.busy": "2023-07-22T09:31:33.813503Z",
     "iopub.status.idle": "2023-07-22T09:31:33.822512Z",
     "shell.execute_reply": "2023-07-22T09:31:33.821827Z"
    },
    "papermill": {
     "duration": 0.033306,
     "end_time": "2023-07-22T09:31:33.824021",
     "exception": false,
     "start_time": "2023-07-22T09:31:33.790715",
     "status": "completed"
    },
    "tags": []
   },
   "outputs": [
    {
     "data": {
      "text/plain": [
       "array([    0, 27208, 27206, ..., 36283, 54692, 42993])"
      ]
     },
     "execution_count": 55,
     "metadata": {},
     "output_type": "execute_result"
    }
   ],
   "source": [
    "# Returns the indices that would sort this array.\n",
    "single_topic.argsort()"
   ]
  },
  {
   "cell_type": "code",
   "execution_count": 56,
   "id": "796d6e83",
   "metadata": {
    "execution": {
     "iopub.execute_input": "2023-07-22T09:31:33.870081Z",
     "iopub.status.busy": "2023-07-22T09:31:33.869699Z",
     "iopub.status.idle": "2023-07-22T09:31:33.875568Z",
     "shell.execute_reply": "2023-07-22T09:31:33.874591Z"
    },
    "papermill": {
     "duration": 0.030733,
     "end_time": "2023-07-22T09:31:33.877210",
     "exception": false,
     "start_time": "2023-07-22T09:31:33.846477",
     "status": "completed"
    },
    "tags": []
   },
   "outputs": [
    {
     "data": {
      "text/plain": [
       "0.0"
      ]
     },
     "execution_count": 56,
     "metadata": {},
     "output_type": "execute_result"
    }
   ],
   "source": [
    "# Word least representative of this topic\n",
    "single_topic[18302]"
   ]
  },
  {
   "cell_type": "code",
   "execution_count": 57,
   "id": "bb44da58",
   "metadata": {
    "execution": {
     "iopub.execute_input": "2023-07-22T09:31:33.924444Z",
     "iopub.status.busy": "2023-07-22T09:31:33.922548Z",
     "iopub.status.idle": "2023-07-22T09:31:33.929011Z",
     "shell.execute_reply": "2023-07-22T09:31:33.928360Z"
    },
    "papermill": {
     "duration": 0.030708,
     "end_time": "2023-07-22T09:31:33.930585",
     "exception": false,
     "start_time": "2023-07-22T09:31:33.899877",
     "status": "completed"
    },
    "tags": []
   },
   "outputs": [
    {
     "data": {
      "text/plain": [
       "2.016202325291757"
      ]
     },
     "execution_count": 57,
     "metadata": {},
     "output_type": "execute_result"
    }
   ],
   "source": [
    "# Word most representative of this topic\n",
    "single_topic[42993]"
   ]
  },
  {
   "cell_type": "code",
   "execution_count": 58,
   "id": "1656b7d3",
   "metadata": {
    "execution": {
     "iopub.execute_input": "2023-07-22T09:31:33.977115Z",
     "iopub.status.busy": "2023-07-22T09:31:33.976198Z",
     "iopub.status.idle": "2023-07-22T09:31:33.985984Z",
     "shell.execute_reply": "2023-07-22T09:31:33.985170Z"
    },
    "papermill": {
     "duration": 0.034176,
     "end_time": "2023-07-22T09:31:33.987696",
     "exception": false,
     "start_time": "2023-07-22T09:31:33.953520",
     "status": "completed"
    },
    "tags": []
   },
   "outputs": [
    {
     "data": {
      "text/plain": [
       "array([14441, 36310, 53989, 52615, 47218, 53152, 19307, 36283, 54692,\n",
       "       42993])"
      ]
     },
     "execution_count": 58,
     "metadata": {},
     "output_type": "execute_result"
    }
   ],
   "source": [
    "# Top 10 words for this topic:\n",
    "single_topic.argsort()[-10:]"
   ]
  },
  {
   "cell_type": "code",
   "execution_count": 59,
   "id": "446b3344",
   "metadata": {
    "execution": {
     "iopub.execute_input": "2023-07-22T09:31:34.034244Z",
     "iopub.status.busy": "2023-07-22T09:31:34.033637Z",
     "iopub.status.idle": "2023-07-22T09:31:34.041588Z",
     "shell.execute_reply": "2023-07-22T09:31:34.040988Z"
    },
    "papermill": {
     "duration": 0.032818,
     "end_time": "2023-07-22T09:31:34.043209",
     "exception": false,
     "start_time": "2023-07-22T09:31:34.010391",
     "status": "completed"
    },
    "tags": []
   },
   "outputs": [],
   "source": [
    "top_word_indices = single_topic.argsort()[-10:]"
   ]
  },
  {
   "cell_type": "code",
   "execution_count": 60,
   "id": "df296b23",
   "metadata": {
    "execution": {
     "iopub.execute_input": "2023-07-22T09:31:34.089559Z",
     "iopub.status.busy": "2023-07-22T09:31:34.088974Z",
     "iopub.status.idle": "2023-07-22T09:31:34.462564Z",
     "shell.execute_reply": "2023-07-22T09:31:34.461391Z"
    },
    "papermill": {
     "duration": 0.399158,
     "end_time": "2023-07-22T09:31:34.464492",
     "exception": false,
     "start_time": "2023-07-22T09:31:34.065334",
     "status": "completed"
    },
    "tags": []
   },
   "outputs": [
    {
     "name": "stdout",
     "output_type": "stream",
     "text": [
      "disease\n",
      "percent\n",
      "women\n",
      "virus\n",
      "study\n",
      "water\n",
      "food\n",
      "people\n",
      "zika\n",
      "says\n"
     ]
    }
   ],
   "source": [
    "for index in top_word_indices:\n",
    "    print(tfidf.get_feature_names_out()[index])"
   ]
  },
  {
   "cell_type": "code",
   "execution_count": 61,
   "id": "2dcef7a4",
   "metadata": {
    "execution": {
     "iopub.execute_input": "2023-07-22T09:31:34.511990Z",
     "iopub.status.busy": "2023-07-22T09:31:34.511623Z",
     "iopub.status.idle": "2023-07-22T09:31:38.440664Z",
     "shell.execute_reply": "2023-07-22T09:31:38.439284Z"
    },
    "papermill": {
     "duration": 3.956313,
     "end_time": "2023-07-22T09:31:38.443128",
     "exception": false,
     "start_time": "2023-07-22T09:31:34.486815",
     "status": "completed"
    },
    "tags": []
   },
   "outputs": [
    {
     "name": "stdout",
     "output_type": "stream",
     "text": [
      "THE TOP 15 WORDS FOR TOPIC #0\n",
      "['new', 'research', 'like', 'patients', 'health', 'disease', 'percent', 'women', 'virus', 'study', 'water', 'food', 'people', 'zika', 'says']\n",
      "\n",
      "\n",
      "THE TOP 15 WORDS FOR TOPIC #1\n",
      "['gop', 'pence', 'presidential', 'russia', 'administration', 'election', 'republican', 'obama', 'white', 'house', 'donald', 'campaign', 'said', 'president', 'trump']\n",
      "\n",
      "\n",
      "THE TOP 15 WORDS FOR TOPIC #2\n",
      "['senate', 'house', 'people', 'act', 'law', 'tax', 'plan', 'republicans', 'affordable', 'obamacare', 'coverage', 'medicaid', 'insurance', 'care', 'health']\n",
      "\n",
      "\n",
      "THE TOP 15 WORDS FOR TOPIC #3\n",
      "['officers', 'syria', 'security', 'department', 'law', 'isis', 'russia', 'government', 'state', 'attack', 'president', 'reports', 'court', 'said', 'police']\n",
      "\n",
      "\n",
      "THE TOP 15 WORDS FOR TOPIC #4\n",
      "['primary', 'cruz', 'election', 'democrats', 'percent', 'party', 'delegates', 'vote', 'state', 'democratic', 'hillary', 'campaign', 'voters', 'sanders', 'clinton']\n",
      "\n",
      "\n",
      "THE TOP 15 WORDS FOR TOPIC #5\n",
      "['love', 've', 'don', 'album', 'way', 'time', 'song', 'life', 'really', 'know', 'people', 'think', 'just', 'music', 'like']\n",
      "\n",
      "\n",
      "THE TOP 15 WORDS FOR TOPIC #6\n",
      "['teacher', 'state', 'high', 'says', 'parents', 'devos', 'children', 'college', 'kids', 'teachers', 'student', 'education', 'schools', 'school', 'students']\n",
      "\n",
      "\n"
     ]
    }
   ],
   "source": [
    "for index,topic in enumerate(nmf_model.components_):\n",
    "    print(f'THE TOP 15 WORDS FOR TOPIC #{index}')\n",
    "    print([tfidf.get_feature_names_out()[i] for i in topic.argsort()[-15:]])\n",
    "    print('\\n')"
   ]
  },
  {
   "cell_type": "markdown",
   "id": "19035a43",
   "metadata": {
    "papermill": {
     "duration": 0.023654,
     "end_time": "2023-07-22T09:31:38.490662",
     "exception": false,
     "start_time": "2023-07-22T09:31:38.467008",
     "status": "completed"
    },
    "tags": []
   },
   "source": [
    "### Attaching Discovered Topic Labels to Original Articles"
   ]
  },
  {
   "cell_type": "code",
   "execution_count": 62,
   "id": "27647821",
   "metadata": {
    "execution": {
     "iopub.execute_input": "2023-07-22T09:31:38.539471Z",
     "iopub.status.busy": "2023-07-22T09:31:38.539133Z",
     "iopub.status.idle": "2023-07-22T09:31:38.543872Z",
     "shell.execute_reply": "2023-07-22T09:31:38.543255Z"
    },
    "papermill": {
     "duration": 0.032602,
     "end_time": "2023-07-22T09:31:38.546557",
     "exception": false,
     "start_time": "2023-07-22T09:31:38.513955",
     "status": "completed"
    },
    "tags": []
   },
   "outputs": [
    {
     "data": {
      "text/plain": [
       "<11992x54777 sparse matrix of type '<class 'numpy.float64'>'\n",
       "\twith 3033388 stored elements in Compressed Sparse Row format>"
      ]
     },
     "execution_count": 62,
     "metadata": {},
     "output_type": "execute_result"
    }
   ],
   "source": [
    "dtm"
   ]
  },
  {
   "cell_type": "code",
   "execution_count": 63,
   "id": "bd6dc936",
   "metadata": {
    "execution": {
     "iopub.execute_input": "2023-07-22T09:31:38.596129Z",
     "iopub.status.busy": "2023-07-22T09:31:38.595336Z",
     "iopub.status.idle": "2023-07-22T09:31:38.601140Z",
     "shell.execute_reply": "2023-07-22T09:31:38.600181Z"
    },
    "papermill": {
     "duration": 0.032408,
     "end_time": "2023-07-22T09:31:38.602813",
     "exception": false,
     "start_time": "2023-07-22T09:31:38.570405",
     "status": "completed"
    },
    "tags": []
   },
   "outputs": [
    {
     "data": {
      "text/plain": [
       "(11992, 54777)"
      ]
     },
     "execution_count": 63,
     "metadata": {},
     "output_type": "execute_result"
    }
   ],
   "source": [
    "dtm.shape"
   ]
  },
  {
   "cell_type": "code",
   "execution_count": 64,
   "id": "55cafb93",
   "metadata": {
    "execution": {
     "iopub.execute_input": "2023-07-22T09:31:38.651932Z",
     "iopub.status.busy": "2023-07-22T09:31:38.651132Z",
     "iopub.status.idle": "2023-07-22T09:31:38.656306Z",
     "shell.execute_reply": "2023-07-22T09:31:38.655708Z"
    },
    "papermill": {
     "duration": 0.031194,
     "end_time": "2023-07-22T09:31:38.657785",
     "exception": false,
     "start_time": "2023-07-22T09:31:38.626591",
     "status": "completed"
    },
    "tags": []
   },
   "outputs": [
    {
     "data": {
      "text/plain": [
       "11992"
      ]
     },
     "execution_count": 64,
     "metadata": {},
     "output_type": "execute_result"
    }
   ],
   "source": [
    "len(npr)"
   ]
  },
  {
   "cell_type": "code",
   "execution_count": 65,
   "id": "3b44127a",
   "metadata": {
    "execution": {
     "iopub.execute_input": "2023-07-22T09:31:38.708660Z",
     "iopub.status.busy": "2023-07-22T09:31:38.708147Z",
     "iopub.status.idle": "2023-07-22T09:31:38.843615Z",
     "shell.execute_reply": "2023-07-22T09:31:38.842618Z"
    },
    "papermill": {
     "duration": 0.163228,
     "end_time": "2023-07-22T09:31:38.845713",
     "exception": false,
     "start_time": "2023-07-22T09:31:38.682485",
     "status": "completed"
    },
    "tags": []
   },
   "outputs": [],
   "source": [
    "topic_results = nmf_model.transform(dtm)"
   ]
  },
  {
   "cell_type": "code",
   "execution_count": 66,
   "id": "3cca5859",
   "metadata": {
    "execution": {
     "iopub.execute_input": "2023-07-22T09:31:38.893974Z",
     "iopub.status.busy": "2023-07-22T09:31:38.893624Z",
     "iopub.status.idle": "2023-07-22T09:31:38.899096Z",
     "shell.execute_reply": "2023-07-22T09:31:38.898286Z"
    },
    "papermill": {
     "duration": 0.031371,
     "end_time": "2023-07-22T09:31:38.900724",
     "exception": false,
     "start_time": "2023-07-22T09:31:38.869353",
     "status": "completed"
    },
    "tags": []
   },
   "outputs": [
    {
     "data": {
      "text/plain": [
       "(11992, 7)"
      ]
     },
     "execution_count": 66,
     "metadata": {},
     "output_type": "execute_result"
    }
   ],
   "source": [
    "topic_results.shape"
   ]
  },
  {
   "cell_type": "code",
   "execution_count": 67,
   "id": "77240995",
   "metadata": {
    "execution": {
     "iopub.execute_input": "2023-07-22T09:31:38.949503Z",
     "iopub.status.busy": "2023-07-22T09:31:38.949149Z",
     "iopub.status.idle": "2023-07-22T09:31:38.956128Z",
     "shell.execute_reply": "2023-07-22T09:31:38.955263Z"
    },
    "papermill": {
     "duration": 0.033213,
     "end_time": "2023-07-22T09:31:38.957726",
     "exception": false,
     "start_time": "2023-07-22T09:31:38.924513",
     "status": "completed"
    },
    "tags": []
   },
   "outputs": [
    {
     "data": {
      "text/plain": [
       "array([0.        , 0.12079653, 0.00139891, 0.05915242, 0.01519226,\n",
       "       0.        , 0.        ])"
      ]
     },
     "execution_count": 67,
     "metadata": {},
     "output_type": "execute_result"
    }
   ],
   "source": [
    "topic_results[0]"
   ]
  },
  {
   "cell_type": "code",
   "execution_count": 68,
   "id": "136c4257",
   "metadata": {
    "execution": {
     "iopub.execute_input": "2023-07-22T09:31:39.007067Z",
     "iopub.status.busy": "2023-07-22T09:31:39.006290Z",
     "iopub.status.idle": "2023-07-22T09:31:39.012366Z",
     "shell.execute_reply": "2023-07-22T09:31:39.011757Z"
    },
    "papermill": {
     "duration": 0.03252,
     "end_time": "2023-07-22T09:31:39.013976",
     "exception": false,
     "start_time": "2023-07-22T09:31:38.981456",
     "status": "completed"
    },
    "tags": []
   },
   "outputs": [
    {
     "data": {
      "text/plain": [
       "array([0.  , 0.12, 0.  , 0.06, 0.02, 0.  , 0.  ])"
      ]
     },
     "execution_count": 68,
     "metadata": {},
     "output_type": "execute_result"
    }
   ],
   "source": [
    "topic_results[0].round(2)"
   ]
  },
  {
   "cell_type": "code",
   "execution_count": 69,
   "id": "15e17e76",
   "metadata": {
    "execution": {
     "iopub.execute_input": "2023-07-22T09:31:39.063605Z",
     "iopub.status.busy": "2023-07-22T09:31:39.063046Z",
     "iopub.status.idle": "2023-07-22T09:31:39.068153Z",
     "shell.execute_reply": "2023-07-22T09:31:39.067393Z"
    },
    "papermill": {
     "duration": 0.031802,
     "end_time": "2023-07-22T09:31:39.069766",
     "exception": false,
     "start_time": "2023-07-22T09:31:39.037964",
     "status": "completed"
    },
    "tags": []
   },
   "outputs": [
    {
     "data": {
      "text/plain": [
       "1"
      ]
     },
     "execution_count": 69,
     "metadata": {},
     "output_type": "execute_result"
    }
   ],
   "source": [
    "topic_results[0].argmax()"
   ]
  },
  {
   "cell_type": "markdown",
   "id": "f3a0db3e",
   "metadata": {
    "papermill": {
     "duration": 0.023218,
     "end_time": "2023-07-22T09:31:39.117208",
     "exception": false,
     "start_time": "2023-07-22T09:31:39.093990",
     "status": "completed"
    },
    "tags": []
   },
   "source": [
    "### Combining with Original Data"
   ]
  },
  {
   "cell_type": "code",
   "execution_count": 70,
   "id": "2221103a",
   "metadata": {
    "execution": {
     "iopub.execute_input": "2023-07-22T09:31:39.165193Z",
     "iopub.status.busy": "2023-07-22T09:31:39.164667Z",
     "iopub.status.idle": "2023-07-22T09:31:39.171448Z",
     "shell.execute_reply": "2023-07-22T09:31:39.170885Z"
    },
    "papermill": {
     "duration": 0.032674,
     "end_time": "2023-07-22T09:31:39.173119",
     "exception": false,
     "start_time": "2023-07-22T09:31:39.140445",
     "status": "completed"
    },
    "tags": []
   },
   "outputs": [
    {
     "data": {
      "text/html": [
       "<div>\n",
       "<style scoped>\n",
       "    .dataframe tbody tr th:only-of-type {\n",
       "        vertical-align: middle;\n",
       "    }\n",
       "\n",
       "    .dataframe tbody tr th {\n",
       "        vertical-align: top;\n",
       "    }\n",
       "\n",
       "    .dataframe thead th {\n",
       "        text-align: right;\n",
       "    }\n",
       "</style>\n",
       "<table border=\"1\" class=\"dataframe\">\n",
       "  <thead>\n",
       "    <tr style=\"text-align: right;\">\n",
       "      <th></th>\n",
       "      <th>Article</th>\n",
       "    </tr>\n",
       "  </thead>\n",
       "  <tbody>\n",
       "    <tr>\n",
       "      <th>0</th>\n",
       "      <td>In the Washington of 2016, even when the polic...</td>\n",
       "    </tr>\n",
       "    <tr>\n",
       "      <th>1</th>\n",
       "      <td>Donald Trump has used Twitter  —   his prefe...</td>\n",
       "    </tr>\n",
       "    <tr>\n",
       "      <th>2</th>\n",
       "      <td>Donald Trump is unabashedly praising Russian...</td>\n",
       "    </tr>\n",
       "    <tr>\n",
       "      <th>3</th>\n",
       "      <td>Updated at 2:50 p. m. ET, Russian President Vl...</td>\n",
       "    </tr>\n",
       "    <tr>\n",
       "      <th>4</th>\n",
       "      <td>From photography, illustration and video, to d...</td>\n",
       "    </tr>\n",
       "  </tbody>\n",
       "</table>\n",
       "</div>"
      ],
      "text/plain": [
       "                                             Article\n",
       "0  In the Washington of 2016, even when the polic...\n",
       "1    Donald Trump has used Twitter  —   his prefe...\n",
       "2    Donald Trump is unabashedly praising Russian...\n",
       "3  Updated at 2:50 p. m. ET, Russian President Vl...\n",
       "4  From photography, illustration and video, to d..."
      ]
     },
     "execution_count": 70,
     "metadata": {},
     "output_type": "execute_result"
    }
   ],
   "source": [
    "npr.head()"
   ]
  },
  {
   "cell_type": "code",
   "execution_count": 71,
   "id": "3e07b63b",
   "metadata": {
    "execution": {
     "iopub.execute_input": "2023-07-22T09:31:39.223748Z",
     "iopub.status.busy": "2023-07-22T09:31:39.223423Z",
     "iopub.status.idle": "2023-07-22T09:31:39.228416Z",
     "shell.execute_reply": "2023-07-22T09:31:39.227879Z"
    },
    "papermill": {
     "duration": 0.03155,
     "end_time": "2023-07-22T09:31:39.229789",
     "exception": false,
     "start_time": "2023-07-22T09:31:39.198239",
     "status": "completed"
    },
    "tags": []
   },
   "outputs": [
    {
     "data": {
      "text/plain": [
       "array([1, 1, 1, ..., 0, 4, 3])"
      ]
     },
     "execution_count": 71,
     "metadata": {},
     "output_type": "execute_result"
    }
   ],
   "source": [
    "topic_results.argmax(axis=1)"
   ]
  },
  {
   "cell_type": "code",
   "execution_count": 72,
   "id": "237483b6",
   "metadata": {
    "execution": {
     "iopub.execute_input": "2023-07-22T09:31:39.278674Z",
     "iopub.status.busy": "2023-07-22T09:31:39.277815Z",
     "iopub.status.idle": "2023-07-22T09:31:39.282274Z",
     "shell.execute_reply": "2023-07-22T09:31:39.281715Z"
    },
    "papermill": {
     "duration": 0.031061,
     "end_time": "2023-07-22T09:31:39.284271",
     "exception": false,
     "start_time": "2023-07-22T09:31:39.253210",
     "status": "completed"
    },
    "tags": []
   },
   "outputs": [],
   "source": [
    "npr['Topic'] = topic_results.argmax(axis=1)"
   ]
  },
  {
   "cell_type": "code",
   "execution_count": 73,
   "id": "90918be6",
   "metadata": {
    "execution": {
     "iopub.execute_input": "2023-07-22T09:31:39.334807Z",
     "iopub.status.busy": "2023-07-22T09:31:39.334457Z",
     "iopub.status.idle": "2023-07-22T09:31:39.343160Z",
     "shell.execute_reply": "2023-07-22T09:31:39.342506Z"
    },
    "papermill": {
     "duration": 0.036331,
     "end_time": "2023-07-22T09:31:39.344905",
     "exception": false,
     "start_time": "2023-07-22T09:31:39.308574",
     "status": "completed"
    },
    "tags": []
   },
   "outputs": [
    {
     "data": {
      "text/html": [
       "<div>\n",
       "<style scoped>\n",
       "    .dataframe tbody tr th:only-of-type {\n",
       "        vertical-align: middle;\n",
       "    }\n",
       "\n",
       "    .dataframe tbody tr th {\n",
       "        vertical-align: top;\n",
       "    }\n",
       "\n",
       "    .dataframe thead th {\n",
       "        text-align: right;\n",
       "    }\n",
       "</style>\n",
       "<table border=\"1\" class=\"dataframe\">\n",
       "  <thead>\n",
       "    <tr style=\"text-align: right;\">\n",
       "      <th></th>\n",
       "      <th>Article</th>\n",
       "      <th>Topic</th>\n",
       "    </tr>\n",
       "  </thead>\n",
       "  <tbody>\n",
       "    <tr>\n",
       "      <th>0</th>\n",
       "      <td>In the Washington of 2016, even when the polic...</td>\n",
       "      <td>1</td>\n",
       "    </tr>\n",
       "    <tr>\n",
       "      <th>1</th>\n",
       "      <td>Donald Trump has used Twitter  —   his prefe...</td>\n",
       "      <td>1</td>\n",
       "    </tr>\n",
       "    <tr>\n",
       "      <th>2</th>\n",
       "      <td>Donald Trump is unabashedly praising Russian...</td>\n",
       "      <td>1</td>\n",
       "    </tr>\n",
       "    <tr>\n",
       "      <th>3</th>\n",
       "      <td>Updated at 2:50 p. m. ET, Russian President Vl...</td>\n",
       "      <td>3</td>\n",
       "    </tr>\n",
       "    <tr>\n",
       "      <th>4</th>\n",
       "      <td>From photography, illustration and video, to d...</td>\n",
       "      <td>6</td>\n",
       "    </tr>\n",
       "    <tr>\n",
       "      <th>5</th>\n",
       "      <td>I did not want to join yoga class. I hated tho...</td>\n",
       "      <td>5</td>\n",
       "    </tr>\n",
       "    <tr>\n",
       "      <th>6</th>\n",
       "      <td>With a   who has publicly supported the debunk...</td>\n",
       "      <td>0</td>\n",
       "    </tr>\n",
       "    <tr>\n",
       "      <th>7</th>\n",
       "      <td>I was standing by the airport exit, debating w...</td>\n",
       "      <td>0</td>\n",
       "    </tr>\n",
       "    <tr>\n",
       "      <th>8</th>\n",
       "      <td>If movies were trying to be more realistic, pe...</td>\n",
       "      <td>0</td>\n",
       "    </tr>\n",
       "    <tr>\n",
       "      <th>9</th>\n",
       "      <td>Eighteen years ago, on New Year’s Eve, David F...</td>\n",
       "      <td>5</td>\n",
       "    </tr>\n",
       "  </tbody>\n",
       "</table>\n",
       "</div>"
      ],
      "text/plain": [
       "                                             Article  Topic\n",
       "0  In the Washington of 2016, even when the polic...      1\n",
       "1    Donald Trump has used Twitter  —   his prefe...      1\n",
       "2    Donald Trump is unabashedly praising Russian...      1\n",
       "3  Updated at 2:50 p. m. ET, Russian President Vl...      3\n",
       "4  From photography, illustration and video, to d...      6\n",
       "5  I did not want to join yoga class. I hated tho...      5\n",
       "6  With a   who has publicly supported the debunk...      0\n",
       "7  I was standing by the airport exit, debating w...      0\n",
       "8  If movies were trying to be more realistic, pe...      0\n",
       "9  Eighteen years ago, on New Year’s Eve, David F...      5"
      ]
     },
     "execution_count": 73,
     "metadata": {},
     "output_type": "execute_result"
    }
   ],
   "source": [
    "npr.head(10)"
   ]
  },
  {
   "cell_type": "markdown",
   "id": "f10f767a",
   "metadata": {
    "papermill": {
     "duration": 0.024404,
     "end_time": "2023-07-22T09:31:39.393753",
     "exception": false,
     "start_time": "2023-07-22T09:31:39.369349",
     "status": "completed"
    },
    "tags": []
   },
   "source": [
    "# Topic Modeling Assessment Project"
   ]
  },
  {
   "cell_type": "code",
   "execution_count": 74,
   "id": "896f07e0",
   "metadata": {
    "execution": {
     "iopub.execute_input": "2023-07-22T09:31:39.444592Z",
     "iopub.status.busy": "2023-07-22T09:31:39.443699Z",
     "iopub.status.idle": "2023-07-22T09:31:39.447864Z",
     "shell.execute_reply": "2023-07-22T09:31:39.446988Z"
    },
    "papermill": {
     "duration": 0.031394,
     "end_time": "2023-07-22T09:31:39.449860",
     "exception": false,
     "start_time": "2023-07-22T09:31:39.418466",
     "status": "completed"
    },
    "tags": []
   },
   "outputs": [],
   "source": [
    "import pandas as pd"
   ]
  },
  {
   "cell_type": "code",
   "execution_count": 75,
   "id": "877c1c9a",
   "metadata": {
    "execution": {
     "iopub.execute_input": "2023-07-22T09:31:39.499610Z",
     "iopub.status.busy": "2023-07-22T09:31:39.499270Z",
     "iopub.status.idle": "2023-07-22T09:31:40.242095Z",
     "shell.execute_reply": "2023-07-22T09:31:40.240916Z"
    },
    "papermill": {
     "duration": 0.770073,
     "end_time": "2023-07-22T09:31:40.244399",
     "exception": false,
     "start_time": "2023-07-22T09:31:39.474326",
     "status": "completed"
    },
    "tags": []
   },
   "outputs": [],
   "source": [
    "quora = pd.read_csv('/kaggle/input/quora-question/quora_questions.csv')"
   ]
  },
  {
   "cell_type": "code",
   "execution_count": 76,
   "id": "2b925ef7",
   "metadata": {
    "execution": {
     "iopub.execute_input": "2023-07-22T09:31:40.298854Z",
     "iopub.status.busy": "2023-07-22T09:31:40.298476Z",
     "iopub.status.idle": "2023-07-22T09:31:40.308576Z",
     "shell.execute_reply": "2023-07-22T09:31:40.307796Z"
    },
    "papermill": {
     "duration": 0.04138,
     "end_time": "2023-07-22T09:31:40.311534",
     "exception": false,
     "start_time": "2023-07-22T09:31:40.270154",
     "status": "completed"
    },
    "tags": []
   },
   "outputs": [
    {
     "data": {
      "text/html": [
       "<div>\n",
       "<style scoped>\n",
       "    .dataframe tbody tr th:only-of-type {\n",
       "        vertical-align: middle;\n",
       "    }\n",
       "\n",
       "    .dataframe tbody tr th {\n",
       "        vertical-align: top;\n",
       "    }\n",
       "\n",
       "    .dataframe thead th {\n",
       "        text-align: right;\n",
       "    }\n",
       "</style>\n",
       "<table border=\"1\" class=\"dataframe\">\n",
       "  <thead>\n",
       "    <tr style=\"text-align: right;\">\n",
       "      <th></th>\n",
       "      <th>Question</th>\n",
       "    </tr>\n",
       "  </thead>\n",
       "  <tbody>\n",
       "    <tr>\n",
       "      <th>0</th>\n",
       "      <td>What is the step by step guide to invest in sh...</td>\n",
       "    </tr>\n",
       "    <tr>\n",
       "      <th>1</th>\n",
       "      <td>What is the story of Kohinoor (Koh-i-Noor) Dia...</td>\n",
       "    </tr>\n",
       "    <tr>\n",
       "      <th>2</th>\n",
       "      <td>How can I increase the speed of my internet co...</td>\n",
       "    </tr>\n",
       "    <tr>\n",
       "      <th>3</th>\n",
       "      <td>Why am I mentally very lonely? How can I solve...</td>\n",
       "    </tr>\n",
       "    <tr>\n",
       "      <th>4</th>\n",
       "      <td>Which one dissolve in water quikly sugar, salt...</td>\n",
       "    </tr>\n",
       "  </tbody>\n",
       "</table>\n",
       "</div>"
      ],
      "text/plain": [
       "                                            Question\n",
       "0  What is the step by step guide to invest in sh...\n",
       "1  What is the story of Kohinoor (Koh-i-Noor) Dia...\n",
       "2  How can I increase the speed of my internet co...\n",
       "3  Why am I mentally very lonely? How can I solve...\n",
       "4  Which one dissolve in water quikly sugar, salt..."
      ]
     },
     "execution_count": 76,
     "metadata": {},
     "output_type": "execute_result"
    }
   ],
   "source": [
    "quora.head()"
   ]
  },
  {
   "cell_type": "markdown",
   "id": "1ca99262",
   "metadata": {
    "papermill": {
     "duration": 0.026135,
     "end_time": "2023-07-22T09:31:40.363259",
     "exception": false,
     "start_time": "2023-07-22T09:31:40.337124",
     "status": "completed"
    },
    "tags": []
   },
   "source": [
    "# Preprocessing\n",
    "\n",
    "#### Task: Use TF-IDF Vectorization to create a vectorized document term matrix. You may want to explore the max_df and min_df parameters."
   ]
  },
  {
   "cell_type": "code",
   "execution_count": 77,
   "id": "a5bb6613",
   "metadata": {
    "execution": {
     "iopub.execute_input": "2023-07-22T09:31:40.414928Z",
     "iopub.status.busy": "2023-07-22T09:31:40.413689Z",
     "iopub.status.idle": "2023-07-22T09:31:40.418306Z",
     "shell.execute_reply": "2023-07-22T09:31:40.417646Z"
    },
    "papermill": {
     "duration": 0.031922,
     "end_time": "2023-07-22T09:31:40.419929",
     "exception": false,
     "start_time": "2023-07-22T09:31:40.388007",
     "status": "completed"
    },
    "tags": []
   },
   "outputs": [],
   "source": [
    "from sklearn.feature_extraction.text import TfidfVectorizer"
   ]
  },
  {
   "cell_type": "code",
   "execution_count": 78,
   "id": "c499048e",
   "metadata": {
    "execution": {
     "iopub.execute_input": "2023-07-22T09:31:40.471697Z",
     "iopub.status.busy": "2023-07-22T09:31:40.470728Z",
     "iopub.status.idle": "2023-07-22T09:31:40.484711Z",
     "shell.execute_reply": "2023-07-22T09:31:40.483935Z"
    },
    "papermill": {
     "duration": 0.04138,
     "end_time": "2023-07-22T09:31:40.486603",
     "exception": false,
     "start_time": "2023-07-22T09:31:40.445223",
     "status": "completed"
    },
    "tags": []
   },
   "outputs": [],
   "source": [
    "tfidf = TfidfVectorizer(max_df=0.95, min_df=2, stop_words='english')"
   ]
  },
  {
   "cell_type": "code",
   "execution_count": 79,
   "id": "f3a88c5d",
   "metadata": {
    "execution": {
     "iopub.execute_input": "2023-07-22T09:31:40.537747Z",
     "iopub.status.busy": "2023-07-22T09:31:40.537448Z",
     "iopub.status.idle": "2023-07-22T09:31:44.297547Z",
     "shell.execute_reply": "2023-07-22T09:31:44.296570Z"
    },
    "papermill": {
     "duration": 3.788563,
     "end_time": "2023-07-22T09:31:44.299651",
     "exception": false,
     "start_time": "2023-07-22T09:31:40.511088",
     "status": "completed"
    },
    "tags": []
   },
   "outputs": [],
   "source": [
    "dtm = tfidf.fit_transform(quora['Question'])"
   ]
  },
  {
   "cell_type": "code",
   "execution_count": 80,
   "id": "c38aa2c9",
   "metadata": {
    "execution": {
     "iopub.execute_input": "2023-07-22T09:31:44.350322Z",
     "iopub.status.busy": "2023-07-22T09:31:44.349683Z",
     "iopub.status.idle": "2023-07-22T09:31:44.354723Z",
     "shell.execute_reply": "2023-07-22T09:31:44.354135Z"
    },
    "papermill": {
     "duration": 0.032402,
     "end_time": "2023-07-22T09:31:44.356271",
     "exception": false,
     "start_time": "2023-07-22T09:31:44.323869",
     "status": "completed"
    },
    "tags": []
   },
   "outputs": [
    {
     "data": {
      "text/plain": [
       "<404289x38669 sparse matrix of type '<class 'numpy.float64'>'\n",
       "\twith 2002912 stored elements in Compressed Sparse Row format>"
      ]
     },
     "execution_count": 80,
     "metadata": {},
     "output_type": "execute_result"
    }
   ],
   "source": [
    "dtm"
   ]
  },
  {
   "cell_type": "markdown",
   "id": "31f51344",
   "metadata": {
    "papermill": {
     "duration": 0.025396,
     "end_time": "2023-07-22T09:31:44.406194",
     "exception": false,
     "start_time": "2023-07-22T09:31:44.380798",
     "status": "completed"
    },
    "tags": []
   },
   "source": [
    "# Non-negative Matrix Factorization\n",
    "\n",
    "#### TASK: Using Scikit-Learn create an instance of NMF with 20 expected components. (Use random_state=42).."
   ]
  },
  {
   "cell_type": "code",
   "execution_count": 81,
   "id": "3252dc41",
   "metadata": {
    "execution": {
     "iopub.execute_input": "2023-07-22T09:31:44.457415Z",
     "iopub.status.busy": "2023-07-22T09:31:44.456531Z",
     "iopub.status.idle": "2023-07-22T09:31:44.461295Z",
     "shell.execute_reply": "2023-07-22T09:31:44.460487Z"
    },
    "papermill": {
     "duration": 0.031446,
     "end_time": "2023-07-22T09:31:44.463057",
     "exception": false,
     "start_time": "2023-07-22T09:31:44.431611",
     "status": "completed"
    },
    "tags": []
   },
   "outputs": [],
   "source": [
    "from sklearn.decomposition import NMF"
   ]
  },
  {
   "cell_type": "code",
   "execution_count": 82,
   "id": "6a1ce010",
   "metadata": {
    "execution": {
     "iopub.execute_input": "2023-07-22T09:31:44.512659Z",
     "iopub.status.busy": "2023-07-22T09:31:44.512313Z",
     "iopub.status.idle": "2023-07-22T09:31:44.516508Z",
     "shell.execute_reply": "2023-07-22T09:31:44.515678Z"
    },
    "papermill": {
     "duration": 0.030506,
     "end_time": "2023-07-22T09:31:44.518076",
     "exception": false,
     "start_time": "2023-07-22T09:31:44.487570",
     "status": "completed"
    },
    "tags": []
   },
   "outputs": [],
   "source": [
    "nmf_model = NMF(n_components=20,random_state=42)"
   ]
  },
  {
   "cell_type": "code",
   "execution_count": 83,
   "id": "7819f614",
   "metadata": {
    "execution": {
     "iopub.execute_input": "2023-07-22T09:31:44.569073Z",
     "iopub.status.busy": "2023-07-22T09:31:44.568692Z",
     "iopub.status.idle": "2023-07-22T09:32:44.252531Z",
     "shell.execute_reply": "2023-07-22T09:32:44.251871Z"
    },
    "papermill": {
     "duration": 59.743423,
     "end_time": "2023-07-22T09:32:44.286771",
     "exception": false,
     "start_time": "2023-07-22T09:31:44.543348",
     "status": "completed"
    },
    "tags": []
   },
   "outputs": [
    {
     "name": "stderr",
     "output_type": "stream",
     "text": [
      "/opt/conda/lib/python3.10/site-packages/sklearn/decomposition/_nmf.py:1665: ConvergenceWarning: Maximum number of iterations 200 reached. Increase it to improve convergence.\n",
      "  warnings.warn(\n"
     ]
    },
    {
     "data": {
      "text/html": [
       "<style>#sk-container-id-3 {color: black;background-color: white;}#sk-container-id-3 pre{padding: 0;}#sk-container-id-3 div.sk-toggleable {background-color: white;}#sk-container-id-3 label.sk-toggleable__label {cursor: pointer;display: block;width: 100%;margin-bottom: 0;padding: 0.3em;box-sizing: border-box;text-align: center;}#sk-container-id-3 label.sk-toggleable__label-arrow:before {content: \"▸\";float: left;margin-right: 0.25em;color: #696969;}#sk-container-id-3 label.sk-toggleable__label-arrow:hover:before {color: black;}#sk-container-id-3 div.sk-estimator:hover label.sk-toggleable__label-arrow:before {color: black;}#sk-container-id-3 div.sk-toggleable__content {max-height: 0;max-width: 0;overflow: hidden;text-align: left;background-color: #f0f8ff;}#sk-container-id-3 div.sk-toggleable__content pre {margin: 0.2em;color: black;border-radius: 0.25em;background-color: #f0f8ff;}#sk-container-id-3 input.sk-toggleable__control:checked~div.sk-toggleable__content {max-height: 200px;max-width: 100%;overflow: auto;}#sk-container-id-3 input.sk-toggleable__control:checked~label.sk-toggleable__label-arrow:before {content: \"▾\";}#sk-container-id-3 div.sk-estimator input.sk-toggleable__control:checked~label.sk-toggleable__label {background-color: #d4ebff;}#sk-container-id-3 div.sk-label input.sk-toggleable__control:checked~label.sk-toggleable__label {background-color: #d4ebff;}#sk-container-id-3 input.sk-hidden--visually {border: 0;clip: rect(1px 1px 1px 1px);clip: rect(1px, 1px, 1px, 1px);height: 1px;margin: -1px;overflow: hidden;padding: 0;position: absolute;width: 1px;}#sk-container-id-3 div.sk-estimator {font-family: monospace;background-color: #f0f8ff;border: 1px dotted black;border-radius: 0.25em;box-sizing: border-box;margin-bottom: 0.5em;}#sk-container-id-3 div.sk-estimator:hover {background-color: #d4ebff;}#sk-container-id-3 div.sk-parallel-item::after {content: \"\";width: 100%;border-bottom: 1px solid gray;flex-grow: 1;}#sk-container-id-3 div.sk-label:hover label.sk-toggleable__label {background-color: #d4ebff;}#sk-container-id-3 div.sk-serial::before {content: \"\";position: absolute;border-left: 1px solid gray;box-sizing: border-box;top: 0;bottom: 0;left: 50%;z-index: 0;}#sk-container-id-3 div.sk-serial {display: flex;flex-direction: column;align-items: center;background-color: white;padding-right: 0.2em;padding-left: 0.2em;position: relative;}#sk-container-id-3 div.sk-item {position: relative;z-index: 1;}#sk-container-id-3 div.sk-parallel {display: flex;align-items: stretch;justify-content: center;background-color: white;position: relative;}#sk-container-id-3 div.sk-item::before, #sk-container-id-3 div.sk-parallel-item::before {content: \"\";position: absolute;border-left: 1px solid gray;box-sizing: border-box;top: 0;bottom: 0;left: 50%;z-index: -1;}#sk-container-id-3 div.sk-parallel-item {display: flex;flex-direction: column;z-index: 1;position: relative;background-color: white;}#sk-container-id-3 div.sk-parallel-item:first-child::after {align-self: flex-end;width: 50%;}#sk-container-id-3 div.sk-parallel-item:last-child::after {align-self: flex-start;width: 50%;}#sk-container-id-3 div.sk-parallel-item:only-child::after {width: 0;}#sk-container-id-3 div.sk-dashed-wrapped {border: 1px dashed gray;margin: 0 0.4em 0.5em 0.4em;box-sizing: border-box;padding-bottom: 0.4em;background-color: white;}#sk-container-id-3 div.sk-label label {font-family: monospace;font-weight: bold;display: inline-block;line-height: 1.2em;}#sk-container-id-3 div.sk-label-container {text-align: center;}#sk-container-id-3 div.sk-container {/* jupyter's `normalize.less` sets `[hidden] { display: none; }` but bootstrap.min.css set `[hidden] { display: none !important; }` so we also need the `!important` here to be able to override the default hidden behavior on the sphinx rendered scikit-learn.org. See: https://github.com/scikit-learn/scikit-learn/issues/21755 */display: inline-block !important;position: relative;}#sk-container-id-3 div.sk-text-repr-fallback {display: none;}</style><div id=\"sk-container-id-3\" class=\"sk-top-container\"><div class=\"sk-text-repr-fallback\"><pre>NMF(n_components=20, random_state=42)</pre><b>In a Jupyter environment, please rerun this cell to show the HTML representation or trust the notebook. <br />On GitHub, the HTML representation is unable to render, please try loading this page with nbviewer.org.</b></div><div class=\"sk-container\" hidden><div class=\"sk-item\"><div class=\"sk-estimator sk-toggleable\"><input class=\"sk-toggleable__control sk-hidden--visually\" id=\"sk-estimator-id-3\" type=\"checkbox\" checked><label for=\"sk-estimator-id-3\" class=\"sk-toggleable__label sk-toggleable__label-arrow\">NMF</label><div class=\"sk-toggleable__content\"><pre>NMF(n_components=20, random_state=42)</pre></div></div></div></div></div>"
      ],
      "text/plain": [
       "NMF(n_components=20, random_state=42)"
      ]
     },
     "execution_count": 83,
     "metadata": {},
     "output_type": "execute_result"
    }
   ],
   "source": [
    "nmf_model.fit(dtm)"
   ]
  },
  {
   "cell_type": "markdown",
   "id": "185f688d",
   "metadata": {
    "papermill": {
     "duration": 0.031426,
     "end_time": "2023-07-22T09:32:44.350248",
     "exception": false,
     "start_time": "2023-07-22T09:32:44.318822",
     "status": "completed"
    },
    "tags": []
   },
   "source": [
    "#### TASK: Print our the top 15 most common words for each of the 20 topics."
   ]
  },
  {
   "cell_type": "code",
   "execution_count": 84,
   "id": "3cea4226",
   "metadata": {
    "execution": {
     "iopub.execute_input": "2023-07-22T09:32:44.404081Z",
     "iopub.status.busy": "2023-07-22T09:32:44.403728Z",
     "iopub.status.idle": "2023-07-22T09:32:52.137317Z",
     "shell.execute_reply": "2023-07-22T09:32:52.136108Z"
    },
    "papermill": {
     "duration": 7.761684,
     "end_time": "2023-07-22T09:32:52.139682",
     "exception": false,
     "start_time": "2023-07-22T09:32:44.377998",
     "status": "completed"
    },
    "tags": []
   },
   "outputs": [
    {
     "name": "stdout",
     "output_type": "stream",
     "text": [
      "THE TOP 15 WORDS FOR TOPIC #0\n",
      "['thing', 'read', 'place', 'visit', 'places', 'phone', 'buy', 'laptop', 'movie', 'ways', '2016', 'books', 'book', 'movies', 'best']\n",
      "\n",
      "\n",
      "THE TOP 15 WORDS FOR TOPIC #1\n",
      "['majors', 'recruit', 'sex', 'looking', 'differ', 'use', 'exist', 'really', 'compare', 'cost', 'long', 'feel', 'work', 'mean', 'does']\n",
      "\n",
      "\n",
      "THE TOP 15 WORDS FOR TOPIC #2\n",
      "['add', 'answered', 'needing', 'post', 'easily', 'improvement', 'delete', 'asked', 'google', 'answers', 'answer', 'ask', 'question', 'questions', 'quora']\n",
      "\n",
      "\n",
      "THE TOP 15 WORDS FOR TOPIC #3\n",
      "['using', 'website', 'investment', 'friends', 'black', 'internet', 'free', 'home', 'easy', 'youtube', 'ways', 'earn', 'online', 'make', 'money']\n",
      "\n",
      "\n",
      "THE TOP 15 WORDS FOR TOPIC #4\n",
      "['balance', 'earth', 'day', 'death', 'changed', 'live', 'want', 'change', 'moment', 'real', 'important', 'thing', 'meaning', 'purpose', 'life']\n",
      "\n",
      "\n",
      "THE TOP 15 WORDS FOR TOPIC #5\n",
      "['reservation', 'engineering', 'minister', 'president', 'company', 'china', 'business', 'country', 'olympics', 'available', 'job', 'spotify', 'war', 'pakistan', 'india']\n",
      "\n",
      "\n",
      "THE TOP 15 WORDS FOR TOPIC #6\n",
      "['beginners', 'online', 'english', 'book', 'did', 'hacking', 'want', 'python', 'languages', 'java', 'learning', 'start', 'language', 'programming', 'learn']\n",
      "\n",
      "\n",
      "THE TOP 15 WORDS FOR TOPIC #7\n",
      "['happen', 'presidency', 'think', 'presidential', '2016', 'vote', 'better', 'election', 'did', 'win', 'hillary', 'president', 'clinton', 'donald', 'trump']\n",
      "\n",
      "\n",
      "THE TOP 15 WORDS FOR TOPIC #8\n",
      "['russia', 'business', 'win', 'coming', 'countries', 'place', 'pakistan', 'happen', 'end', 'country', 'iii', 'start', 'did', 'war', 'world']\n",
      "\n",
      "\n",
      "THE TOP 15 WORDS FOR TOPIC #9\n",
      "['indian', 'companies', 'don', 'guy', 'men', 'culture', 'women', 'work', 'girls', 'live', 'girl', 'look', 'sex', 'feel', 'like']\n",
      "\n",
      "\n",
      "THE TOP 15 WORDS FOR TOPIC #10\n",
      "['ca', 'departments', 'positions', 'movies', 'songs', 'business', 'read', 'start', 'job', 'work', 'engineering', 'ways', 'bad', 'books', 'good']\n",
      "\n",
      "\n",
      "THE TOP 15 WORDS FOR TOPIC #11\n",
      "['money', 'modi', 'currency', 'economy', 'think', 'government', 'ban', 'banning', 'black', 'indian', 'rupee', 'rs', '1000', 'notes', '500']\n",
      "\n",
      "\n",
      "THE TOP 15 WORDS FOR TOPIC #12\n",
      "['blowing', 'resolutions', 'resolution', 'mind', 'likes', 'girl', '2017', 'year', 'don', 'employees', 'going', 'day', 'things', 'new', 'know']\n",
      "\n",
      "\n",
      "THE TOP 15 WORDS FOR TOPIC #13\n",
      "['aspects', 'fluent', 'skill', 'spoken', 'ways', 'language', 'fluently', 'speak', 'communication', 'pronunciation', 'speaking', 'writing', 'skills', 'improve', 'english']\n",
      "\n",
      "\n",
      "THE TOP 15 WORDS FOR TOPIC #14\n",
      "['diet', 'help', 'healthy', 'exercise', 'month', 'pounds', 'reduce', 'quickly', 'loss', 'fast', 'fat', 'ways', 'gain', 'lose', 'weight']\n",
      "\n",
      "\n",
      "THE TOP 15 WORDS FOR TOPIC #15\n",
      "['having', 'feel', 'long', 'spend', 'did', 'person', 'machine', 'movies', 'favorite', 'job', 'home', 'sex', 'possible', 'travel', 'time']\n",
      "\n",
      "\n",
      "THE TOP 15 WORDS FOR TOPIC #16\n",
      "['marriage', 'make', 'did', 'girlfriend', 'feel', 'tell', 'forget', 'really', 'friend', 'true', 'know', 'person', 'girl', 'fall', 'love']\n",
      "\n",
      "\n",
      "THE TOP 15 WORDS FOR TOPIC #17\n",
      "['easy', 'hack', 'prepare', 'quickest', 'facebook', 'increase', 'painless', 'instagram', 'account', 'best', 'commit', 'fastest', 'suicide', 'easiest', 'way']\n",
      "\n",
      "\n",
      "THE TOP 15 WORDS FOR TOPIC #18\n",
      "['web', 'java', 'scripting', 'phone', 'mechanical', 'better', 'job', 'use', 'account', 'data', 'software', 'science', 'computer', 'engineering', 'difference']\n",
      "\n",
      "\n",
      "THE TOP 15 WORDS FOR TOPIC #19\n",
      "['earth', 'blowing', 'stop', 'use', 'easily', 'mind', 'google', 'flat', 'questions', 'hate', 'believe', 'ask', 'don', 'think', 'people']\n",
      "\n",
      "\n"
     ]
    }
   ],
   "source": [
    "for index,topic in enumerate(nmf_model.components_):\n",
    "    print(f'THE TOP 15 WORDS FOR TOPIC #{index}')\n",
    "    print([tfidf.get_feature_names_out()[i] for i in topic.argsort()[-15:]])\n",
    "    print('\\n')"
   ]
  },
  {
   "cell_type": "markdown",
   "id": "3b1e6f78",
   "metadata": {
    "papermill": {
     "duration": 0.026146,
     "end_time": "2023-07-22T09:32:52.192253",
     "exception": false,
     "start_time": "2023-07-22T09:32:52.166107",
     "status": "completed"
    },
    "tags": []
   },
   "source": [
    "#### TASK: Add a new column to the original quora dataframe that labels each question into one of the 20 topic categories."
   ]
  },
  {
   "cell_type": "code",
   "execution_count": 85,
   "id": "4794258b",
   "metadata": {
    "execution": {
     "iopub.execute_input": "2023-07-22T09:32:52.246666Z",
     "iopub.status.busy": "2023-07-22T09:32:52.246309Z",
     "iopub.status.idle": "2023-07-22T09:32:52.255404Z",
     "shell.execute_reply": "2023-07-22T09:32:52.254101Z"
    },
    "papermill": {
     "duration": 0.03823,
     "end_time": "2023-07-22T09:32:52.258108",
     "exception": false,
     "start_time": "2023-07-22T09:32:52.219878",
     "status": "completed"
    },
    "tags": []
   },
   "outputs": [
    {
     "data": {
      "text/html": [
       "<div>\n",
       "<style scoped>\n",
       "    .dataframe tbody tr th:only-of-type {\n",
       "        vertical-align: middle;\n",
       "    }\n",
       "\n",
       "    .dataframe tbody tr th {\n",
       "        vertical-align: top;\n",
       "    }\n",
       "\n",
       "    .dataframe thead th {\n",
       "        text-align: right;\n",
       "    }\n",
       "</style>\n",
       "<table border=\"1\" class=\"dataframe\">\n",
       "  <thead>\n",
       "    <tr style=\"text-align: right;\">\n",
       "      <th></th>\n",
       "      <th>Question</th>\n",
       "    </tr>\n",
       "  </thead>\n",
       "  <tbody>\n",
       "    <tr>\n",
       "      <th>0</th>\n",
       "      <td>What is the step by step guide to invest in sh...</td>\n",
       "    </tr>\n",
       "    <tr>\n",
       "      <th>1</th>\n",
       "      <td>What is the story of Kohinoor (Koh-i-Noor) Dia...</td>\n",
       "    </tr>\n",
       "    <tr>\n",
       "      <th>2</th>\n",
       "      <td>How can I increase the speed of my internet co...</td>\n",
       "    </tr>\n",
       "    <tr>\n",
       "      <th>3</th>\n",
       "      <td>Why am I mentally very lonely? How can I solve...</td>\n",
       "    </tr>\n",
       "    <tr>\n",
       "      <th>4</th>\n",
       "      <td>Which one dissolve in water quikly sugar, salt...</td>\n",
       "    </tr>\n",
       "  </tbody>\n",
       "</table>\n",
       "</div>"
      ],
      "text/plain": [
       "                                            Question\n",
       "0  What is the step by step guide to invest in sh...\n",
       "1  What is the story of Kohinoor (Koh-i-Noor) Dia...\n",
       "2  How can I increase the speed of my internet co...\n",
       "3  Why am I mentally very lonely? How can I solve...\n",
       "4  Which one dissolve in water quikly sugar, salt..."
      ]
     },
     "execution_count": 85,
     "metadata": {},
     "output_type": "execute_result"
    }
   ],
   "source": [
    "quora.head()"
   ]
  },
  {
   "cell_type": "code",
   "execution_count": 86,
   "id": "762e5d03",
   "metadata": {
    "execution": {
     "iopub.execute_input": "2023-07-22T09:32:52.312909Z",
     "iopub.status.busy": "2023-07-22T09:32:52.312362Z",
     "iopub.status.idle": "2023-07-22T09:32:53.188680Z",
     "shell.execute_reply": "2023-07-22T09:32:53.187336Z"
    },
    "papermill": {
     "duration": 0.906308,
     "end_time": "2023-07-22T09:32:53.190898",
     "exception": false,
     "start_time": "2023-07-22T09:32:52.284590",
     "status": "completed"
    },
    "tags": []
   },
   "outputs": [],
   "source": [
    "topic_results = nmf_model.transform(dtm)"
   ]
  },
  {
   "cell_type": "code",
   "execution_count": 87,
   "id": "105c5625",
   "metadata": {
    "execution": {
     "iopub.execute_input": "2023-07-22T09:32:53.244970Z",
     "iopub.status.busy": "2023-07-22T09:32:53.244094Z",
     "iopub.status.idle": "2023-07-22T09:32:53.275239Z",
     "shell.execute_reply": "2023-07-22T09:32:53.274236Z"
    },
    "papermill": {
     "duration": 0.06053,
     "end_time": "2023-07-22T09:32:53.277539",
     "exception": false,
     "start_time": "2023-07-22T09:32:53.217009",
     "status": "completed"
    },
    "tags": []
   },
   "outputs": [
    {
     "data": {
      "text/html": [
       "<div>\n",
       "<style scoped>\n",
       "    .dataframe tbody tr th:only-of-type {\n",
       "        vertical-align: middle;\n",
       "    }\n",
       "\n",
       "    .dataframe tbody tr th {\n",
       "        vertical-align: top;\n",
       "    }\n",
       "\n",
       "    .dataframe thead th {\n",
       "        text-align: right;\n",
       "    }\n",
       "</style>\n",
       "<table border=\"1\" class=\"dataframe\">\n",
       "  <thead>\n",
       "    <tr style=\"text-align: right;\">\n",
       "      <th></th>\n",
       "      <th>Question</th>\n",
       "      <th>Topic</th>\n",
       "    </tr>\n",
       "  </thead>\n",
       "  <tbody>\n",
       "    <tr>\n",
       "      <th>0</th>\n",
       "      <td>What is the step by step guide to invest in sh...</td>\n",
       "      <td>5</td>\n",
       "    </tr>\n",
       "    <tr>\n",
       "      <th>1</th>\n",
       "      <td>What is the story of Kohinoor (Koh-i-Noor) Dia...</td>\n",
       "      <td>16</td>\n",
       "    </tr>\n",
       "    <tr>\n",
       "      <th>2</th>\n",
       "      <td>How can I increase the speed of my internet co...</td>\n",
       "      <td>17</td>\n",
       "    </tr>\n",
       "    <tr>\n",
       "      <th>3</th>\n",
       "      <td>Why am I mentally very lonely? How can I solve...</td>\n",
       "      <td>11</td>\n",
       "    </tr>\n",
       "    <tr>\n",
       "      <th>4</th>\n",
       "      <td>Which one dissolve in water quikly sugar, salt...</td>\n",
       "      <td>14</td>\n",
       "    </tr>\n",
       "    <tr>\n",
       "      <th>5</th>\n",
       "      <td>Astrology: I am a Capricorn Sun Cap moon and c...</td>\n",
       "      <td>1</td>\n",
       "    </tr>\n",
       "    <tr>\n",
       "      <th>6</th>\n",
       "      <td>Should I buy tiago?</td>\n",
       "      <td>0</td>\n",
       "    </tr>\n",
       "    <tr>\n",
       "      <th>7</th>\n",
       "      <td>How can I be a good geologist?</td>\n",
       "      <td>10</td>\n",
       "    </tr>\n",
       "    <tr>\n",
       "      <th>8</th>\n",
       "      <td>When do you use シ instead of し?</td>\n",
       "      <td>19</td>\n",
       "    </tr>\n",
       "    <tr>\n",
       "      <th>9</th>\n",
       "      <td>Motorola (company): Can I hack my Charter Moto...</td>\n",
       "      <td>17</td>\n",
       "    </tr>\n",
       "  </tbody>\n",
       "</table>\n",
       "</div>"
      ],
      "text/plain": [
       "                                            Question  Topic\n",
       "0  What is the step by step guide to invest in sh...      5\n",
       "1  What is the story of Kohinoor (Koh-i-Noor) Dia...     16\n",
       "2  How can I increase the speed of my internet co...     17\n",
       "3  Why am I mentally very lonely? How can I solve...     11\n",
       "4  Which one dissolve in water quikly sugar, salt...     14\n",
       "5  Astrology: I am a Capricorn Sun Cap moon and c...      1\n",
       "6                                Should I buy tiago?      0\n",
       "7                     How can I be a good geologist?     10\n",
       "8                    When do you use シ instead of し?     19\n",
       "9  Motorola (company): Can I hack my Charter Moto...     17"
      ]
     },
     "execution_count": 87,
     "metadata": {},
     "output_type": "execute_result"
    }
   ],
   "source": [
    "topic_results.argmax(axis=1)\n",
    "\n",
    "quora['Topic'] = topic_results.argmax(axis=1)\n",
    "\n",
    "quora.head(10)"
   ]
  },
  {
   "cell_type": "code",
   "execution_count": null,
   "id": "3c7329d9",
   "metadata": {
    "papermill": {
     "duration": 0.02784,
     "end_time": "2023-07-22T09:32:53.332479",
     "exception": false,
     "start_time": "2023-07-22T09:32:53.304639",
     "status": "completed"
    },
    "tags": []
   },
   "outputs": [],
   "source": []
  }
 ],
 "metadata": {
  "kernelspec": {
   "display_name": "Python 3",
   "language": "python",
   "name": "python3"
  },
  "language_info": {
   "codemirror_mode": {
    "name": "ipython",
    "version": 3
   },
   "file_extension": ".py",
   "mimetype": "text/x-python",
   "name": "python",
   "nbconvert_exporter": "python",
   "pygments_lexer": "ipython3",
   "version": "3.10.12"
  },
  "papermill": {
   "default_parameters": {},
   "duration": 207.306184,
   "end_time": "2023-07-22T09:32:54.181908",
   "environment_variables": {},
   "exception": null,
   "input_path": "__notebook__.ipynb",
   "output_path": "__notebook__.ipynb",
   "parameters": {},
   "start_time": "2023-07-22T09:29:26.875724",
   "version": "2.4.0"
  }
 },
 "nbformat": 4,
 "nbformat_minor": 5
}
