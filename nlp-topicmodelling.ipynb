{
 "cells": [
  {
   "cell_type": "code",
   "execution_count": 1,
   "id": "45bcfd62",
   "metadata": {
    "_cell_guid": "b1076dfc-b9ad-4769-8c92-a6c4dae69d19",
    "_uuid": "8f2839f25d086af736a60e9eeb907d3b93b6e0e5",
    "execution": {
     "iopub.execute_input": "2023-07-20T17:46:02.769195Z",
     "iopub.status.busy": "2023-07-20T17:46:02.768798Z",
     "iopub.status.idle": "2023-07-20T17:46:02.776699Z",
     "shell.execute_reply": "2023-07-20T17:46:02.775951Z"
    },
    "papermill": {
     "duration": 0.021027,
     "end_time": "2023-07-20T17:46:02.778768",
     "exception": false,
     "start_time": "2023-07-20T17:46:02.757741",
     "status": "completed"
    },
    "tags": []
   },
   "outputs": [],
   "source": [
    "import pandas as pd"
   ]
  },
  {
   "cell_type": "markdown",
   "id": "30440ecc",
   "metadata": {
    "papermill": {
     "duration": 0.008056,
     "end_time": "2023-07-20T17:46:02.795396",
     "exception": false,
     "start_time": "2023-07-20T17:46:02.787340",
     "status": "completed"
    },
    "tags": []
   },
   "source": [
    "# Latent Dirichlet Allocation\n",
    "## Data"
   ]
  },
  {
   "cell_type": "code",
   "execution_count": 2,
   "id": "519a373f",
   "metadata": {
    "execution": {
     "iopub.execute_input": "2023-07-20T17:46:02.814933Z",
     "iopub.status.busy": "2023-07-20T17:46:02.814612Z",
     "iopub.status.idle": "2023-07-20T17:46:04.180759Z",
     "shell.execute_reply": "2023-07-20T17:46:04.179708Z"
    },
    "papermill": {
     "duration": 1.379444,
     "end_time": "2023-07-20T17:46:04.183153",
     "exception": false,
     "start_time": "2023-07-20T17:46:02.803709",
     "status": "completed"
    },
    "tags": []
   },
   "outputs": [],
   "source": [
    "npr = pd.read_csv('/kaggle/input/npr-data/npr.csv')"
   ]
  },
  {
   "cell_type": "code",
   "execution_count": 3,
   "id": "f69a0334",
   "metadata": {
    "execution": {
     "iopub.execute_input": "2023-07-20T17:46:04.203037Z",
     "iopub.status.busy": "2023-07-20T17:46:04.202590Z",
     "iopub.status.idle": "2023-07-20T17:46:04.223764Z",
     "shell.execute_reply": "2023-07-20T17:46:04.222456Z"
    },
    "papermill": {
     "duration": 0.032981,
     "end_time": "2023-07-20T17:46:04.225755",
     "exception": false,
     "start_time": "2023-07-20T17:46:04.192774",
     "status": "completed"
    },
    "tags": []
   },
   "outputs": [
    {
     "data": {
      "text/html": [
       "<div>\n",
       "<style scoped>\n",
       "    .dataframe tbody tr th:only-of-type {\n",
       "        vertical-align: middle;\n",
       "    }\n",
       "\n",
       "    .dataframe tbody tr th {\n",
       "        vertical-align: top;\n",
       "    }\n",
       "\n",
       "    .dataframe thead th {\n",
       "        text-align: right;\n",
       "    }\n",
       "</style>\n",
       "<table border=\"1\" class=\"dataframe\">\n",
       "  <thead>\n",
       "    <tr style=\"text-align: right;\">\n",
       "      <th></th>\n",
       "      <th>Article</th>\n",
       "    </tr>\n",
       "  </thead>\n",
       "  <tbody>\n",
       "    <tr>\n",
       "      <th>0</th>\n",
       "      <td>In the Washington of 2016, even when the polic...</td>\n",
       "    </tr>\n",
       "    <tr>\n",
       "      <th>1</th>\n",
       "      <td>Donald Trump has used Twitter  —   his prefe...</td>\n",
       "    </tr>\n",
       "    <tr>\n",
       "      <th>2</th>\n",
       "      <td>Donald Trump is unabashedly praising Russian...</td>\n",
       "    </tr>\n",
       "    <tr>\n",
       "      <th>3</th>\n",
       "      <td>Updated at 2:50 p. m. ET, Russian President Vl...</td>\n",
       "    </tr>\n",
       "    <tr>\n",
       "      <th>4</th>\n",
       "      <td>From photography, illustration and video, to d...</td>\n",
       "    </tr>\n",
       "  </tbody>\n",
       "</table>\n",
       "</div>"
      ],
      "text/plain": [
       "                                             Article\n",
       "0  In the Washington of 2016, even when the polic...\n",
       "1    Donald Trump has used Twitter  —   his prefe...\n",
       "2    Donald Trump is unabashedly praising Russian...\n",
       "3  Updated at 2:50 p. m. ET, Russian President Vl...\n",
       "4  From photography, illustration and video, to d..."
      ]
     },
     "execution_count": 3,
     "metadata": {},
     "output_type": "execute_result"
    }
   ],
   "source": [
    "npr.head()"
   ]
  },
  {
   "cell_type": "markdown",
   "id": "488fe4ad",
   "metadata": {
    "papermill": {
     "duration": 0.008438,
     "end_time": "2023-07-20T17:46:04.243056",
     "exception": false,
     "start_time": "2023-07-20T17:46:04.234618",
     "status": "completed"
    },
    "tags": []
   },
   "source": [
    "## Preprocessing"
   ]
  },
  {
   "cell_type": "code",
   "execution_count": 4,
   "id": "13845c8e",
   "metadata": {
    "execution": {
     "iopub.execute_input": "2023-07-20T17:46:04.261823Z",
     "iopub.status.busy": "2023-07-20T17:46:04.261485Z",
     "iopub.status.idle": "2023-07-20T17:46:05.461913Z",
     "shell.execute_reply": "2023-07-20T17:46:05.460272Z"
    },
    "papermill": {
     "duration": 1.212713,
     "end_time": "2023-07-20T17:46:05.464358",
     "exception": false,
     "start_time": "2023-07-20T17:46:04.251645",
     "status": "completed"
    },
    "tags": []
   },
   "outputs": [
    {
     "name": "stderr",
     "output_type": "stream",
     "text": [
      "/opt/conda/lib/python3.10/site-packages/scipy/__init__.py:146: UserWarning: A NumPy version >=1.16.5 and <1.23.0 is required for this version of SciPy (detected version 1.23.5\n",
      "  warnings.warn(f\"A NumPy version >={np_minversion} and <{np_maxversion}\"\n"
     ]
    }
   ],
   "source": [
    "from sklearn.feature_extraction.text import CountVectorizer"
   ]
  },
  {
   "cell_type": "code",
   "execution_count": 5,
   "id": "137bd5c3",
   "metadata": {
    "execution": {
     "iopub.execute_input": "2023-07-20T17:46:05.483505Z",
     "iopub.status.busy": "2023-07-20T17:46:05.483141Z",
     "iopub.status.idle": "2023-07-20T17:46:05.489580Z",
     "shell.execute_reply": "2023-07-20T17:46:05.488577Z"
    },
    "papermill": {
     "duration": 0.018923,
     "end_time": "2023-07-20T17:46:05.492091",
     "exception": false,
     "start_time": "2023-07-20T17:46:05.473168",
     "status": "completed"
    },
    "tags": []
   },
   "outputs": [],
   "source": [
    "cv = CountVectorizer(max_df=0.95, min_df=2, stop_words='english')"
   ]
  },
  {
   "cell_type": "code",
   "execution_count": 6,
   "id": "977d7c6f",
   "metadata": {
    "execution": {
     "iopub.execute_input": "2023-07-20T17:46:05.512131Z",
     "iopub.status.busy": "2023-07-20T17:46:05.511253Z",
     "iopub.status.idle": "2023-07-20T17:46:11.140839Z",
     "shell.execute_reply": "2023-07-20T17:46:11.139945Z"
    },
    "papermill": {
     "duration": 5.642279,
     "end_time": "2023-07-20T17:46:11.143373",
     "exception": false,
     "start_time": "2023-07-20T17:46:05.501094",
     "status": "completed"
    },
    "tags": []
   },
   "outputs": [],
   "source": [
    "dtm = cv.fit_transform(npr['Article'])"
   ]
  },
  {
   "cell_type": "code",
   "execution_count": 7,
   "id": "1862f4ed",
   "metadata": {
    "execution": {
     "iopub.execute_input": "2023-07-20T17:46:11.162446Z",
     "iopub.status.busy": "2023-07-20T17:46:11.161743Z",
     "iopub.status.idle": "2023-07-20T17:46:11.168152Z",
     "shell.execute_reply": "2023-07-20T17:46:11.167377Z"
    },
    "papermill": {
     "duration": 0.017515,
     "end_time": "2023-07-20T17:46:11.169723",
     "exception": false,
     "start_time": "2023-07-20T17:46:11.152208",
     "status": "completed"
    },
    "tags": []
   },
   "outputs": [
    {
     "data": {
      "text/plain": [
       "<11992x54777 sparse matrix of type '<class 'numpy.int64'>'\n",
       "\twith 3033388 stored elements in Compressed Sparse Row format>"
      ]
     },
     "execution_count": 7,
     "metadata": {},
     "output_type": "execute_result"
    }
   ],
   "source": [
    "dtm"
   ]
  },
  {
   "cell_type": "markdown",
   "id": "bc5d28aa",
   "metadata": {
    "papermill": {
     "duration": 0.008023,
     "end_time": "2023-07-20T17:46:11.186486",
     "exception": false,
     "start_time": "2023-07-20T17:46:11.178463",
     "status": "completed"
    },
    "tags": []
   },
   "source": [
    "## LDA"
   ]
  },
  {
   "cell_type": "code",
   "execution_count": 8,
   "id": "8efe6925",
   "metadata": {
    "execution": {
     "iopub.execute_input": "2023-07-20T17:46:11.205336Z",
     "iopub.status.busy": "2023-07-20T17:46:11.204193Z",
     "iopub.status.idle": "2023-07-20T17:46:11.491606Z",
     "shell.execute_reply": "2023-07-20T17:46:11.490425Z"
    },
    "papermill": {
     "duration": 0.299405,
     "end_time": "2023-07-20T17:46:11.494106",
     "exception": false,
     "start_time": "2023-07-20T17:46:11.194701",
     "status": "completed"
    },
    "tags": []
   },
   "outputs": [],
   "source": [
    "from sklearn.decomposition import LatentDirichletAllocation"
   ]
  },
  {
   "cell_type": "code",
   "execution_count": 9,
   "id": "ed8c45ce",
   "metadata": {
    "execution": {
     "iopub.execute_input": "2023-07-20T17:46:11.513999Z",
     "iopub.status.busy": "2023-07-20T17:46:11.513620Z",
     "iopub.status.idle": "2023-07-20T17:46:11.518385Z",
     "shell.execute_reply": "2023-07-20T17:46:11.517245Z"
    },
    "papermill": {
     "duration": 0.017434,
     "end_time": "2023-07-20T17:46:11.520822",
     "exception": false,
     "start_time": "2023-07-20T17:46:11.503388",
     "status": "completed"
    },
    "tags": []
   },
   "outputs": [],
   "source": [
    "LDA = LatentDirichletAllocation(n_components=7,random_state=42)"
   ]
  },
  {
   "cell_type": "code",
   "execution_count": 10,
   "id": "d06c499a",
   "metadata": {
    "execution": {
     "iopub.execute_input": "2023-07-20T17:46:11.540777Z",
     "iopub.status.busy": "2023-07-20T17:46:11.539616Z",
     "iopub.status.idle": "2023-07-20T17:47:37.798407Z",
     "shell.execute_reply": "2023-07-20T17:47:37.797071Z"
    },
    "papermill": {
     "duration": 86.275939,
     "end_time": "2023-07-20T17:47:37.805908",
     "exception": false,
     "start_time": "2023-07-20T17:46:11.529969",
     "status": "completed"
    },
    "tags": []
   },
   "outputs": [
    {
     "data": {
      "text/html": [
       "<style>#sk-container-id-1 {color: black;background-color: white;}#sk-container-id-1 pre{padding: 0;}#sk-container-id-1 div.sk-toggleable {background-color: white;}#sk-container-id-1 label.sk-toggleable__label {cursor: pointer;display: block;width: 100%;margin-bottom: 0;padding: 0.3em;box-sizing: border-box;text-align: center;}#sk-container-id-1 label.sk-toggleable__label-arrow:before {content: \"▸\";float: left;margin-right: 0.25em;color: #696969;}#sk-container-id-1 label.sk-toggleable__label-arrow:hover:before {color: black;}#sk-container-id-1 div.sk-estimator:hover label.sk-toggleable__label-arrow:before {color: black;}#sk-container-id-1 div.sk-toggleable__content {max-height: 0;max-width: 0;overflow: hidden;text-align: left;background-color: #f0f8ff;}#sk-container-id-1 div.sk-toggleable__content pre {margin: 0.2em;color: black;border-radius: 0.25em;background-color: #f0f8ff;}#sk-container-id-1 input.sk-toggleable__control:checked~div.sk-toggleable__content {max-height: 200px;max-width: 100%;overflow: auto;}#sk-container-id-1 input.sk-toggleable__control:checked~label.sk-toggleable__label-arrow:before {content: \"▾\";}#sk-container-id-1 div.sk-estimator input.sk-toggleable__control:checked~label.sk-toggleable__label {background-color: #d4ebff;}#sk-container-id-1 div.sk-label input.sk-toggleable__control:checked~label.sk-toggleable__label {background-color: #d4ebff;}#sk-container-id-1 input.sk-hidden--visually {border: 0;clip: rect(1px 1px 1px 1px);clip: rect(1px, 1px, 1px, 1px);height: 1px;margin: -1px;overflow: hidden;padding: 0;position: absolute;width: 1px;}#sk-container-id-1 div.sk-estimator {font-family: monospace;background-color: #f0f8ff;border: 1px dotted black;border-radius: 0.25em;box-sizing: border-box;margin-bottom: 0.5em;}#sk-container-id-1 div.sk-estimator:hover {background-color: #d4ebff;}#sk-container-id-1 div.sk-parallel-item::after {content: \"\";width: 100%;border-bottom: 1px solid gray;flex-grow: 1;}#sk-container-id-1 div.sk-label:hover label.sk-toggleable__label {background-color: #d4ebff;}#sk-container-id-1 div.sk-serial::before {content: \"\";position: absolute;border-left: 1px solid gray;box-sizing: border-box;top: 0;bottom: 0;left: 50%;z-index: 0;}#sk-container-id-1 div.sk-serial {display: flex;flex-direction: column;align-items: center;background-color: white;padding-right: 0.2em;padding-left: 0.2em;position: relative;}#sk-container-id-1 div.sk-item {position: relative;z-index: 1;}#sk-container-id-1 div.sk-parallel {display: flex;align-items: stretch;justify-content: center;background-color: white;position: relative;}#sk-container-id-1 div.sk-item::before, #sk-container-id-1 div.sk-parallel-item::before {content: \"\";position: absolute;border-left: 1px solid gray;box-sizing: border-box;top: 0;bottom: 0;left: 50%;z-index: -1;}#sk-container-id-1 div.sk-parallel-item {display: flex;flex-direction: column;z-index: 1;position: relative;background-color: white;}#sk-container-id-1 div.sk-parallel-item:first-child::after {align-self: flex-end;width: 50%;}#sk-container-id-1 div.sk-parallel-item:last-child::after {align-self: flex-start;width: 50%;}#sk-container-id-1 div.sk-parallel-item:only-child::after {width: 0;}#sk-container-id-1 div.sk-dashed-wrapped {border: 1px dashed gray;margin: 0 0.4em 0.5em 0.4em;box-sizing: border-box;padding-bottom: 0.4em;background-color: white;}#sk-container-id-1 div.sk-label label {font-family: monospace;font-weight: bold;display: inline-block;line-height: 1.2em;}#sk-container-id-1 div.sk-label-container {text-align: center;}#sk-container-id-1 div.sk-container {/* jupyter's `normalize.less` sets `[hidden] { display: none; }` but bootstrap.min.css set `[hidden] { display: none !important; }` so we also need the `!important` here to be able to override the default hidden behavior on the sphinx rendered scikit-learn.org. See: https://github.com/scikit-learn/scikit-learn/issues/21755 */display: inline-block !important;position: relative;}#sk-container-id-1 div.sk-text-repr-fallback {display: none;}</style><div id=\"sk-container-id-1\" class=\"sk-top-container\"><div class=\"sk-text-repr-fallback\"><pre>LatentDirichletAllocation(n_components=7, random_state=42)</pre><b>In a Jupyter environment, please rerun this cell to show the HTML representation or trust the notebook. <br />On GitHub, the HTML representation is unable to render, please try loading this page with nbviewer.org.</b></div><div class=\"sk-container\" hidden><div class=\"sk-item\"><div class=\"sk-estimator sk-toggleable\"><input class=\"sk-toggleable__control sk-hidden--visually\" id=\"sk-estimator-id-1\" type=\"checkbox\" checked><label for=\"sk-estimator-id-1\" class=\"sk-toggleable__label sk-toggleable__label-arrow\">LatentDirichletAllocation</label><div class=\"sk-toggleable__content\"><pre>LatentDirichletAllocation(n_components=7, random_state=42)</pre></div></div></div></div></div>"
      ],
      "text/plain": [
       "LatentDirichletAllocation(n_components=7, random_state=42)"
      ]
     },
     "execution_count": 10,
     "metadata": {},
     "output_type": "execute_result"
    }
   ],
   "source": [
    "# This can take awhile, we're dealing with a large amount of documents!\n",
    "LDA.fit(dtm)"
   ]
  },
  {
   "cell_type": "markdown",
   "id": "f3f74e9a",
   "metadata": {
    "papermill": {
     "duration": 0.009665,
     "end_time": "2023-07-20T17:47:37.824131",
     "exception": false,
     "start_time": "2023-07-20T17:47:37.814466",
     "status": "completed"
    },
    "tags": []
   },
   "source": [
    "## Showing Stored Words"
   ]
  },
  {
   "cell_type": "code",
   "execution_count": 11,
   "id": "b67eefa9",
   "metadata": {
    "execution": {
     "iopub.execute_input": "2023-07-20T17:47:37.842997Z",
     "iopub.status.busy": "2023-07-20T17:47:37.842650Z",
     "iopub.status.idle": "2023-07-20T17:47:37.893533Z",
     "shell.execute_reply": "2023-07-20T17:47:37.892269Z"
    },
    "papermill": {
     "duration": 0.06279,
     "end_time": "2023-07-20T17:47:37.895456",
     "exception": false,
     "start_time": "2023-07-20T17:47:37.832666",
     "status": "completed"
    },
    "tags": []
   },
   "outputs": [
    {
     "data": {
      "text/plain": [
       "54777"
      ]
     },
     "execution_count": 11,
     "metadata": {},
     "output_type": "execute_result"
    }
   ],
   "source": [
    "len(cv.get_feature_names_out())"
   ]
  },
  {
   "cell_type": "code",
   "execution_count": 12,
   "id": "840e45b8",
   "metadata": {
    "execution": {
     "iopub.execute_input": "2023-07-20T17:47:37.914956Z",
     "iopub.status.busy": "2023-07-20T17:47:37.914611Z",
     "iopub.status.idle": "2023-07-20T17:47:37.918931Z",
     "shell.execute_reply": "2023-07-20T17:47:37.917914Z"
    },
    "papermill": {
     "duration": 0.016094,
     "end_time": "2023-07-20T17:47:37.920637",
     "exception": false,
     "start_time": "2023-07-20T17:47:37.904543",
     "status": "completed"
    },
    "tags": []
   },
   "outputs": [],
   "source": [
    "import random"
   ]
  },
  {
   "cell_type": "code",
   "execution_count": 13,
   "id": "853463d7",
   "metadata": {
    "execution": {
     "iopub.execute_input": "2023-07-20T17:47:37.940262Z",
     "iopub.status.busy": "2023-07-20T17:47:37.939419Z",
     "iopub.status.idle": "2023-07-20T17:47:38.349693Z",
     "shell.execute_reply": "2023-07-20T17:47:38.348098Z"
    },
    "papermill": {
     "duration": 0.421826,
     "end_time": "2023-07-20T17:47:38.351529",
     "exception": false,
     "start_time": "2023-07-20T17:47:37.929703",
     "status": "completed"
    },
    "tags": []
   },
   "outputs": [
    {
     "name": "stdout",
     "output_type": "stream",
     "text": [
      "movers\n",
      "deviating\n",
      "grounded\n",
      "implementation\n",
      "forgeries\n",
      "innocuous\n",
      "janine\n",
      "hurray\n",
      "fierceness\n",
      "richman\n"
     ]
    }
   ],
   "source": [
    "for i in range(10):\n",
    "    random_word_id = random.randint(0,54776)\n",
    "    print(cv.get_feature_names_out()[random_word_id])"
   ]
  },
  {
   "cell_type": "markdown",
   "id": "5d5c1456",
   "metadata": {
    "papermill": {
     "duration": 0.008658,
     "end_time": "2023-07-20T17:47:38.369334",
     "exception": false,
     "start_time": "2023-07-20T17:47:38.360676",
     "status": "completed"
    },
    "tags": []
   },
   "source": [
    "### Showing Top Words Per Topic"
   ]
  },
  {
   "cell_type": "code",
   "execution_count": 14,
   "id": "b394a4a0",
   "metadata": {
    "execution": {
     "iopub.execute_input": "2023-07-20T17:47:38.389275Z",
     "iopub.status.busy": "2023-07-20T17:47:38.388291Z",
     "iopub.status.idle": "2023-07-20T17:47:38.394380Z",
     "shell.execute_reply": "2023-07-20T17:47:38.393485Z"
    },
    "papermill": {
     "duration": 0.01798,
     "end_time": "2023-07-20T17:47:38.396210",
     "exception": false,
     "start_time": "2023-07-20T17:47:38.378230",
     "status": "completed"
    },
    "tags": []
   },
   "outputs": [
    {
     "data": {
      "text/plain": [
       "7"
      ]
     },
     "execution_count": 14,
     "metadata": {},
     "output_type": "execute_result"
    }
   ],
   "source": [
    "len(LDA.components_)"
   ]
  },
  {
   "cell_type": "code",
   "execution_count": 15,
   "id": "3a93606a",
   "metadata": {
    "execution": {
     "iopub.execute_input": "2023-07-20T17:47:38.416483Z",
     "iopub.status.busy": "2023-07-20T17:47:38.415955Z",
     "iopub.status.idle": "2023-07-20T17:47:38.421848Z",
     "shell.execute_reply": "2023-07-20T17:47:38.421057Z"
    },
    "papermill": {
     "duration": 0.018631,
     "end_time": "2023-07-20T17:47:38.424110",
     "exception": false,
     "start_time": "2023-07-20T17:47:38.405479",
     "status": "completed"
    },
    "tags": []
   },
   "outputs": [
    {
     "data": {
      "text/plain": [
       "array([[8.64332806e+00, 2.38014333e+03, 1.42900522e-01, ...,\n",
       "        1.43006821e-01, 1.42902042e-01, 1.42861626e-01],\n",
       "       [2.76191749e+01, 5.36394437e+02, 1.42857148e-01, ...,\n",
       "        1.42861973e-01, 1.42857147e-01, 1.42906875e-01],\n",
       "       [7.22783888e+00, 8.24033986e+02, 1.42857148e-01, ...,\n",
       "        6.14236247e+00, 2.14061364e+00, 1.42923753e-01],\n",
       "       ...,\n",
       "       [3.11488651e+00, 3.50409655e+02, 1.42857147e-01, ...,\n",
       "        1.42859912e-01, 1.42857146e-01, 1.42866614e-01],\n",
       "       [4.61486388e+01, 5.14408600e+01, 3.14281373e+00, ...,\n",
       "        1.43107628e-01, 1.43902481e-01, 2.14271779e+00],\n",
       "       [4.93991422e-01, 4.18841042e+02, 1.42857151e-01, ...,\n",
       "        1.42857146e-01, 1.43760101e-01, 1.42866201e-01]])"
      ]
     },
     "execution_count": 15,
     "metadata": {},
     "output_type": "execute_result"
    }
   ],
   "source": [
    "LDA.components_"
   ]
  },
  {
   "cell_type": "code",
   "execution_count": 16,
   "id": "ecfbcef2",
   "metadata": {
    "execution": {
     "iopub.execute_input": "2023-07-20T17:47:38.445014Z",
     "iopub.status.busy": "2023-07-20T17:47:38.444584Z",
     "iopub.status.idle": "2023-07-20T17:47:38.450791Z",
     "shell.execute_reply": "2023-07-20T17:47:38.449816Z"
    },
    "papermill": {
     "duration": 0.019805,
     "end_time": "2023-07-20T17:47:38.453574",
     "exception": false,
     "start_time": "2023-07-20T17:47:38.433769",
     "status": "completed"
    },
    "tags": []
   },
   "outputs": [
    {
     "data": {
      "text/plain": [
       "54777"
      ]
     },
     "execution_count": 16,
     "metadata": {},
     "output_type": "execute_result"
    }
   ],
   "source": [
    "len(LDA.components_[0])"
   ]
  },
  {
   "cell_type": "code",
   "execution_count": 17,
   "id": "1331acab",
   "metadata": {
    "execution": {
     "iopub.execute_input": "2023-07-20T17:47:38.474383Z",
     "iopub.status.busy": "2023-07-20T17:47:38.474063Z",
     "iopub.status.idle": "2023-07-20T17:47:38.479437Z",
     "shell.execute_reply": "2023-07-20T17:47:38.477761Z"
    },
    "papermill": {
     "duration": 0.018643,
     "end_time": "2023-07-20T17:47:38.481958",
     "exception": false,
     "start_time": "2023-07-20T17:47:38.463315",
     "status": "completed"
    },
    "tags": []
   },
   "outputs": [],
   "source": [
    "single_topic = LDA.components_[0]"
   ]
  },
  {
   "cell_type": "code",
   "execution_count": 18,
   "id": "38f90932",
   "metadata": {
    "execution": {
     "iopub.execute_input": "2023-07-20T17:47:38.502416Z",
     "iopub.status.busy": "2023-07-20T17:47:38.502084Z",
     "iopub.status.idle": "2023-07-20T17:47:38.513858Z",
     "shell.execute_reply": "2023-07-20T17:47:38.512848Z"
    },
    "papermill": {
     "duration": 0.024546,
     "end_time": "2023-07-20T17:47:38.515990",
     "exception": false,
     "start_time": "2023-07-20T17:47:38.491444",
     "status": "completed"
    },
    "tags": []
   },
   "outputs": [
    {
     "data": {
      "text/plain": [
       "array([ 2475, 18302, 35285, ..., 22673, 42561, 42993])"
      ]
     },
     "execution_count": 18,
     "metadata": {},
     "output_type": "execute_result"
    }
   ],
   "source": [
    "# Returns the indices that would sort this array.\n",
    "single_topic.argsort()"
   ]
  },
  {
   "cell_type": "code",
   "execution_count": 19,
   "id": "1cad6d85",
   "metadata": {
    "execution": {
     "iopub.execute_input": "2023-07-20T17:47:38.537036Z",
     "iopub.status.busy": "2023-07-20T17:47:38.536669Z",
     "iopub.status.idle": "2023-07-20T17:47:38.542193Z",
     "shell.execute_reply": "2023-07-20T17:47:38.541388Z"
    },
    "papermill": {
     "duration": 0.018459,
     "end_time": "2023-07-20T17:47:38.544336",
     "exception": false,
     "start_time": "2023-07-20T17:47:38.525877",
     "status": "completed"
    },
    "tags": []
   },
   "outputs": [
    {
     "data": {
      "text/plain": [
       "0.14285714309286987"
      ]
     },
     "execution_count": 19,
     "metadata": {},
     "output_type": "execute_result"
    }
   ],
   "source": [
    "# Word least representative of this topic\n",
    "single_topic[18302]"
   ]
  },
  {
   "cell_type": "code",
   "execution_count": 20,
   "id": "001e48f4",
   "metadata": {
    "execution": {
     "iopub.execute_input": "2023-07-20T17:47:38.565673Z",
     "iopub.status.busy": "2023-07-20T17:47:38.564660Z",
     "iopub.status.idle": "2023-07-20T17:47:38.570482Z",
     "shell.execute_reply": "2023-07-20T17:47:38.569868Z"
    },
    "papermill": {
     "duration": 0.018031,
     "end_time": "2023-07-20T17:47:38.572105",
     "exception": false,
     "start_time": "2023-07-20T17:47:38.554074",
     "status": "completed"
    },
    "tags": []
   },
   "outputs": [
    {
     "data": {
      "text/plain": [
       "6247.245510521079"
      ]
     },
     "execution_count": 20,
     "metadata": {},
     "output_type": "execute_result"
    }
   ],
   "source": [
    "# Word most representative of this topic\n",
    "single_topic[42993]"
   ]
  },
  {
   "cell_type": "code",
   "execution_count": 21,
   "id": "f1ec90ae",
   "metadata": {
    "execution": {
     "iopub.execute_input": "2023-07-20T17:47:38.593064Z",
     "iopub.status.busy": "2023-07-20T17:47:38.592188Z",
     "iopub.status.idle": "2023-07-20T17:47:38.604298Z",
     "shell.execute_reply": "2023-07-20T17:47:38.603093Z"
    },
    "papermill": {
     "duration": 0.024391,
     "end_time": "2023-07-20T17:47:38.605981",
     "exception": false,
     "start_time": "2023-07-20T17:47:38.581590",
     "status": "completed"
    },
    "tags": []
   },
   "outputs": [
    {
     "data": {
      "text/plain": [
       "array([33390, 36310, 21228, 10425, 31464,  8149, 36283, 22673, 42561,\n",
       "       42993])"
      ]
     },
     "execution_count": 21,
     "metadata": {},
     "output_type": "execute_result"
    }
   ],
   "source": [
    "# Top 10 words for this topic:\n",
    "single_topic.argsort()[-10:]"
   ]
  },
  {
   "cell_type": "code",
   "execution_count": 22,
   "id": "22c86637",
   "metadata": {
    "execution": {
     "iopub.execute_input": "2023-07-20T17:47:38.626709Z",
     "iopub.status.busy": "2023-07-20T17:47:38.626366Z",
     "iopub.status.idle": "2023-07-20T17:47:38.636173Z",
     "shell.execute_reply": "2023-07-20T17:47:38.635253Z"
    },
    "papermill": {
     "duration": 0.022338,
     "end_time": "2023-07-20T17:47:38.638070",
     "exception": false,
     "start_time": "2023-07-20T17:47:38.615732",
     "status": "completed"
    },
    "tags": []
   },
   "outputs": [],
   "source": [
    "top_word_indices = single_topic.argsort()[-10:]"
   ]
  },
  {
   "cell_type": "code",
   "execution_count": 23,
   "id": "f89c2f67",
   "metadata": {
    "execution": {
     "iopub.execute_input": "2023-07-20T17:47:38.659801Z",
     "iopub.status.busy": "2023-07-20T17:47:38.659476Z",
     "iopub.status.idle": "2023-07-20T17:47:39.047850Z",
     "shell.execute_reply": "2023-07-20T17:47:39.046473Z"
    },
    "papermill": {
     "duration": 0.402089,
     "end_time": "2023-07-20T17:47:39.050072",
     "exception": false,
     "start_time": "2023-07-20T17:47:38.647983",
     "status": "completed"
    },
    "tags": []
   },
   "outputs": [
    {
     "name": "stdout",
     "output_type": "stream",
     "text": [
      "new\n",
      "percent\n",
      "government\n",
      "company\n",
      "million\n",
      "care\n",
      "people\n",
      "health\n",
      "said\n",
      "says\n"
     ]
    }
   ],
   "source": [
    "for index in top_word_indices:\n",
    "    print(cv.get_feature_names_out()[index])"
   ]
  },
  {
   "cell_type": "code",
   "execution_count": 24,
   "id": "221afc1c",
   "metadata": {
    "execution": {
     "iopub.execute_input": "2023-07-20T17:47:39.072064Z",
     "iopub.status.busy": "2023-07-20T17:47:39.070754Z",
     "iopub.status.idle": "2023-07-20T17:47:43.726865Z",
     "shell.execute_reply": "2023-07-20T17:47:43.725668Z"
    },
    "papermill": {
     "duration": 4.668371,
     "end_time": "2023-07-20T17:47:43.728388",
     "exception": false,
     "start_time": "2023-07-20T17:47:39.060017",
     "status": "completed"
    },
    "tags": []
   },
   "outputs": [
    {
     "name": "stdout",
     "output_type": "stream",
     "text": [
      "THE TOP 15 WORDS FOR TOPIC #0\n",
      "['companies', 'money', 'year', 'federal', '000', 'new', 'percent', 'government', 'company', 'million', 'care', 'people', 'health', 'said', 'says']\n",
      "\n",
      "\n",
      "THE TOP 15 WORDS FOR TOPIC #1\n",
      "['military', 'house', 'security', 'russia', 'government', 'npr', 'reports', 'says', 'news', 'people', 'told', 'police', 'president', 'trump', 'said']\n",
      "\n",
      "\n",
      "THE TOP 15 WORDS FOR TOPIC #2\n",
      "['way', 'world', 'family', 'home', 'day', 'time', 'water', 'city', 'new', 'years', 'food', 'just', 'people', 'like', 'says']\n",
      "\n",
      "\n",
      "THE TOP 15 WORDS FOR TOPIC #3\n",
      "['time', 'new', 'don', 'years', 'medical', 'disease', 'patients', 'just', 'children', 'study', 'like', 'women', 'health', 'people', 'says']\n",
      "\n",
      "\n",
      "THE TOP 15 WORDS FOR TOPIC #4\n",
      "['voters', 'vote', 'election', 'party', 'new', 'obama', 'court', 'republican', 'campaign', 'people', 'state', 'president', 'clinton', 'said', 'trump']\n",
      "\n",
      "\n",
      "THE TOP 15 WORDS FOR TOPIC #5\n",
      "['years', 'going', 've', 'life', 'don', 'new', 'way', 'music', 'really', 'time', 'know', 'think', 'people', 'just', 'like']\n",
      "\n",
      "\n",
      "THE TOP 15 WORDS FOR TOPIC #6\n",
      "['student', 'years', 'data', 'science', 'university', 'people', 'time', 'schools', 'just', 'education', 'new', 'like', 'students', 'school', 'says']\n",
      "\n",
      "\n"
     ]
    }
   ],
   "source": [
    "for index,topic in enumerate(LDA.components_):\n",
    "    print(f'THE TOP 15 WORDS FOR TOPIC #{index}')\n",
    "    print([cv.get_feature_names_out()[i] for i in topic.argsort()[-15:]])\n",
    "    print('\\n')"
   ]
  },
  {
   "cell_type": "markdown",
   "id": "1b84066e",
   "metadata": {
    "papermill": {
     "duration": 0.010115,
     "end_time": "2023-07-20T17:47:43.748909",
     "exception": false,
     "start_time": "2023-07-20T17:47:43.738794",
     "status": "completed"
    },
    "tags": []
   },
   "source": [
    "These look like business articles perhaps... Let's confirm by using .transform() on our vectorized articles to attach a label number. But first, let's view all the 10 topics found."
   ]
  },
  {
   "cell_type": "markdown",
   "id": "501a4391",
   "metadata": {
    "papermill": {
     "duration": 0.010249,
     "end_time": "2023-07-20T17:47:43.769271",
     "exception": false,
     "start_time": "2023-07-20T17:47:43.759022",
     "status": "completed"
    },
    "tags": []
   },
   "source": [
    "### Attaching Discovered Topic Labels to Original Articles"
   ]
  },
  {
   "cell_type": "code",
   "execution_count": 25,
   "id": "f0ef38b3",
   "metadata": {
    "execution": {
     "iopub.execute_input": "2023-07-20T17:47:43.790784Z",
     "iopub.status.busy": "2023-07-20T17:47:43.790487Z",
     "iopub.status.idle": "2023-07-20T17:47:43.796116Z",
     "shell.execute_reply": "2023-07-20T17:47:43.795304Z"
    },
    "papermill": {
     "duration": 0.01853,
     "end_time": "2023-07-20T17:47:43.797803",
     "exception": false,
     "start_time": "2023-07-20T17:47:43.779273",
     "status": "completed"
    },
    "tags": []
   },
   "outputs": [
    {
     "data": {
      "text/plain": [
       "<11992x54777 sparse matrix of type '<class 'numpy.int64'>'\n",
       "\twith 3033388 stored elements in Compressed Sparse Row format>"
      ]
     },
     "execution_count": 25,
     "metadata": {},
     "output_type": "execute_result"
    }
   ],
   "source": [
    "dtm"
   ]
  },
  {
   "cell_type": "code",
   "execution_count": 26,
   "id": "4dbc4322",
   "metadata": {
    "execution": {
     "iopub.execute_input": "2023-07-20T17:47:43.819643Z",
     "iopub.status.busy": "2023-07-20T17:47:43.819354Z",
     "iopub.status.idle": "2023-07-20T17:47:43.824959Z",
     "shell.execute_reply": "2023-07-20T17:47:43.823961Z"
    },
    "papermill": {
     "duration": 0.018436,
     "end_time": "2023-07-20T17:47:43.826474",
     "exception": false,
     "start_time": "2023-07-20T17:47:43.808038",
     "status": "completed"
    },
    "tags": []
   },
   "outputs": [
    {
     "data": {
      "text/plain": [
       "(11992, 54777)"
      ]
     },
     "execution_count": 26,
     "metadata": {},
     "output_type": "execute_result"
    }
   ],
   "source": [
    "dtm.shape"
   ]
  },
  {
   "cell_type": "code",
   "execution_count": 27,
   "id": "bdf2aeed",
   "metadata": {
    "execution": {
     "iopub.execute_input": "2023-07-20T17:47:43.849386Z",
     "iopub.status.busy": "2023-07-20T17:47:43.849058Z",
     "iopub.status.idle": "2023-07-20T17:47:43.855139Z",
     "shell.execute_reply": "2023-07-20T17:47:43.854103Z"
    },
    "papermill": {
     "duration": 0.020615,
     "end_time": "2023-07-20T17:47:43.857288",
     "exception": false,
     "start_time": "2023-07-20T17:47:43.836673",
     "status": "completed"
    },
    "tags": []
   },
   "outputs": [
    {
     "data": {
      "text/plain": [
       "11992"
      ]
     },
     "execution_count": 27,
     "metadata": {},
     "output_type": "execute_result"
    }
   ],
   "source": [
    "len(npr)"
   ]
  },
  {
   "cell_type": "code",
   "execution_count": 28,
   "id": "d61e1c17",
   "metadata": {
    "execution": {
     "iopub.execute_input": "2023-07-20T17:47:43.880606Z",
     "iopub.status.busy": "2023-07-20T17:47:43.880014Z",
     "iopub.status.idle": "2023-07-20T17:47:49.455645Z",
     "shell.execute_reply": "2023-07-20T17:47:49.454711Z"
    },
    "papermill": {
     "duration": 5.589552,
     "end_time": "2023-07-20T17:47:49.457820",
     "exception": false,
     "start_time": "2023-07-20T17:47:43.868268",
     "status": "completed"
    },
    "tags": []
   },
   "outputs": [],
   "source": [
    "topic_results = LDA.transform(dtm)"
   ]
  },
  {
   "cell_type": "code",
   "execution_count": 29,
   "id": "83ffb3e7",
   "metadata": {
    "execution": {
     "iopub.execute_input": "2023-07-20T17:47:49.481126Z",
     "iopub.status.busy": "2023-07-20T17:47:49.480226Z",
     "iopub.status.idle": "2023-07-20T17:47:49.486201Z",
     "shell.execute_reply": "2023-07-20T17:47:49.485292Z"
    },
    "papermill": {
     "duration": 0.019323,
     "end_time": "2023-07-20T17:47:49.487899",
     "exception": false,
     "start_time": "2023-07-20T17:47:49.468576",
     "status": "completed"
    },
    "tags": []
   },
   "outputs": [
    {
     "data": {
      "text/plain": [
       "(11992, 7)"
      ]
     },
     "execution_count": 29,
     "metadata": {},
     "output_type": "execute_result"
    }
   ],
   "source": [
    "topic_results.shape"
   ]
  },
  {
   "cell_type": "code",
   "execution_count": 30,
   "id": "cac56edc",
   "metadata": {
    "execution": {
     "iopub.execute_input": "2023-07-20T17:47:49.511111Z",
     "iopub.status.busy": "2023-07-20T17:47:49.510402Z",
     "iopub.status.idle": "2023-07-20T17:47:49.516818Z",
     "shell.execute_reply": "2023-07-20T17:47:49.515715Z"
    },
    "papermill": {
     "duration": 0.020953,
     "end_time": "2023-07-20T17:47:49.519568",
     "exception": false,
     "start_time": "2023-07-20T17:47:49.498615",
     "status": "completed"
    },
    "tags": []
   },
   "outputs": [
    {
     "data": {
      "text/plain": [
       "array([1.61040465e-02, 6.83341493e-01, 2.25376318e-04, 2.25369288e-04,\n",
       "       2.99652737e-01, 2.25479379e-04, 2.25497980e-04])"
      ]
     },
     "execution_count": 30,
     "metadata": {},
     "output_type": "execute_result"
    }
   ],
   "source": [
    "topic_results[0]"
   ]
  },
  {
   "cell_type": "code",
   "execution_count": 31,
   "id": "e96753b6",
   "metadata": {
    "execution": {
     "iopub.execute_input": "2023-07-20T17:47:49.542937Z",
     "iopub.status.busy": "2023-07-20T17:47:49.542392Z",
     "iopub.status.idle": "2023-07-20T17:47:49.548302Z",
     "shell.execute_reply": "2023-07-20T17:47:49.547481Z"
    },
    "papermill": {
     "duration": 0.019584,
     "end_time": "2023-07-20T17:47:49.550203",
     "exception": false,
     "start_time": "2023-07-20T17:47:49.530619",
     "status": "completed"
    },
    "tags": []
   },
   "outputs": [
    {
     "data": {
      "text/plain": [
       "array([0.02, 0.68, 0.  , 0.  , 0.3 , 0.  , 0.  ])"
      ]
     },
     "execution_count": 31,
     "metadata": {},
     "output_type": "execute_result"
    }
   ],
   "source": [
    "topic_results[0].round(2)"
   ]
  },
  {
   "cell_type": "code",
   "execution_count": 32,
   "id": "c368a951",
   "metadata": {
    "execution": {
     "iopub.execute_input": "2023-07-20T17:47:49.573744Z",
     "iopub.status.busy": "2023-07-20T17:47:49.573239Z",
     "iopub.status.idle": "2023-07-20T17:47:49.578652Z",
     "shell.execute_reply": "2023-07-20T17:47:49.577958Z"
    },
    "papermill": {
     "duration": 0.019237,
     "end_time": "2023-07-20T17:47:49.580269",
     "exception": false,
     "start_time": "2023-07-20T17:47:49.561032",
     "status": "completed"
    },
    "tags": []
   },
   "outputs": [
    {
     "data": {
      "text/plain": [
       "1"
      ]
     },
     "execution_count": 32,
     "metadata": {},
     "output_type": "execute_result"
    }
   ],
   "source": [
    "topic_results[0].argmax()"
   ]
  },
  {
   "cell_type": "markdown",
   "id": "b0f630f9",
   "metadata": {
    "papermill": {
     "duration": 0.010782,
     "end_time": "2023-07-20T17:47:49.602322",
     "exception": false,
     "start_time": "2023-07-20T17:47:49.591540",
     "status": "completed"
    },
    "tags": []
   },
   "source": [
    "This means that our model thinks that the first article belongs to topic #1."
   ]
  },
  {
   "cell_type": "markdown",
   "id": "0a4d0753",
   "metadata": {
    "papermill": {
     "duration": 0.010725,
     "end_time": "2023-07-20T17:47:49.624150",
     "exception": false,
     "start_time": "2023-07-20T17:47:49.613425",
     "status": "completed"
    },
    "tags": []
   },
   "source": [
    "### Combining with Original Data"
   ]
  },
  {
   "cell_type": "code",
   "execution_count": 33,
   "id": "a5ee798b",
   "metadata": {
    "execution": {
     "iopub.execute_input": "2023-07-20T17:47:49.647901Z",
     "iopub.status.busy": "2023-07-20T17:47:49.647353Z",
     "iopub.status.idle": "2023-07-20T17:47:49.655401Z",
     "shell.execute_reply": "2023-07-20T17:47:49.654492Z"
    },
    "papermill": {
     "duration": 0.022009,
     "end_time": "2023-07-20T17:47:49.657090",
     "exception": false,
     "start_time": "2023-07-20T17:47:49.635081",
     "status": "completed"
    },
    "tags": []
   },
   "outputs": [
    {
     "data": {
      "text/html": [
       "<div>\n",
       "<style scoped>\n",
       "    .dataframe tbody tr th:only-of-type {\n",
       "        vertical-align: middle;\n",
       "    }\n",
       "\n",
       "    .dataframe tbody tr th {\n",
       "        vertical-align: top;\n",
       "    }\n",
       "\n",
       "    .dataframe thead th {\n",
       "        text-align: right;\n",
       "    }\n",
       "</style>\n",
       "<table border=\"1\" class=\"dataframe\">\n",
       "  <thead>\n",
       "    <tr style=\"text-align: right;\">\n",
       "      <th></th>\n",
       "      <th>Article</th>\n",
       "    </tr>\n",
       "  </thead>\n",
       "  <tbody>\n",
       "    <tr>\n",
       "      <th>0</th>\n",
       "      <td>In the Washington of 2016, even when the polic...</td>\n",
       "    </tr>\n",
       "    <tr>\n",
       "      <th>1</th>\n",
       "      <td>Donald Trump has used Twitter  —   his prefe...</td>\n",
       "    </tr>\n",
       "    <tr>\n",
       "      <th>2</th>\n",
       "      <td>Donald Trump is unabashedly praising Russian...</td>\n",
       "    </tr>\n",
       "    <tr>\n",
       "      <th>3</th>\n",
       "      <td>Updated at 2:50 p. m. ET, Russian President Vl...</td>\n",
       "    </tr>\n",
       "    <tr>\n",
       "      <th>4</th>\n",
       "      <td>From photography, illustration and video, to d...</td>\n",
       "    </tr>\n",
       "  </tbody>\n",
       "</table>\n",
       "</div>"
      ],
      "text/plain": [
       "                                             Article\n",
       "0  In the Washington of 2016, even when the polic...\n",
       "1    Donald Trump has used Twitter  —   his prefe...\n",
       "2    Donald Trump is unabashedly praising Russian...\n",
       "3  Updated at 2:50 p. m. ET, Russian President Vl...\n",
       "4  From photography, illustration and video, to d..."
      ]
     },
     "execution_count": 33,
     "metadata": {},
     "output_type": "execute_result"
    }
   ],
   "source": [
    "npr.head()"
   ]
  },
  {
   "cell_type": "code",
   "execution_count": 34,
   "id": "77fe0398",
   "metadata": {
    "execution": {
     "iopub.execute_input": "2023-07-20T17:47:49.681382Z",
     "iopub.status.busy": "2023-07-20T17:47:49.680787Z",
     "iopub.status.idle": "2023-07-20T17:47:49.687342Z",
     "shell.execute_reply": "2023-07-20T17:47:49.686365Z"
    },
    "papermill": {
     "duration": 0.020851,
     "end_time": "2023-07-20T17:47:49.689401",
     "exception": false,
     "start_time": "2023-07-20T17:47:49.668550",
     "status": "completed"
    },
    "tags": []
   },
   "outputs": [
    {
     "data": {
      "text/plain": [
       "array([1, 1, 1, ..., 3, 4, 0])"
      ]
     },
     "execution_count": 34,
     "metadata": {},
     "output_type": "execute_result"
    }
   ],
   "source": [
    "topic_results.argmax(axis=1)"
   ]
  },
  {
   "cell_type": "code",
   "execution_count": 35,
   "id": "bfb13a68",
   "metadata": {
    "execution": {
     "iopub.execute_input": "2023-07-20T17:47:49.714301Z",
     "iopub.status.busy": "2023-07-20T17:47:49.713928Z",
     "iopub.status.idle": "2023-07-20T17:47:49.719840Z",
     "shell.execute_reply": "2023-07-20T17:47:49.718796Z"
    },
    "papermill": {
     "duration": 0.020744,
     "end_time": "2023-07-20T17:47:49.721676",
     "exception": false,
     "start_time": "2023-07-20T17:47:49.700932",
     "status": "completed"
    },
    "tags": []
   },
   "outputs": [],
   "source": [
    "npr['Topic'] = topic_results.argmax(axis=1)"
   ]
  },
  {
   "cell_type": "code",
   "execution_count": 36,
   "id": "056d9aad",
   "metadata": {
    "execution": {
     "iopub.execute_input": "2023-07-20T17:47:49.746636Z",
     "iopub.status.busy": "2023-07-20T17:47:49.746291Z",
     "iopub.status.idle": "2023-07-20T17:47:49.757307Z",
     "shell.execute_reply": "2023-07-20T17:47:49.755936Z"
    },
    "papermill": {
     "duration": 0.027409,
     "end_time": "2023-07-20T17:47:49.760746",
     "exception": false,
     "start_time": "2023-07-20T17:47:49.733337",
     "status": "completed"
    },
    "tags": []
   },
   "outputs": [
    {
     "data": {
      "text/html": [
       "<div>\n",
       "<style scoped>\n",
       "    .dataframe tbody tr th:only-of-type {\n",
       "        vertical-align: middle;\n",
       "    }\n",
       "\n",
       "    .dataframe tbody tr th {\n",
       "        vertical-align: top;\n",
       "    }\n",
       "\n",
       "    .dataframe thead th {\n",
       "        text-align: right;\n",
       "    }\n",
       "</style>\n",
       "<table border=\"1\" class=\"dataframe\">\n",
       "  <thead>\n",
       "    <tr style=\"text-align: right;\">\n",
       "      <th></th>\n",
       "      <th>Article</th>\n",
       "      <th>Topic</th>\n",
       "    </tr>\n",
       "  </thead>\n",
       "  <tbody>\n",
       "    <tr>\n",
       "      <th>0</th>\n",
       "      <td>In the Washington of 2016, even when the polic...</td>\n",
       "      <td>1</td>\n",
       "    </tr>\n",
       "    <tr>\n",
       "      <th>1</th>\n",
       "      <td>Donald Trump has used Twitter  —   his prefe...</td>\n",
       "      <td>1</td>\n",
       "    </tr>\n",
       "    <tr>\n",
       "      <th>2</th>\n",
       "      <td>Donald Trump is unabashedly praising Russian...</td>\n",
       "      <td>1</td>\n",
       "    </tr>\n",
       "    <tr>\n",
       "      <th>3</th>\n",
       "      <td>Updated at 2:50 p. m. ET, Russian President Vl...</td>\n",
       "      <td>1</td>\n",
       "    </tr>\n",
       "    <tr>\n",
       "      <th>4</th>\n",
       "      <td>From photography, illustration and video, to d...</td>\n",
       "      <td>2</td>\n",
       "    </tr>\n",
       "    <tr>\n",
       "      <th>5</th>\n",
       "      <td>I did not want to join yoga class. I hated tho...</td>\n",
       "      <td>3</td>\n",
       "    </tr>\n",
       "    <tr>\n",
       "      <th>6</th>\n",
       "      <td>With a   who has publicly supported the debunk...</td>\n",
       "      <td>3</td>\n",
       "    </tr>\n",
       "    <tr>\n",
       "      <th>7</th>\n",
       "      <td>I was standing by the airport exit, debating w...</td>\n",
       "      <td>2</td>\n",
       "    </tr>\n",
       "    <tr>\n",
       "      <th>8</th>\n",
       "      <td>If movies were trying to be more realistic, pe...</td>\n",
       "      <td>3</td>\n",
       "    </tr>\n",
       "    <tr>\n",
       "      <th>9</th>\n",
       "      <td>Eighteen years ago, on New Year’s Eve, David F...</td>\n",
       "      <td>2</td>\n",
       "    </tr>\n",
       "  </tbody>\n",
       "</table>\n",
       "</div>"
      ],
      "text/plain": [
       "                                             Article  Topic\n",
       "0  In the Washington of 2016, even when the polic...      1\n",
       "1    Donald Trump has used Twitter  —   his prefe...      1\n",
       "2    Donald Trump is unabashedly praising Russian...      1\n",
       "3  Updated at 2:50 p. m. ET, Russian President Vl...      1\n",
       "4  From photography, illustration and video, to d...      2\n",
       "5  I did not want to join yoga class. I hated tho...      3\n",
       "6  With a   who has publicly supported the debunk...      3\n",
       "7  I was standing by the airport exit, debating w...      2\n",
       "8  If movies were trying to be more realistic, pe...      3\n",
       "9  Eighteen years ago, on New Year’s Eve, David F...      2"
      ]
     },
     "execution_count": 36,
     "metadata": {},
     "output_type": "execute_result"
    }
   ],
   "source": [
    "npr.head(10)"
   ]
  },
  {
   "cell_type": "code",
   "execution_count": null,
   "id": "a8295704",
   "metadata": {
    "papermill": {
     "duration": 0.010966,
     "end_time": "2023-07-20T17:47:49.783749",
     "exception": false,
     "start_time": "2023-07-20T17:47:49.772783",
     "status": "completed"
    },
    "tags": []
   },
   "outputs": [],
   "source": []
  }
 ],
 "metadata": {
  "kernelspec": {
   "display_name": "Python 3",
   "language": "python",
   "name": "python3"
  },
  "language_info": {
   "codemirror_mode": {
    "name": "ipython",
    "version": 3
   },
   "file_extension": ".py",
   "mimetype": "text/x-python",
   "name": "python",
   "nbconvert_exporter": "python",
   "pygments_lexer": "ipython3",
   "version": "3.10.12"
  },
  "papermill": {
   "default_parameters": {},
   "duration": 116.48319,
   "end_time": "2023-07-20T17:47:50.716129",
   "environment_variables": {},
   "exception": null,
   "input_path": "__notebook__.ipynb",
   "output_path": "__notebook__.ipynb",
   "parameters": {},
   "start_time": "2023-07-20T17:45:54.232939",
   "version": "2.4.0"
  }
 },
 "nbformat": 4,
 "nbformat_minor": 5
}
